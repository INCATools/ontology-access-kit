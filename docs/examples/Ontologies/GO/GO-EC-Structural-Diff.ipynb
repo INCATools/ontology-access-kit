{
 "cells": [
  {
   "cell_type": "code",
   "execution_count": 4,
   "id": "284dcddb",
   "metadata": {},
   "outputs": [],
   "source": [
    "alias go runoak -i sqlite:obo:go"
   ]
  },
  {
   "cell_type": "code",
   "execution_count": 5,
   "id": "cb566d79",
   "metadata": {},
   "outputs": [],
   "source": [
    "alias eccode runoak -i sqlite:obo:eccode"
   ]
  },
  {
   "cell_type": "code",
   "execution_count": 7,
   "id": "ec0bca1f",
   "metadata": {},
   "outputs": [
    {
     "name": "stdout",
     "output_type": "stream",
     "text": [
      "annotation_property_count: 6\r\n",
      "class_count: 247426\r\n",
      "class_count_with_text_definitions: 0\r\n",
      "class_count_without_text_definitions: 247426\r\n",
      "deprecated_class_count: 0\r\n",
      "deprecated_property_count: 0\r\n",
      "distinct_synonym_count: 9849\r\n",
      "edge_count_by_predicate:\r\n",
      "  RO:0002351:\r\n",
      "    facet: RO:0002351\r\n",
      "    filtered_count: 253315\r\n",
      "  obo:go#_has_molecular_function:\r\n",
      "    facet: obo:go#_has_molecular_function\r\n",
      "    filtered_count: 4705\r\n",
      "  rdfs:subClassOf:\r\n",
      "    facet: rdfs:subClassOf\r\n",
      "    filtered_count: 7046\r\n",
      "equivalent_classes_axiom_count: 0\r\n",
      "id: AllOntologies\r\n",
      "merged_class_count: 0\r\n",
      "named_individual_count: 0\r\n",
      "non_deprecated_class_count: 247426\r\n",
      "object_property_count: 2\r\n",
      "ontologies:\r\n",
      "- id: obo:eccode.owl\r\n",
      "  version: obo:eccode/25-May-2022/eccode.owl\r\n",
      "rdf_triple_count: 1311019\r\n",
      "subclass_of_axiom_count: 265066\r\n",
      "subset_count: 0\r\n",
      "synonym_statement_count: 10341\r\n",
      "synonym_statement_count_by_predicate:\r\n",
      "  oio:hasExactSynonym:\r\n",
      "    facet: oio:hasExactSynonym\r\n",
      "    filtered_count: 9849\r\n",
      "was_generated_by:\r\n",
      "  acted_on_behalf_of: cjm\r\n",
      "  started_at_time: '2022-12-09T18:17:42.953274'\r\n",
      "  was_associated_with: OAK\r\n"
     ]
    }
   ],
   "source": [
    "eccode statistics"
   ]
  },
  {
   "cell_type": "code",
   "execution_count": 8,
   "id": "71351938",
   "metadata": {},
   "outputs": [
    {
     "name": "stdout",
     "output_type": "stream",
     "text": [
      "subject\tsubject_label\tpredicate\tpredicate_label\tobject\tobject_label\r",
      "\r\n",
      "EC:2.1.1.133\tPrecorrin-4 C(11)-methyltransferase\tRO:0002351\thas member\tuniprot.obo:O68100\tNone\r",
      "\r\n",
      "EC:2.1.1.133\tPrecorrin-4 C(11)-methyltransferase\tRO:0002351\thas member\tuniprot.obo:P21922\tNone\r",
      "\r\n",
      "EC:2.1.1.133\tPrecorrin-4 C(11)-methyltransferase\tRO:0002351\thas member\tuniprot.obo:P9WGB0\tNone\r",
      "\r\n",
      "EC:2.1.1.133\tPrecorrin-4 C(11)-methyltransferase\tRO:0002351\thas member\tuniprot.obo:P9WGB1\tNone\r",
      "\r\n",
      "EC:2.1.1.133\tPrecorrin-4 C(11)-methyltransferase\tRO:0002351\thas member\tuniprot.obo:Q53138\tNone\r",
      "\r\n",
      "EC:2.1.1.133\tPrecorrin-4 C(11)-methyltransferase\tRO:0002351\thas member\tuniprot.obo:Q9HZP9\tNone\r",
      "\r\n",
      "EC:2.1.1.133\tPrecorrin-4 C(11)-methyltransferase\tobo:go#_has_molecular_function\thas molecular function\tobo:go_0046026\tNone\r",
      "\r\n",
      "EC:2.1.1.133\tPrecorrin-4 C(11)-methyltransferase\trdfs:subClassOf\tNone\tEC:2.1.1\tMethyltransferases\r",
      "\r\n"
     ]
    }
   ],
   "source": [
    "eccode relationships EC:2.1.1.133"
   ]
  },
  {
   "cell_type": "code",
   "execution_count": 9,
   "id": "77085cd0",
   "metadata": {},
   "outputs": [
    {
     "name": "stdout",
     "output_type": "stream",
     "text": [
      "* [] EC:2 ! Transferases\r\n",
      "    * [i] EC:2.1 ! Transferring one-carbon groups\r\n",
      "        * [i] EC:2.1.1 ! Methyltransferases\r\n",
      "            * [i] **EC:2.1.1.133 ! Precorrin-4 C(11)-methyltransferase**\r\n"
     ]
    }
   ],
   "source": [
    "eccode tree -p i EC:2.1.1.133"
   ]
  },
  {
   "cell_type": "code",
   "execution_count": 11,
   "id": "4d9ead3a",
   "metadata": {},
   "outputs": [
    {
     "name": "stdout",
     "output_type": "stream",
     "text": [
      "# curie_map: {}\r\n",
      "# license: UNSPECIFIED\r\n",
      "# mapping_set_id: temp\r\n",
      "subject_id\tsubject_label\tpredicate_id\tobject_id\tmapping_justification\tsubject_source\tobject_source\r\n",
      "GO:0046026\tprecorrin-4 C11-methyltransferase activity\toio:hasDbXref\tEC:2.1.1.133\tsemapv:UnspecifiedMatching\tGO\tEC\r\n",
      "_:riog00184258\t\toio:hasDbXref\tEC:2.1.1.133\tsemapv:UnspecifiedMatching\t_\tEC\r\n",
      "_:riog00184259\t\toio:hasDbXref\tEC:2.1.1.133\tsemapv:UnspecifiedMatching\t_\tEC\r\n",
      "_:riog00184260\t\toio:hasDbXref\tEC:2.1.1.133\tsemapv:UnspecifiedMatching\t_\tEC\r\n",
      "\r\n"
     ]
    }
   ],
   "source": [
    "go mappings EC:2.1.1.133 -O sssom"
   ]
  },
  {
   "cell_type": "code",
   "execution_count": 14,
   "id": "31060290",
   "metadata": {},
   "outputs": [
    {
     "name": "stdout",
     "output_type": "stream",
     "text": [
      "# curie_map: {}\r\n",
      "# license: UNSPECIFIED\r\n",
      "# mapping_set_id: temp\r\n",
      "subject_id\tsubject_label\tpredicate_id\tobject_id\tmapping_justification\tsubject_source\tobject_source\r\n",
      "GO:0008168\tmethyltransferase activity\toio:hasDbXref\tEC:2.1.1.-\tsemapv:UnspecifiedMatching\tGO\tEC\r\n",
      "GO:0008169\tC-methyltransferase activity\toio:hasDbXref\tEC:2.1.1.-\tsemapv:UnspecifiedMatching\tGO\tEC\r\n",
      "GO:0008170\tN-methyltransferase activity\toio:hasDbXref\tEC:2.1.1.-\tsemapv:UnspecifiedMatching\tGO\tEC\r\n",
      "GO:0008171\tO-methyltransferase activity\toio:hasDbXref\tEC:2.1.1.-\tsemapv:UnspecifiedMatching\tGO\tEC\r\n",
      "GO:0008172\tS-methyltransferase activity\toio:hasDbXref\tEC:2.1.1.-\tsemapv:UnspecifiedMatching\tGO\tEC\r\n",
      "GO:0008425\t2-polyprenyl-6-methoxy-1,4-benzoquinone methyltransferase activity\toio:hasDbXref\tEC:2.1.1.-\tsemapv:UnspecifiedMatching\tGO\tEC\r\n",
      "GO:0030792\tmethylarsonite methyltransferase activity\toio:hasDbXref\tEC:2.1.1.-\tsemapv:UnspecifiedMatching\tGO\tEC\r\n",
      "GO:0051994\tP-methyltransferase activity\toio:hasDbXref\tEC:2.1.1.-\tsemapv:UnspecifiedMatching\tGO\tEC\r\n",
      "_:riog00111069\t\toio:hasDbXref\tEC:2.1.1.-\tsemapv:UnspecifiedMatching\t_\tEC\r\n",
      "_:riog00264576\t\toio:hasDbXref\tEC:2.1.1.-\tsemapv:UnspecifiedMatching\t_\tEC\r\n",
      "_:riog00264580\t\toio:hasDbXref\tEC:2.1.1.-\tsemapv:UnspecifiedMatching\t_\tEC\r\n",
      "_:riog00264628\t\toio:hasDbXref\tEC:2.1.1.-\tsemapv:UnspecifiedMatching\t_\tEC\r\n",
      "_:riog00264668\t\toio:hasDbXref\tEC:2.1.1.-\tsemapv:UnspecifiedMatching\t_\tEC\r\n",
      "_:riog00264757\t\toio:hasDbXref\tEC:2.1.1.-\tsemapv:UnspecifiedMatching\t_\tEC\r\n",
      "_:riog00265011\t\toio:hasDbXref\tEC:2.1.1.-\tsemapv:UnspecifiedMatching\t_\tEC\r\n",
      "_:riog00265021\t\toio:hasDbXref\tEC:2.1.1.-\tsemapv:UnspecifiedMatching\t_\tEC\r\n",
      "_:riog00265087\t\toio:hasDbXref\tEC:2.1.1.-\tsemapv:UnspecifiedMatching\t_\tEC\r\n",
      "_:riog00265089\t\toio:hasDbXref\tEC:2.1.1.-\tsemapv:UnspecifiedMatching\t_\tEC\r\n",
      "_:riog00265091\t\toio:hasDbXref\tEC:2.1.1.-\tsemapv:UnspecifiedMatching\t_\tEC\r\n",
      "_:riog00265151\t\toio:hasDbXref\tEC:2.1.1.-\tsemapv:UnspecifiedMatching\t_\tEC\r\n",
      "_:riog00265157\t\toio:hasDbXref\tEC:2.1.1.-\tsemapv:UnspecifiedMatching\t_\tEC\r\n",
      "_:riog00265159\t\toio:hasDbXref\tEC:2.1.1.-\tsemapv:UnspecifiedMatching\t_\tEC\r\n",
      "_:riog00265162\t\toio:hasDbXref\tEC:2.1.1.-\tsemapv:UnspecifiedMatching\t_\tEC\r\n",
      "_:riog00265164\t\toio:hasDbXref\tEC:2.1.1.-\tsemapv:UnspecifiedMatching\t_\tEC\r\n",
      "_:riog00265166\t\toio:hasDbXref\tEC:2.1.1.-\tsemapv:UnspecifiedMatching\t_\tEC\r\n",
      "_:riog00265168\t\toio:hasDbXref\tEC:2.1.1.-\tsemapv:UnspecifiedMatching\t_\tEC\r\n",
      "_:riog00265170\t\toio:hasDbXref\tEC:2.1.1.-\tsemapv:UnspecifiedMatching\t_\tEC\r\n",
      "_:riog00265174\t\toio:hasDbXref\tEC:2.1.1.-\tsemapv:UnspecifiedMatching\t_\tEC\r\n",
      "_:riog00265176\t\toio:hasDbXref\tEC:2.1.1.-\tsemapv:UnspecifiedMatching\t_\tEC\r\n",
      "_:riog00265178\t\toio:hasDbXref\tEC:2.1.1.-\tsemapv:UnspecifiedMatching\t_\tEC\r\n",
      "_:riog00265180\t\toio:hasDbXref\tEC:2.1.1.-\tsemapv:UnspecifiedMatching\t_\tEC\r\n",
      "_:riog00265182\t\toio:hasDbXref\tEC:2.1.1.-\tsemapv:UnspecifiedMatching\t_\tEC\r\n",
      "_:riog00265184\t\toio:hasDbXref\tEC:2.1.1.-\tsemapv:UnspecifiedMatching\t_\tEC\r\n",
      "_:riog00265186\t\toio:hasDbXref\tEC:2.1.1.-\tsemapv:UnspecifiedMatching\t_\tEC\r\n",
      "_:riog00265188\t\toio:hasDbXref\tEC:2.1.1.-\tsemapv:UnspecifiedMatching\t_\tEC\r\n",
      "_:riog00265336\t\toio:hasDbXref\tEC:2.1.1.-\tsemapv:UnspecifiedMatching\t_\tEC\r\n",
      "_:riog00265338\t\toio:hasDbXref\tEC:2.1.1.-\tsemapv:UnspecifiedMatching\t_\tEC\r\n",
      "_:riog00265346\t\toio:hasDbXref\tEC:2.1.1.-\tsemapv:UnspecifiedMatching\t_\tEC\r\n",
      "_:riog00265350\t\toio:hasDbXref\tEC:2.1.1.-\tsemapv:UnspecifiedMatching\t_\tEC\r\n",
      "_:riog00265473\t\toio:hasDbXref\tEC:2.1.1.-\tsemapv:UnspecifiedMatching\t_\tEC\r\n",
      "_:riog00265482\t\toio:hasDbXref\tEC:2.1.1.-\tsemapv:UnspecifiedMatching\t_\tEC\r\n",
      "_:riog00265511\t\toio:hasDbXref\tEC:2.1.1.-\tsemapv:UnspecifiedMatching\t_\tEC\r\n",
      "_:riog00265513\t\toio:hasDbXref\tEC:2.1.1.-\tsemapv:UnspecifiedMatching\t_\tEC\r\n",
      "_:riog00265515\t\toio:hasDbXref\tEC:2.1.1.-\tsemapv:UnspecifiedMatching\t_\tEC\r\n",
      "_:riog00265523\t\toio:hasDbXref\tEC:2.1.1.-\tsemapv:UnspecifiedMatching\t_\tEC\r\n",
      "_:riog00265525\t\toio:hasDbXref\tEC:2.1.1.-\tsemapv:UnspecifiedMatching\t_\tEC\r\n",
      "_:riog00265527\t\toio:hasDbXref\tEC:2.1.1.-\tsemapv:UnspecifiedMatching\t_\tEC\r\n",
      "_:riog00265608\t\toio:hasDbXref\tEC:2.1.1.-\tsemapv:UnspecifiedMatching\t_\tEC\r\n",
      "_:riog00265610\t\toio:hasDbXref\tEC:2.1.1.-\tsemapv:UnspecifiedMatching\t_\tEC\r\n",
      "_:riog00265674\t\toio:hasDbXref\tEC:2.1.1.-\tsemapv:UnspecifiedMatching\t_\tEC\r\n",
      "_:riog00265676\t\toio:hasDbXref\tEC:2.1.1.-\tsemapv:UnspecifiedMatching\t_\tEC\r\n",
      "_:riog00265778\t\toio:hasDbXref\tEC:2.1.1.-\tsemapv:UnspecifiedMatching\t_\tEC\r\n",
      "_:riog00265780\t\toio:hasDbXref\tEC:2.1.1.-\tsemapv:UnspecifiedMatching\t_\tEC\r\n",
      "_:riog00265896\t\toio:hasDbXref\tEC:2.1.1.-\tsemapv:UnspecifiedMatching\t_\tEC\r\n",
      "_:riog00265898\t\toio:hasDbXref\tEC:2.1.1.-\tsemapv:UnspecifiedMatching\t_\tEC\r\n",
      "_:riog00266081\t\toio:hasDbXref\tEC:2.1.1.-\tsemapv:UnspecifiedMatching\t_\tEC\r\n",
      "_:riog00266083\t\toio:hasDbXref\tEC:2.1.1.-\tsemapv:UnspecifiedMatching\t_\tEC\r\n",
      "_:riog00266138\t\toio:hasDbXref\tEC:2.1.1.-\tsemapv:UnspecifiedMatching\t_\tEC\r\n",
      "_:riog00266140\t\toio:hasDbXref\tEC:2.1.1.-\tsemapv:UnspecifiedMatching\t_\tEC\r\n",
      "_:riog00266142\t\toio:hasDbXref\tEC:2.1.1.-\tsemapv:UnspecifiedMatching\t_\tEC\r\n",
      "_:riog00266144\t\toio:hasDbXref\tEC:2.1.1.-\tsemapv:UnspecifiedMatching\t_\tEC\r\n",
      "_:riog00266182\t\toio:hasDbXref\tEC:2.1.1.-\tsemapv:UnspecifiedMatching\t_\tEC\r\n",
      "_:riog00266234\t\toio:hasDbXref\tEC:2.1.1.-\tsemapv:UnspecifiedMatching\t_\tEC\r\n",
      "_:riog00266331\t\toio:hasDbXref\tEC:2.1.1.-\tsemapv:UnspecifiedMatching\t_\tEC\r\n",
      "\r\n"
     ]
    }
   ],
   "source": [
    "go mappings EC:2.1.1.- -O sssom"
   ]
  },
  {
   "cell_type": "markdown",
   "id": "9dd27d91",
   "metadata": {},
   "source": [
    "TODO - eliminate blank nodes"
   ]
  },
  {
   "cell_type": "code",
   "execution_count": 12,
   "id": "c5bd0d55",
   "metadata": {},
   "outputs": [
    {
     "name": "stdout",
     "output_type": "stream",
     "text": [
      "Usage: runoak diff-via-mappings [OPTIONS] [TERMS]...\r\n",
      "\r\n",
      "  Calculates cross-ontology diff using mappings\r\n",
      "\r\n",
      "  Given a pair of ontologies, and mappings that connect terms in both\r\n",
      "  ontologies, this command will perform a structural comparison of all mapped\r\n",
      "  pairs of terms\r\n",
      "\r\n",
      "  Example:\r\n",
      "\r\n",
      "      runoak -i sqlite:obo:uberon diff-via-mappings --other-input\r\n",
      "      sqlite:obo:zfa  --source UBERON --source ZFA -O csv\r\n",
      "\r\n",
      "  Note the above command does not have any mapping file specified; the\r\n",
      "  mappings that are distributed within each ontology is used (in this case,\r\n",
      "  Uberon contains mappings to ZFA)\r\n",
      "\r\n",
      "  If the mappings are provided externally:\r\n",
      "\r\n",
      "      runoak -i ont1.obo diff-via-mappings --other-input ont2.obo --mapping-\r\n",
      "      input mappings.sssom.tsv\r\n",
      "\r\n",
      "  (in the above example, --source is not passed, so all mappings are tested)\r\n",
      "\r\n",
      "  If there are no existing mappings, you can use the lexmatch command to\r\n",
      "  generate them:\r\n",
      "\r\n",
      "      runoak -i ont1.obo diff-via-mappings -a ont2.obo lexmatch -o\r\n",
      "      mappings.sssom.tsv\r\n",
      "\r\n",
      "      runoak -i ont1.obo diff-via-mappings --other-input ont2.obo --mapping-\r\n",
      "      input mappings.sssom.tsv\r\n",
      "\r\n",
      "  The output from this command follows the cross-ontology-diff data model\r\n",
      "  (https://incatools.github.io/ontology-access-kit/datamodels/cross-ontology-\r\n",
      "  diff/index.html)\r\n",
      "\r\n",
      "  This can be serialized in YAML or TSV form\r\n",
      "\r\n",
      "Options:\r\n",
      "  -S, --source TEXT               ontology prefixes  e.g. HP, MP\r\n",
      "  --mapping-input TEXT            File of mappings in SSSOM format. If not\r\n",
      "                                  provided then mappings in ontology(ies) are\r\n",
      "                                  used\r\n",
      "  -X, --other-input TEXT          Additional input file\r\n",
      "  --other-input-type TEXT         Type of additional input file\r\n",
      "  --intra / --no-intra            If true, then all sources are in the main\r\n",
      "                                  input ontology  [default: no-intra]\r\n",
      "  --autolabel / --no-autolabel    If set, results will automatically have\r\n",
      "                                  labels assigned  [default: autolabel]\r\n",
      "  --include-identity-mappings / --no-include-identity-mappings\r\n",
      "                                  Use identity relation as mapping; use this\r\n",
      "                                  for two versions of the same ontology\r\n",
      "                                  [default: no-include-identity-mappings]\r\n",
      "  --filter-category-identical / --no-filter-category-identical\r\n",
      "                                  Do not report cases where a relationship has\r\n",
      "                                  not changed  [default: no-filter-category-\r\n",
      "                                  identical]\r\n",
      "  --bidirectional / --no-bidirectional\r\n",
      "                                  Show diff from both left and right\r\n",
      "                                  perspectives  [default: bidirectional]\r\n",
      "  -p, --predicates TEXT           A comma-separated list of predicates\r\n",
      "  -o, --output FILENAME           Output file, e.g. obo file\r\n",
      "  -O, --output-type TEXT          Desired output type\r\n",
      "  --help                          Show this message and exit.\r\n"
     ]
    }
   ],
   "source": [
    "go diff-via-mappings --help"
   ]
  },
  {
   "cell_type": "code",
   "execution_count": null,
   "id": "53b5f97a",
   "metadata": {},
   "outputs": [],
   "source": []
  }
 ],
 "metadata": {
  "kernelspec": {
   "display_name": "Python 3 (ipykernel)",
   "language": "python",
   "name": "python3"
  },
  "language_info": {
   "codemirror_mode": {
    "name": "ipython",
    "version": 3
   },
   "file_extension": ".py",
   "mimetype": "text/x-python",
   "name": "python",
   "nbconvert_exporter": "python",
   "pygments_lexer": "ipython3",
   "version": "3.9.5"
  }
 },
 "nbformat": 4,
 "nbformat_minor": 5
}
