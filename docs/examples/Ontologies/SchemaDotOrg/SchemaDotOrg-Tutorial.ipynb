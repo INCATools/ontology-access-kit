{
 "cells": [
  {
   "metadata": {},
   "cell_type": "markdown",
   "source": "# Schema.org Tutorial",
   "id": "6406ea79a850ab35"
  },
  {
   "cell_type": "code",
   "execution_count": 2,
   "id": "80038292",
   "metadata": {},
   "outputs": [],
   "source": [
    "%alias schema runoak -i ../../db/schema-dot-org.db"
   ]
  },
  {
   "cell_type": "code",
   "execution_count": 3,
   "id": "b6b891ad",
   "metadata": {},
   "outputs": [
    {
     "name": "stdout",
     "output_type": "stream",
     "text": [
      "* [] schema:Thing ! Thing\r\n",
      "    * [i] schema:CreativeWork ! CreativeWork\r\n",
      "        * [i] **schema:Article ! Article**\r\n",
      "            * [i] schema:TechArticle ! TechArticle\r\n",
      "                * [i] schema:APIReference ! APIReference\r\n",
      "            * [i] schema:SocialMediaPosting ! SocialMediaPosting\r\n",
      "                * [i] schema:DiscussionForumPosting ! DiscussionForumPosting\r\n",
      "                * [i] schema:BlogPosting ! BlogPosting\r\n",
      "                    * [i] schema:LiveBlogPosting ! LiveBlogPosting\r\n",
      "            * [i] schema:ScholarlyArticle ! ScholarlyArticle\r\n",
      "                * [i] schema:MedicalScholarlyArticle ! MedicalScholarlyArticle\r\n",
      "            * [i] schema:SatiricalArticle ! SatiricalArticle\r\n",
      "            * [i] schema:Report ! Report\r\n",
      "            * [i] schema:NewsArticle ! NewsArticle\r\n",
      "                * [i] schema:ReviewNewsArticle ! ReviewNewsArticle\r\n",
      "                * [i] schema:ReportageNewsArticle ! ReportageNewsArticle\r\n",
      "                * [i] schema:OpinionNewsArticle ! OpinionNewsArticle\r\n",
      "                * [i] schema:BackgroundNewsArticle ! BackgroundNewsArticle\r\n",
      "                * [i] schema:AskPublicNewsArticle ! AskPublicNewsArticle\r\n",
      "                * [i] schema:AnalysisNewsArticle ! AnalysisNewsArticle\r\n",
      "            * [i] schema:AdvertiserContentArticle ! AdvertiserContentArticle\r\n"
     ]
    }
   ],
   "source": [
    "schema tree schema:Article --down"
   ]
  },
  {
   "cell_type": "code",
   "execution_count": 6,
   "id": "6a1fe46a",
   "metadata": {},
   "outputs": [],
   "source": [
    "schema viz schema:Article --down -o output/Article.png"
   ]
  },
  {
   "cell_type": "markdown",
   "id": "2a92c0a3",
   "metadata": {},
   "source": [
    "![img](output/Article.png)"
   ]
  },
  {
   "cell_type": "code",
   "execution_count": null,
   "id": "94a2a349",
   "metadata": {},
   "outputs": [],
   "source": []
  }
 ],
 "metadata": {
  "kernelspec": {
   "display_name": "Python 3 (ipykernel)",
   "language": "python",
   "name": "python3"
  },
  "language_info": {
   "codemirror_mode": {
    "name": "ipython",
    "version": 3
   },
   "file_extension": ".py",
   "mimetype": "text/x-python",
   "name": "python",
   "nbconvert_exporter": "python",
   "pygments_lexer": "ipython3",
   "version": "3.9.5"
  }
 },
 "nbformat": 4,
 "nbformat_minor": 5
}
