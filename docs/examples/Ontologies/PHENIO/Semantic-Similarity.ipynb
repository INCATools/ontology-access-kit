{
 "cells": [
  {
   "cell_type": "code",
   "execution_count": 1,
   "id": "80ee48fa",
   "metadata": {},
   "outputs": [],
   "source": [
    "from oaklib import get_adapter"
   ]
  },
  {
   "cell_type": "code",
   "execution_count": 2,
   "id": "dc1adf58",
   "metadata": {},
   "outputs": [],
   "source": [
    "adapter = get_adapter(\"semsimian:sqlite:obo:hp\")\n",
    "adapter2 = get_adapter(\"sqlite:obo:hp\")"
   ]
  },
  {
   "cell_type": "code",
   "execution_count": 3,
   "id": "c5e2d5c7",
   "metadata": {},
   "outputs": [],
   "source": [
    "def labels2curies(labels):\n",
    "    return [adapter2.curies_by_label(label)[0] for label in labels]\n",
    "\n",
    "\n",
    "terms1 = labels2curies([\"Abnormal liver lobulation\", \"Focal white matter lesions\"])\n",
    "terms2 = labels2curies([\"Diffuse hepatic steatosis\", \"Hypoplastic hippocampus\"])"
   ]
  },
  {
   "cell_type": "code",
   "execution_count": 4,
   "id": "f9e5bc59",
   "metadata": {},
   "outputs": [
    {
     "data": {
      "text/plain": [
       "['HP:0100752', 'HP:0007042']"
      ]
     },
     "execution_count": 4,
     "metadata": {},
     "output_type": "execute_result"
    }
   ],
   "source": [
    "terms1"
   ]
  },
  {
   "cell_type": "code",
   "execution_count": 5,
   "id": "2c550d99",
   "metadata": {},
   "outputs": [
    {
     "data": {
      "text/plain": [
       "['HP:0006555', 'HP:0025517']"
      ]
     },
     "execution_count": 5,
     "metadata": {},
     "output_type": "execute_result"
    }
   ],
   "source": [
    "terms2"
   ]
  },
  {
   "cell_type": "code",
   "execution_count": 6,
   "id": "f2dd52ea",
   "metadata": {},
   "outputs": [],
   "source": [
    "from oaklib.datamodels.vocabulary import IS_A"
   ]
  },
  {
   "cell_type": "code",
   "execution_count": 7,
   "id": "6b4a054c",
   "metadata": {},
   "outputs": [],
   "source": [
    "sim = adapter.termset_pairwise_similarity(terms1, terms2, predicates=[IS_A])"
   ]
  },
  {
   "cell_type": "code",
   "execution_count": 12,
   "id": "8d273a2f",
   "metadata": {},
   "outputs": [
    {
     "name": "stdout",
     "output_type": "stream",
     "text": [
      "TermSetPairwiseSimilarity(subject_termset={'HP:0100752': TermInfo(id='HP:0100752', label=None), 'HP:0007042': TermInfo(id='HP:0007042', label=None)}, object_termset={'HP:0006555': TermInfo(id='HP:0006555', label=None), 'HP:0025517': TermInfo(id='HP:0025517', label=None)}, subject_best_matches={'HP:0100752': BestMatch(match_source='HP:0100752', score=8.632028875573981, similarity=TermPairwiseSimilarity(subject_id='HP:0100752', subject_label=None, subject_source=None, object_id='HP:0006555', object_label=None, object_source=None, ancestor_id='HP:0410042', ancestor_label=None, ancestor_source=None, object_information_content=None, subject_information_content=None, ancestor_information_content=8.632028875573981, jaccard_similarity=0.5, dice_similarity=None, phenodigm_score=2.0775019705855855), match_source_label=None, match_target='HP:0006555', match_target_label=None, match_subsumer=None, match_subsumer_label=None), 'HP:0007042': BestMatch(match_source='HP:0007042', score=6.7759382869726945, similarity=TermPairwiseSimilarity(subject_id='HP:0007042', subject_label=None, subject_source=None, object_id='HP:0025517', object_label=None, object_source=None, ancestor_id='HP:0100547', ancestor_label=None, ancestor_source=None, object_information_content=None, subject_information_content=None, ancestor_information_content=6.7759382869726945, jaccard_similarity=0.5, dice_similarity=None, phenodigm_score=1.8406436764040854), match_source_label=None, match_target='HP:0025517', match_target_label=None, match_subsumer=None, match_subsumer_label=None)}, object_best_matches={'HP:0025517': BestMatch(match_source='HP:0025517', score=6.7759382869726945, similarity=TermPairwiseSimilarity(subject_id='HP:0007042', subject_label=None, subject_source=None, object_id='HP:0025517', object_label=None, object_source=None, ancestor_id='HP:0100547', ancestor_label=None, ancestor_source=None, object_information_content=None, subject_information_content=None, ancestor_information_content=6.7759382869726945, jaccard_similarity=0.5, dice_similarity=None, phenodigm_score=1.8406436764040854), match_source_label=None, match_target='HP:0007042', match_target_label=None, match_subsumer=None, match_subsumer_label=None), 'HP:0006555': BestMatch(match_source='HP:0006555', score=8.632028875573981, similarity=TermPairwiseSimilarity(subject_id='HP:0100752', subject_label=None, subject_source=None, object_id='HP:0006555', object_label=None, object_source=None, ancestor_id='HP:0410042', ancestor_label=None, ancestor_source=None, object_information_content=None, subject_information_content=None, ancestor_information_content=8.632028875573981, jaccard_similarity=0.5, dice_similarity=None, phenodigm_score=2.0775019705855855), match_source_label=None, match_target='HP:0100752', match_target_label=None, match_subsumer=None, match_subsumer_label=None)}, average_score=7.703983581273338, best_score=8.632028875573981, metric=None)\n"
     ]
    }
   ],
   "source": [
    "print(sim)"
   ]
  },
  {
   "cell_type": "code",
   "execution_count": 13,
   "id": "8ab4e342",
   "metadata": {},
   "outputs": [],
   "source": [
    "sim = adapter.termset_pairwise_similarity(terms1, terms2, predicates=[IS_A])"
   ]
  },
  {
   "cell_type": "code",
   "execution_count": 14,
   "id": "fc8490ef",
   "metadata": {},
   "outputs": [],
   "source": [
    "from linkml_runtime.dumpers import yaml_dumper"
   ]
  },
  {
   "cell_type": "code",
   "execution_count": 16,
   "id": "5f9dee95",
   "metadata": {},
   "outputs": [
    {
     "name": "stdout",
     "output_type": "stream",
     "text": [
      "subject_termset:\n",
      "  HP:0100752:\n",
      "    id: HP:0100752\n",
      "  HP:0007042:\n",
      "    id: HP:0007042\n",
      "object_termset:\n",
      "  HP:0006555:\n",
      "    id: HP:0006555\n",
      "  HP:0025517:\n",
      "    id: HP:0025517\n",
      "subject_best_matches:\n",
      "  HP:0007042:\n",
      "    match_source: HP:0007042\n",
      "    score: 6.7759382869726945\n",
      "    similarity:\n",
      "      subject_id: HP:0007042\n",
      "      object_id: HP:0025517\n",
      "      ancestor_id: HP:0100547\n",
      "      ancestor_information_content: 6.7759382869726945\n",
      "      jaccard_similarity: 0.5\n",
      "      phenodigm_score: 1.8406436764040854\n",
      "    match_target: HP:0025517\n",
      "  HP:0100752:\n",
      "    match_source: HP:0100752\n",
      "    score: 8.632028875573981\n",
      "    similarity:\n",
      "      subject_id: HP:0100752\n",
      "      object_id: HP:0006555\n",
      "      ancestor_id: HP:0410042\n",
      "      ancestor_information_content: 8.632028875573981\n",
      "      jaccard_similarity: 0.5\n",
      "      phenodigm_score: 2.0775019705855855\n",
      "    match_target: HP:0006555\n",
      "object_best_matches:\n",
      "  HP:0006555:\n",
      "    match_source: HP:0006555\n",
      "    score: 8.632028875573981\n",
      "    similarity:\n",
      "      subject_id: HP:0100752\n",
      "      object_id: HP:0006555\n",
      "      ancestor_id: HP:0410042\n",
      "      ancestor_information_content: 8.632028875573981\n",
      "      jaccard_similarity: 0.5\n",
      "      phenodigm_score: 2.0775019705855855\n",
      "    match_target: HP:0100752\n",
      "  HP:0025517:\n",
      "    match_source: HP:0025517\n",
      "    score: 6.7759382869726945\n",
      "    similarity:\n",
      "      subject_id: HP:0007042\n",
      "      object_id: HP:0025517\n",
      "      ancestor_id: HP:0100547\n",
      "      ancestor_information_content: 6.7759382869726945\n",
      "      jaccard_similarity: 0.5\n",
      "      phenodigm_score: 1.8406436764040854\n",
      "    match_target: HP:0007042\n",
      "average_score: 7.703983581273338\n",
      "best_score: 8.632028875573981\n",
      "\n"
     ]
    }
   ],
   "source": [
    "print(yaml_dumper.dumps(sim))"
   ]
  },
  {
   "cell_type": "code",
   "execution_count": 18,
   "id": "6e6edf30",
   "metadata": {},
   "outputs": [],
   "source": [
    "subject_ids = [\"MP:0010771\", \"MP:0002169\", \"MP:0005391\", \"MP:0005389\", \"MP:0005367\"]\n",
    "object_ids = [\"HP:0004325\", \"HP:0000093\", \"MP:0006144\"]\n",
    "    "
   ]
  },
  {
   "cell_type": "code",
   "execution_count": 19,
   "id": "7a921ac6",
   "metadata": {
    "scrolled": true
   },
   "outputs": [
    {
     "data": {
      "application/vnd.jupyter.widget-view+json": {
       "model_id": "",
       "version_major": 2,
       "version_minor": 0
      },
      "text/plain": [
       "Downloading phenio.db.gz: 0.00B [00:00, ?B/s]"
      ]
     },
     "metadata": {},
     "output_type": "display_data"
    },
    {
     "name": "stderr",
     "output_type": "stream",
     "text": [
      "WARNING:root:Invalid triple for S:BFO:0000001 P:BFO:0000179\n",
      "WARNING:root:Invalid triple for S:BFO:0000002 P:BFO:0000179\n",
      "WARNING:root:Invalid triple for S:BFO:0000003 P:BFO:0000179\n",
      "WARNING:root:Invalid triple for S:BFO:0000004 P:BFO:0000179\n",
      "WARNING:root:Invalid triple for S:BFO:0000006 P:BFO:0000179\n",
      "WARNING:root:Invalid triple for S:BFO:0000008 P:BFO:0000179\n",
      "WARNING:root:Invalid triple for S:BFO:0000009 P:BFO:0000179\n",
      "WARNING:root:Invalid triple for S:BFO:0000011 P:BFO:0000179\n",
      "WARNING:root:Invalid triple for S:BFO:0000015 P:BFO:0000179\n",
      "WARNING:root:Invalid triple for S:BFO:0000016 P:BFO:0000179\n",
      "WARNING:root:Invalid triple for S:BFO:0000017 P:BFO:0000179\n",
      "WARNING:root:Invalid triple for S:BFO:0000018 P:BFO:0000179\n",
      "WARNING:root:Invalid triple for S:BFO:0000019 P:BFO:0000179\n",
      "WARNING:root:Invalid triple for S:BFO:0000020 P:BFO:0000179\n",
      "WARNING:root:Invalid triple for S:BFO:0000023 P:BFO:0000179\n",
      "WARNING:root:Invalid triple for S:BFO:0000024 P:BFO:0000179\n",
      "WARNING:root:Invalid triple for S:BFO:0000026 P:BFO:0000179\n",
      "WARNING:root:Invalid triple for S:BFO:0000027 P:BFO:0000179\n",
      "WARNING:root:Invalid triple for S:BFO:0000028 P:BFO:0000179\n",
      "WARNING:root:Invalid triple for S:BFO:0000029 P:BFO:0000179\n",
      "WARNING:root:Invalid triple for S:BFO:0000030 P:BFO:0000179\n",
      "WARNING:root:Invalid triple for S:BFO:0000031 P:BFO:0000179\n",
      "WARNING:root:Invalid triple for S:BFO:0000034 P:BFO:0000179\n",
      "WARNING:root:Invalid triple for S:BFO:0000035 P:BFO:0000179\n",
      "WARNING:root:Invalid triple for S:BFO:0000038 P:BFO:0000179\n",
      "WARNING:root:Invalid triple for S:BFO:0000040 P:BFO:0000179\n",
      "WARNING:root:Invalid triple for S:BFO:0000140 P:BFO:0000179\n",
      "WARNING:root:Invalid triple for S:BFO:0000141 P:BFO:0000179\n",
      "WARNING:root:Invalid triple for S:BFO:0000142 P:BFO:0000179\n",
      "WARNING:root:Invalid triple for S:BFO:0000144 P:BFO:0000179\n",
      "WARNING:root:Invalid triple for S:BFO:0000145 P:BFO:0000179\n",
      "WARNING:root:Invalid triple for S:BFO:0000146 P:BFO:0000179\n",
      "WARNING:root:Invalid triple for S:BFO:0000147 P:BFO:0000179\n",
      "WARNING:root:Invalid triple for S:BFO:0000148 P:BFO:0000179\n",
      "WARNING:root:Invalid triple for S:BFO:0000182 P:BFO:0000179\n",
      "WARNING:root:Invalid triple for S:BFO:0000001 P:BFO:0000180\n",
      "WARNING:root:Invalid triple for S:BFO:0000002 P:BFO:0000180\n",
      "WARNING:root:Invalid triple for S:BFO:0000003 P:BFO:0000180\n",
      "WARNING:root:Invalid triple for S:BFO:0000004 P:BFO:0000180\n",
      "WARNING:root:Invalid triple for S:BFO:0000006 P:BFO:0000180\n",
      "WARNING:root:Invalid triple for S:BFO:0000008 P:BFO:0000180\n",
      "WARNING:root:Invalid triple for S:BFO:0000009 P:BFO:0000180\n",
      "WARNING:root:Invalid triple for S:BFO:0000011 P:BFO:0000180\n",
      "WARNING:root:Invalid triple for S:BFO:0000015 P:BFO:0000180\n",
      "WARNING:root:Invalid triple for S:BFO:0000016 P:BFO:0000180\n",
      "WARNING:root:Invalid triple for S:BFO:0000017 P:BFO:0000180\n",
      "WARNING:root:Invalid triple for S:BFO:0000018 P:BFO:0000180\n",
      "WARNING:root:Invalid triple for S:BFO:0000019 P:BFO:0000180\n",
      "WARNING:root:Invalid triple for S:BFO:0000020 P:BFO:0000180\n",
      "WARNING:root:Invalid triple for S:BFO:0000023 P:BFO:0000180\n",
      "WARNING:root:Invalid triple for S:BFO:0000024 P:BFO:0000180\n",
      "WARNING:root:Invalid triple for S:BFO:0000026 P:BFO:0000180\n",
      "WARNING:root:Invalid triple for S:BFO:0000027 P:BFO:0000180\n",
      "WARNING:root:Invalid triple for S:BFO:0000028 P:BFO:0000180\n",
      "WARNING:root:Invalid triple for S:BFO:0000029 P:BFO:0000180\n",
      "WARNING:root:Invalid triple for S:BFO:0000030 P:BFO:0000180\n",
      "WARNING:root:Invalid triple for S:BFO:0000031 P:BFO:0000180\n",
      "WARNING:root:Invalid triple for S:BFO:0000034 P:BFO:0000180\n",
      "WARNING:root:Invalid triple for S:BFO:0000035 P:BFO:0000180\n",
      "WARNING:root:Invalid triple for S:BFO:0000038 P:BFO:0000180\n",
      "WARNING:root:Invalid triple for S:BFO:0000040 P:BFO:0000180\n",
      "WARNING:root:Invalid triple for S:BFO:0000140 P:BFO:0000180\n",
      "WARNING:root:Invalid triple for S:BFO:0000141 P:BFO:0000180\n",
      "WARNING:root:Invalid triple for S:BFO:0000142 P:BFO:0000180\n",
      "WARNING:root:Invalid triple for S:BFO:0000144 P:BFO:0000180\n",
      "WARNING:root:Invalid triple for S:BFO:0000145 P:BFO:0000180\n",
      "WARNING:root:Invalid triple for S:BFO:0000146 P:BFO:0000180\n",
      "WARNING:root:Invalid triple for S:BFO:0000147 P:BFO:0000180\n",
      "WARNING:root:Invalid triple for S:BFO:0000148 P:BFO:0000180\n",
      "WARNING:root:Invalid triple for S:BFO:0000182 P:BFO:0000180\n"
     ]
    }
   ],
   "source": [
    "from oaklib.interfaces import OboGraphInterface\n",
    "adapter = get_adapter(\"semsimian:sqlite:obo:phenio\", implements=OboGraphInterface)\n"
   ]
  },
  {
   "cell_type": "code",
   "execution_count": 20,
   "id": "0a1c11f4",
   "metadata": {},
   "outputs": [],
   "source": [
    "sim = adapter.termset_pairwise_similarity(subject_ids, object_ids, predicates=[IS_A])"
   ]
  },
  {
   "cell_type": "code",
   "execution_count": 21,
   "id": "102dbea2",
   "metadata": {},
   "outputs": [
    {
     "name": "stdout",
     "output_type": "stream",
     "text": [
      "subject_termset:\n",
      "  MP:0010771:\n",
      "    id: MP:0010771\n",
      "  MP:0002169:\n",
      "    id: MP:0002169\n",
      "  MP:0005391:\n",
      "    id: MP:0005391\n",
      "  MP:0005389:\n",
      "    id: MP:0005389\n",
      "  MP:0005367:\n",
      "    id: MP:0005367\n",
      "object_termset:\n",
      "  HP:0004325:\n",
      "    id: HP:0004325\n",
      "  HP:0000093:\n",
      "    id: HP:0000093\n",
      "  MP:0006144:\n",
      "    id: MP:0006144\n",
      "subject_best_matches:\n",
      "  MP:0005389:\n",
      "    match_source: MP:0005389\n",
      "    score: 4.277027869832077\n",
      "    similarity:\n",
      "      subject_id: MP:0005389\n",
      "      object_id: MP:0006144\n",
      "      ancestor_id: MP:0000001\n",
      "      ancestor_information_content: 4.277027869832077\n",
      "      jaccard_similarity: 0.30434782608695654\n",
      "      phenodigm_score: 1.140922492677184\n",
      "    match_target: MP:0006144\n",
      "  MP:0005391:\n",
      "    match_source: MP:0005391\n",
      "    score: 4.277027869832077\n",
      "    similarity:\n",
      "      subject_id: MP:0005391\n",
      "      object_id: MP:0006144\n",
      "      ancestor_id: MP:0000001\n",
      "      ancestor_information_content: 4.277027869832077\n",
      "      jaccard_similarity: 0.30434782608695654\n",
      "      phenodigm_score: 1.140922492677184\n",
      "    match_target: MP:0006144\n",
      "  MP:0005367:\n",
      "    match_source: MP:0005367\n",
      "    score: 4.277027869832077\n",
      "    similarity:\n",
      "      subject_id: MP:0005367\n",
      "      object_id: MP:0006144\n",
      "      ancestor_id: MP:0000001\n",
      "      ancestor_information_content: 4.277027869832077\n",
      "      jaccard_similarity: 0.30434782608695654\n",
      "      phenodigm_score: 1.140922492677184\n",
      "    match_target: MP:0006144\n",
      "  MP:0002169:\n",
      "    match_source: MP:0002169\n",
      "    score: 4.277027869832077\n",
      "    similarity:\n",
      "      subject_id: MP:0002169\n",
      "      object_id: MP:0006144\n",
      "      ancestor_id: MP:0000001\n",
      "      ancestor_information_content: 4.277027869832077\n",
      "      jaccard_similarity: 0.2916666666666667\n",
      "      phenodigm_score: 1.116900381428154\n",
      "    match_target: MP:0006144\n",
      "  MP:0010771:\n",
      "    match_source: MP:0010771\n",
      "    score: 4.277027869832077\n",
      "    similarity:\n",
      "      subject_id: MP:0010771\n",
      "      object_id: MP:0006144\n",
      "      ancestor_id: MP:0000001\n",
      "      ancestor_information_content: 4.277027869832077\n",
      "      jaccard_similarity: 0.30434782608695654\n",
      "      phenodigm_score: 1.140922492677184\n",
      "    match_target: MP:0006144\n",
      "object_best_matches:\n",
      "  HP:0000093:\n",
      "    match_source: HP:0000093\n",
      "    score: 1.5631348570810817\n",
      "    similarity:\n",
      "      subject_id: MP:0005389\n",
      "      object_id: HP:0000093\n",
      "      ancestor_id: UPHENO:0001003\n",
      "      ancestor_information_content: 1.5631348570810817\n",
      "      jaccard_similarity: 0.13333333333333333\n",
      "      phenodigm_score: 0.4565281819823878\n",
      "    match_target: MP:0005389\n",
      "  HP:0004325:\n",
      "    match_source: HP:0004325\n",
      "    score: 1.5631348570810817\n",
      "    similarity:\n",
      "      subject_id: MP:0005389\n",
      "      object_id: HP:0004325\n",
      "      ancestor_id: UPHENO:0001003\n",
      "      ancestor_information_content: 1.5631348570810817\n",
      "      jaccard_similarity: 0.24\n",
      "      phenodigm_score: 0.6124968291342083\n",
      "    match_target: MP:0005389\n",
      "  MP:0006144:\n",
      "    match_source: MP:0006144\n",
      "    score: 4.277027869832077\n",
      "    similarity:\n",
      "      subject_id: MP:0005389\n",
      "      object_id: MP:0006144\n",
      "      ancestor_id: MP:0000001\n",
      "      ancestor_information_content: 4.277027869832077\n",
      "      jaccard_similarity: 0.30434782608695654\n",
      "      phenodigm_score: 1.140922492677184\n",
      "    match_target: MP:0005389\n",
      "average_score: 3.598554616644328\n",
      "best_score: 4.277027869832077\n",
      "\n"
     ]
    }
   ],
   "source": [
    "print(yaml_dumper.dumps(sim))"
   ]
  },
  {
   "cell_type": "code",
   "execution_count": 22,
   "id": "5a050844",
   "metadata": {},
   "outputs": [],
   "source": [
    "adapter2 = get_adapter(\"sqlite:obo:phenio\")"
   ]
  },
  {
   "cell_type": "code",
   "execution_count": 23,
   "id": "db41d16e",
   "metadata": {},
   "outputs": [],
   "source": [
    "sim2 = adapter2.termset_pairwise_similarity(subject_ids, object_ids, predicates=[IS_A])"
   ]
  },
  {
   "cell_type": "code",
   "execution_count": null,
   "id": "4b6b3667",
   "metadata": {},
   "outputs": [],
   "source": []
  }
 ],
 "metadata": {
  "kernelspec": {
   "display_name": "Python 3 (ipykernel)",
   "language": "python",
   "name": "python3"
  },
  "language_info": {
   "codemirror_mode": {
    "name": "ipython",
    "version": 3
   },
   "file_extension": ".py",
   "mimetype": "text/x-python",
   "name": "python",
   "nbconvert_exporter": "python",
   "pygments_lexer": "ipython3",
   "version": "3.9.5"
  }
 },
 "nbformat": 4,
 "nbformat_minor": 5
}
