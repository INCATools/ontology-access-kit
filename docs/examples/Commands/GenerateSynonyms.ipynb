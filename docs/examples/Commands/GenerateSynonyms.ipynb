{
 "cells": [
  {
   "cell_type": "markdown",
   "id": "0f6c4513",
   "metadata": {},
   "source": [
    "# command: generate-synonyms\n",
    "\n",
    "This notebook is intended as a supplement to the [main OAK CLI docs](https://incatools.github.io/ontology-access-kit/cli.html).\n",
    "\n",
    "This notebook provides examples for the `generate-synonyms` command, which is used to create new synonyms for a set\n",
    "of terms in an ontology, according to a set of rules.\n",
    "\n",
    "The command has two main modes of operation:\n",
    "\n",
    "1. generate new synonyms and apply them, creating a new ontology\n",
    "2. creating new synonyms and outputting them as a set of [KGCL](https://w3id.org/kgcl)  change directives\n",
    "\n",
    "The advantage of using 2 is that it allows for more fine-grained control over the changes, and allows for manual inspection before applying the changes. The KGCL output can be fed back (using the [apply](Apply.html) command), or if the ontology allows it via an issue, with ontobot applying the changes.\n",
    "\n",
    "## Help Option\n",
    "\n",
    "You can get help on any OAK command using `--help`"
   ]
  },
  {
   "cell_type": "code",
   "id": "65db4b53",
   "metadata": {
    "ExecuteTime": {
     "end_time": "2024-11-19T08:07:10.649096Z",
     "start_time": "2024-11-19T08:07:07.677168Z"
    }
   },
   "source": "!runoak generate-synonyms --help",
   "outputs": [
    {
     "name": "stdout",
     "output_type": "stream",
     "text": [
      "Usage: runoak generate-synonyms [OPTIONS] [TERMS]...\r\n",
      "\r\n",
      "  Generate synonyms based on a set of synonymizer rules.\r\n",
      "\r\n",
      "  If the `--apply-patch` flag is set, the output will be an ontology file with\r\n",
      "  the changes applied. Pass the `--patch` argument to lso get the patch file\r\n",
      "  in KGCL format.\r\n",
      "\r\n",
      "  Example:\r\n",
      "\r\n",
      "      runoak -i foo.obo generate-synonyms -R foo_rules.yaml --patch patch.kgcl\r\n",
      "      --apply-patch -o foo_syn.obo\r\n",
      "\r\n",
      "  If the `apply-patch` flag is NOT set then the main input will be KGCL\r\n",
      "  commands\r\n",
      "\r\n",
      "  Example:\r\n",
      "\r\n",
      "      runoak -i foo.obo generate-synonyms -R foo_rules.yaml -o changes.kgcl\r\n",
      "\r\n",
      "  see https://github.com/INCATools/kgcl.\r\n",
      "\r\n",
      "Options:\r\n",
      "  -R, --rules-file TEXT           path to rules file. Conforms to\r\n",
      "                                  rules_datamodel.        e.g.\r\n",
      "                                  https://github.com/INCATools/ontology-\r\n",
      "                                  access-\r\n",
      "                                  kit/blob/main/tests/input/matcher_rules.yaml\r\n",
      "                                  [required]\r\n",
      "  --apply-patch / --no-apply-patch\r\n",
      "                                  Apply KGCL syntax generated based on the\r\n",
      "                                  synonymizer rules file.  [default: no-apply-\r\n",
      "                                  patch]\r\n",
      "  --patch FILENAME                Path to where patch file will be written.\r\n",
      "  --patch-format TEXT             Output syntax for patches.\r\n",
      "  -o, --output FILENAME           Output file, e.g. obo file\r\n",
      "  -O, --output-type TEXT          Desired output type\r\n",
      "  --help                          Show this message and exit.\r\n"
     ]
    }
   ],
   "execution_count": 1
  },
  {
   "cell_type": "markdown",
   "id": "c8878ac5",
   "metadata": {},
   "source": [
    "## Synonymizer rules\n",
    "\n",
    "The rules YAML has a list of rules following the [Synonymizer](https://incatools.github.io/ontology-access-kit/datamodels/mapping-rules/Synonymizer.html) class.\n",
    "\n",
    "An example rule file for GO, called `go-synonymizer-rules.yaml` is shown below:\n",
    "\n",
    "```yaml\n",
    "rules:\n",
    "  - description: activity\n",
    "    match: \"(.*) activity\"\n",
    "    match_scope: \"*\"\n",
    "    replacement: \"\\\\1\"\n",
    "    qualifier: exact\n",
    "```\n",
    "\n",
    "This will match any term that ends in \"activity\" and remove that suffix, creating a new exact synonym.\n",
    "\n",
    "Note that while it's possible to restrict the scope to only apply to some terms in the rule, this is often easier to do when running the command using [OAK queries](https://incatools.github.io/ontology-access-kit/howtos/use-oak-expression-language.html) on the command line. \n",
    "\n",
    "## Test ontology\n",
    "\n",
    "The most likely scenario is to run this on edit files, although this isn't necessary if you wish to apply the changes. But for test purposes we'll use the GO edit file:\n"
   ]
  },
  {
   "cell_type": "code",
   "execution_count": 7,
   "id": "12a41f0d",
   "metadata": {},
   "outputs": [],
   "source": [
    "!curl -L -s https://github.com/geneontology/go-ontology/raw/master/src/ontology/go-edit.obo > input/go-edit.obo"
   ]
  },
  {
   "metadata": {
    "ExecuteTime": {
     "end_time": "2024-11-20T07:46:37.575719Z",
     "start_time": "2024-11-20T07:46:37.374065Z"
    }
   },
   "cell_type": "code",
   "source": "!mkdir -p output",
   "id": "c790b0c23baf774e",
   "outputs": [],
   "execution_count": 2
  },
  {
   "cell_type": "markdown",
   "id": "d57ac006",
   "metadata": {},
   "source": "Note that the go edit file is in *obo* format. A number of ontologies like GO, Uberon, and Mondo use obo format as the edit format due to the fact obo was designed to make human-readable diffs."
  },
  {
   "cell_type": "markdown",
   "id": "c9047f55",
   "metadata": {},
   "source": [
    "## Generate changes from a rule file\n",
    "\n",
    "We will run this over all non-obsolete terms in the ontology. The OAK query expression `.non_obsolete` is used to generate a list of all terms that are not obsolete."
   ]
  },
  {
   "cell_type": "code",
   "id": "d9395e32",
   "metadata": {
    "ExecuteTime": {
     "end_time": "2024-11-20T07:57:12.012589Z",
     "start_time": "2024-11-20T07:57:00.940481Z"
    }
   },
   "source": "!runoak -i simpleobo:input/go-edit.obo generate-synonyms -R  input/go-synonym-rules.yaml -o output/changes.kgcl .non_obsolete",
   "outputs": [],
   "execution_count": 13
  },
  {
   "cell_type": "markdown",
   "id": "b1d291f2",
   "metadata": {},
   "source": "The changes were placed in a file called `output/changes.kgcl`. Let's take a look at the first few lines:"
  },
  {
   "metadata": {
    "ExecuteTime": {
     "end_time": "2024-11-20T07:57:12.166396Z",
     "start_time": "2024-11-20T07:57:12.023007Z"
    }
   },
   "cell_type": "code",
   "source": "!head -25 output/changes.kgcl",
   "id": "ad5a413245c59384",
   "outputs": [
    {
     "name": "stdout",
     "output_type": "stream",
     "text": [
      "create exact synonym 'high-affinity zinc transmembrane transporter' for GO:0000006\r\n",
      "create exact synonym 'high affinity zinc uptake transmembrane transporter' for GO:0000006\r\n",
      "create exact synonym 'high-affinity zinc uptake transmembrane transporter' for GO:0000006\r\n",
      "create exact synonym 'low-affinity zinc ion transmembrane transporter' for GO:0000007\r\n",
      "create exact synonym 'alpha-1,6-mannosyltransferase' for GO:0000009\r\n",
      "create exact synonym '1,6-alpha-mannosyltransferase' for GO:0000009\r\n",
      "create exact synonym 'trans-hexaprenyltranstransferase' for GO:0000010\r\n",
      "create exact synonym 'all-trans-heptaprenyl-diphosphate synthase' for GO:0000010\r\n",
      "create exact synonym 'HepPP synthase' for GO:0000010\r\n",
      "create exact synonym 'heptaprenyl diphosphate synthase' for GO:0000010\r\n",
      "create exact synonym 'heptaprenyl pyrophosphate synthase' for GO:0000010\r\n",
      "create exact synonym 'heptaprenyl pyrophosphate synthetase' for GO:0000010\r\n",
      "create exact synonym 'single-stranded DNA endodeoxyribonuclease' for GO:0000014\r\n",
      "create exact synonym 'single-stranded DNA specific endodeoxyribonuclease' for GO:0000014\r\n",
      "create exact synonym 'ssDNA-specific endodeoxyribonuclease' for GO:0000014\r\n",
      "create exact synonym 'lactase' for GO:0000016\r\n",
      "create exact synonym 'lactose galactohydrolase' for GO:0000016\r\n",
      "create exact synonym 'alpha-1,2-mannosyltransferase' for GO:0000026\r\n",
      "create exact synonym 'mannosyltransferase' for GO:0000030\r\n",
      "create exact synonym 'mannosylphosphate transferase' for GO:0000031\r\n",
      "create exact synonym 'alpha-1,3-mannosyltransferase' for GO:0000033\r\n",
      "create exact synonym 'adenine deaminase' for GO:0000034\r\n",
      "create exact synonym 'ADase' for GO:0000034\r\n",
      "create exact synonym 'adenase' for GO:0000034\r\n",
      "create exact synonym 'adenine aminase' for GO:0000034\r\n"
     ]
    }
   ],
   "execution_count": 14
  },
  {
   "metadata": {},
   "cell_type": "markdown",
   "source": "We can then apply these as a separate step (we have the option of editing first)",
   "id": "b6cbd7f60e43ccd2"
  },
  {
   "cell_type": "code",
   "id": "5f59a5fc",
   "metadata": {
    "ExecuteTime": {
     "end_time": "2024-11-20T07:58:57.338852Z",
     "start_time": "2024-11-20T07:58:52.058297Z"
    }
   },
   "source": "!runoak -i simpleobo:input/go-edit.obo apply --changes-input output/changes.kgcl -o output/go-edit-modified.obo",
   "outputs": [
    {
     "name": "stdout",
     "output_type": "stream",
     "text": [
      "lark.exceptions.UnexpectedCharacters: No terminal matches '-' in the current parser context, at line 1 col 26\r\n",
      "\r\n",
      "create exact synonym '3\\'-5\\'-RNA exonuclease' for GO:0000175\r\n",
      "                         ^\r\n",
      "Expected one of: \r\n",
      "\t* _WS\r\n",
      "\t* AT\r\n",
      "\r\n"
     ]
    }
   ],
   "execution_count": 16
  },
  {
   "metadata": {
    "ExecuteTime": {
     "end_time": "2024-11-20T08:01:07.649446Z",
     "start_time": "2024-11-20T08:00:28.058494Z"
    }
   },
   "cell_type": "code",
   "source": "!robot kgcl:apply --input input/go-edit.obo --kgcl output/changes.kgcl --output output/go-edit-modified.obo",
   "id": "b5c42528a53b881d",
   "outputs": [
    {
     "name": "stdout",
     "output_type": "stream",
     "text": [
      "org.semanticweb.owlapi.model.UnloadableImportException: Could not load imported ontology: <http://purl.obolibrary.org/obo/go/imports/go-pattern-conformance.ttl> Cause: http://current.geneontology.org/ontology/imports/go-pattern-conformance.ttl\r\n",
      "Use the -vvv option to show the stack trace.\r\n",
      "Use the --help option to see usage information.\r\n"
     ]
    }
   ],
   "execution_count": 17
  },
  {
   "cell_type": "markdown",
   "id": "cb67adfb",
   "metadata": {},
   "source": [
    "## Generating synonyms and applying them in one step\n",
    "\n",
    "We don't have to create the intermediate KGCL file. We can generate and apply in one step:"
   ]
  },
  {
   "cell_type": "code",
   "id": "2ab326a2",
   "metadata": {
    "ExecuteTime": {
     "end_time": "2024-11-20T07:56:23.396033Z",
     "start_time": "2024-11-20T07:55:50.111731Z"
    }
   },
   "source": "!runoak -i simpleobo:input/go-edit.obo generate-synonyms -R  input/go-synonym-rules.yaml --apply-patch -o output/go-edit-modified.obo --patch output/changes.kgcl .non_obsolete",
   "outputs": [],
   "execution_count": 11
  },
  {
   "metadata": {},
   "cell_type": "code",
   "outputs": [],
   "execution_count": null,
   "source": "",
   "id": "60da50b351936cbb"
  }
 ],
 "metadata": {
  "kernelspec": {
   "display_name": "Python 3 (ipykernel)",
   "language": "python",
   "name": "python3"
  },
  "language_info": {
   "codemirror_mode": {
    "name": "ipython",
    "version": 3
   },
   "file_extension": ".py",
   "mimetype": "text/x-python",
   "name": "python",
   "nbconvert_exporter": "python",
   "pygments_lexer": "ipython3",
   "version": "3.9.5"
  }
 },
 "nbformat": 4,
 "nbformat_minor": 5
}
