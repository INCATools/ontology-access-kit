{
 "cells": [
  {
   "cell_type": "markdown",
   "id": "08f6dae5-2605-4bf0-be5d-d1c88a563f8b",
   "metadata": {},
   "source": [
    "# OAK diff-associations command\n",
    "\n",
    "This notebook is intended as a supplement to the [main OAK CLI docs](https://incatools.github.io/ontology-access-kit/cli.html).\n",
    "\n",
    "This notebook provides examples for the `diff-associations` command which provides ways of comparing [associations](https://incatools.github.io/ontology-access-kit/glossary.html#term-Association).\n",
    "\n",
    "For more on associations, see [Associations and Curated Annotations](https://incatools.github.io/ontology-access-kit/guide/associations.html) in the OAK guide.\n",
    "\n",
    "For more on command line usage in general, see the [Command Line Tutorial](https://doi.org/10.5281/zenodo.7708963)\n",
    "\n",
    "## Help Option\n",
    "\n",
    "You can get help on any OAK command using `--help`"
   ]
  },
  {
   "cell_type": "code",
   "id": "e4e56e4f",
   "metadata": {
    "ExecuteTime": {
     "end_time": "2024-12-11T17:21:30.619732Z",
     "start_time": "2024-12-11T17:21:27.572468Z"
    }
   },
   "source": "!runoak diff-associations --help",
   "outputs": [
    {
     "name": "stdout",
     "output_type": "stream",
     "text": [
      "Usage: runoak diff-associations [OPTIONS]\r\n",
      "\r\n",
      "  Diffs two association sources.\r\n",
      "\r\n",
      "  Example:\r\n",
      "\r\n",
      "      runoak -i sqlite:obo:go  -G gaf  diff-associations            --old-date\r\n",
      "      ${date1} --new-date ${date2}            -g\r\n",
      "      \"${download_dir}/${group}-${date1}.gaf\"            -X\r\n",
      "      \"${download_dir}/${group}-${date2}.gaf\"            --group-by\r\n",
      "      publications -p i,p            -o\r\n",
      "      \"${group}-diff-${date1}-to-${date2}.tsv\r\n",
      "\r\n",
      "  See https://w3id.org/oak/association for the diff data model.\r\n",
      "\r\n",
      "  NOTE: This functionality may move out of core\r\n",
      "\r\n",
      "Options:\r\n",
      "  -o, --output FILENAME          Output file, e.g. obo file\r\n",
      "  -p, --predicates TEXT          A comma-separated list of predicates. This\r\n",
      "                                 may be a shorthand (i, p) or CURIE\r\n",
      "  --autolabel / --no-autolabel   If set, results will automatically have\r\n",
      "                                 labels assigned  [default: autolabel]\r\n",
      "  -O, --output-type TEXT         Desired output type\r\n",
      "  -o, --output FILENAME          Output file, e.g. obo file\r\n",
      "  --old-date TEXT                Old date, in YYYY-MM-DD format\r\n",
      "  --new-date TEXT                Old date, in YYYY-MM-DD format\r\n",
      "  -g, --associations TEXT        associations\r\n",
      "  -X, --other-associations TEXT  other associations\r\n",
      "  --group-by TEXT                One of: publications;\r\n",
      "                                 primary_knowledge_source\r\n",
      "  --help                         Show this message and exit.\r\n"
     ]
    }
   ],
   "execution_count": 1
  },
  {
   "cell_type": "markdown",
   "id": "7ac5760e-bb37-440e-8e09-d828f59e2fe9",
   "metadata": {},
   "source": [
    "### Set up an alias\n",
    "\n",
    "We will set up an alias for running OAK bound to GO for the purposes of this notebook:"
   ]
  },
  {
   "cell_type": "code",
   "id": "a9dbd43c",
   "metadata": {
    "ExecuteTime": {
     "end_time": "2024-12-11T17:21:59.905603Z",
     "start_time": "2024-12-11T17:21:59.901391Z"
    }
   },
   "source": [
    "alias go runoak -i sqlite:obo:go"
   ],
   "outputs": [],
   "execution_count": 2
  },
  {
   "cell_type": "code",
   "id": "03a7e8c2",
   "metadata": {
    "ExecuteTime": {
     "end_time": "2024-12-11T17:22:04.120483Z",
     "start_time": "2024-12-11T17:22:00.423986Z"
    }
   },
   "source": [
    "go ontology-metadata --all"
   ],
   "outputs": [
    {
     "name": "stdout",
     "output_type": "stream",
     "text": [
      "id:\r\n",
      "- obo:go/extensions/go-plus.owl\r\n",
      "IAO:0000700:\r\n",
      "- GO:0008150\r\n",
      "- GO:0005575\r\n",
      "- GO:0003674\r\n",
      "dce:description:\r\n",
      "- The Gene Ontology (GO) provides a framework and set of concepts for describing the\r\n",
      "  functions of gene products from all organisms.\r\n",
      "dce:title:\r\n",
      "- Gene Ontology\r\n",
      "dcterms:license:\r\n",
      "- cc:by/4.0/\r\n",
      "oio:default-namespace:\r\n",
      "- gene_ontology\r\n",
      "oio:hasOBOFormatVersion:\r\n",
      "- '1.2'\r\n",
      "owl:versionIRI:\r\n",
      "- obo:go/releases/2024-11-03/extensions/go-plus.owl\r\n",
      "owl:versionInfo:\r\n",
      "- '2024-11-03'\r\n",
      "rdf:type:\r\n",
      "- owl:Ontology\r\n",
      "sh:prefix:\r\n",
      "- obo\r\n",
      "schema:url:\r\n",
      "- http://purl.obolibrary.org/obo/go/extensions/go-plus.owl\r\n",
      "rdfs:isDefinedBy:\r\n",
      "- http://purl.obolibrary.org/obo/obo.owl\r\n"
     ]
    }
   ],
   "execution_count": 3
  },
  {
   "cell_type": "markdown",
   "id": "eb483a9d-c9a4-4eee-879f-746e86272c31",
   "metadata": {},
   "source": [
    "Check that queries work"
   ]
  },
  {
   "cell_type": "code",
   "id": "65b5f090",
   "metadata": {
    "ExecuteTime": {
     "end_time": "2024-12-11T17:22:11.187162Z",
     "start_time": "2024-12-11T17:22:08.300354Z"
    }
   },
   "source": [
    "go info \"kinase activity\""
   ],
   "outputs": [
    {
     "name": "stdout",
     "output_type": "stream",
     "text": [
      "GO:0016301 ! kinase activity\r\n"
     ]
    }
   ],
   "execution_count": 4
  },
  {
   "cell_type": "markdown",
   "id": "88419b98-5395-4d92-8229-d5ad3be27255",
   "metadata": {},
   "source": [
    "### Query for associations to a gene\n",
    "\n",
    "Here we will query from a previously downloaded GAF all associations to a gene"
   ]
  },
  {
   "metadata": {
    "ExecuteTime": {
     "end_time": "2024-12-11T19:38:02.135316Z",
     "start_time": "2024-12-11T19:37:56.445492Z"
    }
   },
   "cell_type": "code",
   "source": "!curl -L -s http://current.geneontology.org/annotations/sgd.gaf.gz | gzip -dc > input/gene_association.sgd.gaf",
   "id": "f249109f6af50460",
   "outputs": [],
   "execution_count": 29
  },
  {
   "cell_type": "code",
   "id": "0a9799ed",
   "metadata": {
    "ExecuteTime": {
     "end_time": "2024-12-11T19:44:48.361530Z",
     "start_time": "2024-12-11T19:44:37.702580Z"
    }
   },
   "source": "go -g input/gene_association.sgd.gaf -G gaf associations -Q subject SGD:S000002305 -O csv",
   "outputs": [
    {
     "name": "stdout",
     "output_type": "stream",
     "text": [
      "subject\tpredicate\tobject\tproperty_values\tsubject_label\tpredicate_label\tobject_label\tnegated\tpublications\tevidence_type\tsupporting_objects\tprimary_knowledge_source\taggregator_knowledge_source\tsubject_closure\tsubject_closure_label\tobject_closure\tobject_closure_label\tcomments\r\n",
      "SGD:S000002305\tinvolved_in\tGO:0006897\t\tLDB17\tNone\tendocytosis\tNone\tPMID:19506040\tNone\t\tinfores:SGD\tNone\t\t\t\t\t\r\n",
      "SGD:S000002305\tinvolved_in\tGO:0006897\t\tLDB17\tNone\tendocytosis\tNone\tGO_REF:0000033\tNone\t\tinfores:GO_Central\tNone\t\t\t\t\t\r\n",
      "SGD:S000002305\tlocated_in\tGO:0005935\t\tLDB17\tNone\tcellular bud neck\tNone\tPMID:14562095\tNone\t\tinfores:SGD\tNone\t\t\t\t\t\r\n",
      "SGD:S000002305\tlocated_in\tGO:0005935\t\tLDB17\tNone\tcellular bud neck\tNone\tPMID:26928762\tNone\t\tinfores:SGD\tNone\t\t\t\t\t\r\n",
      "SGD:S000002305\tlocated_in\tGO:0005935\t\tLDB17\tNone\tcellular bud neck\tNone\tGO_REF:0000044\tNone\t\tinfores:UniProt\tNone\t\t\t\t\t\r\n",
      "SGD:S000002305\tenables\tGO:0003674\t\tLDB17\tNone\tmolecular_function\tNone\tGO_REF:0000015\tNone\t\tinfores:SGD\tNone\t\t\t\t\t\r\n",
      "SGD:S000002305\tlocated_in\tGO:0030479\t\tLDB17\tNone\tactin cortical patch\tNone\tPMID:19506040\tNone\t\tinfores:SGD\tNone\t\t\t\t\t\r\n",
      "SGD:S000002305\tlocated_in\tGO:0005933\t\tLDB17\tNone\tcellular bud\tNone\tPMID:14562095\tNone\t\tinfores:SGD\tNone\t\t\t\t\t\r\n",
      "SGD:S000002305\tlocated_in\tGO:0005933\t\tLDB17\tNone\tcellular bud\tNone\tGO_REF:0000044\tNone\t\tinfores:UniProt\tNone\t\t\t\t\t\r\n",
      "SGD:S000002305\tlocated_in\tGO:0005737\t\tLDB17\tNone\tcytoplasm\tNone\tPMID:14562095\tNone\t\tinfores:SGD\tNone\t\t\t\t\t\r\n",
      "SGD:S000002305\tlocated_in\tGO:0005737\t\tLDB17\tNone\tcytoplasm\tNone\tGO_REF:0000043\tNone\t\tinfores:UniProt\tNone\t\t\t\t\t\r\n",
      "SGD:S000002305\tlocated_in\tGO:0005737\t\tLDB17\tNone\tcytoplasm\tNone\tGO_REF:0000044\tNone\t\tinfores:UniProt\tNone\t\t\t\t\t\r\n",
      "SGD:S000002305\tlocated_in\tGO:0005737\t\tLDB17\tNone\tcytoplasm\tNone\tPMID:14562095\tNone\t\tinfores:SGD\tNone\t\t\t\t\t\r\n",
      "SGD:S000002305\tlocated_in\tGO:0005737\t\tLDB17\tNone\tcytoplasm\tNone\tGO_REF:0000043\tNone\t\tinfores:UniProt\tNone\t\t\t\t\t\r\n",
      "SGD:S000002305\tlocated_in\tGO:0005737\t\tLDB17\tNone\tcytoplasm\tNone\tGO_REF:0000044\tNone\t\tinfores:UniProt\tNone\t\t\t\t\t\r\n",
      "SGD:S000002305\tlocated_in\tGO:0005933\t\tLDB17\tNone\tcellular bud\tNone\tPMID:14562095\tNone\t\tinfores:SGD\tNone\t\t\t\t\t\r\n",
      "SGD:S000002305\tlocated_in\tGO:0005933\t\tLDB17\tNone\tcellular bud\tNone\tGO_REF:0000044\tNone\t\tinfores:UniProt\tNone\t\t\t\t\t\r\n",
      "SGD:S000002305\tlocated_in\tGO:0005935\t\tLDB17\tNone\tcellular bud neck\tNone\tPMID:14562095\tNone\t\tinfores:SGD\tNone\t\t\t\t\t\r\n",
      "SGD:S000002305\tlocated_in\tGO:0005935\t\tLDB17\tNone\tcellular bud neck\tNone\tPMID:26928762\tNone\t\tinfores:SGD\tNone\t\t\t\t\t\r\n",
      "SGD:S000002305\tlocated_in\tGO:0005935\t\tLDB17\tNone\tcellular bud neck\tNone\tGO_REF:0000044\tNone\t\tinfores:UniProt\tNone\t\t\t\t\t\r\n",
      "SGD:S000002305\tenables\tGO:0071933\t\tLDB17\tNone\tArp2/3 complex binding\tNone\tGO_REF:0000033\tNone\t\tinfores:GO_Central\tNone\t\t\t\t\t\r\n",
      "SGD:S000002305\tinvolved_in\tGO:0006897\t\tLDB17\tNone\tendocytosis\tNone\tPMID:19506040\tNone\t\tinfores:SGD\tNone\t\t\t\t\t\r\n",
      "SGD:S000002305\tinvolved_in\tGO:0006897\t\tLDB17\tNone\tendocytosis\tNone\tGO_REF:0000033\tNone\t\tinfores:GO_Central\tNone\t\t\t\t\t\r\n",
      "SGD:S000002305\tis_active_in\tGO:0030479\t\tLDB17\tNone\tactin cortical patch\tNone\tGO_REF:0000033\tNone\t\tinfores:GO_Central\tNone\t\t\t\t\t\r\n",
      "SGD:S000002305\tinvolved_in\tGO:0000147\t\tLDB17\tNone\tactin cortical patch assembly\tNone\tGO_REF:0000033\tNone\t\tinfores:GO_Central\tNone\t\t\t\t\t\r\n",
      "SGD:S000002305\tinvolved_in\tGO:0051666\t\tLDB17\tNone\tactin cortical patch localization\tNone\tGO_REF:0000033\tNone\t\tinfores:GO_Central\tNone\t\t\t\t\t\r\n"
     ]
    }
   ],
   "execution_count": 36
  },
  {
   "metadata": {
    "ExecuteTime": {
     "end_time": "2024-12-11T19:38:13.435570Z",
     "start_time": "2024-12-11T19:38:12.895096Z"
    }
   },
   "cell_type": "code",
   "source": "!egrep -v '\\tIBA\\t' input/gene_association.sgd.gaf > input/gene_association.no-IBA.sgd.gaf ",
   "id": "1001c4656178ee75",
   "outputs": [],
   "execution_count": 31
  },
  {
   "metadata": {
    "ExecuteTime": {
     "end_time": "2024-12-11T19:38:40.105226Z",
     "start_time": "2024-12-11T19:38:13.448365Z"
    }
   },
   "cell_type": "code",
   "source": "go -G gaf diff-associations -p i,p -g input/gene_association.no-IBA.sgd.gaf -X input/gene_association.sgd.gaf -o output/sgd-iba-diff.tsv ",
   "id": "7c1a00b08d590667",
   "outputs": [],
   "execution_count": 32
  },
  {
   "metadata": {
    "ExecuteTime": {
     "end_time": "2024-12-11T19:38:40.146113Z",
     "start_time": "2024-12-11T19:38:40.125908Z"
    }
   },
   "cell_type": "code",
   "source": [
    "import pandas as pd\n",
    "df = pd.read_csv(\"output/sgd-iba-diff.tsv\", sep=\"\\t\")\n",
    "df"
   ],
   "id": "30a2bc35d6e0ed67",
   "outputs": [
    {
     "data": {
      "text/plain": [
       "      publications         subject  new_object  is_creation  \\\n",
       "0              NaN  SGD:S000004158  GO:1990050         True   \n",
       "1              NaN  SGD:S000002516  GO:0005737         True   \n",
       "2              NaN  SGD:S000003423  GO:0015171         True   \n",
       "3              NaN  SGD:S000003423  GO:0003333         True   \n",
       "4              NaN  SGD:S000000778  GO:0005737         True   \n",
       "...            ...             ...         ...          ...   \n",
       "5046           NaN  SGD:S000000427  GO:0003697         True   \n",
       "5047           NaN  SGD:S000000427  GO:0003690         True   \n",
       "5048           NaN  SGD:S000005988  GO:0006044         True   \n",
       "5049           NaN  SGD:S000006131  GO:0043022         True   \n",
       "5050           NaN  SGD:S000001477  GO:0005737         True   \n",
       "\n",
       "               closure_predicates  closure_delta  \\\n",
       "0     rdfs:subClassOf|BFO:0000050              6   \n",
       "1     rdfs:subClassOf|BFO:0000050             11   \n",
       "2     rdfs:subClassOf|BFO:0000050              0   \n",
       "3     rdfs:subClassOf|BFO:0000050              0   \n",
       "4     rdfs:subClassOf|BFO:0000050              0   \n",
       "...                           ...            ...   \n",
       "5046  rdfs:subClassOf|BFO:0000050              5   \n",
       "5047  rdfs:subClassOf|BFO:0000050              5   \n",
       "5048  rdfs:subClassOf|BFO:0000050              6   \n",
       "5049  rdfs:subClassOf|BFO:0000050              3   \n",
       "5050  rdfs:subClassOf|BFO:0000050              0   \n",
       "\n",
       "                                   new_object_label  \n",
       "0               phosphatidic acid transfer activity  \n",
       "1                                         cytoplasm  \n",
       "2     amino acid transmembrane transporter activity  \n",
       "3                amino acid transmembrane transport  \n",
       "4                                         cytoplasm  \n",
       "...                                             ...  \n",
       "5046                    single-stranded DNA binding  \n",
       "5047                    double-stranded DNA binding  \n",
       "5048          N-acetylglucosamine metabolic process  \n",
       "5049                               ribosome binding  \n",
       "5050                                      cytoplasm  \n",
       "\n",
       "[5051 rows x 7 columns]"
      ],
      "text/html": [
       "<div>\n",
       "<style scoped>\n",
       "    .dataframe tbody tr th:only-of-type {\n",
       "        vertical-align: middle;\n",
       "    }\n",
       "\n",
       "    .dataframe tbody tr th {\n",
       "        vertical-align: top;\n",
       "    }\n",
       "\n",
       "    .dataframe thead th {\n",
       "        text-align: right;\n",
       "    }\n",
       "</style>\n",
       "<table border=\"1\" class=\"dataframe\">\n",
       "  <thead>\n",
       "    <tr style=\"text-align: right;\">\n",
       "      <th></th>\n",
       "      <th>publications</th>\n",
       "      <th>subject</th>\n",
       "      <th>new_object</th>\n",
       "      <th>is_creation</th>\n",
       "      <th>closure_predicates</th>\n",
       "      <th>closure_delta</th>\n",
       "      <th>new_object_label</th>\n",
       "    </tr>\n",
       "  </thead>\n",
       "  <tbody>\n",
       "    <tr>\n",
       "      <th>0</th>\n",
       "      <td>NaN</td>\n",
       "      <td>SGD:S000004158</td>\n",
       "      <td>GO:1990050</td>\n",
       "      <td>True</td>\n",
       "      <td>rdfs:subClassOf|BFO:0000050</td>\n",
       "      <td>6</td>\n",
       "      <td>phosphatidic acid transfer activity</td>\n",
       "    </tr>\n",
       "    <tr>\n",
       "      <th>1</th>\n",
       "      <td>NaN</td>\n",
       "      <td>SGD:S000002516</td>\n",
       "      <td>GO:0005737</td>\n",
       "      <td>True</td>\n",
       "      <td>rdfs:subClassOf|BFO:0000050</td>\n",
       "      <td>11</td>\n",
       "      <td>cytoplasm</td>\n",
       "    </tr>\n",
       "    <tr>\n",
       "      <th>2</th>\n",
       "      <td>NaN</td>\n",
       "      <td>SGD:S000003423</td>\n",
       "      <td>GO:0015171</td>\n",
       "      <td>True</td>\n",
       "      <td>rdfs:subClassOf|BFO:0000050</td>\n",
       "      <td>0</td>\n",
       "      <td>amino acid transmembrane transporter activity</td>\n",
       "    </tr>\n",
       "    <tr>\n",
       "      <th>3</th>\n",
       "      <td>NaN</td>\n",
       "      <td>SGD:S000003423</td>\n",
       "      <td>GO:0003333</td>\n",
       "      <td>True</td>\n",
       "      <td>rdfs:subClassOf|BFO:0000050</td>\n",
       "      <td>0</td>\n",
       "      <td>amino acid transmembrane transport</td>\n",
       "    </tr>\n",
       "    <tr>\n",
       "      <th>4</th>\n",
       "      <td>NaN</td>\n",
       "      <td>SGD:S000000778</td>\n",
       "      <td>GO:0005737</td>\n",
       "      <td>True</td>\n",
       "      <td>rdfs:subClassOf|BFO:0000050</td>\n",
       "      <td>0</td>\n",
       "      <td>cytoplasm</td>\n",
       "    </tr>\n",
       "    <tr>\n",
       "      <th>...</th>\n",
       "      <td>...</td>\n",
       "      <td>...</td>\n",
       "      <td>...</td>\n",
       "      <td>...</td>\n",
       "      <td>...</td>\n",
       "      <td>...</td>\n",
       "      <td>...</td>\n",
       "    </tr>\n",
       "    <tr>\n",
       "      <th>5046</th>\n",
       "      <td>NaN</td>\n",
       "      <td>SGD:S000000427</td>\n",
       "      <td>GO:0003697</td>\n",
       "      <td>True</td>\n",
       "      <td>rdfs:subClassOf|BFO:0000050</td>\n",
       "      <td>5</td>\n",
       "      <td>single-stranded DNA binding</td>\n",
       "    </tr>\n",
       "    <tr>\n",
       "      <th>5047</th>\n",
       "      <td>NaN</td>\n",
       "      <td>SGD:S000000427</td>\n",
       "      <td>GO:0003690</td>\n",
       "      <td>True</td>\n",
       "      <td>rdfs:subClassOf|BFO:0000050</td>\n",
       "      <td>5</td>\n",
       "      <td>double-stranded DNA binding</td>\n",
       "    </tr>\n",
       "    <tr>\n",
       "      <th>5048</th>\n",
       "      <td>NaN</td>\n",
       "      <td>SGD:S000005988</td>\n",
       "      <td>GO:0006044</td>\n",
       "      <td>True</td>\n",
       "      <td>rdfs:subClassOf|BFO:0000050</td>\n",
       "      <td>6</td>\n",
       "      <td>N-acetylglucosamine metabolic process</td>\n",
       "    </tr>\n",
       "    <tr>\n",
       "      <th>5049</th>\n",
       "      <td>NaN</td>\n",
       "      <td>SGD:S000006131</td>\n",
       "      <td>GO:0043022</td>\n",
       "      <td>True</td>\n",
       "      <td>rdfs:subClassOf|BFO:0000050</td>\n",
       "      <td>3</td>\n",
       "      <td>ribosome binding</td>\n",
       "    </tr>\n",
       "    <tr>\n",
       "      <th>5050</th>\n",
       "      <td>NaN</td>\n",
       "      <td>SGD:S000001477</td>\n",
       "      <td>GO:0005737</td>\n",
       "      <td>True</td>\n",
       "      <td>rdfs:subClassOf|BFO:0000050</td>\n",
       "      <td>0</td>\n",
       "      <td>cytoplasm</td>\n",
       "    </tr>\n",
       "  </tbody>\n",
       "</table>\n",
       "<p>5051 rows × 7 columns</p>\n",
       "</div>"
      ]
     },
     "execution_count": 33,
     "metadata": {},
     "output_type": "execute_result"
    }
   ],
   "execution_count": 33
  },
  {
   "metadata": {
    "ExecuteTime": {
     "end_time": "2024-12-11T19:38:40.197293Z",
     "start_time": "2024-12-11T19:38:40.188707Z"
    }
   },
   "cell_type": "code",
   "source": "df[(~df[\"new_object_label\"].isnull())]",
   "id": "1579a77311ca82d8",
   "outputs": [
    {
     "data": {
      "text/plain": [
       "      publications         subject  new_object  is_creation  \\\n",
       "0              NaN  SGD:S000004158  GO:1990050         True   \n",
       "1              NaN  SGD:S000002516  GO:0005737         True   \n",
       "2              NaN  SGD:S000003423  GO:0015171         True   \n",
       "3              NaN  SGD:S000003423  GO:0003333         True   \n",
       "4              NaN  SGD:S000000778  GO:0005737         True   \n",
       "...            ...             ...         ...          ...   \n",
       "5046           NaN  SGD:S000000427  GO:0003697         True   \n",
       "5047           NaN  SGD:S000000427  GO:0003690         True   \n",
       "5048           NaN  SGD:S000005988  GO:0006044         True   \n",
       "5049           NaN  SGD:S000006131  GO:0043022         True   \n",
       "5050           NaN  SGD:S000001477  GO:0005737         True   \n",
       "\n",
       "               closure_predicates  closure_delta  \\\n",
       "0     rdfs:subClassOf|BFO:0000050              6   \n",
       "1     rdfs:subClassOf|BFO:0000050             11   \n",
       "2     rdfs:subClassOf|BFO:0000050              0   \n",
       "3     rdfs:subClassOf|BFO:0000050              0   \n",
       "4     rdfs:subClassOf|BFO:0000050              0   \n",
       "...                           ...            ...   \n",
       "5046  rdfs:subClassOf|BFO:0000050              5   \n",
       "5047  rdfs:subClassOf|BFO:0000050              5   \n",
       "5048  rdfs:subClassOf|BFO:0000050              6   \n",
       "5049  rdfs:subClassOf|BFO:0000050              3   \n",
       "5050  rdfs:subClassOf|BFO:0000050              0   \n",
       "\n",
       "                                   new_object_label  \n",
       "0               phosphatidic acid transfer activity  \n",
       "1                                         cytoplasm  \n",
       "2     amino acid transmembrane transporter activity  \n",
       "3                amino acid transmembrane transport  \n",
       "4                                         cytoplasm  \n",
       "...                                             ...  \n",
       "5046                    single-stranded DNA binding  \n",
       "5047                    double-stranded DNA binding  \n",
       "5048          N-acetylglucosamine metabolic process  \n",
       "5049                               ribosome binding  \n",
       "5050                                      cytoplasm  \n",
       "\n",
       "[5051 rows x 7 columns]"
      ],
      "text/html": [
       "<div>\n",
       "<style scoped>\n",
       "    .dataframe tbody tr th:only-of-type {\n",
       "        vertical-align: middle;\n",
       "    }\n",
       "\n",
       "    .dataframe tbody tr th {\n",
       "        vertical-align: top;\n",
       "    }\n",
       "\n",
       "    .dataframe thead th {\n",
       "        text-align: right;\n",
       "    }\n",
       "</style>\n",
       "<table border=\"1\" class=\"dataframe\">\n",
       "  <thead>\n",
       "    <tr style=\"text-align: right;\">\n",
       "      <th></th>\n",
       "      <th>publications</th>\n",
       "      <th>subject</th>\n",
       "      <th>new_object</th>\n",
       "      <th>is_creation</th>\n",
       "      <th>closure_predicates</th>\n",
       "      <th>closure_delta</th>\n",
       "      <th>new_object_label</th>\n",
       "    </tr>\n",
       "  </thead>\n",
       "  <tbody>\n",
       "    <tr>\n",
       "      <th>0</th>\n",
       "      <td>NaN</td>\n",
       "      <td>SGD:S000004158</td>\n",
       "      <td>GO:1990050</td>\n",
       "      <td>True</td>\n",
       "      <td>rdfs:subClassOf|BFO:0000050</td>\n",
       "      <td>6</td>\n",
       "      <td>phosphatidic acid transfer activity</td>\n",
       "    </tr>\n",
       "    <tr>\n",
       "      <th>1</th>\n",
       "      <td>NaN</td>\n",
       "      <td>SGD:S000002516</td>\n",
       "      <td>GO:0005737</td>\n",
       "      <td>True</td>\n",
       "      <td>rdfs:subClassOf|BFO:0000050</td>\n",
       "      <td>11</td>\n",
       "      <td>cytoplasm</td>\n",
       "    </tr>\n",
       "    <tr>\n",
       "      <th>2</th>\n",
       "      <td>NaN</td>\n",
       "      <td>SGD:S000003423</td>\n",
       "      <td>GO:0015171</td>\n",
       "      <td>True</td>\n",
       "      <td>rdfs:subClassOf|BFO:0000050</td>\n",
       "      <td>0</td>\n",
       "      <td>amino acid transmembrane transporter activity</td>\n",
       "    </tr>\n",
       "    <tr>\n",
       "      <th>3</th>\n",
       "      <td>NaN</td>\n",
       "      <td>SGD:S000003423</td>\n",
       "      <td>GO:0003333</td>\n",
       "      <td>True</td>\n",
       "      <td>rdfs:subClassOf|BFO:0000050</td>\n",
       "      <td>0</td>\n",
       "      <td>amino acid transmembrane transport</td>\n",
       "    </tr>\n",
       "    <tr>\n",
       "      <th>4</th>\n",
       "      <td>NaN</td>\n",
       "      <td>SGD:S000000778</td>\n",
       "      <td>GO:0005737</td>\n",
       "      <td>True</td>\n",
       "      <td>rdfs:subClassOf|BFO:0000050</td>\n",
       "      <td>0</td>\n",
       "      <td>cytoplasm</td>\n",
       "    </tr>\n",
       "    <tr>\n",
       "      <th>...</th>\n",
       "      <td>...</td>\n",
       "      <td>...</td>\n",
       "      <td>...</td>\n",
       "      <td>...</td>\n",
       "      <td>...</td>\n",
       "      <td>...</td>\n",
       "      <td>...</td>\n",
       "    </tr>\n",
       "    <tr>\n",
       "      <th>5046</th>\n",
       "      <td>NaN</td>\n",
       "      <td>SGD:S000000427</td>\n",
       "      <td>GO:0003697</td>\n",
       "      <td>True</td>\n",
       "      <td>rdfs:subClassOf|BFO:0000050</td>\n",
       "      <td>5</td>\n",
       "      <td>single-stranded DNA binding</td>\n",
       "    </tr>\n",
       "    <tr>\n",
       "      <th>5047</th>\n",
       "      <td>NaN</td>\n",
       "      <td>SGD:S000000427</td>\n",
       "      <td>GO:0003690</td>\n",
       "      <td>True</td>\n",
       "      <td>rdfs:subClassOf|BFO:0000050</td>\n",
       "      <td>5</td>\n",
       "      <td>double-stranded DNA binding</td>\n",
       "    </tr>\n",
       "    <tr>\n",
       "      <th>5048</th>\n",
       "      <td>NaN</td>\n",
       "      <td>SGD:S000005988</td>\n",
       "      <td>GO:0006044</td>\n",
       "      <td>True</td>\n",
       "      <td>rdfs:subClassOf|BFO:0000050</td>\n",
       "      <td>6</td>\n",
       "      <td>N-acetylglucosamine metabolic process</td>\n",
       "    </tr>\n",
       "    <tr>\n",
       "      <th>5049</th>\n",
       "      <td>NaN</td>\n",
       "      <td>SGD:S000006131</td>\n",
       "      <td>GO:0043022</td>\n",
       "      <td>True</td>\n",
       "      <td>rdfs:subClassOf|BFO:0000050</td>\n",
       "      <td>3</td>\n",
       "      <td>ribosome binding</td>\n",
       "    </tr>\n",
       "    <tr>\n",
       "      <th>5050</th>\n",
       "      <td>NaN</td>\n",
       "      <td>SGD:S000001477</td>\n",
       "      <td>GO:0005737</td>\n",
       "      <td>True</td>\n",
       "      <td>rdfs:subClassOf|BFO:0000050</td>\n",
       "      <td>0</td>\n",
       "      <td>cytoplasm</td>\n",
       "    </tr>\n",
       "  </tbody>\n",
       "</table>\n",
       "<p>5051 rows × 7 columns</p>\n",
       "</div>"
      ]
     },
     "execution_count": 34,
     "metadata": {},
     "output_type": "execute_result"
    }
   ],
   "execution_count": 34
  },
  {
   "cell_type": "markdown",
   "id": "fda241fe-6a52-4ba2-b8ef-9a30241d3f0d",
   "metadata": {},
   "source": [
    "## Query for associations to a term\n",
    "\n",
    "In contrast to gene queries, we want to make use of [ontology relationships](https://incatools.github.io/ontology-access-kit/guide/relationships-and-graphs.html) - in particular we typically want to include all is-a and part-of descendants in our query"
   ]
  },
  {
   "cell_type": "code",
   "id": "04738ae7",
   "metadata": {
    "ExecuteTime": {
     "end_time": "2024-12-11T17:49:16.759677Z",
     "start_time": "2024-12-11T17:49:10.870481Z"
    }
   },
   "source": [
    "go -g input/gene_association.sgd.gaf -G gaf associations -p i,p \"kinase activity\" -O csv | head -20"
   ],
   "outputs": [
    {
     "name": "stdout",
     "output_type": "stream",
     "text": [
      "Negated association: SGD\tS000004301\tCDC25\tNOT\tGO:0005886\tSGD_REF:S000128073|PMID:18930081\tIDA\t\tC\tMembrane bound guanine nucleotide exchange factor\tYLR310C|CTN1|CDC25'|Ras family guanine nucleotide exchange factor CDC25\tgene\ttaxon:559292\t20090401\tSGD\r\n",
      "Negated association: SGD\tS000002266\tKIN28\tNOT\tGO:0019912\tSGD_REF:S000046450|PMID:7760796\tIDA\t\tF\tSerine/threonine protein kinase, subunit of transcription factor TFIIH\tYDL108W|TFIIH complex serine/threonine-protein kinase subunit KIN28\tgene\ttaxon:559292\t20051102\tSGD\r\n",
      "Negated association: SGD\tS000002266\tKIN28\tNOT\tGO:0019912\tSGD_REF:S000046450|PMID:7760796\tIMP\t\tF\tSerine/threonine protein kinase, subunit of transcription factor TFIIH\tYDL108W|TFIIH complex serine/threonine-protein kinase subunit KIN28\tgene\ttaxon:559292\t20051102\tSGD\r\n",
      "Negated association: SGD\tS000001460\tMRS1\tNOT\tGO:0004520\tSGD_REF:S000068996|PMID:11773622\tISS\tUniProtKB:Q03702\tF\tSplicing protein\tYIR021W|PET157\tgene\ttaxon:559292\t20030821\tSGD\r\n",
      "Negated association: SGD\tS000001460\tMRS1\tNOT\tGO:0004520\tSGD_REF:S000068996|PMID:11773622\tIDA\t\tF\tSplicing protein\tYIR021W|PET157\tgene\ttaxon:559292\t20030821\tSGD\r\n",
      "Negated association: SGD\tS000000022\tLTE1\tNOT\tGO:0005085\tSGD_REF:S000132413|PMID:19948498\tIDA\t\tF\tProtein similar to GDP/GTP exchange factors\tYAL024C|MSI2|mitotic regulator LTE1\tgene\ttaxon:559292\t20091210\tSGD\r\n",
      "Negated association: SGD\tS000000022\tLTE1\tNOT\tGO:0005085\tSGD_REF:S000132413|PMID:19948498\tIMP\t\tF\tProtein similar to GDP/GTP exchange factors\tYAL024C|MSI2|mitotic regulator LTE1\tgene\ttaxon:559292\t20091210\tSGD\r\n",
      "Negated association: SGD\tS000000828\tCHO1\tNOT\tGO:0005783\tSGD_REF:S000150399|PMID:2002005\tIDA\t\tC\tPhosphatidylserine synthase\tYER026C|PSS1|CDP-diacylglycerol-serine O-phosphatidyltransferase\tgene\ttaxon:559292\t20120809\tSGD\r\n",
      "Negated association: SGD\tS000002353\tSNF3\tNOT\tGO:0005355\tSGD_REF:S000045421|PMID:10477308\tTAS\t\tF\tPlasma membrane low glucose sensor, regulates glucose transport\tYDL194W|glucose sensor\tgene\ttaxon:559292\t20021204\tSGD\r\n",
      "Negated association: SGD\tS000005185\tZWF1\tNOT\tGO:0045013\tSGD_REF:S000043047|PMID:2269430\tIMP\t\tP\tGlucose-6-phosphate dehydrogenase (G6PD)\tYNL241C|MET19|POS10|glucose-6-phosphate dehydrogenase\tgene\ttaxon:559292\t20070516\tSGD\r\n",
      "Negated association: SGD\tS000002651\tPRP28\tNOT\tGO:0004004\tSGD_REF:S000153030|PMID:23462954\tIDA\t\tF\tRNA binding protein\tYDR243C|mRNA splicing protein PRP28\tgene\ttaxon:559292\t20150206\tSGD\r\n",
      "Negated association: SGD\tS000002651\tPRP28\tNOT\tGO:0004004\tSGD_REF:S000055642|PMID:7520570\tIDA\t\tF\tRNA binding protein\tYDR243C|mRNA splicing protein PRP28\tgene\ttaxon:559292\t20150206\tSGD\r\n",
      "Negated association: SGD\tS000002411\tRAD57\tNOT\tGO:0045002\tSGD_REF:S000051939|PMID:8849880\tIMP\t\tP\tProtein that stimulates strand exchange\tYDR004W|putative DNA-dependent ATPase RAD57\tgene\ttaxon:559292\t20020925\tSGD\r\n",
      "Negated association: SGD\tS000000897\tRAD51\tNOT\tGO:0045002\tSGD_REF:S000051939|PMID:8849880\tIMP\t\tP\tStrand exchange protein\tYER095W|MUT5|recombinase RAD51\tgene\ttaxon:559292\t20020925\tSGD\r\n",
      "Negated association: SGD\tS000001162\tMSH1\tNOT\tGO:0007131\tSGD_REF:S000079978|PMID:15590333\tIMP\t\tP\tDNA-binding protein of the mitochondria\tYHR120W|mismatch repair ATPase MSH1\tgene\ttaxon:559292\t20060816\tSGD\r\n",
      "Negated association: SGD\tS000003087\tCOQ8\tNOT\tGO:0004672\tSGD_REF:S000184611|PMID:27499294\tIDA\t\tF\tATPase required for ubiquinone biosynthesis and respiratory growth\tYGL119W|ABC1|protein kinase COQ8\tgene\ttaxon:559292\t20160922\tSGD\r\n",
      "Negated association: SGD\tS000003087\tCOQ8\tNOT\tGO:0004672\tSGD_REF:S000184611|PMID:27499294\tIMP\t\tF\tATPase required for ubiquinone biosynthesis and respiratory growth\tYGL119W|ABC1|protein kinase COQ8\tgene\ttaxon:559292\t20160922\tSGD\r\n",
      "Negated association: SGD\tS000002443\tEHD3\tNOT\tGO:0006635\tSGD_REF:S000072949|PMID:12697341\tIMP\t\tP\t3-hydroxyisobutyryl-CoA hydrolase\tYDR036C|mS47\tgene\ttaxon:559292\t20061019\tSGD\r\n",
      "Negated association: SGD\tS000004685\tNAM7\tNOT\tGO:0006452\tSGD_REF:S000079922|PMID:15388879\tIMP\t\tP\tATP-dependent RNA helicase of the SFI superfamily\tYMR080C|SUP113|IFS2|MOF4|UPF1|SUT2|ATP-dependent RNA helicase NAM7\tgene\ttaxon:559292\t20050301\tSGD\r\n",
      "Negated association: SGD\tS000004685\tNAM7\tNOT\tGO:0005739\tSGD_REF:S000076002|PMID:14763985\tIDA\t\tC\tATP-dependent RNA helicase of the SFI superfamily\tYMR080C|SUP113|IFS2|MOF4|UPF1|SUT2|ATP-dependent RNA helicase NAM7\tgene\ttaxon:559292\t20050301\tSGD\r\n"
     ]
    }
   ],
   "execution_count": 6
  },
  {
   "cell_type": "markdown",
   "id": "3991460a-cbd1-4067-9f1a-5a373add960c",
   "metadata": {},
   "source": [
    "Note that including part of (`p`) does not make a difference with the MF hierarchy in GO, but does\n",
    "make a big difference in the other two.\n",
    "\n",
    "### Important: closures make a big difference\n",
    "\n",
    "Let's compare the number of results with and without closures"
   ]
  },
  {
   "cell_type": "code",
   "execution_count": 10,
   "id": "823618e3-2881-4e0f-af17-f61a36738aa4",
   "metadata": {},
   "outputs": [
    {
     "name": "stdout",
     "output_type": "stream",
     "text": [
      "    3209   32091  315394\n"
     ]
    }
   ],
   "source": [
    "go -g input/gene_association.sgd.gaf -G gaf associations -p i,p \"kinase activity\" -O csv | wc"
   ]
  },
  {
   "cell_type": "code",
   "execution_count": 11,
   "id": "f4ded29b-dfd9-44dd-83e1-06379b30d29c",
   "metadata": {},
   "outputs": [
    {
     "name": "stdout",
     "output_type": "stream",
     "text": [
      "     285    2851   26750\n"
     ]
    }
   ],
   "source": [
    "go -g input/gene_association.sgd.gaf -G gaf associations \"kinase activity\" -O csv | wc"
   ]
  },
  {
   "cell_type": "markdown",
   "id": "57835163-f5f0-44d4-b2ff-56b2c13c3e3d",
   "metadata": {},
   "source": [
    "## Complex Queries\n",
    "\n",
    "We can use the OAK graph query language to specify exhaustive lists of direct terms.\n",
    "\n",
    "For example, not retrieve annotations to any kinase that is not a protein kinase:"
   ]
  },
  {
   "cell_type": "code",
   "execution_count": 12,
   "id": "93f3bcb4",
   "metadata": {},
   "outputs": [
    {
     "name": "stdout",
     "output_type": "stream",
     "text": [
      "subject\tpredicate\tobject\tobject_label\tproperty_values\tsubject_label\tpredicate_label\tnegated\tpublications\tprimary_knowledge_source\taggregator_knowledge_source\n",
      "SGD:S000001369\tNone\tGO:0016301\tNone\t\tPFK26\tNone\tNone\tSGD_REF:S000148669\tinfores:UniProt\tNone\n",
      "SGD:S000001369\tNone\tGO:0003873\tNone\t\tPFK26\tNone\tNone\tSGD_REF:S000124037\tinfores:UniProt\tNone\n",
      "SGD:S000001369\tNone\tGO:0003873\tNone\t\tPFK26\tNone\tNone\tSGD_REF:S000124036\tinfores:InterPro\tNone\n",
      "SGD:S000001369\tNone\tGO:0003873\tNone\t\tPFK26\tNone\tNone\tSGD_REF:S000051318|PMID:1322693\tinfores:SGD\tNone\n",
      "SGD:S000001369\tNone\tGO:0003873\tNone\t\tPFK26\tNone\tNone\tSGD_REF:S000048479|PMID:1657152\tinfores:SGD\tNone\n",
      "SGD:S000002318\tNone\tGO:0016301\tNone\t\tSTE7\tNone\tNone\tSGD_REF:S000148669\tinfores:UniProt\tNone\n",
      "SGD:S000000605\tNone\tGO:0004618\tNone\t\tPGK1\tNone\tNone\tSGD_REF:S000058483|PMID:6254992\tinfores:SGD\tNone\n",
      "SGD:S000000605\tNone\tGO:0004618\tNone\t\tPGK1\tNone\tNone\tSGD_REF:S000124036\tinfores:InterPro\tNone\n",
      "SGD:S000000605\tNone\tGO:0004618\tNone\t\tPGK1\tNone\tNone\tSGD_REF:S000124036\tinfores:InterPro\tNone\n",
      "SGD:S000000605\tNone\tGO:0004618\tNone\t\tPGK1\tNone\tNone\tSGD_REF:S000124036\tinfores:InterPro\tNone\n",
      "SGD:S000000605\tNone\tGO:0004618\tNone\t\tPGK1\tNone\tNone\tSGD_REF:S000124036\tinfores:InterPro\tNone\n",
      "SGD:S000000605\tNone\tGO:0004618\tNone\t\tPGK1\tNone\tNone\tSGD_REF:S000124037\tinfores:UniProt\tNone\n",
      "SGD:S000003818\tNone\tGO:0004798\tNone\t\tCDC8\tNone\tNone\tSGD_REF:S000053290|PMID:6088527\tinfores:SGD\tNone\n",
      "SGD:S000003818\tNone\tGO:0004798\tNone\t\tCDC8\tNone\tNone\tSGD_REF:S000049877|PMID:6094555\tinfores:SGD\tNone\n",
      "SGD:S000003818\tNone\tGO:0004798\tNone\t\tCDC8\tNone\tNone\tSGD_REF:S000130762|PMID:19540237\tinfores:SGD\tNone\n",
      "SGD:S000003818\tNone\tGO:0004798\tNone\t\tCDC8\tNone\tNone\tSGD_REF:S000130762|PMID:19540237\tinfores:SGD\tNone\n",
      "SGD:S000003818\tNone\tGO:0004798\tNone\t\tCDC8\tNone\tNone\tSGD_REF:S000053290|PMID:6088527\tinfores:SGD\tNone\n",
      "SGD:S000003818\tNone\tGO:0004798\tNone\t\tCDC8\tNone\tNone\tSGD_REF:S000042433|PMID:6091111\tinfores:SGD\tNone\n",
      "SGD:S000003818\tNone\tGO:0004798\tNone\t\tCDC8\tNone\tNone\tSGD_REF:S000042433|PMID:6091111\tinfores:SGD\tNone\n",
      "SGD:S000003818\tNone\tGO:0004798\tNone\t\tCDC8\tNone\tNone\tSGD_REF:S000124037\tinfores:UniProt\tNone\n",
      "SGD:S000003818\tNone\tGO:0004798\tNone\t\tCDC8\tNone\tNone\tSGD_REF:S000124036\tinfores:InterPro\tNone\n",
      "SGD:S000003818\tNone\tGO:0004798\tNone\t\tCDC8\tNone\tNone\tSGD_REF:S000124036\tinfores:InterPro\tNone\n",
      "SGD:S000003818\tNone\tGO:0009041\tNone\t\tCDC8\tNone\tNone\tSGD_REF:S000049877|PMID:6094555\tinfores:SGD\tNone\n",
      "SGD:S000002939\tNone\tGO:0004594\tNone\t\tCAB1\tNone\tNone\tSGD_REF:S000124037\tinfores:UniProt\tNone\n",
      "SGD:S000002939\tNone\tGO:0004594\tNone\t\tCAB1\tNone\tNone\tSGD_REF:S000124036\tinfores:InterPro\tNone\n",
      "SGD:S000002939\tNone\tGO:0004594\tNone\t\tCAB1\tNone\tNone\tSGD_REF:S000129524|PMID:19266201\tinfores:SGD\tNone\n",
      "SGD:S000002939\tNone\tGO:0004594\tNone\t\tCAB1\tNone\tNone\tSGD_REF:S000065722|PMID:9890959\tinfores:SGD\tNone\n",
      "SGD:S000002939\tNone\tGO:0004594\tNone\t\tCAB1\tNone\tNone\tSGD_REF:S000124037\tinfores:UniProt\tNone\n",
      "SGD:S000002939\tNone\tGO:0004594\tNone\t\tCAB1\tNone\tNone\tSGD_REF:S000124036\tinfores:InterPro\tNone\n"
     ]
    },
    {
     "name": "stdout",
     "output_type": "stream",
     "text": [
      "SGD:S000001357\tNone\tNone\tGO:0016301\tkinase activity\t[]\n",
      "SGD:S000001304\tNone\tNone\tGO:0016301\tkinase activity\t[]\n",
      "SGD:S000006258\tNone\tNone\tGO:0016301\tkinase activity\t[]\n",
      "SGD:S000006135\tNone\tNone\tGO:0016301\tkinase activity\t[]\n",
      "SGD:S000003437\tNone\tNone\tGO:0016301\tkinase activity\t[]\n",
      "SGD:S000003636\tNone\tNone\tGO:0016301\tkinase activity\t[]\n",
      "SGD:S000001861\tNone\tNone\tGO:0016301\tkinase activity\t[]\n",
      "SGD:S000003593\tNone\tNone\tGO:0016301\tkinase activity\t[]\n",
      "SGD:S000003820\tNone\tNone\tGO:0016301\tkinase activity\t[]\n",
      "SGD:S000003866\tNone\tNone\tGO:0016301\tkinase activity\t[]\n",
      "SGD:S000002237\tNone\tNone\tGO:0016301\tkinase activity\t[]\n",
      "SGD:S000003027\tNone\tNone\tGO:0016301\tkinase activity\t[]\n",
      "SGD:S000003494\tNone\tNone\tGO:0016301\tkinase activity\t[]\n",
      "SGD:S000005310\tNone\tNone\tGO:0016301\tkinase activity\t[]\n",
      "SGD:S000005330\tNone\tNone\tGO:0016301\tkinase activity\t[]\n",
      "SGD:S000005200\tNone\tNone\tGO:0016301\tkinase activity\t[]\n",
      "SGD:S000005105\tNone\tNone\tGO:0016301\tkinase activity\t[]\n",
      "SGD:S000004965\tNone\tNone\tGO:0016301\tkinase activity\t[]\n",
      "SGD:S000004535\tNone\tNone\tGO:0016301\tkinase activity\t[]\n",
      "SGD:S000004535\tNone\tNone\tGO:0050354\ttriokinase activity\t[]\n",
      "SGD:S000001072\tNone\tNone\tGO:0016301\tkinase activity\t[]\n",
      "SGD:S000000871\tNone\tNone\tGO:0016301\tkinase activity\t[]\n",
      "SGD:S000002898\tNone\tNone\tGO:0016301\tkinase activity\t[]\n",
      "SGD:S000000999\tNone\tNone\tGO:0016301\tkinase activity\t[]\n",
      "SGD:S000002604\tNone\tNone\tGO:0016301\tkinase activity\t[]\n",
      "SGD:S000001622\tNone\tNone\tGO:0016301\tkinase activity\t[]\n",
      "SGD:S000002924\tNone\tNone\tGO:0004396\thexokinase activity\t[]\n",
      "SGD:S000002924\tNone\tNone\tGO:0016301\tkinase activity\t[]\n",
      "SGD:S000002516\tNone\tNone\tGO:0016301\tkinase activity\t[]\n",
      "SGD:S000004250\tNone\tNone\tGO:0008481\tsphinganine kinase activity\t[]\n",
      "SGD:S000004250\tNone\tNone\tGO:0003951\tNAD+ kinase activity\t[]\n",
      "SGD:S000004438\tNone\tNone\tGO:0004396\thexokinase activity\t[]\n",
      "SGD:S000004438\tNone\tNone\tGO:0016301\tkinase activity\t[]\n",
      "SGD:S000006109\tNone\tNone\tGO:0003951\tNAD+ kinase activity\t[]\n",
      "SGD:S000003958\tNone\tNone\tGO:0016301\tkinase activity\t[]\n",
      "SGD:S000006179\tNone\tNone\tGO:0016301\tkinase activity\t[]\n",
      "SGD:S000006157\tNone\tNone\tGO:0016301\tkinase activity\t[]\n",
      "SGD:S000002325\tNone\tNone\tGO:0016301\tkinase activity\t[]\n",
      "SGD:S000002427\tNone\tNone\tGO:0016301\tkinase activity\t[]\n",
      "SGD:S000002183\tNone\tNone\tGO:0016301\tkinase activity\t[]\n",
      "SGD:S000006071\tNone\tNone\tGO:0016301\tkinase activity\t[]\n",
      "SGD:S000005645\tNone\tNone\tGO:0016301\tkinase activity\t[]\n",
      "SGD:S000005488\tNone\tNone\tGO:0016301\tkinase activity\t[]\n",
      "SGD:S000005460\tNone\tNone\tGO:0016301\tkinase activity\t[]\n",
      "SGD:S000005697\tNone\tNone\tGO:0016301\tkinase activity\t[]\n",
      "SGD:S000005697\tNone\tNone\tGO:0008481\tsphinganine kinase activity\t[]\n",
      "SGD:S000002915\tNone\tNone\tGO:0016301\tkinase activity\t[]\n",
      "SGD:S000005422\tNone\tNone\tGO:0016301\tkinase activity\t[]\n",
      "SGD:S000005473\tNone\tNone\tGO:0016301\tkinase activity\t[]\n",
      "SGD:S000005496\tNone\tNone\tGO:0016301\tkinase activity\t[]\n",
      "SGD:S000005947\tNone\tNone\tGO:0016301\tkinase activity\t[]\n",
      "SGD:S000002885\tNone\tNone\tGO:0016301\tkinase activity\t[]\n",
      "SGD:S000003664\tNone\tNone\tGO:0016301\tkinase activity\t[]\n",
      "SGD:S000002416\tNone\tNone\tGO:0004335\tgalactokinase activity\t[]\n",
      "SGD:S000003272\tNone\tNone\tGO:0016301\tkinase activity\t[]\n",
      "SGD:S000004818\tNone\tNone\tGO:0016301\tkinase activity\t[]\n",
      "SGD:S000005878\tNone\tNone\tGO:0016301\tkinase activity\t[]\n",
      "SGD:S000003426\tNone\tNone\tGO:0016301\tkinase activity\t[]\n",
      "SGD:S000005874\tNone\tNone\tGO:0016301\tkinase activity\t[]\n",
      "SGD:S000002874\tNone\tNone\tGO:0016301\tkinase activity\t[]\n",
      "SGD:S000002554\tNone\tNone\tGO:0016301\tkinase activity\t[]\n",
      "SGD:S000002939\tNone\tNone\tGO:0016301\tkinase activity\t[]\n",
      "SGD:S000005793\tNone\tNone\tGO:0016301\tkinase activity\t[]\n",
      "SGD:S000000972\tNone\tNone\tGO:0004017\tadenylate kinase activity\t[]\n",
      "SGD:S000000972\tNone\tNone\tGO:0016301\tkinase activity\t[]\n",
      "SGD:S000000972\tNone\tNone\tGO:0019205\tnucleobase-containing compound kinase activity\t[]\n",
      "SGD:S000002644\tNone\tNone\tGO:0016301\tkinase activity\t[]\n",
      "SGD:S000002655\tNone\tNone\tGO:0016301\tkinase activity\t[]\n",
      "SGD:S000002656\tNone\tNone\tGO:0016301\tkinase activity\t[]\n"
     ]
    }
   ],
   "source": [
    "go -g input/gene_association.sgd.gaf -G gaf associations  .desc//p=i \"kinase activity\" .not .desc//p=i \"protein kinase activity\" -O csv | head -30"
   ]
  },
  {
   "cell_type": "markdown",
   "id": "0ec3c69d-e090-463c-ab03-c7a91de3719d",
   "metadata": {},
   "source": [
    "## Querying via API\n",
    "\n",
    "Some association sources provide an API, so rather than downloading an association file, you have OAK speak to the API.\n",
    "\n",
    "Note that API endpoints may not support all OAK options; e.g. the amigo endpoint currently forces you to use IDs:"
   ]
  },
  {
   "cell_type": "code",
   "execution_count": 13,
   "id": "100dff1d",
   "metadata": {},
   "outputs": [
    {
     "name": "stdout",
     "output_type": "stream",
     "text": [
      "subject\tpredicate\tobject\tproperty_values\tsubject_label\tpredicate_label\tobject_label\tnegated\tpublications\tprimary_knowledge_source\taggregator_knowledge_source\n",
      "UniProtKB:Q13976\tNone\tGO:0004672\t\tPRKG1\tNone\tprotein kinase activity\tNone\tPMID:25447536\tBHF-UCL\tinfores:go\n",
      "UniProtKB:Q13976\tNone\tGO:0004692\t\tPRKG1\tNone\tcGMP-dependent protein kinase activity\tNone\tPMID:21402151\tUniProt\tinfores:go\n",
      "UniProtKB:Q13976\tNone\tGO:0004692\t\tPRKG1\tNone\tcGMP-dependent protein kinase activity\tNone\tReactome:R-HSA-418442\tReactome\tinfores:go\n",
      "UniProtKB:Q13976\tNone\tGO:0106310\t\tPRKG1\tNone\tprotein serine kinase activity\tNone\tGO_REF:0000116\tRHEA\tinfores:go\n",
      "UniProtKB:Q9HCP0\tNone\tGO:0004674\t\tCSNK1G1\tNone\tprotein serine/threonine kinase activity\tNone\tPMID:25500533\tParkinsonsUK-UCL\tinfores:go\n",
      "UniProtKB:Q9HCP0\tNone\tGO:0106310\t\tCSNK1G1\tNone\tprotein serine kinase activity\tNone\tGO_REF:0000116\tRHEA\tinfores:go\n",
      "UniProtKB:Q9HCP0\tNone\tGO:0004674\t\tCSNK1G1\tNone\tprotein serine/threonine kinase activity\tNone\tPMID:21873635\tGO_Central\tinfores:go\n",
      "UniProtKB:Q8IWQ3\tNone\tGO:0004674\t\tBRSK2\tNone\tprotein serine/threonine kinase activity\tNone\tGO_REF:0000024\tARUK-UCL\tinfores:go\n",
      "UniProtKB:Q8IWQ3\tNone\tGO:0004674\t\tBRSK2\tNone\tprotein serine/threonine kinase activity\tNone\tPMID:14976552\tUniProt\tinfores:go\n",
      "UniProtKB:Q8IWQ3\tNone\tGO:0050321\t\tBRSK2\tNone\ttau-protein kinase activity\tNone\tGO_REF:0000024\tUniProt\tinfores:go\n",
      "UniProtKB:Q8IWQ3\tNone\tGO:0050321\t\tBRSK2\tNone\ttau-protein kinase activity\tNone\tPMID:21985311\tUniProt\tinfores:go\n",
      "UniProtKB:Q8IWQ3\tNone\tGO:0050321\t\tBRSK2\tNone\ttau-protein kinase activity\tNone\tPMID:28386764\tARUK-UCL\tinfores:go\n",
      "UniProtKB:Q8IWQ3\tNone\tGO:0106310\t\tBRSK2\tNone\tprotein serine kinase activity\tNone\tGO_REF:0000116\tRHEA\tinfores:go\n",
      "UniProtKB:Q8IWQ3\tNone\tGO:0050321\t\tBRSK2\tNone\ttau-protein kinase activity\tNone\tPMID:21873635\tGO_Central\tinfores:go\n",
      "UniProtKB:Q8IWQ3\tNone\tGO:0004674\t\tBRSK2\tNone\tprotein serine/threonine kinase activity\tNone\tPMID:21873635\tGO_Central\tinfores:go\n",
      "UniProtKB:Q96PF2\tNone\tGO:0004674\t\tTSSK2\tNone\tprotein serine/threonine kinase activity\tNone\tGO_REF:0000024\tUniProt\tinfores:go\n",
      "UniProtKB:Q96PF2\tNone\tGO:0004674\t\tTSSK2\tNone\tprotein serine/threonine kinase activity\tNone\tPMID:18533145\tUniProt\tinfores:go\n",
      "UniProtKB:Q96PF2\tNone\tGO:0004674\t\tTSSK2\tNone\tprotein serine/threonine kinase activity\tNone\tPMID:20729278\tUniProt\tinfores:go\n",
      "UniProtKB:Q96PF2\tNone\tGO:0106310\t\tTSSK2\tNone\tprotein serine kinase activity\tNone\tGO_REF:0000116\tRHEA\tinfores:go\n",
      "UniProtKB:Q96PF2\tNone\tGO:0004674\t\tTSSK2\tNone\tprotein serine/threonine kinase activity\tNone\tPMID:21873635\tGO_Central\tinfores:go\n",
      "UniProtKB:P19525\tNone\tGO:0004672\t\tEIF2AK2\tNone\tprotein kinase activity\tNone\tPMID:12882984\tUniProt\tinfores:go\n",
      "UniProtKB:P19525\tNone\tGO:0004672\t\tEIF2AK2\tNone\tprotein kinase activity\tNone\tPMID:15229216\tUniProt\tinfores:go\n",
      "UniProtKB:P19525\tNone\tGO:0004672\t\tEIF2AK2\tNone\tprotein kinase activity\tNone\tPMID:18835251\tUniProt\tinfores:go\n",
      "UniProtKB:P19525\tNone\tGO:0004672\t\tEIF2AK2\tNone\tprotein kinase activity\tNone\tPMID:21123651\tUniProt\tinfores:go\n",
      "UniProtKB:P19525\tNone\tGO:0004672\t\tEIF2AK2\tNone\tprotein kinase activity\tNone\tPMID:248628414\tUniProt\tinfores:go\n",
      "UniProtKB:P19525\tNone\tGO:0004674\t\tEIF2AK2\tNone\tprotein serine/threonine kinase activity\tNone\tPMID:1695551\tPINC\tinfores:go\n",
      "UniProtKB:P19525\tNone\tGO:0004694\t\tEIF2AK2\tNone\teukaryotic translation initiation factor 2alpha kinase activity\tNone\tPMID:25329545\tUniProt\tinfores:go\n",
      "UniProtKB:P19525\tNone\tGO:0004715\t\tEIF2AK2\tNone\tnon-membrane spanning protein tyrosine kinase activity\tNone\tGO_REF:0000003\tUniProt\tinfores:go\n",
      "UniProtKB:P19525\tNone\tGO:0016301\t\tEIF2AK2\tNone\tkinase activity\tNone\tPMID:21123651\tUniProt\tinfores:go\n"
     ]
    }
   ],
   "source": [
    "!runoak -i amigo:NCBITaxon:9606 associations -p i,p GO:0016301 | head -30"
   ]
  },
  {
   "cell_type": "code",
   "execution_count": null,
   "id": "c93dcd70-2d46-41c5-b0ed-3d8655f495dd",
   "metadata": {},
   "outputs": [],
   "source": []
  }
 ],
 "metadata": {
  "kernelspec": {
   "display_name": "Python 3 (ipykernel)",
   "language": "python",
   "name": "python3"
  },
  "language_info": {
   "codemirror_mode": {
    "name": "ipython",
    "version": 3
   },
   "file_extension": ".py",
   "mimetype": "text/x-python",
   "name": "python",
   "nbconvert_exporter": "python",
   "pygments_lexer": "ipython3",
   "version": "3.9.5"
  }
 },
 "nbformat": 4,
 "nbformat_minor": 5
}
