{
 "cells": [
  {
   "cell_type": "markdown",
   "id": "70c260038332e499",
   "metadata": {},
   "source": [
    "# Subsetting Queries\n",
    "\n",
    "This notebook is intended as a supplement to the [main OAK CLI docs](https://incatools.github.io/ontology-access-kit/cli.html).\n",
    "\n",
    "This notebook provides examples of subsetting and graph operations.\n",
    "\n",
    "For more background, see:\n",
    "\n",
    "- [OAK Expression Language](https://incatools.github.io/ontology-access-kit/howtos/use-oak-expression-language.html)\n",
    "- [Relationships and Graphs](https://incatools.github.io/ontology-access-kit/guide/relationships-and-graphs.html)\n",
    "\n"
   ]
  },
  {
   "cell_type": "markdown",
   "id": "7912fe167b152a68",
   "metadata": {},
   "source": [
    "## Set up an alias\n",
    "\n",
    "For convenience we will set up some aliases for use in this notebook\n"
   ]
  },
  {
   "cell_type": "code",
   "execution_count": 1,
   "id": "6130c96f937b1f77",
   "metadata": {
    "ExecuteTime": {
     "end_time": "2025-01-29T01:32:24.239860Z",
     "start_time": "2025-01-29T01:32:24.236040Z"
    }
   },
   "outputs": [],
   "source": [
    "alias cl runoak -i sqlite:obo:cl"
   ]
  },
  {
   "cell_type": "markdown",
   "id": "16dd0a1e377a8322",
   "metadata": {},
   "source": [
    "## Example Terms\n",
    "\n",
    "We'll pick a few example terms from immune and nervous systems as examples:"
   ]
  },
  {
   "cell_type": "code",
   "execution_count": 3,
   "id": "9ab7b7e4e1535808",
   "metadata": {
    "ExecuteTime": {
     "end_time": "2025-01-29T01:32:27.663827Z",
     "start_time": "2025-01-29T01:32:24.259414Z"
    }
   },
   "outputs": [
    {
     "name": "stdout",
     "output_type": "stream",
     "text": [
      "CL:0000601 ! cochlear outer hair cell\n",
      "CL:0017006 ! B-lymphoblast\n",
      "CL:0002128 ! Tc17 cell\n"
     ]
    }
   ],
   "source": [
    "cl info CL:0000601  CL:0017006 CL:0002128"
   ]
  },
  {
   "cell_type": "code",
   "execution_count": 4,
   "id": "d8279df810f06266",
   "metadata": {
    "ExecuteTime": {
     "end_time": "2025-01-29T01:32:27.827905Z",
     "start_time": "2025-01-29T01:32:27.674623Z"
    }
   },
   "outputs": [],
   "source": [
    "!mkdir -p output"
   ]
  },
  {
   "cell_type": "markdown",
   "id": "4c1bf76b-c2f4-4712-b947-349a3b41d85c",
   "metadata": {
    "ExecuteTime": {
     "end_time": "2025-01-29T01:32:27.970227Z",
     "start_time": "2025-01-29T01:32:27.840337Z"
    }
   },
   "source": [
    "## Visualization (no subsetting)\n",
    "\n",
    "First we'll visualize the graph and its is-a closure"
   ]
  },
  {
   "cell_type": "code",
   "execution_count": 6,
   "id": "c1d9a1f3c4939cdf",
   "metadata": {
    "ExecuteTime": {
     "end_time": "2025-01-29T01:32:32.443056Z",
     "start_time": "2025-01-29T01:32:27.979674Z"
    }
   },
   "outputs": [],
   "source": [
    "cl viz -p i CL:0000601  CL:0017006 CL:0002128 -o output/cl-example-3-terms.png"
   ]
  },
  {
   "cell_type": "markdown",
   "id": "77c21e28-06de-49d2-8f69-0d83a1718e5b",
   "metadata": {
    "ExecuteTime": {
     "end_time": "2025-01-29T01:32:32.455924Z",
     "start_time": "2025-01-29T01:32:32.453468Z"
    }
   },
   "source": [
    "![img](output/cl-example-3-terms.png)"
   ]
  },
  {
   "cell_type": "markdown",
   "id": "b3affe79-46cf-4d6b-b0b3-83de71847a7b",
   "metadata": {},
   "source": [
    "__TODO__: regenerate after this is fixed: https://github.com/obophenotype/cell-ontology/issues/2923"
   ]
  },
  {
   "cell_type": "markdown",
   "id": "353c1098-3fbd-49a0-b726-02115531ff84",
   "metadata": {},
   "source": [
    "We can see that there are a lot of terms between each highlighted seed term and root. This notebook will explore\n",
    "ways of reducing that space.\n",
    "\n",
    "First, we will show the `--gap-fill` option in the `viz` command, as well as `--add-mrcas`.\n",
    "\n",
    " * `--add-mrcas` will extend the seed set with all MRCAs of all combinations of seeds\n",
    " * `--gap-fill` will traverse intermediate nodes not in the extended seed set"
   ]
  },
  {
   "cell_type": "code",
   "execution_count": 17,
   "id": "3037064d-bcd6-4566-83b7-879f4b6a3697",
   "metadata": {},
   "outputs": [],
   "source": [
    "cl viz --gap-fill --add-mrcas -p i CL:0000601  CL:0017006 CL:0002128 -o output/cl-example-3-terms-mrca.png"
   ]
  },
  {
   "cell_type": "markdown",
   "id": "60d9f369-8711-4cfb-a6e4-07eb45ab621c",
   "metadata": {},
   "source": [
    "![img](output/cl-example-3-terms-mrca.png)"
   ]
  },
  {
   "cell_type": "markdown",
   "id": "3e2afe18-b8b1-40c4-b9a2-9dc5613dfd16",
   "metadata": {},
   "source": [
    "This looks a little imbalanced, we can balance it out with another neuron"
   ]
  },
  {
   "cell_type": "code",
   "execution_count": 20,
   "id": "3f8663c0-2cd5-4c82-a0e1-8cebddec8069",
   "metadata": {},
   "outputs": [],
   "source": [
    "cl viz --gap-fill --add-mrcas -p i CL:4023050 CL:0000601  CL:0017006 CL:0002128 -o output/cl-example-4-terms-mrca.png"
   ]
  },
  {
   "cell_type": "markdown",
   "id": "94d1b2dd-bcd1-452d-9a0b-0fb12acccf86",
   "metadata": {},
   "source": [
    "![img](output/cl-example-4-terms-mrca.png)"
   ]
  },
  {
   "cell_type": "markdown",
   "id": "68c1a4d0-8b36-4a75-b09d-382e1b189dcb",
   "metadata": {},
   "source": [
    "The `viz` command is doing a lot of work here. We'll explore how this can be broken down and composed more flexibly"
   ]
  },
  {
   "cell_type": "markdown",
   "id": "a4099b167ccdabff",
   "metadata": {},
   "source": [
    "## Most Recent Common Ancestors (MRCAs)\n",
    "\n",
    "The `.mrca` expression finds the MRCA of *all* specified terms. Like many OAK commands and expressions, it is parameterized by predicate. This is important as we frequently want to use other relations such as part-of here.\n",
    "\n",
    "Note that we have to provide the list within `[ ... ]` brackets (the surrounding space is important for unix reasons)"
   ]
  },
  {
   "cell_type": "code",
   "execution_count": 11,
   "id": "2e5d464a8682ad9a",
   "metadata": {
    "ExecuteTime": {
     "end_time": "2025-01-29T01:32:35.426843Z",
     "start_time": "2025-01-29T01:32:32.464022Z"
    }
   },
   "outputs": [
    {
     "name": "stdout",
     "output_type": "stream",
     "text": [
      "The history saving thread hit an unexpected error (OperationalError('attempt to write a readonly database')).History will not be written to the database.\n",
      "CL:0000255 ! eukaryotic cell\n",
      "BFO:0000002 ! None\n"
     ]
    }
   ],
   "source": [
    "cl info .mrca//p=i [ CL:0000601  CL:0017006 CL:0002128 ]"
   ]
  },
  {
   "cell_type": "markdown",
   "id": "75585f67-ecc5-454c-aed0-66fed0f2f1b5",
   "metadata": {},
   "source": [
    "Let's ignore the strange BFO class for now. The MRCA of our terms (from neuron and lymphocyte branches) is a very high level\n",
    "_eukaryotic cell_, indicating our selected terms don't have much in common.\n",
    "\n",
    "We can restrict this to the two immune cells:"
   ]
  },
  {
   "cell_type": "code",
   "execution_count": 12,
   "id": "b9ec8a1c-1c0f-4794-ace2-1475e1a1505a",
   "metadata": {},
   "outputs": [
    {
     "name": "stdout",
     "output_type": "stream",
     "text": [
      "CL:0000542 ! lymphocyte\n"
     ]
    }
   ],
   "source": [
    "cl info .mrca//p=i [ CL:0017006 CL:0002128 ]"
   ]
  },
  {
   "cell_type": "markdown",
   "id": "6f46468b-f962-4334-b2a4-83ed9cc579db",
   "metadata": {},
   "source": [
    "This makes sense, this is just a pairwise MRCA.\n",
    "\n",
    "If instead we want *all* pairwise MRCAs we can use `.multimrca`:"
   ]
  },
  {
   "cell_type": "code",
   "execution_count": 14,
   "id": "3cc1f2a9-cc2d-498f-b285-e4ec880fb620",
   "metadata": {},
   "outputs": [
    {
     "name": "stdout",
     "output_type": "stream",
     "text": [
      "CL:0000255 ! eukaryotic cell\n",
      "BFO:0000002 ! None\n"
     ]
    }
   ],
   "source": [
    "cl info .mrca//p=i [ CL:0000601 CL:0002128 ]"
   ]
  },
  {
   "cell_type": "code",
   "execution_count": 15,
   "id": "1928c2ffc286ed27",
   "metadata": {
    "ExecuteTime": {
     "end_time": "2025-01-29T01:32:42.493193Z",
     "start_time": "2025-01-29T01:32:35.438113Z"
    }
   },
   "outputs": [
    {
     "name": "stdout",
     "output_type": "stream",
     "text": [
      "CL:0000542 ! lymphocyte\n",
      "BFO:0000002 ! None\n",
      "CL:0000255 ! eukaryotic cell\n"
     ]
    }
   ],
   "source": [
    "cl info .multimrca//p=i [ CL:0000601  CL:0017006 CL:0002128 ]"
   ]
  },
  {
   "cell_type": "markdown",
   "id": "0e937d65-a44d-4eda-bea0-98c5ebd3bdc2",
   "metadata": {},
   "source": [
    "We can also use the `reflexive` parameter (which takes boolean in YAML syntax as value) to include the initial terms.\n",
    "This is useful for composing operations together:"
   ]
  },
  {
   "cell_type": "code",
   "execution_count": 16,
   "id": "84655f9d5eb408a",
   "metadata": {
    "ExecuteTime": {
     "end_time": "2025-01-29T01:32:49.627620Z",
     "start_time": "2025-01-29T01:32:42.503688Z"
    }
   },
   "outputs": [
    {
     "name": "stdout",
     "output_type": "stream",
     "text": [
      "BFO:0000002 ! None\n",
      "CL:0000255 ! eukaryotic cell\n",
      "CL:0000542 ! lymphocyte\n",
      "CL:0000601 ! cochlear outer hair cell\n",
      "CL:0017006 ! B-lymphoblast\n",
      "CL:0002128 ! Tc17 cell\n"
     ]
    }
   ],
   "source": [
    "cl info .multimrca//p=i//reflexive=true [ CL:0000601  CL:0017006 CL:0002128 ]"
   ]
  },
  {
   "cell_type": "markdown",
   "id": "c9c24f8a-7867-4f2a-b6ba-ef1bf718c7f2",
   "metadata": {},
   "source": [
    "Next we can use the output of the expression as an input to `viz`, with `--gap-fill` on:"
   ]
  },
  {
   "cell_type": "code",
   "execution_count": 24,
   "id": "ea9c5ed1a5f3abd4",
   "metadata": {
    "ExecuteTime": {
     "end_time": "2025-01-29T01:32:49.636864Z",
     "start_time": "2025-01-29T01:32:49.635147Z"
    }
   },
   "outputs": [],
   "source": [
    "cl viz -p i --gap-fill .multimrca//p=i//reflexive=true [ CL:0000601  CL:0017006 CL:0002128 ] -o output/cl-example-combined.png"
   ]
  },
  {
   "cell_type": "markdown",
   "id": "a6cb1440-1da1-4948-b317-5841668d7a82",
   "metadata": {},
   "source": [
    "![img](output/cl-example-combined.png)"
   ]
  },
  {
   "cell_type": "markdown",
   "id": "395c0a7d-8859-4bee-8fdd-f0198ff3c4e3",
   "metadata": {},
   "source": [
    "This is the same as before, but we have broken this out into a query expression, which can be combined with others:\n"
   ]
  },
  {
   "cell_type": "code",
   "execution_count": 26,
   "id": "8d273fea-cf0e-4ca8-9f0a-2b7c7a952546",
   "metadata": {},
   "outputs": [],
   "source": [
    "cl viz -p i --gap-fill .multimrca//p=i//reflexive=true [ CL:0000601  CL:0017006 CL:0002128 ] .minus BFO:0000002 -o output/cl-example-filtered.png"
   ]
  },
  {
   "cell_type": "markdown",
   "id": "ec5e1732-3bdb-470d-a0ed-c84a3a679799",
   "metadata": {},
   "source": [
    "![img](output/cl-example-filtered.png)"
   ]
  },
  {
   "cell_type": "markdown",
   "id": "d5f0815c-78b5-4953-a148-7a408a5c1696",
   "metadata": {},
   "source": [
    "Much cleaner!"
   ]
  },
  {
   "cell_type": "markdown",
   "id": "004fb5e4-2fd6-467d-a8d7-6218d66c37c0",
   "metadata": {},
   "source": [
    "## ENVO subsets use case"
   ]
  },
  {
   "cell_type": "code",
   "execution_count": 27,
   "id": "df772666-be6b-4cda-8bf6-8650e0b32428",
   "metadata": {},
   "outputs": [],
   "source": [
    "alias envo runoak -i sqlite:obo:envo"
   ]
  },
  {
   "cell_type": "code",
   "execution_count": 28,
   "id": "8d135814-9920-46cd-baf3-09373d442cbe",
   "metadata": {},
   "outputs": [
    {
     "name": "stdout",
     "output_type": "stream",
     "text": [
      "ENVO:00012408 ! aquifer\n",
      "ENVO:00000067 ! cave\n",
      "ENVO:00000076 ! mine\n",
      "ENVO:00000025 ! reservoir\n",
      "ENVO:00000153 ! headwater\n",
      "ENVO:02000145 ! subterranean lake\n",
      "ENVO:03600052 ! water tap\n",
      "ENVO:01000142 ! wood fall\n",
      "ENVO:01000140 ! whale fall\n",
      "ENVO:01001871 ! pit\n",
      "ENVO:00000055 ! saline evaporation pond\n",
      "ENVO:01000002 ! water well\n",
      "ENVO:00000044 ! peatland\n",
      "ENVO:00002034 ! biofilm\n",
      "ENVO:00000035 ! marsh\n",
      "ENVO:03600074 ! aquaculture farm\n",
      "ENVO:00000133 ! glacier\n",
      "ENVO:00000054 ! saline marsh\n",
      "ENVO:00000244 ! abyssal plain\n",
      "ENVO:00001997 ! acid mine drainage\n",
      "ENVO:00000114 ! agricultural field\n",
      "ENVO:01001072 ! anoxic lake\n",
      "ENVO:00000220 ! archipelago\n",
      "ENVO:00000091 ! beach\n",
      "ENVO:00000218 ! black smoker\n",
      "ENVO:00000057 ! mangrove swamp\n",
      "ENVO:01000687 ! coast\n",
      "ENVO:01000263 ! cold seep\n",
      "ENVO:01000298 ! continental margin\n",
      "ENVO:00000150 ! coral reef\n",
      "ENVO:03600071 ! cyanobacterial bloom\n",
      "ENVO:02000139 ! desert spring\n",
      "ENVO:00002131 ! epilimnion\n",
      "ENVO:00000045 ! estuary\n",
      "ENVO:00000039 ! fjord\n",
      "ENVO:00000255 ! flood plain\n",
      "ENVO:00000021 ! freshwater lake\n",
      "ENVO:01000409 ! freshwater littoral zone\n",
      "ENVO:01000297 ! freshwater river\n",
      "ENVO:03605007 ! freshwater stream\n",
      "ENVO:00000488 ! glacial lake\n",
      "ENVO:00000214 ! hadalpelagic zone\n",
      "ENVO:00000463 ! harbour\n",
      "ENVO:01001209 ! wetland ecosystem\n",
      "ENVO:00000051 ! hot spring\n",
      "ENVO:00000215 ! hydrothermal vent\n",
      "ENVO:00002130 ! hypolimnion\n",
      "ENVO:00000475 ! inlet\n",
      "ENVO:00000316 ! intertidal zone\n",
      "ENVO:00000020 ! lake\n",
      "ENVO:01000407 ! littoral zone\n",
      "ENVO:00000210 ! marine aphotic zone\n",
      "ENVO:00000211 ! marine bathypelagic zone\n",
      "ENVO:03600041 ! marine lake\n",
      "ENVO:00000213 ! marine mesopelagic zone\n",
      "ENVO:00000206 ! marine neritic zone\n",
      "ENVO:00000208 ! marine pelagic zone\n",
      "ENVO:00000209 ! marine photic zone\n",
      "ENVO:03000040 ! melt pond\n",
      "ENVO:00002132 ! metalimnion\n",
      "ENVO:00001996 ! mine drainage\n",
      "ENVO:00000402 ! mud volcano\n",
      "ENVO:00000015 ! ocean\n",
      "ENVO:00000275 ! ocean trench\n",
      "ENVO:01000749 ! oceanic crust\n",
      "ENVO:00002063 ! oil seep\n",
      "ENVO:00002061 ! oil spill\n",
      "ENVO:00000232 ! fen\n",
      "ENVO:00000033 ! pond\n",
      "ENVO:01000871 ! puddle of water\n",
      "ENVO:00000148 ! riffle\n",
      "ENVO:00000022 ! river\n",
      "ENVO:01000008 ! microbial mat\n",
      "ENVO:00000016 ! sea\n",
      "ENVO:01000905 ! shrimp pond\n",
      "ENVO:00000195 ! sinkhole\n",
      "ENVO:00000027 ! spring\n",
      "ENVO:03600096 ! step pool\n",
      "ENVO:00000394 ! strait\n",
      "ENVO:00000023 ! stream\n",
      "ENVO:03600094 ! stream pool\n",
      "ENVO:03600095 ! stream run\n",
      "ENVO:03000120 ! subglacial lake\n",
      "ENVO:00000247 ! volcano\n",
      "ENVO:00000233 ! swamp ecosystem\n",
      "ENVO:01001191 ! water surface\n"
     ]
    }
   ],
   "source": [
    "envo info .idfile input/water_env_local_scale.tsv"
   ]
  },
  {
   "cell_type": "code",
   "execution_count": 32,
   "id": "2543120e-2f71-4986-8e56-9c59428abb60",
   "metadata": {},
   "outputs": [],
   "source": [
    "envo viz -p i,p .idfile input/water_env_local_scale.tsv -o output/envo-water-local.png"
   ]
  },
  {
   "cell_type": "markdown",
   "id": "094c179a-4f6a-4ff4-a159-73dc399aaa18",
   "metadata": {},
   "source": [
    "![img](output/envo-water-local.png)"
   ]
  },
  {
   "cell_type": "code",
   "execution_count": 33,
   "id": "02cd37f6-51bc-497d-8802-2eab7646d18a",
   "metadata": {},
   "outputs": [],
   "source": [
    "envo viz --gap-fill --add-mrcas -p i,p .idfile input/water_env_local_scale.tsv -o output/envo-water-local-mrcas.png"
   ]
  },
  {
   "cell_type": "markdown",
   "id": "0f8a89ea-7b5f-46cc-9df4-4311e6d4feb2",
   "metadata": {},
   "source": [
    "![img](output/envo-water-local-mrcas.png)"
   ]
  },
  {
   "cell_type": "code",
   "execution_count": 43,
   "id": "476a94b3-c9b5-4d13-875d-366330767785",
   "metadata": {},
   "outputs": [],
   "source": [
    "!runoak -i sqlite:obo:envo viz --gap-fill -p i,p \\\n",
    "  .multimrca//p=i,p [ .idfile input/water_env_local_scale.tsv ] \\\n",
    "  .minus [ system object l~astronomical layer planet 'environmental system' ] \\\n",
    "  .or [ 'manufactured product' ] \\\n",
    "  -o output/envo-water-local-filtered.png"
   ]
  },
  {
   "cell_type": "markdown",
   "id": "1767d7f1-f016-47ed-951b-885d52befa0c",
   "metadata": {},
   "source": [
    "![img](output/envo-water-local-filtered.png)"
   ]
  },
  {
   "cell_type": "code",
   "execution_count": null,
   "id": "a28193a1-35d9-497b-befd-dc2657c89cbc",
   "metadata": {},
   "outputs": [],
   "source": []
  }
 ],
 "metadata": {
  "kernelspec": {
   "display_name": "Python 3 (ipykernel)",
   "language": "python",
   "name": "python3"
  },
  "language_info": {
   "codemirror_mode": {
    "name": "ipython",
    "version": 3
   },
   "file_extension": ".py",
   "mimetype": "text/x-python",
   "name": "python",
   "nbconvert_exporter": "python",
   "pygments_lexer": "ipython3",
   "version": "3.9.5"
  }
 },
 "nbformat": 4,
 "nbformat_minor": 5
}
