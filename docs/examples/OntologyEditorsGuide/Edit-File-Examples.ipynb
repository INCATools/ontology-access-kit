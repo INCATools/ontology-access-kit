{
 "cells": [
  {
   "cell_type": "markdown",
   "id": "3af9b9f3",
   "metadata": {},
   "source": [
    "# Command line OAK usage for ontology editors (Alpha)\n",
    "\n",
    "## Background (read this carefully)\n",
    "\n",
    "This guide is for usage of OAK on the command line with the *-edit* version of ontologies.\n",
    "\n",
    "In general, most users should **never** use the edit version. The exception is if you are part of the\n",
    "development team for that ontology, you may want to:\n",
    "\n",
    "- do quick ad-hoc queries of the edit version\n",
    "- apply automated changes with KGCL\n",
    "\n",
    "**If this doesn't apply to you then this guide probably isn't for you!** See some of the other notebooks for examples of working with the release versions of ontologies.\n",
    "\n",
    "In general, these kinds of operations are typically done with ROBOT, possibly with ad-hoc SPARQL queries.\n",
    "But for certain kinds of operations, OAK may provide some advantages.\n",
    "\n",
    "Another thing to bear in mind is that conventions for edit files differ, not least in which format they use.\n",
    "OAK has different adaptors for different formats, *and these may vary in how complete they are*.\n",
    "\n",
    "At this time, this guide is primarily for editors of:\n",
    "\n",
    "- mondo\n",
    "- go\n",
    "- uberon\n",
    "- other ontologies that use .obo for the edit version\n",
    "\n",
    "If this doesn't cover you, don't worry, we will expand this guide later, but as yet the support for functional\n",
    "syntax in OAK is incomplete.\n",
    "\n",
    "Currently this guide is best used by a combination of a non-technical ontology editor working with someone\n",
    "moderately technical (who need not have domain knowledge). The technical person can help with running commands on\n",
    "the command line and how to automate certain kinds of tasks, with the editor guiding.\n",
    "\n",
    "At least one person should have gone through [part 1 of the tutorial](https://incatools.github.io/ontology-access-kit/intro/tutorial01.html)\n",
    "\n",
    "Note this guide doesn't require any python coding - it's all via the command line\n",
    "\n",
    "## Local edit files\n",
    "\n",
    "We assume that you have your project checked out and you are in `src/ontology` (if you don't know what that means, then this guide likely isn't for you - try some other notebooks in this repo!)\n",
    "\n",
    "But for demo purposes we will download a copy:"
   ]
  },
  {
   "cell_type": "code",
   "execution_count": 2,
   "id": "b5ead0cd",
   "metadata": {},
   "outputs": [
    {
     "name": "stdout",
     "output_type": "stream",
     "text": [
      "--2022-09-12 14:40:56--  https://raw.githubusercontent.com/geneontology/go-ontology/master/src/ontology/go-edit.obo\n",
      "Resolving raw.githubusercontent.com (raw.githubusercontent.com)... 185.199.108.133, 185.199.110.133, 185.199.109.133, ...\n",
      "Connecting to raw.githubusercontent.com (raw.githubusercontent.com)|185.199.108.133|:443... connected.\n",
      "HTTP request sent, awaiting response... 200 OK\n",
      "Length: 32434161 (31M) [text/plain]\n",
      "Saving to: ‘input/go-edit.obo’\n",
      "\n",
      "input/go-edit.obo   100%[===================>]  30.93M  12.9MB/s    in 2.4s    \n",
      "\n",
      "2022-09-12 14:40:59 (12.9 MB/s) - ‘input/go-edit.obo’ saved [32434161/32434161]\n",
      "\n"
     ]
    }
   ],
   "source": [
    "!wget https://raw.githubusercontent.com/geneontology/go-ontology/master/src/ontology/go-edit.obo -O input/go-edit.obo"
   ]
  },
  {
   "cell_type": "markdown",
   "id": "13bc9291",
   "metadata": {},
   "source": [
    "### Aliases\n",
    "\n",
    "Next we will set up an alias to avoid repetitive typing\n",
    "\n",
    "Note the `%alias` syntax is just in the context of a Jupyter notebook, and the path will only work for this notebook\n",
    "\n",
    "On your command line, just type:\n",
    "\n",
    "```bash\n",
    "alias goedit -i simpleobo:$HOME/repos/go-ontology/src/ontology/go-edit.obo\n",
    "```\n",
    "\n",
    "or\n",
    "\n",
    "```bash\n",
    "alias mondoedit -i simpleobo:$HOME/repos/mondo/src/ontology/mondo-edit.obo\n",
    "```\n",
    "\n",
    "or\n",
    "\n",
    "```bash\n",
    "alias uberonedit -i simpleobo:$HOME/repos/uberon/src/ontology/uberon-edit.obo\n",
    "```\n",
    "\n",
    "This assumes you have a top level repo `repos` - change this accordingly\n",
    "\n",
    "The `simpleobo` tells OAK to use the simple obo parser. this is slower than pronto but more forgiving of\n",
    "issues with imports.\n",
    "\n",
    "Note: some of this tutorial will work with ontologies with other source formats, but you can expect this\n",
    "to be only partially completed. For now, obo is best supported, but this is temporary."
   ]
  },
  {
   "cell_type": "code",
   "execution_count": 26,
   "id": "7ad85a65",
   "metadata": {},
   "outputs": [],
   "source": [
    "%alias goedit runoak -i simpleobo:input/go-edit.obo"
   ]
  },
  {
   "cell_type": "code",
   "execution_count": 27,
   "id": "5d111d0f",
   "metadata": {},
   "outputs": [
    {
     "name": "stdout",
     "output_type": "stream",
     "text": [
      "GO:0005634 ! nucleus\r\n"
     ]
    }
   ],
   "source": [
    "goedit info nucleus"
   ]
  },
  {
   "cell_type": "code",
   "execution_count": 28,
   "id": "b0d20118",
   "metadata": {},
   "outputs": [
    {
     "name": "stdout",
     "output_type": "stream",
     "text": [
      "* [] GO:0043229 ! intracellular organelle\r\n",
      "    * [i] GO:0043231 ! intracellular membrane-bounded organelle\r\n",
      "        * [i] **GO:0005634 ! nucleus**\r\n"
     ]
    }
   ],
   "source": [
    "goedit tree nucleus -p i"
   ]
  },
  {
   "cell_type": "markdown",
   "id": "60cab51e",
   "metadata": {},
   "source": [
    "**important**\n",
    "\n",
    "note how the root of the tree appears to be \"intracellular organelle\"\n",
    "\n",
    "This is because OAK assumes a *relaxed graph* (whether obo or owl). We can see the *structure* of the obo file:\n",
    "\n",
    "```yaml\n",
    "[Term]\n",
    "id: GO:0043229\n",
    "name: intracellular organelle\n",
    "namespace: cellular_component\n",
    "def: \"Organized structure of distinctive morphology and function, occurring within the cell. Includes the nucleus, mitochondria, plastids, vacuoles, vesicles, ribosomes and the cytoskeleton. Excludes the plasma membrane.\" [GOC:go_curators]\n",
    "subset: goslim_pir\n",
    "intersection_of: GO:0043226 ! organelle\n",
    "intersection_of: part_of GO:0005622 ! intracellular anatomical structure\n",
    "```\n",
    "\n",
    "We *intentionally* don't assert an is-a in the editors file, we let the reasoner work it out.\n",
    "\n",
    "In future we may include a simple *structural reasoner* to OAK, equivalent to the structural reasoner in Protege,\n",
    "that would [relax](https://robot.obolibrary.org/relax) the equivalence axiom to a SubClassOf.\n",
    "\n",
    "However, looking at these relaxed structures can be misleading. For Protege editors we **always emphasize always\n",
    "looking at the reasoned view** with the reasoner synchronized.\n",
    "\n",
    "For now, it may be less misleading to show the actual structure of the asserted edit file. If you want to look at the reasoner view, run robot reason on the edit file and use that as the input into OAK (with conversion to sqlite for speed).\n",
    "\n",
    "[In future this reasoning step may be performed more dynamically in OAK](https://github.com/INCATools/semantic-sql/issues/41) but for now, keep this limitation in mind."
   ]
  },
  {
   "cell_type": "markdown",
   "id": "03923b54",
   "metadata": {},
   "source": [
    "## Querying logical definitions\n",
    "\n"
   ]
  },
  {
   "cell_type": "code",
   "execution_count": 29,
   "id": "5306f404",
   "metadata": {},
   "outputs": [
    {
     "name": "stdout",
     "output_type": "stream",
     "text": [
      "definedClassId: GO:0043229\r\n",
      "genusIds:\r\n",
      "- GO:0043226\r\n",
      "restrictions:\r\n",
      "- fillerId: part_of\r\n",
      "  propertyId: GO:0005622\r\n",
      "\r\n",
      "---\r\n"
     ]
    }
   ],
   "source": [
    "goedit logical-definitions GO:0043229"
   ]
  },
  {
   "cell_type": "code",
   "execution_count": 30,
   "id": "5a982b74",
   "metadata": {},
   "outputs": [
    {
     "name": "stdout",
     "output_type": "stream",
     "text": [
      "meta\tdefinedClassId\tgenusIds\trestrictions\r",
      "\r\n",
      "None\tGO:0043229\t['GO:0043226']\t[ExistentialRestrictionExpression(fillerId='part_of', propertyId='GO:0005622')]\r",
      "\r\n"
     ]
    }
   ],
   "source": [
    "goedit logical-definitions GO:0043229 -O csv"
   ]
  },
  {
   "cell_type": "markdown",
   "id": "38495fef",
   "metadata": {},
   "source": [
    "## Applying changes\n",
    "\n",
    "Next we will try applying some changes, using the [apply](https://incatools.github.io/ontology-access-kit/cli.html#runoak-apply) command\n",
    "\n",
    "These changes will be specified using the KGCL language. You can also pass these changes in as\n",
    "CSVs or YAML files conforming to the KGCL data model but for now we will restrict to KGCL DSL.\n",
    "\n",
    "First let's try the rename command:"
   ]
  },
  {
   "cell_type": "code",
   "execution_count": 52,
   "id": "137c9ae0",
   "metadata": {},
   "outputs": [],
   "source": [
    "goedit apply \"rename GO:0005634 from 'nucleus' to 'nuclear compartment'\" -o input/go-edit-modified.obo"
   ]
  },
  {
   "cell_type": "markdown",
   "id": "d2a2ff64",
   "metadata": {},
   "source": [
    "Note that we are specifying a path [input/go-edit-modified.obo](input/go-edit-modified.obo) (this link will only work if you are running the notebook locally).\n",
    "\n",
    "As a sanity check, let's use the unix diff command to see if our apply command had any effect. We will use the `-u` option to see the diff as it would look in a GitHub PR\n",
    "\n",
    "**if you don't know what that means or you aren't accustomed to looking at obo format diffs, this guide isn't for you**"
   ]
  },
  {
   "cell_type": "code",
   "execution_count": 53,
   "id": "bfd38776",
   "metadata": {},
   "outputs": [
    {
     "name": "stdout",
     "output_type": "stream",
     "text": [
      "--- input/go-edit.obo\t2022-09-12 14:40:59.000000000 -0700\r\n",
      "+++ input/go-edit-modified.obo\t2022-09-12 17:18:31.000000000 -0700\r\n",
      "@@ -53301,7 +53301,7 @@\r\n",
      " \r\n",
      " [Term]\r\n",
      " id: GO:0005634\r\n",
      "-name: nucleus\r\n",
      "+name: nuclear compartment\r\n",
      " namespace: cellular_component\r\n",
      " def: \"A membrane-bounded organelle of eukaryotic cells in which chromosomes are housed and replicated. In most cells, the nucleus contains all of the cell's chromosomes except the organellar chromosomes, and is the site of RNA synthesis and processing. In some species, or in specialized cell types, RNA metabolism or DNA replication may be absent.\" [GOC:go_curators]\r\n",
      " subset: goslim_agr\r\n"
     ]
    }
   ],
   "source": [
    "!diff -u input/go-edit.obo input/go-edit-modified.obo "
   ]
  },
  {
   "cell_type": "markdown",
   "id": "a96ac200",
   "metadata": {},
   "source": [
    "Looks like our change too effect, great!\n",
    "\n",
    "Next let's set up another alias. We are going to be working with this `go-edit-modified.obo` file, to avoid messing\n",
    "up the original obo file -- this is just a convenience for working with the notebook and may not be something\n",
    "you do in your own workflow:"
   ]
  },
  {
   "cell_type": "code",
   "execution_count": 54,
   "id": "225e7a3b",
   "metadata": {},
   "outputs": [],
   "source": [
    "%alias goedit2 runoak -i simpleobo:input/go-edit-modified.obo"
   ]
  },
  {
   "cell_type": "markdown",
   "id": "accf9cf5",
   "metadata": {},
   "source": [
    "Let's not try more changes. Let's put nucleus back, but as a synonym:"
   ]
  },
  {
   "cell_type": "code",
   "execution_count": 55,
   "id": "177e86e0",
   "metadata": {},
   "outputs": [
    {
     "name": "stdout",
     "output_type": "stream",
     "text": [
      "WARNING:root:--autosave not passed, changes are NOT saved\r\n"
     ]
    }
   ],
   "source": [
    "goedit2 apply \"create synonym 'nucleus' for GO:0043229\""
   ]
  },
  {
   "cell_type": "markdown",
   "id": "ddb79f5d",
   "metadata": {},
   "source": [
    "uh-oh, what does that mean?\n",
    "\n",
    "It means that we didn't specify an output file or that changes should be saved in place, so our change had no\n",
    "material affect. This probably isn't what we want.\n",
    "\n",
    "But OAK follows best practice command line tooling and will avoid doing things like modifying input files **unless you specifically ask it to**, which we can with the `--overwrite` global option, that will save in place."
   ]
  },
  {
   "cell_type": "code",
   "execution_count": 56,
   "id": "cf420af2",
   "metadata": {},
   "outputs": [],
   "source": [
    "goedit2 --overwrite apply \"create exact synonym 'nucleus' for GO:0043229\""
   ]
  },
  {
   "cell_type": "markdown",
   "id": "1f0fc1ec",
   "metadata": {},
   "source": [
    "Note this is a *global* option so it comes before the `apply` subcommand.\n",
    "\n",
    "Our changes will be saved in place, and remember `goedit2` is aliased to use go-edit-*modified*.obo\n",
    "\n",
    "Let's look at cumulative changes from the original:"
   ]
  },
  {
   "cell_type": "code",
   "execution_count": 57,
   "id": "1c32773a",
   "metadata": {},
   "outputs": [
    {
     "name": "stdout",
     "output_type": "stream",
     "text": [
      "--- input/go-edit.obo\t2022-09-12 14:40:59.000000000 -0700\r\n",
      "+++ input/go-edit-modified.obo\t2022-09-12 17:18:45.000000000 -0700\r\n",
      "@@ -53301,7 +53301,7 @@\r\n",
      " \r\n",
      " [Term]\r\n",
      " id: GO:0005634\r\n",
      "-name: nucleus\r\n",
      "+name: nuclear compartment\r\n",
      " namespace: cellular_component\r\n",
      " def: \"A membrane-bounded organelle of eukaryotic cells in which chromosomes are housed and replicated. In most cells, the nucleus contains all of the cell's chromosomes except the organellar chromosomes, and is the site of RNA synthesis and processing. In some species, or in specialized cell types, RNA metabolism or DNA replication may be absent.\" [GOC:go_curators]\r\n",
      " subset: goslim_agr\r\n",
      "@@ -241775,6 +241775,7 @@\r\n",
      " subset: goslim_pir\r\n",
      " intersection_of: GO:0043226 ! organelle\r\n",
      " intersection_of: part_of GO:0005622 ! intracellular anatomical structure\r\n",
      "+synonym: \"nucleus\" EXACT []\r\n",
      " \r\n",
      " [Term]\r\n",
      " id: GO:0043230\r\n"
     ]
    }
   ],
   "source": [
    "!diff -u input/go-edit.obo input/go-edit-modified.obo "
   ]
  },
  {
   "cell_type": "code",
   "execution_count": 58,
   "id": "5c0cbe81",
   "metadata": {},
   "outputs": [],
   "source": [
    "goedit2 --autosave apply \"change relationship between vacuole and cytoplasm from part_of to is_a\""
   ]
  },
  {
   "cell_type": "code",
   "execution_count": 59,
   "id": "4f8ca480",
   "metadata": {},
   "outputs": [
    {
     "name": "stdout",
     "output_type": "stream",
     "text": [
      "--- input/go-edit.obo\t2022-09-12 14:40:59.000000000 -0700\r\n",
      "+++ input/go-edit-modified.obo\t2022-09-12 17:18:52.000000000 -0700\r\n",
      "@@ -53301,7 +53301,7 @@\r\n",
      " \r\n",
      " [Term]\r\n",
      " id: GO:0005634\r\n",
      "-name: nucleus\r\n",
      "+name: nuclear compartment\r\n",
      " namespace: cellular_component\r\n",
      " def: \"A membrane-bounded organelle of eukaryotic cells in which chromosomes are housed and replicated. In most cells, the nucleus contains all of the cell's chromosomes except the organellar chromosomes, and is the site of RNA synthesis and processing. In some species, or in specialized cell types, RNA metabolism or DNA replication may be absent.\" [GOC:go_curators]\r\n",
      " subset: goslim_agr\r\n",
      "@@ -54683,7 +54683,7 @@\r\n",
      " synonym: \"vacuolar carboxypeptidase Y\" RELATED []\r\n",
      " xref: Wikipedia:Vacuole\r\n",
      " is_a: GO:0043231 ! intracellular membrane-bounded organelle\r\n",
      "-relationship: part_of GO:0005737 ! cytoplasm\r\n",
      "+is_a: GO:0005737\r\n",
      " \r\n",
      " [Term]\r\n",
      " id: GO:0005774\r\n",
      "@@ -241775,6 +241775,7 @@\r\n",
      " subset: goslim_pir\r\n",
      " intersection_of: GO:0043226 ! organelle\r\n",
      " intersection_of: part_of GO:0005622 ! intracellular anatomical structure\r\n",
      "+synonym: \"nucleus\" EXACT []\r\n",
      " \r\n",
      " [Term]\r\n",
      " id: GO:0043230\r\n"
     ]
    }
   ],
   "source": [
    "!diff -u input/go-edit.obo input/go-edit-modified.obo "
   ]
  },
  {
   "cell_type": "markdown",
   "id": "a0f807e5",
   "metadata": {},
   "source": [
    "## Performing KGCL Diffs\n",
    "\n",
    "So far we have performed diffing using the unix diff command. It's never a bad idea to look at these diffs,\n",
    "as they reflect differences at the level of how the file is stored, and you will need to interpret these diffs\n",
    "to properly evaluate PRs.\n",
    "\n",
    "However, it is better to look at diffs at the right level of abstraction, such as KGCL.\n",
    "\n",
    "In OAK, the same language/data model is used for diffs as it is for applying changes!\n"
   ]
  },
  {
   "cell_type": "code",
   "execution_count": 66,
   "id": "c3fa5ed9",
   "metadata": {},
   "outputs": [
    {
     "name": "stdout",
     "output_type": "stream",
     "text": [
      "ERROR:root:Cannot render: RemoveSynonym(id='x', type=None, was_generated_by=None, see_also=None, pull_request=None, creator=None, change_date=None, contributor=None, has_undo=None, old_value='nucleus', new_value=None, old_value_type=None, new_value_type=None, new_language=None, old_language=None, new_datatype=None, old_datatype=None, about_node='GO:0005634', about_node_representation=None, language=None)\r\n"
     ]
    }
   ],
   "source": [
    "goedit diff -X simpleobo:input/go-edit-modified.obo -O kgcl"
   ]
  },
  {
   "cell_type": "markdown",
   "id": "53198d5c",
   "metadata": {},
   "source": [
    "\n",
    "__TEMPORARY ISSUE__ for now, rendering the change in KGCL syntax doesn't always work, so we instead use the data model"
   ]
  },
  {
   "cell_type": "code",
   "execution_count": 70,
   "id": "cdc66b90",
   "metadata": {},
   "outputs": [
    {
     "name": "stdout",
     "output_type": "stream",
     "text": [
      "[\n",
      "{\n",
      "  \"id\": \"x\",\n",
      "  \"old_value\": \"nucleus\",\n",
      "  \"about_node\": \"GO:0005634\",\n",
      "  \"@type\": \"RemoveSynonym\"\n",
      "}\n",
      "]\n"
     ]
    }
   ],
   "source": [
    "goedit diff -X simpleobo:input/go-edit-modified.obo "
   ]
  },
  {
   "cell_type": "code",
   "execution_count": 71,
   "id": "412b19ce",
   "metadata": {},
   "outputs": [],
   "source": [
    "# TODO - check why move is not there"
   ]
  },
  {
   "cell_type": "code",
   "execution_count": 75,
   "id": "37c3ac1d",
   "metadata": {},
   "outputs": [],
   "source": [
    "goedit diff -X simpleobo:input/go-edit-modified.obo -o input/change.json"
   ]
  },
  {
   "cell_type": "code",
   "execution_count": 76,
   "id": "52968018",
   "metadata": {},
   "outputs": [
    {
     "name": "stdout",
     "output_type": "stream",
     "text": [
      "[\r\n",
      "{\r\n",
      "  \"id\": \"x\",\r\n",
      "  \"old_value\": \"nucleus\",\r\n",
      "  \"new_value\": \"nuclear compartment\",\r\n",
      "  \"about_node\": \"GO:0005634\",\r\n",
      "  \"@type\": \"NodeRename\"\r\n",
      "}\r\n",
      ",\r\n",
      "{\r\n",
      "  \"id\": \"x\",\r\n",
      "  \"old_value\": \"rdfs:subClassOf\",\r\n",
      "  \"new_value\": \"rdfs:subClassOf\",\r\n",
      "  \"about_edge\": {\r\n",
      "    \"subject\": \"GO:0005634\",\r\n",
      "    \"predicate\": \"rdfs:subClassOf\",\r\n",
      "    \"object\": \"GO:0043231\"\r\n",
      "  },\r\n",
      "  \"@type\": \"PredicateChange\"\r\n",
      "}\r\n",
      ",\r\n",
      "{\r\n",
      "  \"id\": \"x\",\r\n",
      "  \"old_value\": \"BFO:0000050\",\r\n",
      "  \"new_value\": \"rdfs:subClassOf\",\r\n",
      "  \"about_edge\": {\r\n",
      "    \"subject\": \"GO:0005773\",\r\n",
      "    \"predicate\": \"BFO:0000050\",\r\n",
      "    \"object\": \"GO:0005737\"\r\n",
      "  },\r\n",
      "  \"@type\": \"PredicateChange\"\r\n",
      "}\r\n",
      ",\r\n",
      "{\r\n",
      "  \"id\": \"x\",\r\n",
      "  \"old_value\": \"rdfs:subClassOf\",\r\n",
      "  \"new_value\": \"rdfs:subClassOf\",\r\n",
      "  \"about_edge\": {\r\n",
      "    \"subject\": \"GO:0005773\",\r\n",
      "    \"predicate\": \"rdfs:subClassOf\",\r\n",
      "    \"object\": \"GO:0043231\"\r\n",
      "  },\r\n",
      "  \"@type\": \"PredicateChange\"\r\n",
      "}\r\n",
      ",\r\n",
      "{\r\n",
      "  \"id\": \"x\",\r\n",
      "  \"new_value\": \"nucleus\",\r\n",
      "  \"about_node\": \"GO:0043229\",\r\n",
      "  \"@type\": \"NewSynonym\"\r\n",
      "}\r\n",
      "]\r\n"
     ]
    }
   ],
   "source": [
    "!cat input/change.json"
   ]
  },
  {
   "cell_type": "code",
   "execution_count": null,
   "id": "132318f0",
   "metadata": {},
   "outputs": [],
   "source": [
    "goedit apply --change-file input/change.json -o input/go-edit-sanity-check.obo"
   ]
  }
 ],
 "metadata": {
  "kernelspec": {
   "display_name": "Python 3 (ipykernel)",
   "language": "python",
   "name": "python3"
  },
  "language_info": {
   "codemirror_mode": {
    "name": "ipython",
    "version": 3
   },
   "file_extension": ".py",
   "mimetype": "text/x-python",
   "name": "python",
   "nbconvert_exporter": "python",
   "pygments_lexer": "ipython3",
   "version": "3.9.5"
  }
 },
 "nbformat": 4,
 "nbformat_minor": 5
}
