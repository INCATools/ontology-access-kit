{
 "cells": [
  {
   "cell_type": "code",
   "execution_count": 25,
   "id": "5f6b6b9a",
   "metadata": {},
   "outputs": [],
   "source": [
    "from oaklib.implementations.pronto.pronto_implementation import ProntoImplementation\n",
    "from oaklib.resource import OntologyResource\n",
    "import pandas as pd\n",
    "#from pandasql import sqldf\n",
    "import duckdb\n",
    "from scipy import stats"
   ]
  },
  {
   "cell_type": "code",
   "execution_count": 26,
   "id": "075c8914",
   "metadata": {},
   "outputs": [],
   "source": [
    "yeast_annot = pd.read_csv(\"../4932.tab\",sep=\"\\t\",header=0)"
   ]
  },
  {
   "cell_type": "code",
   "execution_count": 27,
   "id": "1b37c5e2",
   "metadata": {},
   "outputs": [
    {
     "data": {
      "text/html": [
       "<div>\n",
       "<style scoped>\n",
       "    .dataframe tbody tr th:only-of-type {\n",
       "        vertical-align: middle;\n",
       "    }\n",
       "\n",
       "    .dataframe tbody tr th {\n",
       "        vertical-align: top;\n",
       "    }\n",
       "\n",
       "    .dataframe thead th {\n",
       "        text-align: right;\n",
       "    }\n",
       "</style>\n",
       "<table border=\"1\" class=\"dataframe\">\n",
       "  <thead>\n",
       "    <tr style=\"text-align: right;\">\n",
       "      <th></th>\n",
       "      <th>locusId</th>\n",
       "      <th>accession</th>\n",
       "      <th>GI</th>\n",
       "      <th>scaffoldId</th>\n",
       "      <th>start</th>\n",
       "      <th>stop</th>\n",
       "      <th>strand</th>\n",
       "      <th>sysName</th>\n",
       "      <th>name</th>\n",
       "      <th>desc</th>\n",
       "      <th>COG</th>\n",
       "      <th>COGFun</th>\n",
       "      <th>COGDesc</th>\n",
       "      <th>TIGRFam</th>\n",
       "      <th>TIGRRoles</th>\n",
       "      <th>GO</th>\n",
       "      <th>EC</th>\n",
       "      <th>ECDesc</th>\n",
       "    </tr>\n",
       "  </thead>\n",
       "  <tbody>\n",
       "    <tr>\n",
       "      <th>0</th>\n",
       "      <td>6580634</td>\n",
       "      <td>NP_009332.1</td>\n",
       "      <td>6319249.0</td>\n",
       "      <td>223723</td>\n",
       "      <td>2169</td>\n",
       "      <td>1807</td>\n",
       "      <td>-</td>\n",
       "      <td>YAL068C</td>\n",
       "      <td>PAU8</td>\n",
       "      <td>Pau8p (RefSeq)</td>\n",
       "      <td>NaN</td>\n",
       "      <td>NaN</td>\n",
       "      <td>NaN</td>\n",
       "      <td>NaN</td>\n",
       "      <td>NaN</td>\n",
       "      <td>GO:0006950</td>\n",
       "      <td>NaN</td>\n",
       "      <td>NaN</td>\n",
       "    </tr>\n",
       "    <tr>\n",
       "      <th>1</th>\n",
       "      <td>6580635</td>\n",
       "      <td>NP_878038.1</td>\n",
       "      <td>33438754.0</td>\n",
       "      <td>223723</td>\n",
       "      <td>2480</td>\n",
       "      <td>2707</td>\n",
       "      <td>+</td>\n",
       "      <td>YAL067W-A</td>\n",
       "      <td>YAL067W-A</td>\n",
       "      <td>Putative protein of unknown function; identifi...</td>\n",
       "      <td>NaN</td>\n",
       "      <td>NaN</td>\n",
       "      <td>NaN</td>\n",
       "      <td>NaN</td>\n",
       "      <td>NaN</td>\n",
       "      <td>NaN</td>\n",
       "      <td>NaN</td>\n",
       "      <td>NaN</td>\n",
       "    </tr>\n",
       "    <tr>\n",
       "      <th>2</th>\n",
       "      <td>6580636</td>\n",
       "      <td>NP_009333.1</td>\n",
       "      <td>6319250.0</td>\n",
       "      <td>223723</td>\n",
       "      <td>9017</td>\n",
       "      <td>7236</td>\n",
       "      <td>-</td>\n",
       "      <td>YAL067C</td>\n",
       "      <td>SEO1</td>\n",
       "      <td>Putative permease, member of the allantoate tr...</td>\n",
       "      <td>NaN</td>\n",
       "      <td>NaN</td>\n",
       "      <td>NaN</td>\n",
       "      <td>NaN</td>\n",
       "      <td>NaN</td>\n",
       "      <td>NaN</td>\n",
       "      <td>NaN</td>\n",
       "      <td>NaN</td>\n",
       "    </tr>\n",
       "    <tr>\n",
       "      <th>3</th>\n",
       "      <td>6580637</td>\n",
       "      <td>NP_009335.1</td>\n",
       "      <td>6319252.0</td>\n",
       "      <td>223723</td>\n",
       "      <td>11952</td>\n",
       "      <td>11566</td>\n",
       "      <td>-</td>\n",
       "      <td>YAL065C</td>\n",
       "      <td>YAL065C</td>\n",
       "      <td>Putative protein of unknown function; has homo...</td>\n",
       "      <td>NaN</td>\n",
       "      <td>NaN</td>\n",
       "      <td>NaN</td>\n",
       "      <td>NaN</td>\n",
       "      <td>NaN</td>\n",
       "      <td>NaN</td>\n",
       "      <td>NaN</td>\n",
       "      <td>NaN</td>\n",
       "    </tr>\n",
       "    <tr>\n",
       "      <th>4</th>\n",
       "      <td>6580638</td>\n",
       "      <td>NP_009336.1</td>\n",
       "      <td>6319253.0</td>\n",
       "      <td>223723</td>\n",
       "      <td>12047</td>\n",
       "      <td>12427</td>\n",
       "      <td>+</td>\n",
       "      <td>YAL064W-B</td>\n",
       "      <td>YAL064W-B</td>\n",
       "      <td>Fungal-specific protein of unknown function (R...</td>\n",
       "      <td>NaN</td>\n",
       "      <td>NaN</td>\n",
       "      <td>NaN</td>\n",
       "      <td>NaN</td>\n",
       "      <td>NaN</td>\n",
       "      <td>NaN</td>\n",
       "      <td>NaN</td>\n",
       "      <td>NaN</td>\n",
       "    </tr>\n",
       "  </tbody>\n",
       "</table>\n",
       "</div>"
      ],
      "text/plain": [
       "   locusId    accession          GI  scaffoldId  start   stop strand  \\\n",
       "0  6580634  NP_009332.1   6319249.0      223723   2169   1807      -   \n",
       "1  6580635  NP_878038.1  33438754.0      223723   2480   2707      +   \n",
       "2  6580636  NP_009333.1   6319250.0      223723   9017   7236      -   \n",
       "3  6580637  NP_009335.1   6319252.0      223723  11952  11566      -   \n",
       "4  6580638  NP_009336.1   6319253.0      223723  12047  12427      +   \n",
       "\n",
       "     sysName       name                                               desc  \\\n",
       "0    YAL068C       PAU8                                     Pau8p (RefSeq)   \n",
       "1  YAL067W-A  YAL067W-A  Putative protein of unknown function; identifi...   \n",
       "2    YAL067C       SEO1  Putative permease, member of the allantoate tr...   \n",
       "3    YAL065C    YAL065C  Putative protein of unknown function; has homo...   \n",
       "4  YAL064W-B  YAL064W-B  Fungal-specific protein of unknown function (R...   \n",
       "\n",
       "   COG COGFun COGDesc TIGRFam TIGRRoles          GO   EC ECDesc  \n",
       "0  NaN    NaN     NaN     NaN       NaN  GO:0006950  NaN    NaN  \n",
       "1  NaN    NaN     NaN     NaN       NaN         NaN  NaN    NaN  \n",
       "2  NaN    NaN     NaN     NaN       NaN         NaN  NaN    NaN  \n",
       "3  NaN    NaN     NaN     NaN       NaN         NaN  NaN    NaN  \n",
       "4  NaN    NaN     NaN     NaN       NaN         NaN  NaN    NaN  "
      ]
     },
     "execution_count": 27,
     "metadata": {},
     "output_type": "execute_result"
    }
   ],
   "source": [
    "yeast_annot.head()"
   ]
  },
  {
   "cell_type": "code",
   "execution_count": 28,
   "id": "7c7fbfc9",
   "metadata": {},
   "outputs": [],
   "source": [
    "#yeast_annot.query(\"GO like %GO:0006950%\")\n",
    "genes_stress_response_data = duckdb.query(\"SELECT * FROM yeast_annot WHERE GO LIKE '%GO:0006950%'\").df()"
   ]
  },
  {
   "cell_type": "code",
   "execution_count": 29,
   "id": "dbe9e522",
   "metadata": {},
   "outputs": [
    {
     "data": {
      "text/plain": [
       "0       YAL068C\n",
       "1       YAR020C\n",
       "2     YBL108C-A\n",
       "3       YBR067C\n",
       "4       YBR301W\n",
       "5       YCR104W\n",
       "6       YDR542W\n",
       "7       YEL049W\n",
       "8       YER011W\n",
       "9       YFL020C\n",
       "10      YFL014W\n",
       "11      YGL261C\n",
       "12      YGR294W\n",
       "13      YHL046C\n",
       "14      YIL176C\n",
       "15      YIL011W\n",
       "16      YIR041W\n",
       "17      YJL223C\n",
       "18      YJR150C\n",
       "19      YJR151C\n",
       "20      YKL224C\n",
       "21      YLL064C\n",
       "22      YLL025W\n",
       "23      YLR037C\n",
       "24      YLR040C\n",
       "25      YLR461W\n",
       "26      YMR325W\n",
       "27      YNR076W\n",
       "28      YOL161C\n",
       "29      YOR009W\n",
       "30      YOR010C\n",
       "31      YOR394W\n",
       "32      YPL282C\n",
       "Name: sysName, dtype: object"
      ]
     },
     "execution_count": 29,
     "metadata": {},
     "output_type": "execute_result"
    }
   ],
   "source": [
    "gene_ids = genes_stress_response_data['sysName']\n",
    "gene_ids"
   ]
  },
  {
   "cell_type": "code",
   "execution_count": 30,
   "id": "0d07d788",
   "metadata": {},
   "outputs": [],
   "source": [
    "oi = ProntoImplementation(OntologyResource(local=False, slug='go.obo'))"
   ]
  },
  {
   "cell_type": "code",
   "execution_count": 38,
   "id": "d6eacf80",
   "metadata": {},
   "outputs": [
    {
     "name": "stdout",
     "output_type": "stream",
     "text": [
      "  rdfs:subClassOf ! subClassOf\n",
      "    GO:0050896 ! response to stimulus\n"
     ]
    }
   ],
   "source": [
    "rels = oi.get_outgoing_relationships_by_curie('GO:0006950')\n",
    "for rel, parents in rels.items():\n",
    "    print(f'  {rel} ! {oi.get_label_by_curie(rel)}')\n",
    "    for parent in parents:\n",
    "        print(f'    {parent} ! {oi.get_label_by_curie(parent)}')"
   ]
  },
  {
   "cell_type": "code",
   "execution_count": 39,
   "id": "27c908fb",
   "metadata": {},
   "outputs": [
    {
     "data": {
      "text/plain": [
       "['GO:0006950']"
      ]
     },
     "execution_count": 39,
     "metadata": {},
     "output_type": "execute_result"
    }
   ],
   "source": [
    "labels = gene_ids\n",
    "hypotheses = [\"GO:0006950\"]\n",
    "hypotheses"
   ]
  },
  {
   "cell_type": "code",
   "execution_count": 33,
   "id": "d8ee5144",
   "metadata": {},
   "outputs": [],
   "source": [
    "#removed: inferred_types=None,\n",
    "def enrichment_test(subjects=None, background=None, hypotheses=None,  ontology_labels=None, threshold=0.05, labels=False, direction='greater'):\n",
    "        \"\"\"\n",
    "        Performs term enrichment analysis.\n",
    "\n",
    "        Arguments\n",
    "        ---------\n",
    "\n",
    "        subjects: string list\n",
    "\n",
    "            Sample set. Typically a gene ID list. These are assumed to have associations\n",
    "\n",
    "        background: string list\n",
    "\n",
    "            Background set. If not set, uses full set of known subject IDs in the association set\n",
    "\n",
    "        threshold: float\n",
    "\n",
    "            p values above this are filtered out\n",
    "\n",
    "        labels: boolean\n",
    "\n",
    "            if true, labels for enriched classes are included in result objects\n",
    "\n",
    "        direction: 'greater', 'less' or 'two-sided'\n",
    "\n",
    "            default is greater - i.e. enrichment test. Use 'less' for depletion test.\n",
    "\n",
    "        \"\"\"\n",
    "        if subjects is None:\n",
    "            subjects = []\n",
    "\n",
    "        subjects=set(subjects)\n",
    "        bg_count = {}\n",
    "        sample_count = {}\n",
    "        potential_hypotheses = set()\n",
    "        sample_size = len(subjects)\n",
    "        #for s in subjects:\n",
    "        #    potential_hypotheses.update(inferred_types(s))\n",
    "        #if hypotheses is None:\n",
    "        #    hypotheses = potential_hypotheses\n",
    "        #else:\n",
    "        #    hypotheses = potential_hypotheses.intersection(hypotheses)\n",
    "        print(\"Hypotheses: {}\".format(hypotheses))\n",
    "\n",
    "        # get background counts\n",
    "        # TODO: consider doing this ahead of time\n",
    "        if background is None:\n",
    "            background = set(subjects)\n",
    "        else:\n",
    "            background = set(background)\n",
    "\n",
    "        # ensure background includes all subjects\n",
    "        background.update(subjects)\n",
    "\n",
    "        bg_size = len(background)\n",
    "\n",
    "        for c in hypotheses:\n",
    "            bg_count[c] = 0\n",
    "            sample_count[c] = 0\n",
    "            \n",
    "        #hard-coded\n",
    "        bg_count[\"GO:0006950\"] = len(gene_ids)\n",
    "        sample_count[\"GO:0006950\"] = len(gene_ids)\n",
    "        \n",
    "        #ADD BACK IN LATER\n",
    "        #for s in background:\n",
    "        #    ancs = inferred_types(s)\n",
    "        #    for a in ancs.intersection(hypotheses):\n",
    "        #        bg_count[a] = bg_count[a]+1\n",
    "        #for s in subjects:\n",
    "        #    for a in inferred_types(s):\n",
    "        #        if a in hypotheses:\n",
    "        #            sample_count[a] = sample_count[a]+1\n",
    "\n",
    "        hypotheses = [x for x in hypotheses if bg_count[x] > 1]\n",
    "        print(\"Filtered hypotheses: {}\".format(hypotheses))\n",
    "        num_hypotheses = len(hypotheses)\n",
    "        results = []\n",
    "        for cls in hypotheses:\n",
    "\n",
    "            # https://en.wikipedia.org/wiki/Fisher's_exact_test\n",
    "            #\n",
    "            #              Cls  NotCls    RowTotal\n",
    "            #              ---  ------    ---\n",
    "            # study/sample [a,      b]    sample_size\n",
    "            # rest of ref  [c,      d]    bg_size - sample_size\n",
    "            #              ---     ---\n",
    "            #              nCls  nNotCls\n",
    "\n",
    "            a = sample_count[cls]\n",
    "            b = sample_size - a\n",
    "            c = bg_count[cls] - a\n",
    "            d = (bg_size - bg_count[cls]) - b\n",
    "            #logger.debug(\"ABCD=\"+str((cls,a,b,c,d,sample_size)))\n",
    "            _, p_uncorrected = stats.fisher_exact( [[a, b], [c, d]], direction)\n",
    "            p = p_uncorrected * num_hypotheses\n",
    "            if p>1.0:\n",
    "                p=1.0\n",
    "            #logger.debug(\"P={} uncorrected={}\".format(p,p_uncorrected))\n",
    "            if p<threshold:\n",
    "                res = {'c':cls,'p':p,'p_uncorrected':p_uncorrected}\n",
    "                if labels:\n",
    "                    res['n'] = ontology.label(cls)\n",
    "                results.append(res)\n",
    "\n",
    "        results = sorted(results, key=lambda x:x['p'])\n",
    "        return results"
   ]
  },
  {
   "cell_type": "code",
   "execution_count": 40,
   "id": "5dd830c9",
   "metadata": {},
   "outputs": [
    {
     "name": "stdout",
     "output_type": "stream",
     "text": [
      "Hypotheses: ['GO:0006950']\n",
      "Filtered hypotheses: ['GO:0006950']\n"
     ]
    }
   ],
   "source": [
    "## Run enrichment tests using all classes in ontology\n",
    "enr = enrichment_test(subjects=gene_ids, background = None, hypotheses=hypotheses, threshold=0.1, labels=True)"
   ]
  },
  {
   "cell_type": "code",
   "execution_count": 41,
   "id": "a088e7ba",
   "metadata": {},
   "outputs": [
    {
     "data": {
      "text/plain": [
       "[]"
      ]
     },
     "execution_count": 41,
     "metadata": {},
     "output_type": "execute_result"
    }
   ],
   "source": [
    "enr"
   ]
  },
  {
   "cell_type": "code",
   "execution_count": 36,
   "id": "00b3ee47",
   "metadata": {},
   "outputs": [],
   "source": [
    "## Show first 20 results\n",
    "for r in enr[:20]:\n",
    "        print(\"{:8.3g} {} {:40s}\".format(r['p'],r['c'],str(r['n'])))"
   ]
  }
 ],
 "metadata": {
  "kernelspec": {
   "display_name": "Python 3 (ipykernel)",
   "language": "python",
   "name": "python3"
  },
  "language_info": {
   "codemirror_mode": {
    "name": "ipython",
    "version": 3
   },
   "file_extension": ".py",
   "mimetype": "text/x-python",
   "name": "python",
   "nbconvert_exporter": "python",
   "pygments_lexer": "ipython3",
   "version": "3.9.6"
  }
 },
 "nbformat": 4,
 "nbformat_minor": 5
}
