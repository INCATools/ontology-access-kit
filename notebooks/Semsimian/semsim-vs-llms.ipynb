{
 "cells": [
  {
   "cell_type": "markdown",
   "metadata": {},
   "source": [
    "# Comparison of Similarity: Semsimian vs. Large Language Model Embeddings"
   ]
  },
  {
   "cell_type": "markdown",
   "metadata": {},
   "source": [
    "## Case 1: HP vs HP"
   ]
  },
  {
   "cell_type": "markdown",
   "metadata": {},
   "source": [
    "### Setup"
   ]
  },
  {
   "cell_type": "code",
   "execution_count": 46,
   "metadata": {
    "colab": {
     "base_uri": "https://localhost:8080/"
    },
    "executionInfo": {
     "elapsed": 40896,
     "status": "ok",
     "timestamp": 1691683724630,
     "user": {
      "displayName": "Kevin Schaper",
      "userId": "12126623141624024195"
     },
     "user_tz": 420
    },
    "id": "-bIXpdDFMwl-",
    "outputId": "c2800b96-c29a-451c-9e26-5ca3059a1028"
   },
   "outputs": [
    {
     "name": "stdout",
     "output_type": "stream",
     "text": [
      "Requirement already satisfied: oaklib==0.5.17 in /home/harry/ontology-access-kit/.venv/lib/python3.9/site-packages (0.5.17)\n",
      "Requirement already satisfied: ontogpt==0.3.1 in /home/harry/ontology-access-kit/.venv/lib/python3.9/site-packages (0.3.1)\n",
      "Requirement already satisfied: polars in /home/harry/ontology-access-kit/.venv/lib/python3.9/site-packages (0.18.15)\n",
      "Requirement already satisfied: seaborn_polars in /home/harry/ontology-access-kit/.venv/lib/python3.9/site-packages (0.0.2.6)\n",
      "Requirement already satisfied: matplotlib in /home/harry/ontology-access-kit/.venv/lib/python3.9/site-packages (3.7.2)\n",
      "Requirement already satisfied: SPARQLWrapper in /home/harry/ontology-access-kit/.venv/lib/python3.9/site-packages (from oaklib==0.5.17) (2.0.0)\n",
      "Requirement already satisfied: SQLAlchemy>=1.4.32 in /home/harry/ontology-access-kit/.venv/lib/python3.9/site-packages (from oaklib==0.5.17) (2.0.19)\n",
      "Requirement already satisfied: airium>=0.2.5 in /home/harry/ontology-access-kit/.venv/lib/python3.9/site-packages (from oaklib==0.5.17) (0.2.5)\n",
      "Requirement already satisfied: appdirs>=1.4.4 in /home/harry/ontology-access-kit/.venv/lib/python3.9/site-packages (from oaklib==0.5.17) (1.4.4)\n",
      "Requirement already satisfied: class-resolver>=0.4.2 in /home/harry/ontology-access-kit/.venv/lib/python3.9/site-packages (from oaklib==0.5.17) (0.4.2)\n",
      "Requirement already satisfied: click in /home/harry/ontology-access-kit/.venv/lib/python3.9/site-packages (from oaklib==0.5.17) (8.1.6)\n",
      "Requirement already satisfied: curies>=0.5.5 in /home/harry/ontology-access-kit/.venv/lib/python3.9/site-packages (from oaklib==0.5.17) (0.6.0)\n",
      "Requirement already satisfied: eutils>=0.6.0 in /home/harry/ontology-access-kit/.venv/lib/python3.9/site-packages (from oaklib==0.5.17) (0.6.0)\n",
      "Requirement already satisfied: funowl>=0.2.0 in /home/harry/ontology-access-kit/.venv/lib/python3.9/site-packages (from oaklib==0.5.17) (0.2.3)\n",
      "Requirement already satisfied: kgcl-rdflib==0.5.0 in /home/harry/ontology-access-kit/.venv/lib/python3.9/site-packages (from oaklib==0.5.17) (0.5.0)\n",
      "Requirement already satisfied: kgcl-schema==0.6.0 in /home/harry/ontology-access-kit/.venv/lib/python3.9/site-packages (from oaklib==0.5.17) (0.6.0)\n",
      "Requirement already satisfied: lark>=1.1.2 in /home/harry/ontology-access-kit/.venv/lib/python3.9/site-packages (from oaklib==0.5.17) (1.1.7)\n",
      "Requirement already satisfied: linkml-renderer>=0.3.0 in /home/harry/ontology-access-kit/.venv/lib/python3.9/site-packages (from oaklib==0.5.17) (0.3.0)\n",
      "Requirement already satisfied: linkml-runtime>=1.5.3 in /home/harry/ontology-access-kit/.venv/lib/python3.9/site-packages (from oaklib==0.5.17) (1.5.6)\n",
      "Requirement already satisfied: ndex2<4.0.0,>=3.5.0 in /home/harry/ontology-access-kit/.venv/lib/python3.9/site-packages (from oaklib==0.5.17) (3.5.1)\n",
      "Requirement already satisfied: networkx>=2.7.1 in /home/harry/ontology-access-kit/.venv/lib/python3.9/site-packages (from oaklib==0.5.17) (3.1)\n",
      "Requirement already satisfied: ols-client>=0.1.1 in /home/harry/ontology-access-kit/.venv/lib/python3.9/site-packages (from oaklib==0.5.17) (0.1.4)\n",
      "Requirement already satisfied: ontoportal-client>=0.0.3 in /home/harry/ontology-access-kit/.venv/lib/python3.9/site-packages (from oaklib==0.5.17) (0.0.4)\n",
      "Requirement already satisfied: prefixmaps>=0.1.2 in /home/harry/ontology-access-kit/.venv/lib/python3.9/site-packages (from oaklib==0.5.17) (0.1.5)\n",
      "Requirement already satisfied: pronto>=2.5.0 in /home/harry/ontology-access-kit/.venv/lib/python3.9/site-packages (from oaklib==0.5.17) (2.5.4)\n",
      "Requirement already satisfied: pydantic in /home/harry/ontology-access-kit/.venv/lib/python3.9/site-packages (from oaklib==0.5.17) (2.1.1)\n",
      "Requirement already satisfied: pysolr<4.0.0,>=3.9.0 in /home/harry/ontology-access-kit/.venv/lib/python3.9/site-packages (from oaklib==0.5.17) (3.9.0)\n",
      "Requirement already satisfied: pystow>=0.5.0 in /home/harry/ontology-access-kit/.venv/lib/python3.9/site-packages (from oaklib==0.5.17) (0.5.0)\n",
      "Requirement already satisfied: ratelimit>=2.2.1 in /home/harry/ontology-access-kit/.venv/lib/python3.9/site-packages (from oaklib==0.5.17) (2.2.1)\n",
      "Requirement already satisfied: requests-cache<2.0.0,>=1.0.1 in /home/harry/ontology-access-kit/.venv/lib/python3.9/site-packages (from oaklib==0.5.17) (1.1.0)\n",
      "Requirement already satisfied: semsimian==0.2.1 in /home/harry/ontology-access-kit/.venv/lib/python3.9/site-packages (from oaklib==0.5.17) (0.2.1)\n",
      "Requirement already satisfied: semsql>=0.3.1 in /home/harry/ontology-access-kit/.venv/lib/python3.9/site-packages (from oaklib==0.5.17) (0.3.2)\n",
      "Requirement already satisfied: sssom>=0.3.38 in /home/harry/ontology-access-kit/.venv/lib/python3.9/site-packages (from oaklib==0.5.17) (0.3.38)\n",
      "Requirement already satisfied: sssom-schema>=0.11.0 in /home/harry/ontology-access-kit/.venv/lib/python3.9/site-packages (from oaklib==0.5.17) (0.15.0)\n",
      "Requirement already satisfied: aiohttp>=3.8.4 in /home/harry/ontology-access-kit/.venv/lib/python3.9/site-packages (from ontogpt==0.3.1) (3.8.5)\n",
      "Requirement already satisfied: beautifulsoup4>=4.11.1 in /home/harry/ontology-access-kit/.venv/lib/python3.9/site-packages (from ontogpt==0.3.1) (4.12.2)\n",
      "Requirement already satisfied: bioc>=2.0.post5 in /home/harry/ontology-access-kit/.venv/lib/python3.9/site-packages (from ontogpt==0.3.1) (2.1)\n",
      "Requirement already satisfied: cachier>=2.1.0 in /home/harry/ontology-access-kit/.venv/lib/python3.9/site-packages (from ontogpt==0.3.1) (2.2.1)\n",
      "Requirement already satisfied: gilda>=1.0.0 in /home/harry/ontology-access-kit/.venv/lib/python3.9/site-packages (from ontogpt==0.3.1) (1.0.0)\n",
      "Requirement already satisfied: gpt4>=0.0.1 in /home/harry/ontology-access-kit/.venv/lib/python3.9/site-packages (from ontogpt==0.3.1) (0.0.1)\n",
      "Requirement already satisfied: httpx>=0.23.3 in /home/harry/ontology-access-kit/.venv/lib/python3.9/site-packages (from ontogpt==0.3.1) (0.24.1)\n",
      "Requirement already satisfied: inflect>=6.0.2 in /home/harry/ontology-access-kit/.venv/lib/python3.9/site-packages (from ontogpt==0.3.1) (7.0.0)\n",
      "Requirement already satisfied: inflection>=0.5.1 in /home/harry/ontology-access-kit/.venv/lib/python3.9/site-packages (from ontogpt==0.3.1) (0.5.1)\n",
      "Requirement already satisfied: jsonlines>=3.1.0 in /home/harry/ontology-access-kit/.venv/lib/python3.9/site-packages (from ontogpt==0.3.1) (3.1.0)\n",
      "Requirement already satisfied: linkml<2.0.0,>=1.5.7 in /home/harry/ontology-access-kit/.venv/lib/python3.9/site-packages (from ontogpt==0.3.1) (1.5.7)\n",
      "Requirement already satisfied: linkml-owl<0.4.0,>=0.3.0 in /home/harry/ontology-access-kit/.venv/lib/python3.9/site-packages (from ontogpt==0.3.1) (0.3.0)\n",
      "Requirement already satisfied: llm<0.9,>=0.8 in /home/harry/ontology-access-kit/.venv/lib/python3.9/site-packages (from ontogpt==0.3.1) (0.8)\n",
      "Requirement already satisfied: llm-gpt4all<0.2.0,>=0.1.1 in /home/harry/ontology-access-kit/.venv/lib/python3.9/site-packages (from ontogpt==0.3.1) (0.1.1)\n",
      "Requirement already satisfied: nlpcloud>=1.0.39 in /home/harry/ontology-access-kit/.venv/lib/python3.9/site-packages (from ontogpt==0.3.1) (1.1.44)\n",
      "Requirement already satisfied: openai>=0.27.8 in /home/harry/ontology-access-kit/.venv/lib/python3.9/site-packages (from ontogpt==0.3.1) (0.27.8)\n",
      "Requirement already satisfied: python-multipart<0.0.6,>=0.0.5 in /home/harry/ontology-access-kit/.venv/lib/python3.9/site-packages (from ontogpt==0.3.1) (0.0.5)\n",
      "Requirement already satisfied: requests<3.0.0,>=2.31.0 in /home/harry/ontology-access-kit/.venv/lib/python3.9/site-packages (from ontogpt==0.3.1) (2.31.0)\n",
      "Requirement already satisfied: ruamel.yaml>=0.17.31 in /home/harry/ontology-access-kit/.venv/lib/python3.9/site-packages (from ontogpt==0.3.1) (0.17.32)\n",
      "Requirement already satisfied: streamlit>=1.22.0 in /home/harry/ontology-access-kit/.venv/lib/python3.9/site-packages (from ontogpt==0.3.1) (1.26.0)\n",
      "Requirement already satisfied: tiktoken>=0.3.3 in /home/harry/ontology-access-kit/.venv/lib/python3.9/site-packages (from ontogpt==0.3.1) (0.4.0)\n",
      "Requirement already satisfied: wikipedia>=1.4.0 in /home/harry/ontology-access-kit/.venv/lib/python3.9/site-packages (from ontogpt==0.3.1) (1.4.0)\n",
      "Requirement already satisfied: wikipedia-api>=0.5.8 in /home/harry/ontology-access-kit/.venv/lib/python3.9/site-packages (from ontogpt==0.3.1) (0.6.0)\n",
      "Requirement already satisfied: contourpy>=1.0.1 in /home/harry/ontology-access-kit/.venv/lib/python3.9/site-packages (from matplotlib) (1.1.0)\n",
      "Requirement already satisfied: cycler>=0.10 in /home/harry/ontology-access-kit/.venv/lib/python3.9/site-packages (from matplotlib) (0.11.0)\n",
      "Requirement already satisfied: fonttools>=4.22.0 in /home/harry/ontology-access-kit/.venv/lib/python3.9/site-packages (from matplotlib) (4.42.0)\n",
      "Requirement already satisfied: kiwisolver>=1.0.1 in /home/harry/ontology-access-kit/.venv/lib/python3.9/site-packages (from matplotlib) (1.4.4)\n",
      "Requirement already satisfied: numpy>=1.20 in /home/harry/ontology-access-kit/.venv/lib/python3.9/site-packages (from matplotlib) (1.25.2)\n",
      "Requirement already satisfied: packaging>=20.0 in /home/harry/ontology-access-kit/.venv/lib/python3.9/site-packages (from matplotlib) (23.1)\n",
      "Requirement already satisfied: pillow>=6.2.0 in /home/harry/ontology-access-kit/.venv/lib/python3.9/site-packages (from matplotlib) (9.5.0)\n",
      "Requirement already satisfied: pyparsing<3.1,>=2.3.1 in /home/harry/ontology-access-kit/.venv/lib/python3.9/site-packages (from matplotlib) (3.0.9)\n",
      "Requirement already satisfied: python-dateutil>=2.7 in /home/harry/ontology-access-kit/.venv/lib/python3.9/site-packages (from matplotlib) (2.8.2)\n",
      "Requirement already satisfied: importlib-resources>=3.2.0 in /home/harry/ontology-access-kit/.venv/lib/python3.9/site-packages (from matplotlib) (6.0.1)\n",
      "Requirement already satisfied: attrs>=17.3.0 in /home/harry/ontology-access-kit/.venv/lib/python3.9/site-packages (from aiohttp>=3.8.4->ontogpt==0.3.1) (23.1.0)\n",
      "Requirement already satisfied: charset-normalizer<4.0,>=2.0 in /home/harry/ontology-access-kit/.venv/lib/python3.9/site-packages (from aiohttp>=3.8.4->ontogpt==0.3.1) (3.2.0)\n",
      "Requirement already satisfied: multidict<7.0,>=4.5 in /home/harry/ontology-access-kit/.venv/lib/python3.9/site-packages (from aiohttp>=3.8.4->ontogpt==0.3.1) (6.0.4)\n",
      "Requirement already satisfied: async-timeout<5.0,>=4.0.0a3 in /home/harry/ontology-access-kit/.venv/lib/python3.9/site-packages (from aiohttp>=3.8.4->ontogpt==0.3.1) (4.0.3)\n",
      "Requirement already satisfied: yarl<2.0,>=1.0 in /home/harry/ontology-access-kit/.venv/lib/python3.9/site-packages (from aiohttp>=3.8.4->ontogpt==0.3.1) (1.9.2)\n",
      "Requirement already satisfied: frozenlist>=1.1.1 in /home/harry/ontology-access-kit/.venv/lib/python3.9/site-packages (from aiohttp>=3.8.4->ontogpt==0.3.1) (1.4.0)\n",
      "Requirement already satisfied: aiosignal>=1.1.2 in /home/harry/ontology-access-kit/.venv/lib/python3.9/site-packages (from aiohttp>=3.8.4->ontogpt==0.3.1) (1.3.1)\n",
      "Requirement already satisfied: soupsieve>1.2 in /home/harry/ontology-access-kit/.venv/lib/python3.9/site-packages (from beautifulsoup4>=4.11.1->ontogpt==0.3.1) (2.4.1)\n",
      "Requirement already satisfied: lxml>=4.6.3 in /home/harry/ontology-access-kit/.venv/lib/python3.9/site-packages (from bioc>=2.0.post5->ontogpt==0.3.1) (4.9.3)\n",
      "Requirement already satisfied: intervaltree in /home/harry/ontology-access-kit/.venv/lib/python3.9/site-packages (from bioc>=2.0.post5->ontogpt==0.3.1) (3.1.0)\n",
      "Requirement already satisfied: tqdm in /home/harry/ontology-access-kit/.venv/lib/python3.9/site-packages (from bioc>=2.0.post5->ontogpt==0.3.1) (4.65.0)\n",
      "Requirement already satisfied: docopt in /home/harry/ontology-access-kit/.venv/lib/python3.9/site-packages (from bioc>=2.0.post5->ontogpt==0.3.1) (0.6.2)\n",
      "Requirement already satisfied: watchdog in /home/harry/ontology-access-kit/.venv/lib/python3.9/site-packages (from cachier>=2.1.0->ontogpt==0.3.1) (3.0.0)\n",
      "Requirement already satisfied: portalocker in /home/harry/ontology-access-kit/.venv/lib/python3.9/site-packages (from cachier>=2.1.0->ontogpt==0.3.1) (2.7.0)\n",
      "Requirement already satisfied: pathtools in /home/harry/ontology-access-kit/.venv/lib/python3.9/site-packages (from cachier>=2.1.0->ontogpt==0.3.1) (0.1.2)\n",
      "Requirement already satisfied: setuptools>=67.6.0 in /home/harry/ontology-access-kit/.venv/lib/python3.9/site-packages (from cachier>=2.1.0->ontogpt==0.3.1) (68.0.0)\n",
      "Requirement already satisfied: importlib-metadata>3.6 in /home/harry/ontology-access-kit/.venv/lib/python3.9/site-packages (from class-resolver>=0.4.2->oaklib==0.5.17) (6.8.0)\n",
      "Requirement already satisfied: pytrie in /home/harry/ontology-access-kit/.venv/lib/python3.9/site-packages (from curies>=0.5.5->oaklib==0.5.17) (0.4.0)\n",
      "Requirement already satisfied: pytz in /home/harry/ontology-access-kit/.venv/lib/python3.9/site-packages (from eutils>=0.6.0->oaklib==0.5.17) (2023.3)\n",
      "Requirement already satisfied: bcp47 in /home/harry/ontology-access-kit/.venv/lib/python3.9/site-packages (from funowl>=0.2.0->oaklib==0.5.17) (0.0.4)\n",
      "Requirement already satisfied: jsonasobj in /home/harry/ontology-access-kit/.venv/lib/python3.9/site-packages (from funowl>=0.2.0->oaklib==0.5.17) (1.3.1)\n",
      "Requirement already satisfied: pyjsg>=0.11.6 in /home/harry/ontology-access-kit/.venv/lib/python3.9/site-packages (from funowl>=0.2.0->oaklib==0.5.17) (0.11.10)\n",
      "Requirement already satisfied: rdflib-shim in /home/harry/ontology-access-kit/.venv/lib/python3.9/site-packages (from funowl>=0.2.0->oaklib==0.5.17) (1.0.3)\n",
      "Requirement already satisfied: rdflib<8,>=6.2.0 in /home/harry/ontology-access-kit/.venv/lib/python3.9/site-packages (from funowl>=0.2.0->oaklib==0.5.17) (6.3.2)\n",
      "Requirement already satisfied: rfc3987 in /home/harry/ontology-access-kit/.venv/lib/python3.9/site-packages (from funowl>=0.2.0->oaklib==0.5.17) (1.3.8)\n",
      "Requirement already satisfied: regex in /home/harry/ontology-access-kit/.venv/lib/python3.9/site-packages (from gilda>=1.0.0->ontogpt==0.3.1) (2023.6.3)\n",
      "Requirement already satisfied: adeft>=0.11.0 in /home/harry/ontology-access-kit/.venv/lib/python3.9/site-packages (from gilda>=1.0.0->ontogpt==0.3.1) (0.11.2)\n",
      "Requirement already satisfied: boto3 in /home/harry/ontology-access-kit/.venv/lib/python3.9/site-packages (from gilda>=1.0.0->ontogpt==0.3.1) (1.28.34)\n",
      "Requirement already satisfied: flask in /home/harry/ontology-access-kit/.venv/lib/python3.9/site-packages (from gilda>=1.0.0->ontogpt==0.3.1) (2.1.3)\n",
      "Requirement already satisfied: flask-wtf in /home/harry/ontology-access-kit/.venv/lib/python3.9/site-packages (from gilda>=1.0.0->ontogpt==0.3.1) (1.1.1)\n",
      "Requirement already satisfied: flask-bootstrap in /home/harry/ontology-access-kit/.venv/lib/python3.9/site-packages (from gilda>=1.0.0->ontogpt==0.3.1) (3.3.7.1)\n",
      "Requirement already satisfied: flask-restx in /home/harry/ontology-access-kit/.venv/lib/python3.9/site-packages (from gilda>=1.0.0->ontogpt==0.3.1) (1.1.0)\n",
      "Requirement already satisfied: unidecode in /home/harry/ontology-access-kit/.venv/lib/python3.9/site-packages (from gilda>=1.0.0->ontogpt==0.3.1) (1.3.6)\n",
      "Requirement already satisfied: werkzeug<2.2 in /home/harry/ontology-access-kit/.venv/lib/python3.9/site-packages (from gilda>=1.0.0->ontogpt==0.3.1) (2.1.2)\n",
      "Requirement already satisfied: certifi in /home/harry/ontology-access-kit/.venv/lib/python3.9/site-packages (from httpx>=0.23.3->ontogpt==0.3.1) (2023.7.22)\n",
      "Requirement already satisfied: httpcore<0.18.0,>=0.15.0 in /home/harry/ontology-access-kit/.venv/lib/python3.9/site-packages (from httpx>=0.23.3->ontogpt==0.3.1) (0.17.3)\n",
      "Requirement already satisfied: idna in /home/harry/ontology-access-kit/.venv/lib/python3.9/site-packages (from httpx>=0.23.3->ontogpt==0.3.1) (3.4)\n",
      "Requirement already satisfied: sniffio in /home/harry/ontology-access-kit/.venv/lib/python3.9/site-packages (from httpx>=0.23.3->ontogpt==0.3.1) (1.3.0)\n",
      "Requirement already satisfied: zipp>=3.1.0 in /home/harry/ontology-access-kit/.venv/lib/python3.9/site-packages (from importlib-resources>=3.2.0->matplotlib) (3.16.2)\n",
      "Requirement already satisfied: typing-extensions in /home/harry/ontology-access-kit/.venv/lib/python3.9/site-packages (from inflect>=6.0.2->ontogpt==0.3.1) (4.7.1)\n",
      "Requirement already satisfied: antlr4-python3-runtime<4.10,>=4.9.0 in /home/harry/ontology-access-kit/.venv/lib/python3.9/site-packages (from linkml<2.0.0,>=1.5.7->ontogpt==0.3.1) (4.9.3)\n",
      "Requirement already satisfied: graphviz>=0.10.1 in /home/harry/ontology-access-kit/.venv/lib/python3.9/site-packages (from linkml<2.0.0,>=1.5.7->ontogpt==0.3.1) (0.20.1)\n",
      "Requirement already satisfied: hbreader in /home/harry/ontology-access-kit/.venv/lib/python3.9/site-packages (from linkml<2.0.0,>=1.5.7->ontogpt==0.3.1) (0.9.1)\n",
      "Requirement already satisfied: isodate>=0.6.0 in /home/harry/ontology-access-kit/.venv/lib/python3.9/site-packages (from linkml<2.0.0,>=1.5.7->ontogpt==0.3.1) (0.6.1)\n",
      "Requirement already satisfied: jinja2>=3.1.0 in /home/harry/ontology-access-kit/.venv/lib/python3.9/site-packages (from linkml<2.0.0,>=1.5.7->ontogpt==0.3.1) (3.1.2)\n",
      "Requirement already satisfied: jsonasobj2<2.0.0,>=1.0.3 in /home/harry/ontology-access-kit/.venv/lib/python3.9/site-packages (from linkml<2.0.0,>=1.5.7->ontogpt==0.3.1) (1.0.4)\n",
      "Requirement already satisfied: jsonschema[format]>=4.0.0 in /home/harry/ontology-access-kit/.venv/lib/python3.9/site-packages (from linkml<2.0.0,>=1.5.7->ontogpt==0.3.1) (4.19.0)\n",
      "Requirement already satisfied: linkml-dataops in /home/harry/ontology-access-kit/.venv/lib/python3.9/site-packages (from linkml<2.0.0,>=1.5.7->ontogpt==0.3.1) (0.1.0)\n",
      "Requirement already satisfied: openpyxl in /home/harry/ontology-access-kit/.venv/lib/python3.9/site-packages (from linkml<2.0.0,>=1.5.7->ontogpt==0.3.1) (3.1.2)\n",
      "Requirement already satisfied: parse in /home/harry/ontology-access-kit/.venv/lib/python3.9/site-packages (from linkml<2.0.0,>=1.5.7->ontogpt==0.3.1) (1.19.1)\n",
      "Requirement already satisfied: prefixcommons>=0.1.7 in /home/harry/ontology-access-kit/.venv/lib/python3.9/site-packages (from linkml<2.0.0,>=1.5.7->ontogpt==0.3.1) (0.1.12)\n",
      "Requirement already satisfied: pyshex>=0.7.20 in /home/harry/ontology-access-kit/.venv/lib/python3.9/site-packages (from linkml<2.0.0,>=1.5.7->ontogpt==0.3.1) (0.8.1)\n",
      "Requirement already satisfied: pyshexc>=0.8.3 in /home/harry/ontology-access-kit/.venv/lib/python3.9/site-packages (from linkml<2.0.0,>=1.5.7->ontogpt==0.3.1) (0.9.1)\n",
      "Requirement already satisfied: pyyaml in /home/harry/ontology-access-kit/.venv/lib/python3.9/site-packages (from linkml<2.0.0,>=1.5.7->ontogpt==0.3.1) (6.0.1)\n",
      "Requirement already satisfied: deprecated in /home/harry/ontology-access-kit/.venv/lib/python3.9/site-packages (from linkml-runtime>=1.5.3->oaklib==0.5.17) (1.2.14)\n",
      "Requirement already satisfied: json-flattener>=0.1.9 in /home/harry/ontology-access-kit/.venv/lib/python3.9/site-packages (from linkml-runtime>=1.5.3->oaklib==0.5.17) (0.1.9)\n",
      "Requirement already satisfied: click-default-group-wheel in /home/harry/ontology-access-kit/.venv/lib/python3.9/site-packages (from llm<0.9,>=0.8->ontogpt==0.3.1) (1.2.2)\n",
      "Requirement already satisfied: sqlite-utils>=3.35.0 in /home/harry/ontology-access-kit/.venv/lib/python3.9/site-packages (from llm<0.9,>=0.8->ontogpt==0.3.1) (3.35)\n",
      "Requirement already satisfied: pluggy in /home/harry/ontology-access-kit/.venv/lib/python3.9/site-packages (from llm<0.9,>=0.8->ontogpt==0.3.1) (1.2.0)\n",
      "Requirement already satisfied: python-ulid in /home/harry/ontology-access-kit/.venv/lib/python3.9/site-packages (from llm<0.9,>=0.8->ontogpt==0.3.1) (1.1.0)\n",
      "Requirement already satisfied: pip in /home/harry/ontology-access-kit/.venv/lib/python3.9/site-packages (from llm<0.9,>=0.8->ontogpt==0.3.1) (23.1.2)\n",
      "Requirement already satisfied: gpt4all in /home/harry/ontology-access-kit/.venv/lib/python3.9/site-packages (from llm-gpt4all<0.2.0,>=0.1.1->ontogpt==0.3.1) (1.0.8)\n",
      "Requirement already satisfied: six in /home/harry/ontology-access-kit/.venv/lib/python3.9/site-packages (from ndex2<4.0.0,>=3.5.0->oaklib==0.5.17) (1.16.0)\n",
      "Requirement already satisfied: ijson in /home/harry/ontology-access-kit/.venv/lib/python3.9/site-packages (from ndex2<4.0.0,>=3.5.0->oaklib==0.5.17) (3.2.3)\n",
      "Requirement already satisfied: requests-toolbelt in /home/harry/ontology-access-kit/.venv/lib/python3.9/site-packages (from ndex2<4.0.0,>=3.5.0->oaklib==0.5.17) (1.0.0)\n",
      "Requirement already satisfied: urllib3>=1.16 in /home/harry/ontology-access-kit/.venv/lib/python3.9/site-packages (from ndex2<4.0.0,>=3.5.0->oaklib==0.5.17) (1.26.16)\n",
      "Requirement already satisfied: pandas in /home/harry/ontology-access-kit/.venv/lib/python3.9/site-packages (from ndex2<4.0.0,>=3.5.0->oaklib==0.5.17) (2.0.3)\n",
      "Requirement already satisfied: more-click in /home/harry/ontology-access-kit/.venv/lib/python3.9/site-packages (from ols-client>=0.1.1->oaklib==0.5.17) (0.1.2)\n",
      "Requirement already satisfied: greenlet==2.0.1 in /home/harry/ontology-access-kit/.venv/lib/python3.9/site-packages (from prefixmaps>=0.1.2->oaklib==0.5.17) (2.0.1)\n",
      "Requirement already satisfied: chardet~=5.0 in /home/harry/ontology-access-kit/.venv/lib/python3.9/site-packages (from pronto>=2.5.0->oaklib==0.5.17) (5.2.0)\n",
      "Requirement already satisfied: fastobo~=0.12.2 in /home/harry/ontology-access-kit/.venv/lib/python3.9/site-packages (from pronto>=2.5.0->oaklib==0.5.17) (0.12.2)\n",
      "Requirement already satisfied: annotated-types>=0.4.0 in /home/harry/ontology-access-kit/.venv/lib/python3.9/site-packages (from pydantic->oaklib==0.5.17) (0.5.0)\n",
      "Requirement already satisfied: pydantic-core==2.4.0 in /home/harry/ontology-access-kit/.venv/lib/python3.9/site-packages (from pydantic->oaklib==0.5.17) (2.4.0)\n",
      "Requirement already satisfied: cattrs>=22.2 in /home/harry/ontology-access-kit/.venv/lib/python3.9/site-packages (from requests-cache<2.0.0,>=1.0.1->oaklib==0.5.17) (23.1.2)\n",
      "Requirement already satisfied: platformdirs>=2.5 in /home/harry/ontology-access-kit/.venv/lib/python3.9/site-packages (from requests-cache<2.0.0,>=1.0.1->oaklib==0.5.17) (3.10.0)\n",
      "Requirement already satisfied: url-normalize>=1.4 in /home/harry/ontology-access-kit/.venv/lib/python3.9/site-packages (from requests-cache<2.0.0,>=1.0.1->oaklib==0.5.17) (1.4.3)\n",
      "Requirement already satisfied: ruamel.yaml.clib>=0.2.7 in /home/harry/ontology-access-kit/.venv/lib/python3.9/site-packages (from ruamel.yaml>=0.17.31->ontogpt==0.3.1) (0.2.7)\n",
      "Requirement already satisfied: SQLAlchemy-Utils<0.39.0,>=0.38.2 in /home/harry/ontology-access-kit/.venv/lib/python3.9/site-packages (from semsql>=0.3.1->oaklib==0.5.17) (0.38.3)\n",
      "Requirement already satisfied: deprecation<3.0.0,>=2.1.0 in /home/harry/ontology-access-kit/.venv/lib/python3.9/site-packages (from sssom>=0.3.38->oaklib==0.5.17) (2.1.0)\n",
      "Requirement already satisfied: pansql>=0.0.1 in /home/harry/ontology-access-kit/.venv/lib/python3.9/site-packages (from sssom>=0.3.38->oaklib==0.5.17) (0.0.1)\n",
      "Requirement already satisfied: scipy[scipy] in /home/harry/ontology-access-kit/.venv/lib/python3.9/site-packages (from sssom>=0.3.38->oaklib==0.5.17) (1.9.3)\n",
      "Requirement already satisfied: validators>=0.20.0 in /home/harry/ontology-access-kit/.venv/lib/python3.9/site-packages (from sssom>=0.3.38->oaklib==0.5.17) (0.20.0)\n",
      "Requirement already satisfied: mkdocs-mermaid2-plugin<0.7.0,>=0.6.0 in /home/harry/ontology-access-kit/.venv/lib/python3.9/site-packages (from sssom-schema>=0.11.0->oaklib==0.5.17) (0.6.0)\n",
      "Requirement already satisfied: altair<6,>=4.0 in /home/harry/ontology-access-kit/.venv/lib/python3.9/site-packages (from streamlit>=1.22.0->ontogpt==0.3.1) (5.0.1)\n",
      "Requirement already satisfied: blinker<2,>=1.0.0 in /home/harry/ontology-access-kit/.venv/lib/python3.9/site-packages (from streamlit>=1.22.0->ontogpt==0.3.1) (1.6.2)\n",
      "Requirement already satisfied: cachetools<6,>=4.0 in /home/harry/ontology-access-kit/.venv/lib/python3.9/site-packages (from streamlit>=1.22.0->ontogpt==0.3.1) (5.3.1)\n",
      "Requirement already satisfied: protobuf<5,>=3.20 in /home/harry/ontology-access-kit/.venv/lib/python3.9/site-packages (from streamlit>=1.22.0->ontogpt==0.3.1) (4.24.1)\n",
      "Requirement already satisfied: pyarrow>=6.0 in /home/harry/ontology-access-kit/.venv/lib/python3.9/site-packages (from streamlit>=1.22.0->ontogpt==0.3.1) (13.0.0)\n",
      "Requirement already satisfied: pympler<2,>=0.9 in /home/harry/ontology-access-kit/.venv/lib/python3.9/site-packages (from streamlit>=1.22.0->ontogpt==0.3.1) (1.0.1)\n",
      "Requirement already satisfied: rich<14,>=10.14.0 in /home/harry/ontology-access-kit/.venv/lib/python3.9/site-packages (from streamlit>=1.22.0->ontogpt==0.3.1) (13.5.2)\n",
      "Requirement already satisfied: tenacity<9,>=8.1.0 in /home/harry/ontology-access-kit/.venv/lib/python3.9/site-packages (from streamlit>=1.22.0->ontogpt==0.3.1) (8.2.3)\n",
      "Requirement already satisfied: toml<2,>=0.10.1 in /home/harry/ontology-access-kit/.venv/lib/python3.9/site-packages (from streamlit>=1.22.0->ontogpt==0.3.1) (0.10.2)\n",
      "Requirement already satisfied: tzlocal<5,>=1.1 in /home/harry/ontology-access-kit/.venv/lib/python3.9/site-packages (from streamlit>=1.22.0->ontogpt==0.3.1) (4.3.1)\n",
      "Requirement already satisfied: gitpython!=3.1.19,<4,>=3.0.7 in /home/harry/ontology-access-kit/.venv/lib/python3.9/site-packages (from streamlit>=1.22.0->ontogpt==0.3.1) (3.1.32)\n",
      "Requirement already satisfied: pydeck<1,>=0.8 in /home/harry/ontology-access-kit/.venv/lib/python3.9/site-packages (from streamlit>=1.22.0->ontogpt==0.3.1) (0.8.0)\n",
      "Requirement already satisfied: tornado<7,>=6.0.3 in /home/harry/ontology-access-kit/.venv/lib/python3.9/site-packages (from streamlit>=1.22.0->ontogpt==0.3.1) (6.3.2)\n",
      "Requirement already satisfied: nltk in /home/harry/ontology-access-kit/.venv/lib/python3.9/site-packages (from adeft>=0.11.0->gilda>=1.0.0->ontogpt==0.3.1) (3.8.1)\n",
      "Requirement already satisfied: scikit-learn>=0.20.0 in /home/harry/ontology-access-kit/.venv/lib/python3.9/site-packages (from adeft>=0.11.0->gilda>=1.0.0->ontogpt==0.3.1) (1.3.0)\n",
      "Requirement already satisfied: toolz in /home/harry/ontology-access-kit/.venv/lib/python3.9/site-packages (from altair<6,>=4.0->streamlit>=1.22.0->ontogpt==0.3.1) (0.12.0)\n",
      "Requirement already satisfied: exceptiongroup in /home/harry/ontology-access-kit/.venv/lib/python3.9/site-packages (from cattrs>=22.2->requests-cache<2.0.0,>=1.0.1->oaklib==0.5.17) (1.1.2)\n",
      "Requirement already satisfied: gitdb<5,>=4.0.1 in /home/harry/ontology-access-kit/.venv/lib/python3.9/site-packages (from gitpython!=3.1.19,<4,>=3.0.7->streamlit>=1.22.0->ontogpt==0.3.1) (4.0.10)\n",
      "Requirement already satisfied: h11<0.15,>=0.13 in /home/harry/ontology-access-kit/.venv/lib/python3.9/site-packages (from httpcore<0.18.0,>=0.15.0->httpx>=0.23.3->ontogpt==0.3.1) (0.14.0)\n",
      "Requirement already satisfied: anyio<5.0,>=3.0 in /home/harry/ontology-access-kit/.venv/lib/python3.9/site-packages (from httpcore<0.18.0,>=0.15.0->httpx>=0.23.3->ontogpt==0.3.1) (3.7.1)\n",
      "Requirement already satisfied: MarkupSafe>=2.0 in /home/harry/ontology-access-kit/.venv/lib/python3.9/site-packages (from jinja2>=3.1.0->linkml<2.0.0,>=1.5.7->ontogpt==0.3.1) (2.1.3)\n",
      "Requirement already satisfied: jsonschema-specifications>=2023.03.6 in /home/harry/ontology-access-kit/.venv/lib/python3.9/site-packages (from jsonschema[format]>=4.0.0->linkml<2.0.0,>=1.5.7->ontogpt==0.3.1) (2023.7.1)\n",
      "Requirement already satisfied: referencing>=0.28.4 in /home/harry/ontology-access-kit/.venv/lib/python3.9/site-packages (from jsonschema[format]>=4.0.0->linkml<2.0.0,>=1.5.7->ontogpt==0.3.1) (0.30.2)\n",
      "Requirement already satisfied: rpds-py>=0.7.1 in /home/harry/ontology-access-kit/.venv/lib/python3.9/site-packages (from jsonschema[format]>=4.0.0->linkml<2.0.0,>=1.5.7->ontogpt==0.3.1) (0.9.2)\n",
      "Requirement already satisfied: fqdn in /home/harry/ontology-access-kit/.venv/lib/python3.9/site-packages (from jsonschema[format]>=4.0.0->linkml<2.0.0,>=1.5.7->ontogpt==0.3.1) (1.5.1)\n",
      "Requirement already satisfied: isoduration in /home/harry/ontology-access-kit/.venv/lib/python3.9/site-packages (from jsonschema[format]>=4.0.0->linkml<2.0.0,>=1.5.7->ontogpt==0.3.1) (20.11.0)\n",
      "Requirement already satisfied: jsonpointer>1.13 in /home/harry/ontology-access-kit/.venv/lib/python3.9/site-packages (from jsonschema[format]>=4.0.0->linkml<2.0.0,>=1.5.7->ontogpt==0.3.1) (2.4)\n",
      "Requirement already satisfied: rfc3339-validator in /home/harry/ontology-access-kit/.venv/lib/python3.9/site-packages (from jsonschema[format]>=4.0.0->linkml<2.0.0,>=1.5.7->ontogpt==0.3.1) (0.1.4)\n",
      "Requirement already satisfied: uri-template in /home/harry/ontology-access-kit/.venv/lib/python3.9/site-packages (from jsonschema[format]>=4.0.0->linkml<2.0.0,>=1.5.7->ontogpt==0.3.1) (1.3.0)\n",
      "Requirement already satisfied: webcolors>=1.11 in /home/harry/ontology-access-kit/.venv/lib/python3.9/site-packages (from jsonschema[format]>=4.0.0->linkml<2.0.0,>=1.5.7->ontogpt==0.3.1) (1.13)\n",
      "Requirement already satisfied: mkdocs>=1.0.4 in /home/harry/ontology-access-kit/.venv/lib/python3.9/site-packages (from mkdocs-mermaid2-plugin<0.7.0,>=0.6.0->sssom-schema>=0.11.0->oaklib==0.5.17) (1.5.2)\n",
      "Requirement already satisfied: jsbeautifier in /home/harry/ontology-access-kit/.venv/lib/python3.9/site-packages (from mkdocs-mermaid2-plugin<0.7.0,>=0.6.0->sssom-schema>=0.11.0->oaklib==0.5.17) (1.14.9)\n",
      "Requirement already satisfied: mkdocs-material in /home/harry/ontology-access-kit/.venv/lib/python3.9/site-packages (from mkdocs-mermaid2-plugin<0.7.0,>=0.6.0->sssom-schema>=0.11.0->oaklib==0.5.17) (9.1.21)\n",
      "Requirement already satisfied: pymdown-extensions>=8.0 in /home/harry/ontology-access-kit/.venv/lib/python3.9/site-packages (from mkdocs-mermaid2-plugin<0.7.0,>=0.6.0->sssom-schema>=0.11.0->oaklib==0.5.17) (10.1)\n",
      "Requirement already satisfied: tzdata>=2022.1 in /home/harry/ontology-access-kit/.venv/lib/python3.9/site-packages (from pandas->ndex2<4.0.0,>=3.5.0->oaklib==0.5.17) (2023.3)\n",
      "Requirement already satisfied: pytest-logging<2016.0.0,>=2015.11.4 in /home/harry/ontology-access-kit/.venv/lib/python3.9/site-packages (from prefixcommons>=0.1.7->linkml<2.0.0,>=1.5.7->ontogpt==0.3.1) (2015.11.4)\n",
      "Requirement already satisfied: cfgraph>=0.2.1 in /home/harry/ontology-access-kit/.venv/lib/python3.9/site-packages (from pyshex>=0.7.20->linkml<2.0.0,>=1.5.7->ontogpt==0.3.1) (0.2.1)\n",
      "Requirement already satisfied: shexjsg>=0.8.2 in /home/harry/ontology-access-kit/.venv/lib/python3.9/site-packages (from pyshex>=0.7.20->linkml<2.0.0,>=1.5.7->ontogpt==0.3.1) (0.8.2)\n",
      "Requirement already satisfied: sparqlslurper>=0.5.1 in /home/harry/ontology-access-kit/.venv/lib/python3.9/site-packages (from pyshex>=0.7.20->linkml<2.0.0,>=1.5.7->ontogpt==0.3.1) (0.5.1)\n",
      "Requirement already satisfied: markdown-it-py>=2.2.0 in /home/harry/ontology-access-kit/.venv/lib/python3.9/site-packages (from rich<14,>=10.14.0->streamlit>=1.22.0->ontogpt==0.3.1) (3.0.0)\n",
      "Requirement already satisfied: pygments<3.0.0,>=2.13.0 in /home/harry/ontology-access-kit/.venv/lib/python3.9/site-packages (from rich<14,>=10.14.0->streamlit>=1.22.0->ontogpt==0.3.1) (2.16.1)\n",
      "Requirement already satisfied: sqlite-fts4 in /home/harry/ontology-access-kit/.venv/lib/python3.9/site-packages (from sqlite-utils>=3.35.0->llm<0.9,>=0.8->ontogpt==0.3.1) (1.0.3)\n",
      "Requirement already satisfied: tabulate in /home/harry/ontology-access-kit/.venv/lib/python3.9/site-packages (from sqlite-utils>=3.35.0->llm<0.9,>=0.8->ontogpt==0.3.1) (0.9.0)\n",
      "Requirement already satisfied: pytz-deprecation-shim in /home/harry/ontology-access-kit/.venv/lib/python3.9/site-packages (from tzlocal<5,>=1.1->streamlit>=1.22.0->ontogpt==0.3.1) (0.1.0.post0)\n",
      "Requirement already satisfied: decorator>=3.4.0 in /home/harry/ontology-access-kit/.venv/lib/python3.9/site-packages (from validators>=0.20.0->sssom>=0.3.38->oaklib==0.5.17) (5.1.1)\n",
      "Requirement already satisfied: botocore<1.32.0,>=1.31.34 in /home/harry/ontology-access-kit/.venv/lib/python3.9/site-packages (from boto3->gilda>=1.0.0->ontogpt==0.3.1) (1.31.34)\n",
      "Requirement already satisfied: jmespath<2.0.0,>=0.7.1 in /home/harry/ontology-access-kit/.venv/lib/python3.9/site-packages (from boto3->gilda>=1.0.0->ontogpt==0.3.1) (1.0.1)\n",
      "Requirement already satisfied: s3transfer<0.7.0,>=0.6.0 in /home/harry/ontology-access-kit/.venv/lib/python3.9/site-packages (from boto3->gilda>=1.0.0->ontogpt==0.3.1) (0.6.2)\n",
      "Requirement already satisfied: wrapt<2,>=1.10 in /home/harry/ontology-access-kit/.venv/lib/python3.9/site-packages (from deprecated->linkml-runtime>=1.5.3->oaklib==0.5.17) (1.15.0)\n",
      "Requirement already satisfied: itsdangerous>=2.0 in /home/harry/ontology-access-kit/.venv/lib/python3.9/site-packages (from flask->gilda>=1.0.0->ontogpt==0.3.1) (2.1.2)\n",
      "Requirement already satisfied: dominate in /home/harry/ontology-access-kit/.venv/lib/python3.9/site-packages (from flask-bootstrap->gilda>=1.0.0->ontogpt==0.3.1) (2.8.0)\n",
      "Requirement already satisfied: visitor in /home/harry/ontology-access-kit/.venv/lib/python3.9/site-packages (from flask-bootstrap->gilda>=1.0.0->ontogpt==0.3.1) (0.1.3)\n",
      "Requirement already satisfied: aniso8601>=0.82 in /home/harry/ontology-access-kit/.venv/lib/python3.9/site-packages (from flask-restx->gilda>=1.0.0->ontogpt==0.3.1) (9.0.1)\n",
      "Requirement already satisfied: WTForms in /home/harry/ontology-access-kit/.venv/lib/python3.9/site-packages (from flask-wtf->gilda>=1.0.0->ontogpt==0.3.1) (3.0.1)\n",
      "Requirement already satisfied: sortedcontainers<3.0,>=2.0 in /home/harry/ontology-access-kit/.venv/lib/python3.9/site-packages (from intervaltree->bioc>=2.0.post5->ontogpt==0.3.1) (2.4.0)\n",
      "Requirement already satisfied: jsonpatch in /home/harry/ontology-access-kit/.venv/lib/python3.9/site-packages (from linkml-dataops->linkml<2.0.0,>=1.5.7->ontogpt==0.3.1) (1.33)\n",
      "Requirement already satisfied: jsonpath-ng in /home/harry/ontology-access-kit/.venv/lib/python3.9/site-packages (from linkml-dataops->linkml<2.0.0,>=1.5.7->ontogpt==0.3.1) (1.5.3)\n",
      "Requirement already satisfied: et-xmlfile in /home/harry/ontology-access-kit/.venv/lib/python3.9/site-packages (from openpyxl->linkml<2.0.0,>=1.5.7->ontogpt==0.3.1) (1.1.0)\n",
      "Requirement already satisfied: rdflib-jsonld==0.6.1 in /home/harry/ontology-access-kit/.venv/lib/python3.9/site-packages (from rdflib-shim->funowl>=0.2.0->oaklib==0.5.17) (0.6.1)\n",
      "\u001b[33mWARNING: scipy 1.9.3 does not provide the extra 'scipy'\u001b[0m\u001b[33m\n",
      "\u001b[0mRequirement already satisfied: smmap<6,>=3.0.1 in /home/harry/ontology-access-kit/.venv/lib/python3.9/site-packages (from gitdb<5,>=4.0.1->gitpython!=3.1.19,<4,>=3.0.7->streamlit>=1.22.0->ontogpt==0.3.1) (5.0.0)\n",
      "Requirement already satisfied: mdurl~=0.1 in /home/harry/ontology-access-kit/.venv/lib/python3.9/site-packages (from markdown-it-py>=2.2.0->rich<14,>=10.14.0->streamlit>=1.22.0->ontogpt==0.3.1) (0.1.2)\n",
      "Requirement already satisfied: ghp-import>=1.0 in /home/harry/ontology-access-kit/.venv/lib/python3.9/site-packages (from mkdocs>=1.0.4->mkdocs-mermaid2-plugin<0.7.0,>=0.6.0->sssom-schema>=0.11.0->oaklib==0.5.17) (2.1.0)\n",
      "Requirement already satisfied: markdown>=3.2.1 in /home/harry/ontology-access-kit/.venv/lib/python3.9/site-packages (from mkdocs>=1.0.4->mkdocs-mermaid2-plugin<0.7.0,>=0.6.0->sssom-schema>=0.11.0->oaklib==0.5.17) (3.4.4)\n",
      "Requirement already satisfied: mergedeep>=1.3.4 in /home/harry/ontology-access-kit/.venv/lib/python3.9/site-packages (from mkdocs>=1.0.4->mkdocs-mermaid2-plugin<0.7.0,>=0.6.0->sssom-schema>=0.11.0->oaklib==0.5.17) (1.3.4)\n",
      "Requirement already satisfied: pathspec>=0.11.1 in /home/harry/ontology-access-kit/.venv/lib/python3.9/site-packages (from mkdocs>=1.0.4->mkdocs-mermaid2-plugin<0.7.0,>=0.6.0->sssom-schema>=0.11.0->oaklib==0.5.17) (0.11.2)\n",
      "Requirement already satisfied: pyyaml-env-tag>=0.1 in /home/harry/ontology-access-kit/.venv/lib/python3.9/site-packages (from mkdocs>=1.0.4->mkdocs-mermaid2-plugin<0.7.0,>=0.6.0->sssom-schema>=0.11.0->oaklib==0.5.17) (0.1)\n",
      "Requirement already satisfied: pytest>=2.8.1 in /home/harry/ontology-access-kit/.venv/lib/python3.9/site-packages (from pytest-logging<2016.0.0,>=2015.11.4->prefixcommons>=0.1.7->linkml<2.0.0,>=1.5.7->ontogpt==0.3.1) (7.4.0)\n",
      "Requirement already satisfied: joblib>=1.1.1 in /home/harry/ontology-access-kit/.venv/lib/python3.9/site-packages (from scikit-learn>=0.20.0->adeft>=0.11.0->gilda>=1.0.0->ontogpt==0.3.1) (1.3.2)\n",
      "Requirement already satisfied: threadpoolctl>=2.0.0 in /home/harry/ontology-access-kit/.venv/lib/python3.9/site-packages (from scikit-learn>=0.20.0->adeft>=0.11.0->gilda>=1.0.0->ontogpt==0.3.1) (3.2.0)\n",
      "Requirement already satisfied: arrow>=0.15.0 in /home/harry/ontology-access-kit/.venv/lib/python3.9/site-packages (from isoduration->jsonschema[format]>=4.0.0->linkml<2.0.0,>=1.5.7->ontogpt==0.3.1) (1.2.3)\n",
      "Requirement already satisfied: editorconfig>=0.12.2 in /home/harry/ontology-access-kit/.venv/lib/python3.9/site-packages (from jsbeautifier->mkdocs-mermaid2-plugin<0.7.0,>=0.6.0->sssom-schema>=0.11.0->oaklib==0.5.17) (0.12.3)\n",
      "Requirement already satisfied: ply in /home/harry/ontology-access-kit/.venv/lib/python3.9/site-packages (from jsonpath-ng->linkml-dataops->linkml<2.0.0,>=1.5.7->ontogpt==0.3.1) (3.11)\n",
      "Requirement already satisfied: colorama>=0.4 in /home/harry/ontology-access-kit/.venv/lib/python3.9/site-packages (from mkdocs-material->mkdocs-mermaid2-plugin<0.7.0,>=0.6.0->sssom-schema>=0.11.0->oaklib==0.5.17) (0.4.6)\n",
      "Requirement already satisfied: mkdocs-material-extensions>=1.1 in /home/harry/ontology-access-kit/.venv/lib/python3.9/site-packages (from mkdocs-material->mkdocs-mermaid2-plugin<0.7.0,>=0.6.0->sssom-schema>=0.11.0->oaklib==0.5.17) (1.1.1)\n",
      "Requirement already satisfied: iniconfig in /home/harry/ontology-access-kit/.venv/lib/python3.9/site-packages (from pytest>=2.8.1->pytest-logging<2016.0.0,>=2015.11.4->prefixcommons>=0.1.7->linkml<2.0.0,>=1.5.7->ontogpt==0.3.1) (2.0.0)\n",
      "Requirement already satisfied: tomli>=1.0.0 in /home/harry/ontology-access-kit/.venv/lib/python3.9/site-packages (from pytest>=2.8.1->pytest-logging<2016.0.0,>=2015.11.4->prefixcommons>=0.1.7->linkml<2.0.0,>=1.5.7->ontogpt==0.3.1) (2.0.1)\n",
      "\n",
      "\u001b[1m[\u001b[0m\u001b[34;49mnotice\u001b[0m\u001b[1;39;49m]\u001b[0m\u001b[39;49m A new release of pip is available: \u001b[0m\u001b[31;49m23.1.2\u001b[0m\u001b[39;49m -> \u001b[0m\u001b[32;49m23.2.1\u001b[0m\n",
      "\u001b[1m[\u001b[0m\u001b[34;49mnotice\u001b[0m\u001b[1;39;49m]\u001b[0m\u001b[39;49m To update, run: \u001b[0m\u001b[32;49mpip install --upgrade pip\u001b[0m\n"
     ]
    }
   ],
   "source": [
    "!pip install oaklib==0.5.17 ontogpt==0.3.1 polars seaborn_polars matplotlib"
   ]
  },
  {
   "cell_type": "code",
   "execution_count": 45,
   "metadata": {},
   "outputs": [],
   "source": [
    "import polars as pl\n",
    "import matplotlib.pyplot as plt\n",
    "import seaborn_polars as snl"
   ]
  },
  {
   "cell_type": "code",
   "execution_count": 17,
   "metadata": {},
   "outputs": [],
   "source": [
    "simfile = 'hp_vs_hp_semsim.tsv'"
   ]
  },
  {
   "cell_type": "markdown",
   "metadata": {},
   "source": [
    "### Semsim for HP through Semsimian and OAK"
   ]
  },
  {
   "cell_type": "code",
   "execution_count": 18,
   "metadata": {
    "id": "bzGuyJ6KOLFC"
   },
   "outputs": [
    {
     "name": "stdout",
     "output_type": "stream",
     "text": [
      "INFO:root:Setting other_languages=()\n",
      "INFO:root:Settings = Settings(impl=None, autosave=False, associations_type=None, preferred_language=None, other_languages=())\n",
      "INFO:root:Wrapping an existing OAK implementation to fetch sqlite:obo:hp\n",
      "INFO:root:Locator: obo:hp\n",
      "INFO:root:Ensuring gunzipped for https://s3.amazonaws.com/bbop-sqlite/hp.db.gz\n",
      "INFO:root:Locator, post-processed: sqlite:////home/harry/.data/oaklib/hp.db\n",
      "DEBUG:root:Paths to search: [PurePosixPath('model/schema'), PurePosixPath('schema'), PurePosixPath('linkml'), PurePosixPath('src/linkml'), PurePosixPath('src/model'), PurePosixPath('src/model/schema'), PurePosixPath('src/schema'), PurePosixPath('.')]\n",
      "DEBUG:root:candidate model/schema not found\n",
      "DEBUG:root:candidate schema not found\n",
      "DEBUG:root:candidate linkml not found\n",
      "DEBUG:root:candidate src/linkml not found\n",
      "DEBUG:root:candidate src/model not found\n",
      "DEBUG:root:candidate src/model/schema not found\n",
      "DEBUG:root:candidate src/schema not found\n",
      "INFO:root:out=hp_vs_hp_semsim.tsv <class 'str'>\n",
      "INFO:root:file=<_io.TextIOWrapper name='hp_vs_hp_semsim.tsv' mode='w' encoding='UTF-8'> <class 'str'>\n",
      "INFO:root:Splitting terms ['.desc//p=i', 'HP:0001608', '@', '.desc//p=i', 'HP:0001608'] on 2\n",
      "INFO:root:Calculating all-by-all pairwise similarity for 24 objects\n",
      "\u001b[2K\u001b[1A[00:00:00] Building (all subjects X all objects) pairwise similarity: \u001b[36m████████████████████████████████████████\u001b[34m\u001b[0m\u001b[0m 100%[1ABuilding (all subjects X all objects) pairwise similarity: \u001b[36m░\u001b[34m░░░░░░░░░░░░░░░░░░░░░░░░░░░░░░░░░░░░░░░\u001b[0m\u001b[0m 0%\u001b[1AINFO:root:Post-processing results from semsimian\n"
     ]
    }
   ],
   "source": [
    "# This is just the descendants of \"Abnormality of the voice\" - it's only 24 objects\n",
    "!runoak -vvv -i semsimian:sqlite:obo:hp similarity -p i .desc//p=i HP:0001608 @ .desc//p=i HP:0001608 -O csv -o {simfile}\n",
    "\n",
    "# This line will do all PA vs all PA for HP. That's pretty large (>17k objects)\n",
    "#!runoak -vvv -i semsimian:sqlite:obo:hp similarity -p i .desc//p=i HP:0000118 @ .desc//p=i HP:0000118"
   ]
  },
  {
   "cell_type": "code",
   "execution_count": 19,
   "metadata": {},
   "outputs": [
    {
     "name": "stdout",
     "output_type": "stream",
     "text": [
      "subject_id\tsubject_label\tsubject_source\tobject_id\tobject_label\tobject_source\tancestor_id\tancestor_label\tancestor_source\tobject_information_content\tsubject_information_content\tancestor_information_content\tjaccard_similarity\tcosine_similarity\tdice_similarity\tphenodigm_score\n",
      "HP:0001686\tLoss of voice\tNone\tHP:0031801\tVocal cord dysfunction\tNone\tHP:0001608\tAbnormality of the voice\tNone\tNone\tNone\t10.278546254157375\t0.6\tNone\tNone\t2.4833702407201437\n",
      "HP:0001686\tLoss of voice\tNone\tHP:0001604\tVocal cord paresis\tNone\tHP:0001608\tAbnormality of the voice\tNone\tNone\tNone\t10.278546254157375\t0.2727272727272727\tNone\tNone\t1.6742878747388292\n",
      "HP:0001686\tLoss of voice\tNone\tHP:0001609\tHoarse voice\tNone\tHP:0001608\tAbnormality of the voice\tNone\tNone\tNone\t10.278546254157375\t0.6\tNone\tNone\t2.4833702407201437\n",
      "HP:0001686\tLoss of voice\tNone\tHP:0005934\tImperfect vocal cord adduction\tNone\tHP:0001608\tAbnormality of the voice\tNone\tNone\tNone\t10.278546254157375\t0.5\tNone\tNone\t2.2669964991324285\n",
      "HP:0001686\tLoss of voice\tNone\tHP:0008757\tUnilateral vocal cord paralysis\tNone\tHP:0001608\tAbnormality of the voice\tNone\tNone\tNone\t10.278546254157375\t0.2727272727272727\tNone\tNone\t1.6742878747388292\n",
      "HP:0001686\tLoss of voice\tNone\tHP:0001608\tAbnormality of the voice\tNone\tHP:0001608\tAbnormality of the voice\tNone\tNone\tNone\t10.278546254157375\t0.75\tNone\tNone\t2.7764923357751288\n",
      "HP:0001686\tLoss of voice\tNone\tHP:0001618\tDysphonia\tNone\tHP:0001608\tAbnormality of the voice\tNone\tNone\tNone\t10.278546254157375\t0.6\tNone\tNone\t2.4833702407201437\n",
      "HP:0001686\tLoss of voice\tNone\tHP:0001612\tWeak cry\tNone\tHP:0001608\tAbnormality of the voice\tNone\tNone\tNone\t10.278546254157375\t0.5\tNone\tNone\t2.2669964991324285\n",
      "HP:0001686\tLoss of voice\tNone\tHP:0001615\tHoarse cry\tNone\tHP:0001608\tAbnormality of the voice\tNone\tNone\tNone\t10.278546254157375\t0.5\tNone\tNone\t2.2669964991324285\n"
     ]
    }
   ],
   "source": [
    "!head {simfile}"
   ]
  },
  {
   "cell_type": "code",
   "execution_count": 22,
   "metadata": {},
   "outputs": [
    {
     "data": {
      "text/html": [
       "<div><style>\n",
       ".dataframe > thead > tr > th,\n",
       ".dataframe > tbody > tr > td {\n",
       "  text-align: right;\n",
       "}\n",
       "</style>\n",
       "<small>shape: (576, 16)</small><table border=\"1\" class=\"dataframe\"><thead><tr><th>subject_id</th><th>subject_label</th><th>subject_source</th><th>object_id</th><th>object_label</th><th>object_source</th><th>ancestor_id</th><th>ancestor_label</th><th>ancestor_source</th><th>object_information_content</th><th>subject_information_content</th><th>ancestor_information_content</th><th>jaccard_similarity</th><th>cosine_similarity</th><th>dice_similarity</th><th>phenodigm_score</th></tr><tr><td>str</td><td>str</td><td>str</td><td>str</td><td>str</td><td>str</td><td>str</td><td>str</td><td>str</td><td>str</td><td>str</td><td>f64</td><td>f64</td><td>str</td><td>str</td><td>f64</td></tr></thead><tbody><tr><td>&quot;HP:0001686&quot;</td><td>&quot;Loss of voice&quot;</td><td>&quot;None&quot;</td><td>&quot;HP:0031801&quot;</td><td>&quot;Vocal cord dys…</td><td>&quot;None&quot;</td><td>&quot;HP:0001608&quot;</td><td>&quot;Abnormality of…</td><td>&quot;None&quot;</td><td>&quot;None&quot;</td><td>&quot;None&quot;</td><td>10.278546</td><td>0.6</td><td>&quot;None&quot;</td><td>&quot;None&quot;</td><td>2.48337</td></tr><tr><td>&quot;HP:0001686&quot;</td><td>&quot;Loss of voice&quot;</td><td>&quot;None&quot;</td><td>&quot;HP:0001604&quot;</td><td>&quot;Vocal cord par…</td><td>&quot;None&quot;</td><td>&quot;HP:0001608&quot;</td><td>&quot;Abnormality of…</td><td>&quot;None&quot;</td><td>&quot;None&quot;</td><td>&quot;None&quot;</td><td>10.278546</td><td>0.272727</td><td>&quot;None&quot;</td><td>&quot;None&quot;</td><td>1.674288</td></tr><tr><td>&quot;HP:0001686&quot;</td><td>&quot;Loss of voice&quot;</td><td>&quot;None&quot;</td><td>&quot;HP:0001609&quot;</td><td>&quot;Hoarse voice&quot;</td><td>&quot;None&quot;</td><td>&quot;HP:0001608&quot;</td><td>&quot;Abnormality of…</td><td>&quot;None&quot;</td><td>&quot;None&quot;</td><td>&quot;None&quot;</td><td>10.278546</td><td>0.6</td><td>&quot;None&quot;</td><td>&quot;None&quot;</td><td>2.48337</td></tr><tr><td>&quot;HP:0001686&quot;</td><td>&quot;Loss of voice&quot;</td><td>&quot;None&quot;</td><td>&quot;HP:0005934&quot;</td><td>&quot;Imperfect voca…</td><td>&quot;None&quot;</td><td>&quot;HP:0001608&quot;</td><td>&quot;Abnormality of…</td><td>&quot;None&quot;</td><td>&quot;None&quot;</td><td>&quot;None&quot;</td><td>10.278546</td><td>0.5</td><td>&quot;None&quot;</td><td>&quot;None&quot;</td><td>2.266996</td></tr><tr><td>&quot;HP:0001686&quot;</td><td>&quot;Loss of voice&quot;</td><td>&quot;None&quot;</td><td>&quot;HP:0008757&quot;</td><td>&quot;Unilateral voc…</td><td>&quot;None&quot;</td><td>&quot;HP:0001608&quot;</td><td>&quot;Abnormality of…</td><td>&quot;None&quot;</td><td>&quot;None&quot;</td><td>&quot;None&quot;</td><td>10.278546</td><td>0.272727</td><td>&quot;None&quot;</td><td>&quot;None&quot;</td><td>1.674288</td></tr><tr><td>&quot;HP:0001686&quot;</td><td>&quot;Loss of voice&quot;</td><td>&quot;None&quot;</td><td>&quot;HP:0001608&quot;</td><td>&quot;Abnormality of…</td><td>&quot;None&quot;</td><td>&quot;HP:0001608&quot;</td><td>&quot;Abnormality of…</td><td>&quot;None&quot;</td><td>&quot;None&quot;</td><td>&quot;None&quot;</td><td>10.278546</td><td>0.75</td><td>&quot;None&quot;</td><td>&quot;None&quot;</td><td>2.776492</td></tr><tr><td>&quot;HP:0001686&quot;</td><td>&quot;Loss of voice&quot;</td><td>&quot;None&quot;</td><td>&quot;HP:0001618&quot;</td><td>&quot;Dysphonia&quot;</td><td>&quot;None&quot;</td><td>&quot;HP:0001608&quot;</td><td>&quot;Abnormality of…</td><td>&quot;None&quot;</td><td>&quot;None&quot;</td><td>&quot;None&quot;</td><td>10.278546</td><td>0.6</td><td>&quot;None&quot;</td><td>&quot;None&quot;</td><td>2.48337</td></tr><tr><td>&quot;HP:0001686&quot;</td><td>&quot;Loss of voice&quot;</td><td>&quot;None&quot;</td><td>&quot;HP:0001612&quot;</td><td>&quot;Weak cry&quot;</td><td>&quot;None&quot;</td><td>&quot;HP:0001608&quot;</td><td>&quot;Abnormality of…</td><td>&quot;None&quot;</td><td>&quot;None&quot;</td><td>&quot;None&quot;</td><td>10.278546</td><td>0.5</td><td>&quot;None&quot;</td><td>&quot;None&quot;</td><td>2.266996</td></tr><tr><td>&quot;HP:0001686&quot;</td><td>&quot;Loss of voice&quot;</td><td>&quot;None&quot;</td><td>&quot;HP:0001615&quot;</td><td>&quot;Hoarse cry&quot;</td><td>&quot;None&quot;</td><td>&quot;HP:0001608&quot;</td><td>&quot;Abnormality of…</td><td>&quot;None&quot;</td><td>&quot;None&quot;</td><td>&quot;None&quot;</td><td>10.278546</td><td>0.5</td><td>&quot;None&quot;</td><td>&quot;None&quot;</td><td>2.266996</td></tr><tr><td>&quot;HP:0001686&quot;</td><td>&quot;Loss of voice&quot;</td><td>&quot;None&quot;</td><td>&quot;HP:0100271&quot;</td><td>&quot;Hyponasal spee…</td><td>&quot;None&quot;</td><td>&quot;HP:0001608&quot;</td><td>&quot;Abnormality of…</td><td>&quot;None&quot;</td><td>&quot;None&quot;</td><td>&quot;None&quot;</td><td>10.278546</td><td>0.6</td><td>&quot;None&quot;</td><td>&quot;None&quot;</td><td>2.48337</td></tr><tr><td>&quot;HP:0001686&quot;</td><td>&quot;Loss of voice&quot;</td><td>&quot;None&quot;</td><td>&quot;HP:0200046&quot;</td><td>&quot;Cat cry&quot;</td><td>&quot;None&quot;</td><td>&quot;HP:0001608&quot;</td><td>&quot;Abnormality of…</td><td>&quot;None&quot;</td><td>&quot;None&quot;</td><td>&quot;None&quot;</td><td>10.278546</td><td>0.5</td><td>&quot;None&quot;</td><td>&quot;None&quot;</td><td>2.266996</td></tr><tr><td>&quot;HP:0001686&quot;</td><td>&quot;Loss of voice&quot;</td><td>&quot;None&quot;</td><td>&quot;HP:0012822&quot;</td><td>&quot;Bilateral voca…</td><td>&quot;None&quot;</td><td>&quot;HP:0001608&quot;</td><td>&quot;Abnormality of…</td><td>&quot;None&quot;</td><td>&quot;None&quot;</td><td>&quot;None&quot;</td><td>10.278546</td><td>0.25</td><td>&quot;None&quot;</td><td>&quot;None&quot;</td><td>1.603009</td></tr><tr><td>&hellip;</td><td>&hellip;</td><td>&hellip;</td><td>&hellip;</td><td>&hellip;</td><td>&hellip;</td><td>&hellip;</td><td>&hellip;</td><td>&hellip;</td><td>&hellip;</td><td>&hellip;</td><td>&hellip;</td><td>&hellip;</td><td>&hellip;</td><td>&hellip;</td><td>&hellip;</td></tr><tr><td>&quot;HP:0025429&quot;</td><td>&quot;Abnormal cry&quot;</td><td>&quot;None&quot;</td><td>&quot;HP:0012820&quot;</td><td>&quot;Bilateral voca…</td><td>&quot;None&quot;</td><td>&quot;HP:0001608&quot;</td><td>&quot;Abnormality of…</td><td>&quot;None&quot;</td><td>&quot;None&quot;</td><td>&quot;None&quot;</td><td>10.278546</td><td>0.272727</td><td>&quot;None&quot;</td><td>&quot;None&quot;</td><td>1.674288</td></tr><tr><td>&quot;HP:0025429&quot;</td><td>&quot;Abnormal cry&quot;</td><td>&quot;None&quot;</td><td>&quot;HP:0200046&quot;</td><td>&quot;Cat cry&quot;</td><td>&quot;None&quot;</td><td>&quot;HP:0025429&quot;</td><td>&quot;Abnormal cry&quot;</td><td>&quot;None&quot;</td><td>&quot;None&quot;</td><td>&quot;None&quot;</td><td>12.541581</td><td>0.8</td><td>&quot;None&quot;</td><td>&quot;None&quot;</td><td>3.167533</td></tr><tr><td>&quot;HP:0025429&quot;</td><td>&quot;Abnormal cry&quot;</td><td>&quot;None&quot;</td><td>&quot;HP:0008757&quot;</td><td>&quot;Unilateral voc…</td><td>&quot;None&quot;</td><td>&quot;HP:0001608&quot;</td><td>&quot;Abnormality of…</td><td>&quot;None&quot;</td><td>&quot;None&quot;</td><td>&quot;None&quot;</td><td>10.278546</td><td>0.272727</td><td>&quot;None&quot;</td><td>&quot;None&quot;</td><td>1.674288</td></tr><tr><td>&quot;HP:0025429&quot;</td><td>&quot;Abnormal cry&quot;</td><td>&quot;None&quot;</td><td>&quot;HP:0001611&quot;</td><td>&quot;Hypernasal spe…</td><td>&quot;None&quot;</td><td>&quot;HP:0001608&quot;</td><td>&quot;Abnormality of…</td><td>&quot;None&quot;</td><td>&quot;None&quot;</td><td>&quot;None&quot;</td><td>10.278546</td><td>0.6</td><td>&quot;None&quot;</td><td>&quot;None&quot;</td><td>2.48337</td></tr><tr><td>&quot;HP:0025429&quot;</td><td>&quot;Abnormal cry&quot;</td><td>&quot;None&quot;</td><td>&quot;HP:0007024&quot;</td><td>&quot;Pseudobulbar p…</td><td>&quot;None&quot;</td><td>&quot;HP:0001608&quot;</td><td>&quot;Abnormality of…</td><td>&quot;None&quot;</td><td>&quot;None&quot;</td><td>&quot;None&quot;</td><td>10.278546</td><td>0.136364</td><td>&quot;None&quot;</td><td>&quot;None&quot;</td><td>1.1839</td></tr><tr><td>&quot;HP:0025429&quot;</td><td>&quot;Abnormal cry&quot;</td><td>&quot;None&quot;</td><td>&quot;HP:0001605&quot;</td><td>&quot;Vocal cord par…</td><td>&quot;None&quot;</td><td>&quot;HP:0001608&quot;</td><td>&quot;Abnormality of…</td><td>&quot;None&quot;</td><td>&quot;None&quot;</td><td>&quot;None&quot;</td><td>10.278546</td><td>0.3</td><td>&quot;None&quot;</td><td>&quot;None&quot;</td><td>1.756008</td></tr><tr><td>&quot;HP:0025429&quot;</td><td>&quot;Abnormal cry&quot;</td><td>&quot;None&quot;</td><td>&quot;HP:0012822&quot;</td><td>&quot;Bilateral voca…</td><td>&quot;None&quot;</td><td>&quot;HP:0001608&quot;</td><td>&quot;Abnormality of…</td><td>&quot;None&quot;</td><td>&quot;None&quot;</td><td>&quot;None&quot;</td><td>10.278546</td><td>0.25</td><td>&quot;None&quot;</td><td>&quot;None&quot;</td><td>1.603009</td></tr><tr><td>&quot;HP:0025429&quot;</td><td>&quot;Abnormal cry&quot;</td><td>&quot;None&quot;</td><td>&quot;HP:0009088&quot;</td><td>&quot;Speech articul…</td><td>&quot;None&quot;</td><td>&quot;HP:0001608&quot;</td><td>&quot;Abnormality of…</td><td>&quot;None&quot;</td><td>&quot;None&quot;</td><td>&quot;None&quot;</td><td>10.278546</td><td>0.272727</td><td>&quot;None&quot;</td><td>&quot;None&quot;</td><td>1.674288</td></tr><tr><td>&quot;HP:0025429&quot;</td><td>&quot;Abnormal cry&quot;</td><td>&quot;None&quot;</td><td>&quot;HP:0005934&quot;</td><td>&quot;Imperfect voca…</td><td>&quot;None&quot;</td><td>&quot;HP:0001608&quot;</td><td>&quot;Abnormality of…</td><td>&quot;None&quot;</td><td>&quot;None&quot;</td><td>&quot;None&quot;</td><td>10.278546</td><td>0.5</td><td>&quot;None&quot;</td><td>&quot;None&quot;</td><td>2.266996</td></tr><tr><td>&quot;HP:0025429&quot;</td><td>&quot;Abnormal cry&quot;</td><td>&quot;None&quot;</td><td>&quot;HP:0012049&quot;</td><td>&quot;Laryngeal dyst…</td><td>&quot;None&quot;</td><td>&quot;HP:0001608&quot;</td><td>&quot;Abnormality of…</td><td>&quot;None&quot;</td><td>&quot;None&quot;</td><td>&quot;None&quot;</td><td>10.278546</td><td>0.272727</td><td>&quot;None&quot;</td><td>&quot;None&quot;</td><td>1.674288</td></tr><tr><td>&quot;HP:0025429&quot;</td><td>&quot;Abnormal cry&quot;</td><td>&quot;None&quot;</td><td>&quot;HP:0001618&quot;</td><td>&quot;Dysphonia&quot;</td><td>&quot;None&quot;</td><td>&quot;HP:0001608&quot;</td><td>&quot;Abnormality of…</td><td>&quot;None&quot;</td><td>&quot;None&quot;</td><td>&quot;None&quot;</td><td>10.278546</td><td>0.6</td><td>&quot;None&quot;</td><td>&quot;None&quot;</td><td>2.48337</td></tr><tr><td>&quot;HP:0025429&quot;</td><td>&quot;Abnormal cry&quot;</td><td>&quot;None&quot;</td><td>&quot;HP:0001612&quot;</td><td>&quot;Weak cry&quot;</td><td>&quot;None&quot;</td><td>&quot;HP:0025429&quot;</td><td>&quot;Abnormal cry&quot;</td><td>&quot;None&quot;</td><td>&quot;None&quot;</td><td>&quot;None&quot;</td><td>12.541581</td><td>0.8</td><td>&quot;None&quot;</td><td>&quot;None&quot;</td><td>3.167533</td></tr></tbody></table></div>"
      ],
      "text/plain": [
       "shape: (576, 16)\n",
       "┌───────────┬───────────┬───────────┬───────────┬───┬───────────┬───────────┬───────────┬──────────┐\n",
       "│ subject_i ┆ subject_l ┆ subject_s ┆ object_id ┆ … ┆ jaccard_s ┆ cosine_si ┆ dice_simi ┆ phenodig │\n",
       "│ d         ┆ abel      ┆ ource     ┆ ---       ┆   ┆ imilarity ┆ milarity  ┆ larity    ┆ m_score  │\n",
       "│ ---       ┆ ---       ┆ ---       ┆ str       ┆   ┆ ---       ┆ ---       ┆ ---       ┆ ---      │\n",
       "│ str       ┆ str       ┆ str       ┆           ┆   ┆ f64       ┆ str       ┆ str       ┆ f64      │\n",
       "╞═══════════╪═══════════╪═══════════╪═══════════╪═══╪═══════════╪═══════════╪═══════════╪══════════╡\n",
       "│ HP:000168 ┆ Loss of   ┆ None      ┆ HP:003180 ┆ … ┆ 0.6       ┆ None      ┆ None      ┆ 2.48337  │\n",
       "│ 6         ┆ voice     ┆           ┆ 1         ┆   ┆           ┆           ┆           ┆          │\n",
       "│ HP:000168 ┆ Loss of   ┆ None      ┆ HP:000160 ┆ … ┆ 0.272727  ┆ None      ┆ None      ┆ 1.674288 │\n",
       "│ 6         ┆ voice     ┆           ┆ 4         ┆   ┆           ┆           ┆           ┆          │\n",
       "│ HP:000168 ┆ Loss of   ┆ None      ┆ HP:000160 ┆ … ┆ 0.6       ┆ None      ┆ None      ┆ 2.48337  │\n",
       "│ 6         ┆ voice     ┆           ┆ 9         ┆   ┆           ┆           ┆           ┆          │\n",
       "│ HP:000168 ┆ Loss of   ┆ None      ┆ HP:000593 ┆ … ┆ 0.5       ┆ None      ┆ None      ┆ 2.266996 │\n",
       "│ 6         ┆ voice     ┆           ┆ 4         ┆   ┆           ┆           ┆           ┆          │\n",
       "│ …         ┆ …         ┆ …         ┆ …         ┆ … ┆ …         ┆ …         ┆ …         ┆ …        │\n",
       "│ HP:002542 ┆ Abnormal  ┆ None      ┆ HP:000593 ┆ … ┆ 0.5       ┆ None      ┆ None      ┆ 2.266996 │\n",
       "│ 9         ┆ cry       ┆           ┆ 4         ┆   ┆           ┆           ┆           ┆          │\n",
       "│ HP:002542 ┆ Abnormal  ┆ None      ┆ HP:001204 ┆ … ┆ 0.272727  ┆ None      ┆ None      ┆ 1.674288 │\n",
       "│ 9         ┆ cry       ┆           ┆ 9         ┆   ┆           ┆           ┆           ┆          │\n",
       "│ HP:002542 ┆ Abnormal  ┆ None      ┆ HP:000161 ┆ … ┆ 0.6       ┆ None      ┆ None      ┆ 2.48337  │\n",
       "│ 9         ┆ cry       ┆           ┆ 8         ┆   ┆           ┆           ┆           ┆          │\n",
       "│ HP:002542 ┆ Abnormal  ┆ None      ┆ HP:000161 ┆ … ┆ 0.8       ┆ None      ┆ None      ┆ 3.167533 │\n",
       "│ 9         ┆ cry       ┆           ┆ 2         ┆   ┆           ┆           ┆           ┆          │\n",
       "└───────────┴───────────┴───────────┴───────────┴───┴───────────┴───────────┴───────────┴──────────┘"
      ]
     },
     "execution_count": 22,
     "metadata": {},
     "output_type": "execute_result"
    }
   ],
   "source": [
    "simsdf = pl.read_csv(simfile, separator='\\t')\n",
    "simsdf"
   ]
  },
  {
   "cell_type": "code",
   "execution_count": 28,
   "metadata": {},
   "outputs": [
    {
     "data": {
      "text/html": [
       "<div><style>\n",
       ".dataframe > thead > tr > th,\n",
       ".dataframe > tbody > tr > td {\n",
       "  text-align: right;\n",
       "}\n",
       "</style>\n",
       "<small>shape: (3, 3)</small><table border=\"1\" class=\"dataframe\"><thead><tr><th>break_point</th><th>category</th><th>jaccard_similarity_count</th></tr><tr><td>f64</td><td>cat</td><td>u32</td></tr></thead><tbody><tr><td>-1.0</td><td>&quot;(-inf, -1.0]&quot;</td><td>0</td></tr><tr><td>0.5</td><td>&quot;(-1.0, 0.5]&quot;</td><td>414</td></tr><tr><td>inf</td><td>&quot;(0.5, inf]&quot;</td><td>162</td></tr></tbody></table></div>"
      ],
      "text/plain": [
       "shape: (3, 3)\n",
       "┌─────────────┬──────────────┬──────────────────────────┐\n",
       "│ break_point ┆ category     ┆ jaccard_similarity_count │\n",
       "│ ---         ┆ ---          ┆ ---                      │\n",
       "│ f64         ┆ cat          ┆ u32                      │\n",
       "╞═════════════╪══════════════╪══════════════════════════╡\n",
       "│ -1.0        ┆ (-inf, -1.0] ┆ 0                        │\n",
       "│ 0.5         ┆ (-1.0, 0.5]  ┆ 414                      │\n",
       "│ inf         ┆ (0.5, inf]   ┆ 162                      │\n",
       "└─────────────┴──────────────┴──────────────────────────┘"
      ]
     },
     "execution_count": 28,
     "metadata": {},
     "output_type": "execute_result"
    }
   ],
   "source": [
    "simsdf[\"jaccard_similarity\"].hist(bin_count=2)"
   ]
  },
  {
   "cell_type": "code",
   "execution_count": 67,
   "metadata": {
    "scrolled": true
   },
   "outputs": [
    {
     "data": {
      "text/plain": [
       "(0.0, 1.0, 0.0, 1.0)"
      ]
     },
     "execution_count": 67,
     "metadata": {},
     "output_type": "execute_result"
    },
    {
     "data": {
      "image/png": "[encoded data removed]",
      "text/plain": [
       "<Figure size 800x800 with 4 Axes>"
      ]
     },
     "metadata": {},
     "output_type": "display_data"
    }
   ],
   "source": [
    "fig, axs = plt.subplots(2, 2, figsize=(8, 8))\n",
    "snl.histplot(simsdf, x='jaccard_similarity', color=\"darkred\", ax=axs[0, 0])\n",
    "snl.histplot(simsdf, x='ancestor_information_content', color=\"darkorange\", ax=axs[0, 1])\n",
    "snl.histplot(simsdf, x='phenodigm_score', color=\"darkblue\", ax=axs[1, 0])\n",
    "axs[1, 1].axis('off')"
   ]
  },
  {
   "cell_type": "markdown",
   "metadata": {},
   "source": [
    "### Embeddings for HP through OntoGPT and GPT-3.5"
   ]
  },
  {
   "cell_type": "markdown",
   "metadata": {},
   "source": [
    "The basic idea here is to get embeddings for all labels and get linear distance."
   ]
  },
  {
   "cell_type": "code",
   "execution_count": null,
   "metadata": {},
   "outputs": [],
   "source": []
  }
 ],
 "metadata": {
  "colab": {
   "authorship_tag": "ABX9TyOKblottNzNAVbUXf712AY3",
   "provenance": []
  },
  "kernelspec": {
   "display_name": "Python 3 (ipykernel)",
   "language": "python",
   "name": "python3"
  },
  "language_info": {
   "codemirror_mode": {
    "name": "ipython",
    "version": 3
   },
   "file_extension": ".py",
   "mimetype": "text/x-python",
   "name": "python",
   "nbconvert_exporter": "python",
   "pygments_lexer": "ipython3",
   "version": "3.9.16"
  }
 },
 "nbformat": 4,
 "nbformat_minor": 4
}
