{
 "cells": [
  {
   "cell_type": "code",
   "execution_count": 1,
   "metadata": {},
   "outputs": [],
   "source": [
    "%reset -f"
   ]
  },
  {
   "cell_type": "code",
   "execution_count": 2,
   "metadata": {
    "colab": {
     "base_uri": "https://localhost:8080/"
    },
    "executionInfo": {
     "elapsed": 40896,
     "status": "ok",
     "timestamp": 1691683724630,
     "user": {
      "displayName": "Kevin Schaper",
      "userId": "12126623141624024195"
     },
     "user_tz": 420
    },
    "id": "-bIXpdDFMwl-",
    "outputId": "c2800b96-c29a-451c-9e26-5ca3059a1028"
   },
   "outputs": [],
   "source": [
    "# !pip install oaklib==0.5.16-rc1"
   ]
  },
  {
   "cell_type": "code",
   "execution_count": 3,
   "metadata": {
    "colab": {
     "base_uri": "https://localhost:8080/"
    },
    "executionInfo": {
     "elapsed": 1277,
     "status": "ok",
     "timestamp": 1691683951632,
     "user": {
      "displayName": "Kevin Schaper",
      "userId": "12126623141624024195"
     },
     "user_tz": 420
    },
    "id": "wXAgttWUNGvk",
    "outputId": "6f32360f-0b57-4143-c301-67a78363e12c"
   },
   "outputs": [
    {
     "name": "stdout",
     "output_type": "stream",
     "text": [
      "CPU times: user 6.18 s, sys: 1.31 s, total: 7.49 s\n",
      "Wall time: 9.2 s\n"
     ]
    }
   ],
   "source": [
    "%%time\n",
    "from oaklib.selector import get_adapter\n",
    "semsim = get_adapter(f\"semsimian:sqlite:obo:phenio\")"
   ]
  },
  {
   "cell_type": "code",
   "execution_count": 4,
   "metadata": {
    "id": "bzGuyJ6KOLFC"
   },
   "outputs": [
    {
     "name": "stdout",
     "output_type": "stream",
     "text": [
      "CPU times: user 12min 20s, sys: 3min 26s, total: 15min 47s\n",
      "Wall time: 16min 45s\n"
     ]
    },
    {
     "data": {
      "text/plain": [
       "TermSetPairwiseSimilarity(subject_termset={'MP:0010771': TermInfo(id='MP:0010771', label=None), 'MP:0002169': TermInfo(id='MP:0002169', label=None), 'MP:0005391': TermInfo(id='MP:0005391', label=None), 'MP:0005389': TermInfo(id='MP:0005389', label=None), 'MP:0005367': TermInfo(id='MP:0005367', label=None)}, object_termset={'HP:0004325': TermInfo(id='HP:0004325', label=None), 'HP:0000093': TermInfo(id='HP:0000093', label=None), 'MP:0006144': TermInfo(id='MP:0006144', label=None)}, subject_best_matches={'MP:0010771': BestMatch(match_source='MP:0010771', score=4.423749541496217, similarity=TermPairwiseSimilarity(subject_id='MP:0010771', subject_label=None, subject_source=None, object_id='MP:0006144', object_label=None, object_source=None, ancestor_id='MP:0000001', ancestor_label=None, ancestor_source=None, object_information_content=None, subject_information_content=None, ancestor_information_content=4.423749541496217, jaccard_similarity=0.38028169014084506, dice_similarity=None, phenodigm_score=1.2970238827407805), match_source_label=None, match_target='MP:0006144', match_target_label=None, match_subsumer=None, match_subsumer_label=None), 'MP:0005389': BestMatch(match_source='MP:0005389', score=4.423749541496217, similarity=TermPairwiseSimilarity(subject_id='MP:0005389', subject_label=None, subject_source=None, object_id='MP:0006144', object_label=None, object_source=None, ancestor_id='MP:0000001', ancestor_label=None, ancestor_source=None, object_information_content=None, subject_information_content=None, ancestor_information_content=4.423749541496217, jaccard_similarity=0.38571428571428573, dice_similarity=None, phenodigm_score=1.3062554859510112), match_source_label=None, match_target='MP:0006144', match_target_label=None, match_subsumer=None, match_subsumer_label=None), 'MP:0002169': BestMatch(match_source='MP:0002169', score=4.423749541496217, similarity=TermPairwiseSimilarity(subject_id='MP:0002169', subject_label=None, subject_source=None, object_id='MP:0006144', object_label=None, object_source=None, ancestor_id='MP:0000001', ancestor_label=None, ancestor_source=None, object_information_content=None, subject_information_content=None, ancestor_information_content=4.423749541496217, jaccard_similarity=0.1, dice_similarity=None, phenodigm_score=0.6651127379246482), match_source_label=None, match_target='MP:0006144', match_target_label=None, match_subsumer=None, match_subsumer_label=None), 'MP:0005391': BestMatch(match_source='MP:0005391', score=4.423749541496217, similarity=TermPairwiseSimilarity(subject_id='MP:0005391', subject_label=None, subject_source=None, object_id='MP:0006144', object_label=None, object_source=None, ancestor_id='MP:0000001', ancestor_label=None, ancestor_source=None, object_information_content=None, subject_information_content=None, ancestor_information_content=4.423749541496217, jaccard_similarity=0.36486486486486486, dice_similarity=None, phenodigm_score=1.270460852861679), match_source_label=None, match_target='MP:0006144', match_target_label=None, match_subsumer=None, match_subsumer_label=None), 'MP:0005367': BestMatch(match_source='MP:0005367', score=6.050708797253648, similarity=TermPairwiseSimilarity(subject_id='MP:0005367', subject_label=None, subject_source=None, object_id='HP:0000093', object_label=None, object_source=None, ancestor_id='UBERON:0001008', ancestor_label=None, ancestor_source=None, object_information_content=None, subject_information_content=None, ancestor_information_content=6.050708797253648, jaccard_similarity=0.24107142857142858, dice_similarity=None, phenodigm_score=1.2077470818112737), match_source_label=None, match_target='HP:0000093', match_target_label=None, match_subsumer=None, match_subsumer_label=None)}, object_best_matches={'HP:0000093': BestMatch(match_source='HP:0000093', score=6.050708797253648, similarity=TermPairwiseSimilarity(subject_id='MP:0005367', subject_label=None, subject_source=None, object_id='HP:0000093', object_label=None, object_source=None, ancestor_id='UBERON:0001008', ancestor_label=None, ancestor_source=None, object_information_content=None, subject_information_content=None, ancestor_information_content=6.050708797253648, jaccard_similarity=0.24107142857142858, dice_similarity=None, phenodigm_score=1.2077470818112737), match_source_label=None, match_target='MP:0005367', match_target_label=None, match_subsumer=None, match_subsumer_label=None), 'MP:0006144': BestMatch(match_source='MP:0006144', score=4.423749541496217, similarity=TermPairwiseSimilarity(subject_id='MP:0010771', subject_label=None, subject_source=None, object_id='MP:0006144', object_label=None, object_source=None, ancestor_id='MP:0000001', ancestor_label=None, ancestor_source=None, object_information_content=None, subject_information_content=None, ancestor_information_content=4.423749541496217, jaccard_similarity=0.38028169014084506, dice_similarity=None, phenodigm_score=1.2970238827407805), match_source_label=None, match_target='MP:0010771', match_target_label=None, match_subsumer=None, match_subsumer_label=None), 'HP:0004325': BestMatch(match_source='HP:0004325', score=1.4492641806731075, similarity=TermPairwiseSimilarity(subject_id='MP:0010771', subject_label=None, subject_source=None, object_id='HP:0004325', object_label=None, object_source=None, ancestor_id='UPHENO:0001003', ancestor_label=None, ancestor_source=None, object_information_content=None, subject_information_content=None, ancestor_information_content=1.4492641806731075, jaccard_similarity=0.43137254901960786, dice_similarity=None, phenodigm_score=0.7906786855732054), match_source_label=None, match_target='MP:0010771', match_target_label=None, match_subsumer=None, match_subsumer_label=None)}, average_score=4.458678685332686, best_score=6.050708797253648, metric=None)"
      ]
     },
     "execution_count": 4,
     "metadata": {},
     "output_type": "execute_result"
    }
   ],
   "source": [
    "%%time\n",
    "semsim.termset_pairwise_similarity(\n",
    "            subjects=[\"MP:0010771\",\"MP:0002169\",\"MP:0005391\",\"MP:0005389\",\"MP:0005367\"],\n",
    "            objects=[\"HP:0004325\",\"HP:0000093\",\"MP:0006144\"],\n",
    "            predicates=[\"rdfs:subClassOf\", \"BFO:0000050\", \"UPHENO:0000001\"],\n",
    "            labels=False,\n",
    "        )"
   ]
  },
  {
   "cell_type": "code",
   "execution_count": 10,
   "metadata": {},
   "outputs": [
    {
     "data": {
      "text/plain": [
       "{('BFO:0000050',\n",
       "  'UPHENO:0000001',\n",
       "  'rdfs:subClassOf'): <Semsimian at 0x7fd56ba2da70>}"
      ]
     },
     "execution_count": 10,
     "metadata": {},
     "output_type": "execute_result"
    }
   ],
   "source": [
    "semsim.semsimian_object_cache"
   ]
  },
  {
   "cell_type": "code",
   "execution_count": 6,
   "metadata": {
    "id": "tnMEeekQO7Ne"
   },
   "outputs": [
    {
     "name": "stdout",
     "output_type": "stream",
     "text": [
      "CPU times: user 26.8 s, sys: 3.52 s, total: 30.3 s\n",
      "Wall time: 29.9 s\n"
     ]
    },
    {
     "data": {
      "text/plain": [
       "TermSetPairwiseSimilarity(subject_termset={'MP:0010771': TermInfo(id='MP:0010771', label=None), 'MP:0002169': TermInfo(id='MP:0002169', label=None), 'MP:0005391': TermInfo(id='MP:0005391', label=None), 'MP:0005389': TermInfo(id='MP:0005389', label=None), 'MP:0005367': TermInfo(id='MP:0005367', label=None)}, object_termset={'HP:0004325': TermInfo(id='HP:0004325', label=None), 'HP:0000093': TermInfo(id='HP:0000093', label=None), 'MP:0006144': TermInfo(id='MP:0006144', label=None)}, subject_best_matches={'MP:0002169': BestMatch(match_source='MP:0002169', score=4.423749541496217, similarity=TermPairwiseSimilarity(subject_id='MP:0002169', subject_label=None, subject_source=None, object_id='MP:0006144', object_label=None, object_source=None, ancestor_id='MP:0000001', ancestor_label=None, ancestor_source=None, object_information_content=None, subject_information_content=None, ancestor_information_content=4.423749541496217, jaccard_similarity=0.1, dice_similarity=None, phenodigm_score=0.6651127379246482), match_source_label=None, match_target='MP:0006144', match_target_label=None, match_subsumer=None, match_subsumer_label=None), 'MP:0005367': BestMatch(match_source='MP:0005367', score=6.050708797253648, similarity=TermPairwiseSimilarity(subject_id='MP:0005367', subject_label=None, subject_source=None, object_id='HP:0000093', object_label=None, object_source=None, ancestor_id='UBERON:0001008', ancestor_label=None, ancestor_source=None, object_information_content=None, subject_information_content=None, ancestor_information_content=6.050708797253648, jaccard_similarity=0.24107142857142858, dice_similarity=None, phenodigm_score=1.2077470818112737), match_source_label=None, match_target='HP:0000093', match_target_label=None, match_subsumer=None, match_subsumer_label=None), 'MP:0005391': BestMatch(match_source='MP:0005391', score=4.423749541496217, similarity=TermPairwiseSimilarity(subject_id='MP:0005391', subject_label=None, subject_source=None, object_id='MP:0006144', object_label=None, object_source=None, ancestor_id='MP:0000001', ancestor_label=None, ancestor_source=None, object_information_content=None, subject_information_content=None, ancestor_information_content=4.423749541496217, jaccard_similarity=0.36486486486486486, dice_similarity=None, phenodigm_score=1.270460852861679), match_source_label=None, match_target='MP:0006144', match_target_label=None, match_subsumer=None, match_subsumer_label=None), 'MP:0005389': BestMatch(match_source='MP:0005389', score=4.423749541496217, similarity=TermPairwiseSimilarity(subject_id='MP:0005389', subject_label=None, subject_source=None, object_id='MP:0006144', object_label=None, object_source=None, ancestor_id='MP:0000001', ancestor_label=None, ancestor_source=None, object_information_content=None, subject_information_content=None, ancestor_information_content=4.423749541496217, jaccard_similarity=0.38571428571428573, dice_similarity=None, phenodigm_score=1.3062554859510112), match_source_label=None, match_target='MP:0006144', match_target_label=None, match_subsumer=None, match_subsumer_label=None), 'MP:0010771': BestMatch(match_source='MP:0010771', score=4.423749541496217, similarity=TermPairwiseSimilarity(subject_id='MP:0010771', subject_label=None, subject_source=None, object_id='MP:0006144', object_label=None, object_source=None, ancestor_id='MP:0000001', ancestor_label=None, ancestor_source=None, object_information_content=None, subject_information_content=None, ancestor_information_content=4.423749541496217, jaccard_similarity=0.38028169014084506, dice_similarity=None, phenodigm_score=1.2970238827407805), match_source_label=None, match_target='MP:0006144', match_target_label=None, match_subsumer=None, match_subsumer_label=None)}, object_best_matches={'HP:0000093': BestMatch(match_source='HP:0000093', score=6.050708797253648, similarity=TermPairwiseSimilarity(subject_id='MP:0005367', subject_label=None, subject_source=None, object_id='HP:0000093', object_label=None, object_source=None, ancestor_id='UBERON:0001008', ancestor_label=None, ancestor_source=None, object_information_content=None, subject_information_content=None, ancestor_information_content=6.050708797253648, jaccard_similarity=0.24107142857142858, dice_similarity=None, phenodigm_score=1.2077470818112737), match_source_label=None, match_target='MP:0005367', match_target_label=None, match_subsumer=None, match_subsumer_label=None), 'HP:0004325': BestMatch(match_source='HP:0004325', score=1.4492641806731075, similarity=TermPairwiseSimilarity(subject_id='MP:0002169', subject_label=None, subject_source=None, object_id='HP:0004325', object_label=None, object_source=None, ancestor_id='UPHENO:0001003', ancestor_label=None, ancestor_source=None, object_information_content=None, subject_information_content=None, ancestor_information_content=1.4492641806731075, jaccard_similarity=0.13043478260869565, dice_similarity=None, phenodigm_score=0.4347809314455571), match_source_label=None, match_target='MP:0002169', match_target_label=None, match_subsumer=None, match_subsumer_label=None), 'MP:0006144': BestMatch(match_source='MP:0006144', score=4.423749541496217, similarity=TermPairwiseSimilarity(subject_id='MP:0002169', subject_label=None, subject_source=None, object_id='MP:0006144', object_label=None, object_source=None, ancestor_id='MP:0000001', ancestor_label=None, ancestor_source=None, object_information_content=None, subject_information_content=None, ancestor_information_content=4.423749541496217, jaccard_similarity=0.1, dice_similarity=None, phenodigm_score=0.6651127379246482), match_source_label=None, match_target='MP:0002169', match_target_label=None, match_subsumer=None, match_subsumer_label=None)}, average_score=4.458678685332686, best_score=6.050708797253648, metric=None)"
      ]
     },
     "execution_count": 6,
     "metadata": {},
     "output_type": "execute_result"
    }
   ],
   "source": [
    "%%time\n",
    "semsim.termset_pairwise_similarity(\n",
    "            subjects=[\"MP:0010771\",\"MP:0002169\",\"MP:0005391\",\"MP:0005389\",\"MP:0005367\"],\n",
    "            objects=[\"HP:0004325\",\"HP:0000093\",\"MP:0006144\"],\n",
    "            predicates=[\"rdfs:subClassOf\", \"BFO:0000050\", \"UPHENO:0000001\"],\n",
    "            labels=False,\n",
    "        )"
   ]
  },
  {
   "cell_type": "code",
   "execution_count": 11,
   "metadata": {},
   "outputs": [
    {
     "name": "stdout",
     "output_type": "stream",
     "text": [
      "CPU times: user 16 s, sys: 901 ms, total: 16.9 s\n",
      "Wall time: 16.8 s\n"
     ]
    },
    {
     "data": {
      "text/plain": [
       "TermSetPairwiseSimilarity(subject_termset={}, object_termset={}, subject_best_matches={}, object_best_matches={}, average_score=4.361857782894347, best_score=None, metric=None)"
      ]
     },
     "execution_count": 11,
     "metadata": {},
     "output_type": "execute_result"
    }
   ],
   "source": [
    "%%time\n",
    "semsim.termset_pairwise_similarity_score_only(\n",
    "            subjects=[\"MP:0010771\",\"MP:0002169\",\"MP:0005391\",\"MP:0005389\",\"MP:0005367\"],\n",
    "            objects=[\"HP:0004325\",\"HP:0000093\",\"MP:0006144\"],\n",
    "            predicates=[\"rdfs:subClassOf\", \"BFO:0000050\", \"UPHENO:0000001\"],\n",
    "            labels=False,\n",
    "        )"
   ]
  },
  {
   "cell_type": "code",
   "execution_count": null,
   "metadata": {},
   "outputs": [],
   "source": []
  }
 ],
 "metadata": {
  "colab": {
   "authorship_tag": "ABX9TyOKblottNzNAVbUXf712AY3",
   "provenance": []
  },
  "kernelspec": {
   "display_name": "Python 3 (ipykernel)",
   "language": "python",
   "name": "python3"
  },
  "language_info": {
   "codemirror_mode": {
    "name": "ipython",
    "version": 3
   },
   "file_extension": ".py",
   "mimetype": "text/x-python",
   "name": "python",
   "nbconvert_exporter": "python",
   "pygments_lexer": "ipython3",
   "version": "3.10.12"
  }
 },
 "nbformat": 4,
 "nbformat_minor": 4
}
