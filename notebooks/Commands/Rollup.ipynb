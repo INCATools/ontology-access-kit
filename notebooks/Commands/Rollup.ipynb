{
 "cells": [
  {
   "cell_type": "markdown",
   "id": "0f6c4513",
   "metadata": {},
   "source": [
    "# OAK rollup command\n",
    "\n",
    "This notebook is intended as a supplement to the [main OAK CLI docs](https://incatools.github.io/ontology-access-kit/cli.html).\n",
    "\n",
    "This notebook provides examples for the `rollup` command which produces a summarization of ontology associations\n",
    "between entities and \"rolled-up\" ancestor terms.\n",
    "\n",
    "## Help Option\n",
    "\n",
    "You can get help on any OAK command using `--help`"
   ]
  },
  {
   "cell_type": "code",
   "execution_count": 1,
   "id": "65db4b53",
   "metadata": {},
   "outputs": [
    {
     "name": "stdout",
     "output_type": "stream",
     "text": [
      "Usage: runoak rollup [OPTIONS] [TERMS]...\r\n",
      "\r\n",
      "  Produce an association rollup report.\r\n",
      "\r\n",
      "  The report will list associations where the subject is one of the terms\r\n",
      "  provided. The associations will be grouped by any provided --object-group\r\n",
      "  options. This option can be provided multiple times. If the value is a comma\r\n",
      "  separated list of object IDs, the first will be used as a primary grouping\r\n",
      "  dimension and the remainder will be used to create sub-groups.\r\n",
      "\r\n",
      "  Example:\r\n",
      "\r\n",
      "      runoak -i sqlite:go.db -g wb.gaf -G gaf rollup             --object-\r\n",
      "      group GO:0032502,GO:0007568,GO:0048869,GO:0098727             --object-\r\n",
      "      group GO:0008152,GO:0009056,GO:0044238,GO:1901275             --object-\r\n",
      "      group GO:0050896,GO:0051716,GO:0051606,GO:0051606,GO:0014823\r\n",
      "      --object-group=GO:0023052             --output rollup.html\r\n",
      "      WB:WBGene00000417 WB:WBGene00000912 WB:WBGene00000898 WB:WBGene00006752\r\n",
      "\r\n",
      "  By default, is-a relationships between association objects are used to\r\n",
      "  perform the rollup. Use the -p/--predicates option to change this behavior.\r\n",
      "\r\n",
      "Options:\r\n",
      "  -o, --output FILENAME         Output file, e.g. obo file\r\n",
      "  -p, --predicates TEXT         A comma-separated list of predicates\r\n",
      "  --autolabel / --no-autolabel  If set, results will automatically have labels\r\n",
      "                                assigned  [default: autolabel]\r\n",
      "  -O, --output-type TEXT        Desired output type\r\n",
      "  --object-group TEXT           An object ID to group by. If a comma separated\r\n",
      "                                list of IDs is provided, the first one is\r\n",
      "                                interpreted as a top-level grouping and the\r\n",
      "                                remaining IDs are interpreted as sub-groups\r\n",
      "                                within.\r\n",
      "  --help                        Show this message and exit.\r\n"
     ]
    }
   ],
   "source": [
    "!runoak rollup --help"
   ]
  },
  {
   "cell_type": "markdown",
   "id": "c8878ac5",
   "metadata": {},
   "source": [
    "## Download example file and setup\n",
    "\n",
    "We will use the HPO Association file"
   ]
  },
  {
   "cell_type": "code",
   "execution_count": 2,
   "id": "12a41f0d",
   "metadata": {},
   "outputs": [],
   "source": [
    "!curl -L -s http://purl.obolibrary.org/obo/hp/hpoa/phenotype.hpoa > input/hpoa.tsv"
   ]
  },
  {
   "cell_type": "markdown",
   "id": "d57ac006",
   "metadata": {},
   "source": [
    "next we will set up an hpo alias"
   ]
  },
  {
   "cell_type": "code",
   "execution_count": 3,
   "id": "dc71c543",
   "metadata": {},
   "outputs": [],
   "source": [
    "alias hp runoak -i sqlite:obo:hp"
   ]
  },
  {
   "cell_type": "markdown",
   "id": "6033aa66",
   "metadata": {},
   "source": [
    "Test this out by querying for associations for a particular orpha disease.\n",
    "\n",
    "We need to pass in the association file we downloaded, as well as specify the file type (with `-G`):"
   ]
  },
  {
   "cell_type": "code",
   "execution_count": 11,
   "id": "2cfa1be8",
   "metadata": {},
   "outputs": [
    {
     "name": "stdout",
     "output_type": "stream",
     "text": [
      "subject\tsubject_label\tpredicate\tobject\tobject_label\tproperty_values\r",
      "\r\n",
      "ORPHA:1899\tNone\tNone\tHP:0000963\tThin skin\t[]\r",
      "\r\n",
      "ORPHA:1899\tNone\tNone\tHP:0000974\tHyperextensible skin\t[]\r",
      "\r\n",
      "ORPHA:1899\tNone\tNone\tHP:0001001\tAbnormality of subcutaneous fat tissue\t[]\r",
      "\r\n",
      "ORPHA:1899\tNone\tNone\tHP:0001252\tHypotonia\t[]\r",
      "\r\n",
      "ORPHA:1899\tNone\tNone\tHP:0001373\tJoint dislocation\t[]\r",
      "\r\n",
      "ORPHA:1899\tNone\tNone\tHP:0001385\tHip dysplasia\t[]\r",
      "\r\n",
      "ORPHA:1899\tNone\tNone\tHP:0001387\tJoint stiffness\t[]\r",
      "\r\n",
      "ORPHA:1899\tNone\tNone\tHP:0002300\tMutism\t[]\r",
      "\r\n",
      "ORPHA:1899\tNone\tNone\tHP:0002381\tAphasia\t[]\r",
      "\r\n"
     ]
    }
   ],
   "source": [
    "hp -G hpoa -g input/hpoa.tsv associations -Q subject ORPHA:1899 -O csv | head"
   ]
  },
  {
   "cell_type": "markdown",
   "id": "c9047f55",
   "metadata": {},
   "source": [
    "## Rollup\n",
    "\n",
    "Next we will roll up annotations. We choose two representations of the same EDS concept, from Orphanet and OMIM\n",
    "(note we can provide as many diseases as we like).\n",
    "\n",
    "We will use HPO terms roughly inspired by https://www.omim.org/clinicalSynopsis/130060"
   ]
  },
  {
   "cell_type": "code",
   "execution_count": 12,
   "id": "d9395e32",
   "metadata": {},
   "outputs": [],
   "source": [
    "hp -G hpoa -g input/hpoa.tsv rollup --object-group HP:0000005 --object-group HP:0000924,HP:0011729,HP:0000925 --object-group HP:0001197 --object-group HP:0001507,HP:0000002 --object-group HP:0001574,HP:0000951 OMIM:130060 ORPHA:1899 -o output/eds.html"
   ]
  },
  {
   "cell_type": "code",
   "execution_count": 13,
   "id": "53fd39b9",
   "metadata": {},
   "outputs": [
    {
     "name": "stderr",
     "output_type": "stream",
     "text": [
      "/var/folders/nc/m4tx21912kv1b8nk3zzx9plr0000gn/T/ipykernel_18963/2387357361.py:1: DeprecationWarning: Importing display from IPython.core.display is deprecated since IPython 7.14, please import from IPython display\n",
      "  from IPython.core.display import display, HTML\n"
     ]
    },
    {
     "data": {
      "text/html": [
       "<!DOCTYPE html>\n",
       "<html lang=\"en\">\n",
       "  <head>\n",
       "    <meta charset=\"utf-8\" />\n",
       "    <title>Rollup Table</title>\n",
       "    <style>\n",
       ".rollup-table {\n",
       "    border-collapse: collapse;\n",
       "    width: 100%;\n",
       "}\n",
       ".rollup-table tr {\n",
       "    vertical-align: top;\n",
       "}\n",
       ".rollup-table td {\n",
       "    padding: 0.25rem;\n",
       "    border-top: 1px solid black;\n",
       "}\n",
       ".primary-group-label {\n",
       "    font-weight: bold;\n",
       "}\n",
       ".association-group {\n",
       "    margin-bottom: 1rem;\n",
       "}\n",
       ".association-group-header {\n",
       "    font-style: italic;\n",
       "}\n",
       ".association-group-list {\n",
       "    margin: 0;\n",
       "}\n",
       "</style>\n",
       "  </head>\n",
       "  <body>\n",
       "    <table class=\"rollup-table\">\n",
       "      <tr>\n",
       "        <td class=\"primary-group-label\">Subject</td>\n",
       "        <td>OMIM:130060</td>\n",
       "        <td>ORPHA:1899</td>\n",
       "      </tr>\n",
       "      <tr>\n",
       "        <td class=\"primary-group-label\">Mode of inheritance [HP:0000005]</td>\n",
       "        <td>\n",
       "          <div class=\"association-group\">\n",
       "            <div class=\"association-group-header\">Other</div>\n",
       "            <ul class=\"association-group-list\">\n",
       "              <li>Autosomal dominant inheritance [HP:0000006]</li>\n",
       "            </ul>\n",
       "          </div>\n",
       "        </td>\n",
       "        <td>\n",
       "        </td>\n",
       "      </tr>\n",
       "      <tr>\n",
       "        <td class=\"primary-group-label\">Abnormality of the skeletal system [HP:0000924]</td>\n",
       "        <td>\n",
       "          <div class=\"association-group\">\n",
       "            <div class=\"association-group-header\">Abnormality of joint mobility [HP:0011729]</div>\n",
       "            <ul class=\"association-group-list\">\n",
       "              <li>Joint laxity [HP:0001388]</li>\n",
       "            </ul>\n",
       "          </div>\n",
       "          <div class=\"association-group\">\n",
       "            <div class=\"association-group-header\">Abnormality of the vertebral column [HP:0000925]</div>\n",
       "            <ul class=\"association-group-list\">\n",
       "              <li>Scoliosis [HP:0002650]</li>\n",
       "              <li>Kyphosis [HP:0002808]</li>\n",
       "            </ul>\n",
       "          </div>\n",
       "          <div class=\"association-group\">\n",
       "            <div class=\"association-group-header\">Other</div>\n",
       "            <ul class=\"association-group-list\">\n",
       "              <li>Premature osteoarthritis [HP:0003088]</li>\n",
       "              <li>Malar flattening [HP:0000272]</li>\n",
       "              <li>Congenital bilateral hip dislocation [HP:0008780]</li>\n",
       "              <li>Joint subluxation [HP:0032153]</li>\n",
       "              <li>Osteopenia [HP:0000938]</li>\n",
       "              <li>Increased susceptibility to fractures [HP:0002659]</li>\n",
       "            </ul>\n",
       "          </div>\n",
       "        </td>\n",
       "        <td>\n",
       "          <div class=\"association-group\">\n",
       "            <div class=\"association-group-header\">Abnormality of joint mobility [HP:0011729]</div>\n",
       "            <ul class=\"association-group-list\">\n",
       "              <li>Joint stiffness [HP:0001387]</li>\n",
       "              <li>Joint hyperflexibility [HP:0005692]</li>\n",
       "            </ul>\n",
       "          </div>\n",
       "          <div class=\"association-group\">\n",
       "            <div class=\"association-group-header\">Abnormality of the vertebral column [HP:0000925]</div>\n",
       "            <ul class=\"association-group-list\">\n",
       "              <li>Scoliosis [HP:0002650]</li>\n",
       "            </ul>\n",
       "          </div>\n",
       "          <div class=\"association-group\">\n",
       "            <div class=\"association-group-header\">Other</div>\n",
       "            <ul class=\"association-group-list\">\n",
       "              <li>Joint dislocation [HP:0001373]</li>\n",
       "              <li>Hip dysplasia [HP:0001385]</li>\n",
       "              <li>Coxa valga [HP:0002673]</li>\n",
       "              <li>Coxa vara [HP:0002812]</li>\n",
       "              <li>Hip dislocation [HP:0002827]</li>\n",
       "              <li>Avascular necrosis of the capital femoral epiphysis [HP:0005743]</li>\n",
       "              <li>Retrognathia [HP:0000278]</li>\n",
       "              <li>Micrognathia [HP:0000347]</li>\n",
       "            </ul>\n",
       "          </div>\n",
       "        </td>\n",
       "      </tr>\n",
       "      <tr>\n",
       "        <td class=\"primary-group-label\">Abnormality of prenatal development or birth [HP:0001197]</td>\n",
       "        <td>\n",
       "          <div class=\"association-group\">\n",
       "            <div class=\"association-group-header\">Other</div>\n",
       "            <ul class=\"association-group-list\">\n",
       "              <li>Breech presentation [HP:0001623]</li>\n",
       "            </ul>\n",
       "          </div>\n",
       "        </td>\n",
       "        <td>\n",
       "        </td>\n",
       "      </tr>\n",
       "      <tr>\n",
       "        <td class=\"primary-group-label\">Growth abnormality [HP:0001507]</td>\n",
       "        <td>\n",
       "          <div class=\"association-group\">\n",
       "            <div class=\"association-group-header\">Abnormality of body height [HP:0000002]</div>\n",
       "            <ul class=\"association-group-list\">\n",
       "              <li>Mild short stature [HP:0003502]</li>\n",
       "            </ul>\n",
       "          </div>\n",
       "        </td>\n",
       "        <td>\n",
       "          <div class=\"association-group\">\n",
       "            <div class=\"association-group-header\">Abnormality of body height [HP:0000002]</div>\n",
       "            <ul class=\"association-group-list\">\n",
       "              <li>Severe short stature [HP:0003510]</li>\n",
       "            </ul>\n",
       "          </div>\n",
       "        </td>\n",
       "      </tr>\n",
       "      <tr>\n",
       "        <td class=\"primary-group-label\">Abnormality of the integument [HP:0001574]</td>\n",
       "        <td>\n",
       "          <div class=\"association-group\">\n",
       "            <div class=\"association-group-header\">Abnormality of the skin [HP:0000951]</div>\n",
       "            <ul class=\"association-group-list\">\n",
       "              <li>Poor wound healing [HP:0001058]</li>\n",
       "              <li>Atrophic scars [HP:0001075]</li>\n",
       "              <li>Bruising susceptibility [HP:0000978]</li>\n",
       "              <li>Soft skin [HP:0000977]</li>\n",
       "              <li>Hyperextensible skin [HP:0000974]</li>\n",
       "            </ul>\n",
       "          </div>\n",
       "        </td>\n",
       "        <td>\n",
       "          <div class=\"association-group\">\n",
       "            <div class=\"association-group-header\">Abnormality of the skin [HP:0000951]</div>\n",
       "            <ul class=\"association-group-list\">\n",
       "              <li>Thin skin [HP:0000963]</li>\n",
       "              <li>Hyperextensible skin [HP:0000974]</li>\n",
       "              <li>Abnormality of subcutaneous fat tissue [HP:0001001]</li>\n",
       "            </ul>\n",
       "          </div>\n",
       "        </td>\n",
       "      </tr>\n",
       "    </table>\n",
       "  </body>\n",
       "</html>"
      ],
      "text/plain": [
       "<IPython.core.display.HTML object>"
      ]
     },
     "metadata": {},
     "output_type": "display_data"
    }
   ],
   "source": [
    "from IPython.core.display import display, HTML\n",
    "display(HTML(open(\"output/eds.html\").read()))"
   ]
  },
  {
   "cell_type": "markdown",
   "id": "d5d29855",
   "metadata": {},
   "source": [
    "note the HTML looks a bit funky in the jupyter notebook - the bullets align correctly if viewed directly in the browser"
   ]
  },
  {
   "cell_type": "code",
   "execution_count": null,
   "id": "ab30433e",
   "metadata": {},
   "outputs": [],
   "source": []
  }
 ],
 "metadata": {
  "kernelspec": {
   "display_name": "Python 3 (ipykernel)",
   "language": "python",
   "name": "python3"
  },
  "language_info": {
   "codemirror_mode": {
    "name": "ipython",
    "version": 3
   },
   "file_extension": ".py",
   "mimetype": "text/x-python",
   "name": "python",
   "nbconvert_exporter": "python",
   "pygments_lexer": "ipython3",
   "version": "3.9.5"
  }
 },
 "nbformat": 4,
 "nbformat_minor": 5
}
