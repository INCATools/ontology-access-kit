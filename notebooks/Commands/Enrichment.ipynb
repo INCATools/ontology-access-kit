{
 "cells": [
  {
   "cell_type": "markdown",
   "id": "0f6c4513",
   "metadata": {},
   "source": [
    "# OAK enrichment command\n",
    "\n",
    "This notebook is intended as a supplement to the [main OAK CLI docs](https://incatools.github.io/ontology-access-kit/cli.html).\n",
    "\n",
    "This notebook provides examples for the `enrichment` command which produces a summary of ontology classes that are enriched in the associations for an input set of entities.\n",
    "\n",
    "See also the end of the [Command Line Tutorial](https://doi.org/10.5281/zenodo.7708963)\n",
    "\n",
    "## Help Option\n",
    "\n",
    "You can get help on any OAK command using `--help`"
   ]
  },
  {
   "cell_type": "code",
   "execution_count": 1,
   "id": "65db4b53",
   "metadata": {},
   "outputs": [
    {
     "name": "stdout",
     "output_type": "stream",
     "text": [
      "Usage: runoak enrichment [OPTIONS] [TERMS]...\n",
      "\n",
      "  Run class enrichment analysis.\n",
      "\n",
      "  Given a sample file of identifiers (e.g. gene IDs), plus a set of\n",
      "  associations (e.g. gene to term associations, return the terms that are\n",
      "  over-represented in the sample set.\n",
      "\n",
      "  Example:\n",
      "\n",
      "      runoak -i sqlite:obo:uberon -g gene2anat.txt -G g2t enrichment -U my-\n",
      "      genes.txt -O csv\n",
      "\n",
      "  This runs an enrichment using Uberon on my-genes.txt, using the\n",
      "  gene2anat.txt file as the association file (assuming simple gene-to-term\n",
      "  format). The output is in CSV format.\n",
      "\n",
      "  It is recommended you always provide a background set, including all the\n",
      "  entity identifiers considered in the experiment.\n",
      "\n",
      "  You can specify --filter-redundant to filter out redundant terms. This will\n",
      "  block reporting of any terms that are either subsumed by or subsume a lower\n",
      "  p-value term that is already reported.\n",
      "\n",
      "  For a full example, see:\n",
      "\n",
      "     https://github.com/INCATools/ontology-access-\n",
      "     kit/blob/main/notebooks/Commands/Enrichment.ipynb\n",
      "\n",
      "  Note that it is possible to run \"pseudo-enrichments\" on term lists only by\n",
      "  passing no associations and using --ontology-only. This creates a fake\n",
      "  association set that is simply reflexive relations between each term and\n",
      "  itself. This can be useful for summarizing term lists, but note that\n",
      "  P-values may not be meaningful.\n",
      "\n",
      "Options:\n",
      "  -o, --output FILENAME           Output file, e.g. obo file\n",
      "  -p, --predicates TEXT           A comma-separated list of predicates. This\n",
      "                                  may be a shorthand (i, p) or CURIE\n",
      "  --autolabel / --no-autolabel    If set, results will automatically have\n",
      "                                  labels assigned  [default: autolabel]\n",
      "  -O, --output-type TEXT          Desired output type\n",
      "  -o, --output FILENAME           Output file, e.g. obo file\n",
      "  --ontology-only / --no-ontology-only\n",
      "                                  If true, perform a pseudo-enrichment\n",
      "                                  analysis treating each term as an\n",
      "                                  association to itself.  [default: no-\n",
      "                                  ontology-only]\n",
      "  --cutoff FLOAT                  The cutoff for the p-value; any p-values\n",
      "                                  greater than this are not reported.\n",
      "                                  [default: 0.05]\n",
      "  -U, --sample-file FILENAME      file containing input list of entity IDs\n",
      "                                  (e.g. gene IDs)  [required]\n",
      "  -B, --background-file FILENAME  file containing background list of entity\n",
      "                                  IDs (e.g. gene IDs)\n",
      "  --association-predicates TEXT   A comma-separated list of predicates for the\n",
      "                                  association relation\n",
      "  --filter-redundant / --no-filter-redundant\n",
      "                                  If true, filter out redundant terms\n",
      "  --help                          Show this message and exit.\n"
     ]
    }
   ],
   "source": [
    "!runoak enrichment --help"
   ]
  },
  {
   "cell_type": "markdown",
   "id": "c8878ac5",
   "metadata": {},
   "source": [
    "## Download example file and setup\n",
    "\n",
    "We will use the HPO Association file"
   ]
  },
  {
   "cell_type": "code",
   "execution_count": 2,
   "id": "12a41f0d",
   "metadata": {},
   "outputs": [],
   "source": [
    "!curl -L -s http://purl.obolibrary.org/obo/hp/hpoa/genes_to_phenotype.txt > input/hpoa_g2p.tsv"
   ]
  },
  {
   "cell_type": "markdown",
   "id": "d57ac006",
   "metadata": {},
   "source": [
    "next we will set up an hpo alias"
   ]
  },
  {
   "cell_type": "code",
   "execution_count": 3,
   "id": "dc71c543",
   "metadata": {},
   "outputs": [],
   "source": [
    "alias hp runoak -i sqlite:obo:hp"
   ]
  },
  {
   "cell_type": "markdown",
   "id": "6033aa66",
   "metadata": {},
   "source": [
    "Test this out by querying for associations for a particular gene.\n",
    "\n",
    "We need to pass in the association file we downloaded, as well as specify the file type (with `-G`):"
   ]
  },
  {
   "cell_type": "code",
   "execution_count": 4,
   "id": "2cfa1be8",
   "metadata": {},
   "outputs": [
    {
     "name": "stdout",
     "output_type": "stream",
     "text": [
      "subject\tsubject_label\tpredicate\tobject\tobject_label\tproperty_values\tpredicate_label\tnegated\tpublications\tprimary_knowledge_source\taggregator_knowledge_source\tsubject_closure\tsubject_closure_label\tobject_closure\tobject_closure_label\n",
      "NCBIGene:8192\tNone\tNone\tHP:0001250\tNone\t\tNone\tNone\t\tNone\tNone\t\t\t\t\n",
      "NCBIGene:8192\tNone\tNone\tHP:0000013\tNone\t\tNone\tNone\t\tNone\tNone\t\t\t\t\n",
      "NCBIGene:8192\tNone\tNone\tHP:0000007\tNone\t\tNone\tNone\t\tNone\tNone\t\t\t\t\n",
      "NCBIGene:8192\tNone\tNone\tHP:0010464\tNone\t\tNone\tNone\t\tNone\tNone\t\t\t\t\n",
      "NCBIGene:8192\tNone\tNone\tHP:0008232\tNone\t\tNone\tNone\t\tNone\tNone\t\t\t\t\n",
      "NCBIGene:8192\tNone\tNone\tHP:0011969\tNone\t\tNone\tNone\t\tNone\tNone\t\t\t\t\n",
      "NCBIGene:8192\tNone\tNone\tHP:0004322\tNone\t\tNone\tNone\t\tNone\tNone\t\t\t\t\n",
      "NCBIGene:8192\tNone\tNone\tHP:0000786\tNone\t\tNone\tNone\t\tNone\tNone\t\t\t\t\n",
      "NCBIGene:8192\tNone\tNone\tHP:0000815\tNone\t\tNone\tNone\t\tNone\tNone\t\t\t\t\n"
     ]
    }
   ],
   "source": [
    "hp -G hpoa_g2p -g input/hpoa_g2p.tsv associations -Q subject NCBIGene:8192 -O csv | head"
   ]
  },
  {
   "cell_type": "markdown",
   "id": "c9047f55",
   "metadata": {},
   "source": [
    "## Enrichment\n",
    "\n",
    "We will perform enrichment using a set of genes known to be associated with Ehler-Danlos Syndrome (EDS).\n",
    "\n",
    "The gene list is here:\n",
    "\n",
    "- [input/eds-genes-ncbigene.tsv](input/eds-genes-ncbigene.tsv)\n",
    "\n",
    "Let's take a look at them:"
   ]
  },
  {
   "cell_type": "code",
   "execution_count": 5,
   "id": "a4c62f21-d6ec-4b34-82bc-3338cbb94ebe",
   "metadata": {},
   "outputs": [
    {
     "name": "stdout",
     "output_type": "stream",
     "text": [
      "id\tlabel\n",
      "NCBIGene:7148\tTNXB\n",
      "NCBIGene:715\tC1R\n",
      "NCBIGene:716\tC1S\n",
      "NCBIGene:126792\tB3GALT6\n",
      "NCBIGene:55033\tFKBP14\n",
      "NCBIGene:91252\tSLC39A13\n",
      "NCBIGene:29940\tDSE\n",
      "NCBIGene:1303\tCOL12A1\n",
      "NCBIGene:9509\tADAMTS2\n",
      "NCBIGene:1278\tCOL1A2\n",
      "NCBIGene:1281\tCOL3A1\n",
      "NCBIGene:1289\tCOL5A1\n",
      "NCBIGene:1290\tCOL5A2\n",
      "NCBIGene:84627\tZNF469\n",
      "NCBIGene:113189\tCHST14\n",
      "NCBIGene:165\tAEBP1\n",
      "NCBIGene:5351\tPLOD1\n",
      "NCBIGene:11285\tB4GALT7\n",
      "NCBIGene:11107\tPRDM5\n"
     ]
    }
   ],
   "source": [
    "!cat input/eds-genes-ncbigene.tsv"
   ]
  },
  {
   "cell_type": "markdown",
   "id": "4a538b5d-55c6-4773-91be-8fd726ede6cf",
   "metadata": {},
   "source": [
    "### Running the `enrichment` command\n",
    "\n",
    "Next we will run the command itself. Note we use two sets of parameters\n",
    "\n",
    "- global OAK parameters:\n",
    "    - the format of the associations (`-G`), here using the HPOA gene to phenotype format\n",
    "    - the path to the association file (`-g`), here the gp2 file we downloaded earlier\n",
    "- local parameters for the `enrichment` command\n",
    "     - the set of genes to be enriched (via `-U` or `--sample-file`)\n",
    "     - the output format for the results (via `-O` or `--output-type`) - here a TSV, but could also be YAML, RDF\n",
    "     - the `--autolabel` option that will do additional HPO queries to give the names of each term\n",
    "     - the output file via `-o` (`--output`)"
   ]
  },
  {
   "cell_type": "code",
   "execution_count": 6,
   "id": "ab30433e",
   "metadata": {},
   "outputs": [],
   "source": [
    "hp -G hpoa_g2p -g input/hpoa_g2p.tsv enrichment -U input/eds-genes-ncbigene.tsv -O csv --autolabel -o output/eds-genes-enriched.tsv"
   ]
  },
  {
   "cell_type": "markdown",
   "id": "503f9542-e25f-4ddc-bc70-2c52e2ffe34b",
   "metadata": {},
   "source": [
    "### Examining the results\n",
    "\n",
    "The best way to look at TSVs in a notebook such as this one is to use pandas to load as a dataframe.\n",
    "Note however that in most scenarios where you use the command line, this would *not* be wrapped in a notebook,\n",
    "and you could use your favorite TSV/CSV tool for exploring the results"
   ]
  },
  {
   "cell_type": "code",
   "execution_count": 7,
   "id": "3a4205f9",
   "metadata": {},
   "outputs": [],
   "source": [
    "import pandas as pd"
   ]
  },
  {
   "cell_type": "code",
   "execution_count": 8,
   "id": "3f49d300",
   "metadata": {},
   "outputs": [
    {
     "data": {
      "text/html": [
       "<div>\n",
       "<style scoped>\n",
       "    .dataframe tbody tr th:only-of-type {\n",
       "        vertical-align: middle;\n",
       "    }\n",
       "\n",
       "    .dataframe tbody tr th {\n",
       "        vertical-align: top;\n",
       "    }\n",
       "\n",
       "    .dataframe thead th {\n",
       "        text-align: right;\n",
       "    }\n",
       "</style>\n",
       "<table border=\"1\" class=\"dataframe\">\n",
       "  <thead>\n",
       "    <tr style=\"text-align: right;\">\n",
       "      <th></th>\n",
       "      <th>class_id</th>\n",
       "      <th>p_value</th>\n",
       "      <th>class_label</th>\n",
       "      <th>rank</th>\n",
       "      <th>p_value_adjusted</th>\n",
       "      <th>false_discovery_rate</th>\n",
       "      <th>fold_enrichment</th>\n",
       "      <th>probability</th>\n",
       "      <th>sample_count</th>\n",
       "      <th>sample_total</th>\n",
       "      <th>background_count</th>\n",
       "      <th>background_total</th>\n",
       "      <th>ancestor_of_more_informative_result</th>\n",
       "      <th>descendant_of_more_informative_result</th>\n",
       "    </tr>\n",
       "  </thead>\n",
       "  <tbody>\n",
       "    <tr>\n",
       "      <th>0</th>\n",
       "      <td>HP:0000974</td>\n",
       "      <td>2.121426e-37</td>\n",
       "      <td>Hyperextensible skin</td>\n",
       "      <td>1</td>\n",
       "      <td>2.895747e-34</td>\n",
       "      <td>NaN</td>\n",
       "      <td>NaN</td>\n",
       "      <td>NaN</td>\n",
       "      <td>19</td>\n",
       "      <td>19</td>\n",
       "      <td>68</td>\n",
       "      <td>5011</td>\n",
       "      <td>NaN</td>\n",
       "      <td>NaN</td>\n",
       "    </tr>\n",
       "    <tr>\n",
       "      <th>1</th>\n",
       "      <td>HP:0001075</td>\n",
       "      <td>1.245666e-36</td>\n",
       "      <td>Atrophic scars</td>\n",
       "      <td>2</td>\n",
       "      <td>1.700334e-33</td>\n",
       "      <td>NaN</td>\n",
       "      <td>NaN</td>\n",
       "      <td>NaN</td>\n",
       "      <td>17</td>\n",
       "      <td>19</td>\n",
       "      <td>37</td>\n",
       "      <td>5011</td>\n",
       "      <td>NaN</td>\n",
       "      <td>NaN</td>\n",
       "    </tr>\n",
       "    <tr>\n",
       "      <th>2</th>\n",
       "      <td>HP:0008067</td>\n",
       "      <td>9.834712e-29</td>\n",
       "      <td>Abnormally lax or hyperextensible skin</td>\n",
       "      <td>3</td>\n",
       "      <td>1.342438e-25</td>\n",
       "      <td>NaN</td>\n",
       "      <td>NaN</td>\n",
       "      <td>NaN</td>\n",
       "      <td>19</td>\n",
       "      <td>19</td>\n",
       "      <td>177</td>\n",
       "      <td>5011</td>\n",
       "      <td>True</td>\n",
       "      <td>NaN</td>\n",
       "    </tr>\n",
       "    <tr>\n",
       "      <th>3</th>\n",
       "      <td>HP:0100699</td>\n",
       "      <td>1.916985e-28</td>\n",
       "      <td>Scarring</td>\n",
       "      <td>4</td>\n",
       "      <td>2.616685e-25</td>\n",
       "      <td>NaN</td>\n",
       "      <td>NaN</td>\n",
       "      <td>NaN</td>\n",
       "      <td>19</td>\n",
       "      <td>19</td>\n",
       "      <td>183</td>\n",
       "      <td>5011</td>\n",
       "      <td>True</td>\n",
       "      <td>NaN</td>\n",
       "    </tr>\n",
       "    <tr>\n",
       "      <th>4</th>\n",
       "      <td>HP:0004334</td>\n",
       "      <td>7.330381e-28</td>\n",
       "      <td>Dermal atrophy</td>\n",
       "      <td>5</td>\n",
       "      <td>1.000597e-24</td>\n",
       "      <td>NaN</td>\n",
       "      <td>NaN</td>\n",
       "      <td>NaN</td>\n",
       "      <td>17</td>\n",
       "      <td>19</td>\n",
       "      <td>102</td>\n",
       "      <td>5011</td>\n",
       "      <td>True</td>\n",
       "      <td>NaN</td>\n",
       "    </tr>\n",
       "    <tr>\n",
       "      <th>...</th>\n",
       "      <td>...</td>\n",
       "      <td>...</td>\n",
       "      <td>...</td>\n",
       "      <td>...</td>\n",
       "      <td>...</td>\n",
       "      <td>...</td>\n",
       "      <td>...</td>\n",
       "      <td>...</td>\n",
       "      <td>...</td>\n",
       "      <td>...</td>\n",
       "      <td>...</td>\n",
       "      <td>...</td>\n",
       "      <td>...</td>\n",
       "      <td>...</td>\n",
       "    </tr>\n",
       "    <tr>\n",
       "      <th>159</th>\n",
       "      <td>HP:0010488</td>\n",
       "      <td>3.040076e-05</td>\n",
       "      <td>Aplasia/Hypoplasia of the palmar creases</td>\n",
       "      <td>160</td>\n",
       "      <td>4.149704e-02</td>\n",
       "      <td>NaN</td>\n",
       "      <td>NaN</td>\n",
       "      <td>NaN</td>\n",
       "      <td>3</td>\n",
       "      <td>19</td>\n",
       "      <td>17</td>\n",
       "      <td>5011</td>\n",
       "      <td>NaN</td>\n",
       "      <td>True</td>\n",
       "    </tr>\n",
       "    <tr>\n",
       "      <th>160</th>\n",
       "      <td>HP:0000014</td>\n",
       "      <td>3.062457e-05</td>\n",
       "      <td>Abnormality of the bladder</td>\n",
       "      <td>161</td>\n",
       "      <td>4.180254e-02</td>\n",
       "      <td>NaN</td>\n",
       "      <td>NaN</td>\n",
       "      <td>NaN</td>\n",
       "      <td>9</td>\n",
       "      <td>19</td>\n",
       "      <td>494</td>\n",
       "      <td>5011</td>\n",
       "      <td>True</td>\n",
       "      <td>NaN</td>\n",
       "    </tr>\n",
       "    <tr>\n",
       "      <th>161</th>\n",
       "      <td>HP:0011844</td>\n",
       "      <td>3.186952e-05</td>\n",
       "      <td>Abnormal appendicular skeleton morphology</td>\n",
       "      <td>162</td>\n",
       "      <td>4.350189e-02</td>\n",
       "      <td>NaN</td>\n",
       "      <td>NaN</td>\n",
       "      <td>NaN</td>\n",
       "      <td>16</td>\n",
       "      <td>19</td>\n",
       "      <td>1853</td>\n",
       "      <td>5011</td>\n",
       "      <td>True</td>\n",
       "      <td>NaN</td>\n",
       "    </tr>\n",
       "    <tr>\n",
       "      <th>162</th>\n",
       "      <td>HP:0033353</td>\n",
       "      <td>3.286903e-05</td>\n",
       "      <td>Abnormal blood vessel morphology</td>\n",
       "      <td>163</td>\n",
       "      <td>4.486623e-02</td>\n",
       "      <td>NaN</td>\n",
       "      <td>NaN</td>\n",
       "      <td>NaN</td>\n",
       "      <td>12</td>\n",
       "      <td>19</td>\n",
       "      <td>967</td>\n",
       "      <td>5011</td>\n",
       "      <td>True</td>\n",
       "      <td>True</td>\n",
       "    </tr>\n",
       "    <tr>\n",
       "      <th>163</th>\n",
       "      <td>HP:0025323</td>\n",
       "      <td>3.300320e-05</td>\n",
       "      <td>Abnormal arterial physiology</td>\n",
       "      <td>164</td>\n",
       "      <td>4.504937e-02</td>\n",
       "      <td>NaN</td>\n",
       "      <td>NaN</td>\n",
       "      <td>NaN</td>\n",
       "      <td>6</td>\n",
       "      <td>19</td>\n",
       "      <td>177</td>\n",
       "      <td>5011</td>\n",
       "      <td>True</td>\n",
       "      <td>True</td>\n",
       "    </tr>\n",
       "  </tbody>\n",
       "</table>\n",
       "<p>164 rows × 14 columns</p>\n",
       "</div>"
      ],
      "text/plain": [
       "       class_id       p_value                                class_label  \\\n",
       "0    HP:0000974  2.121426e-37                       Hyperextensible skin   \n",
       "1    HP:0001075  1.245666e-36                             Atrophic scars   \n",
       "2    HP:0008067  9.834712e-29     Abnormally lax or hyperextensible skin   \n",
       "3    HP:0100699  1.916985e-28                                   Scarring   \n",
       "4    HP:0004334  7.330381e-28                             Dermal atrophy   \n",
       "..          ...           ...                                        ...   \n",
       "159  HP:0010488  3.040076e-05   Aplasia/Hypoplasia of the palmar creases   \n",
       "160  HP:0000014  3.062457e-05                 Abnormality of the bladder   \n",
       "161  HP:0011844  3.186952e-05  Abnormal appendicular skeleton morphology   \n",
       "162  HP:0033353  3.286903e-05           Abnormal blood vessel morphology   \n",
       "163  HP:0025323  3.300320e-05               Abnormal arterial physiology   \n",
       "\n",
       "     rank  p_value_adjusted  false_discovery_rate  fold_enrichment  \\\n",
       "0       1      2.895747e-34                   NaN              NaN   \n",
       "1       2      1.700334e-33                   NaN              NaN   \n",
       "2       3      1.342438e-25                   NaN              NaN   \n",
       "3       4      2.616685e-25                   NaN              NaN   \n",
       "4       5      1.000597e-24                   NaN              NaN   \n",
       "..    ...               ...                   ...              ...   \n",
       "159   160      4.149704e-02                   NaN              NaN   \n",
       "160   161      4.180254e-02                   NaN              NaN   \n",
       "161   162      4.350189e-02                   NaN              NaN   \n",
       "162   163      4.486623e-02                   NaN              NaN   \n",
       "163   164      4.504937e-02                   NaN              NaN   \n",
       "\n",
       "     probability  sample_count  sample_total  background_count  \\\n",
       "0            NaN            19            19                68   \n",
       "1            NaN            17            19                37   \n",
       "2            NaN            19            19               177   \n",
       "3            NaN            19            19               183   \n",
       "4            NaN            17            19               102   \n",
       "..           ...           ...           ...               ...   \n",
       "159          NaN             3            19                17   \n",
       "160          NaN             9            19               494   \n",
       "161          NaN            16            19              1853   \n",
       "162          NaN            12            19               967   \n",
       "163          NaN             6            19               177   \n",
       "\n",
       "     background_total ancestor_of_more_informative_result  \\\n",
       "0                5011                                 NaN   \n",
       "1                5011                                 NaN   \n",
       "2                5011                                True   \n",
       "3                5011                                True   \n",
       "4                5011                                True   \n",
       "..                ...                                 ...   \n",
       "159              5011                                 NaN   \n",
       "160              5011                                True   \n",
       "161              5011                                True   \n",
       "162              5011                                True   \n",
       "163              5011                                True   \n",
       "\n",
       "    descendant_of_more_informative_result  \n",
       "0                                     NaN  \n",
       "1                                     NaN  \n",
       "2                                     NaN  \n",
       "3                                     NaN  \n",
       "4                                     NaN  \n",
       "..                                    ...  \n",
       "159                                  True  \n",
       "160                                   NaN  \n",
       "161                                   NaN  \n",
       "162                                  True  \n",
       "163                                  True  \n",
       "\n",
       "[164 rows x 14 columns]"
      ]
     },
     "execution_count": 8,
     "metadata": {},
     "output_type": "execute_result"
    }
   ],
   "source": [
    "df=pd.read_csv(\"output/eds-genes-enriched.tsv\", sep=\"\\t\")\n",
    "df"
   ]
  },
  {
   "cell_type": "markdown",
   "id": "bbb3fbbe-f689-465a-906c-28d4a9744636",
   "metadata": {},
   "source": [
    "### Plotting the results\n",
    "\n",
    "OAK doesn't have any command line plotting capabilities yet, but you can easily use external tools. Here we\n",
    "show how to plot the results using matplotlib."
   ]
  },
  {
   "cell_type": "code",
   "execution_count": 9,
   "id": "0ec3f660-9d10-40cb-9549-0f06d4c5efb4",
   "metadata": {},
   "outputs": [
    {
     "data": {
      "image/png": "[encoded data removed]",
      "text/plain": [
       "<Figure size 1000x1000 with 1 Axes>"
      ]
     },
     "metadata": {},
     "output_type": "display_data"
    }
   ],
   "source": [
    "import matplotlib.pyplot as plt\n",
    "import numpy as np\n",
    "\n",
    "data = df.copy()\n",
    "\n",
    "# Transform p-values for better visualization\n",
    "data['negative_log10_p_value'] = -np.log10(data['p_value'])\n",
    "\n",
    "# Sort data by transformed p-value\n",
    "data_sorted = data.sort_values('negative_log10_p_value', ascending=True)\n",
    "\n",
    "# Select top 15 terms with the highest significance\n",
    "top_terms = data_sorted.nlargest(15, 'negative_log10_p_value')\n",
    "\n",
    "# Plotting the horizontal bar chart for the top 15 terms\n",
    "plt.figure(figsize=(10, 10))\n",
    "plt.barh(top_terms['class_label'], top_terms['negative_log10_p_value'], color='teal')\n",
    "plt.xlabel('-log10(p-value)')\n",
    "plt.ylabel('Enriched Terms')\n",
    "plt.title('Top 15 Enriched Terms by Statistical Significance')\n",
    "plt.gca().invert_yaxis()  # Invert y-axis for better readability\n",
    "plt.show()\n"
   ]
  },
  {
   "cell_type": "markdown",
   "id": "0992429a-5479-4fbd-9cb6-85e2fc323a4d",
   "metadata": {},
   "source": [
    "The results here should not be surprising - we already know that hyperextensible skin is a hallmark of EDS,\n",
    "but it's good to see this confirmed!\n",
    "\n",
    "We used a somewhat artificial gene set here, but in reality gene sets derived e.g. from gene expression will be\n",
    "more messy and signals weaker."
   ]
  },
  {
   "cell_type": "markdown",
   "id": "aff099a7-65c4-476c-a2bc-3fd06677b37d",
   "metadata": {},
   "source": [
    "### Visualizing results in a graph form\n",
    "\n",
    "We can use the OAK `viz` command to visualize the placement of the enriched terms in the graph.\n",
    "\n",
    "Because graph visualization can get messy, we'll take the top 5 results (they are already sorted):"
   ]
  },
  {
   "cell_type": "code",
   "execution_count": 22,
   "id": "c64572e1-47ff-4251-8306-1acec7b23da9",
   "metadata": {},
   "outputs": [],
   "source": [
    "!head -5 output/eds-genes-enriched.tsv > output/eds-genes-enriched-top-5.tsv"
   ]
  },
  {
   "cell_type": "markdown",
   "id": "1ca02c40-2765-49db-98c5-002c5d5f7ba2",
   "metadata": {},
   "source": [
    "Next run this through `viz`. Note that most OAK commands take as input either term lists,\n",
    "or term *query* lists, where queries can include expressions with functions like `.idfile`:"
   ]
  },
  {
   "cell_type": "code",
   "execution_count": 25,
   "id": "cb40937d-a632-47d6-aa16-1c9c51287eff",
   "metadata": {},
   "outputs": [],
   "source": [
    "hp viz -p i .idfile output/eds-genes-enriched-top-5.tsv -O png -o output/eds-genes-enriched-top-5.png"
   ]
  },
  {
   "cell_type": "markdown",
   "id": "06357c2d-d099-4107-bc7c-e6dfb7d53eca",
   "metadata": {},
   "source": [
    "![img](output/eds-genes-enriched-top-5.png)"
   ]
  },
  {
   "cell_type": "markdown",
   "id": "0136a1f3-f786-4189-9a06-65e55a0a6171",
   "metadata": {},
   "source": [
    "At this time there isn't an easy way to show the p-value visually, but this may be added later.\n",
    "\n",
    "When we visualize like this we see there is some redundancy. `Scarring` is implied by `Atrophic scars`.\n",
    "\n",
    "We can run enrichment with `--filter-redundant` on. This will remove more general terms, unless that\n",
    "term is more significant than all descendants."
   ]
  },
  {
   "cell_type": "code",
   "execution_count": 30,
   "id": "38060d7b-051d-4b09-b5a1-9bce05c4577a",
   "metadata": {},
   "outputs": [],
   "source": [
    "hp -G hpoa_g2p -g input/hpoa_g2p.tsv enrichment -U input/eds-genes-ncbigene.tsv -O csv --autolabel  --filter-redundant -o output/eds-genes-enriched-filtered.tsv"
   ]
  },
  {
   "cell_type": "code",
   "execution_count": 31,
   "id": "3203298b-488b-4663-b9fa-b16dfb680490",
   "metadata": {},
   "outputs": [],
   "source": [
    "!head -5 output/eds-genes-enriched-filtered.tsv > output/eds-genes-enriched-filtered-top-5.tsv"
   ]
  },
  {
   "cell_type": "code",
   "execution_count": 32,
   "id": "628e5f2d-a283-4587-89c7-2d9a6aaffae0",
   "metadata": {},
   "outputs": [],
   "source": [
    "hp viz -p i .idfile output/eds-genes-enriched-filtered-top-5.tsv -O png -o output/eds-genes-enriched-filtered-top-5.png"
   ]
  },
  {
   "cell_type": "markdown",
   "id": "48447591-1235-4ccb-9628-124ce0921365",
   "metadata": {},
   "source": [
    "![img](output/eds-genes-enriched-filtered-top-5.png)"
   ]
  },
  {
   "cell_type": "markdown",
   "id": "0d597024-ea36-48d2-b581-ab3820ba53f8",
   "metadata": {},
   "source": [
    "## Normalizing input gene lists\n",
    "\n",
    "What happens if our input gene IDs use a different system than the associations?\n",
    "\n",
    "E.g. assume our inputs are HGNC and our association file is NCBIGene\n",
    "\n",
    "- [input/eds-genes-hgnc.tsv](input/eds-genes-hgnc.tsv)\n",
    "\n",
    "Let's take a look"
   ]
  },
  {
   "cell_type": "code",
   "execution_count": 11,
   "id": "e01b58c6-7b0c-4918-a428-81caca27dfa6",
   "metadata": {},
   "outputs": [
    {
     "name": "stdout",
     "output_type": "stream",
     "text": [
      "id\tlabel\n",
      "HGNC:11976\tTNXB\n",
      "HGNC:1246\tC1R\n",
      "HGNC:1247\tC1S\n",
      "HGNC:17978\tB3GALT6\n",
      "HGNC:18625\tFKBP14\n",
      "HGNC:20859\tSLC39A13\n",
      "HGNC:21144\tDSE\n",
      "HGNC:2188\tCOL12A1\n",
      "HGNC:218\tADAMTS2\n",
      "HGNC:2198\tCOL1A2\n",
      "HGNC:2201\tCOL3A1\n",
      "HGNC:2209\tCOL5A1\n",
      "HGNC:2210\tCOL5A2\n",
      "HGNC:23216\tZNF469\n",
      "HGNC:24464\tCHST14\n",
      "HGNC:303\tAEBP1\n",
      "HGNC:9081\tPLOD1\n",
      "HGNC:930\tB4GALT7\n",
      "HGNC:9349\tPRDM5\n"
     ]
    }
   ],
   "source": [
    "!cat input/eds-genes-hgnc.tsv"
   ]
  },
  {
   "cell_type": "code",
   "execution_count": 19,
   "id": "0b468d87-34e3-4dd7-9d0d-118f40ff4ff8",
   "metadata": {},
   "outputs": [
    {
     "name": "stdout",
     "output_type": "stream",
     "text": [
      "ValueError: No associations found for subjects\n"
     ]
    }
   ],
   "source": [
    "hp -G hpoa_g2p -g input/hpoa_g2p.tsv enrichment -U input/eds-genes-hgnc.tsv -O csv --autolabel"
   ]
  },
  {
   "cell_type": "markdown",
   "id": "2d848928-77cc-4492-8ff1-99f5c52dc84d",
   "metadata": {},
   "source": [
    "As expected, the command complains that no associations were found for any of the subjects (input genes).\n",
    "\n",
    "So what do we do? There is a separate command `normalize` that can be used here to normalize an ID list.\n",
    "Normalize can be used with a number of different ID mapper / normalizer sources. Here we are using it with\n",
    "the NCATS Translator SRI node normalizer:\n"
   ]
  },
  {
   "cell_type": "code",
   "execution_count": 20,
   "id": "b59af2a2-b085-45d7-bb57-faba570e9292",
   "metadata": {},
   "outputs": [],
   "source": [
    "!runoak -i translator: normalize .idfile input/eds-genes-hgnc.tsv -M NCBIGene -o output/eds-genes-ncbigene.tsv"
   ]
  },
  {
   "cell_type": "code",
   "execution_count": 21,
   "id": "c467795f-fc35-441a-8b68-eaea20a2ddb7",
   "metadata": {},
   "outputs": [
    {
     "name": "stdout",
     "output_type": "stream",
     "text": [
      "id\tlabel\n",
      "NCBIGene:7148\tTNXB\n",
      "NCBIGene:715\tC1R\n",
      "NCBIGene:716\tC1S\n",
      "NCBIGene:126792\tB3GALT6\n",
      "NCBIGene:55033\tFKBP14\n",
      "NCBIGene:91252\tSLC39A13\n",
      "NCBIGene:29940\tDSE\n",
      "NCBIGene:1303\tCOL12A1\n",
      "NCBIGene:9509\tADAMTS2\n",
      "NCBIGene:1278\tCOL1A2\n",
      "NCBIGene:1281\tCOL3A1\n",
      "NCBIGene:1289\tCOL5A1\n",
      "NCBIGene:1290\tCOL5A2\n",
      "NCBIGene:84627\tZNF469\n",
      "NCBIGene:113189\tCHST14\n",
      "NCBIGene:165\tAEBP1\n",
      "NCBIGene:5351\tPLOD1\n",
      "NCBIGene:11285\tB4GALT7\n",
      "NCBIGene:11107\tPRDM5\n"
     ]
    }
   ],
   "source": [
    "!cat output/eds-genes-ncbigene.tsv"
   ]
  },
  {
   "cell_type": "markdown",
   "id": "b37993c2-f9b3-47a5-bd09-156eab378f49",
   "metadata": {},
   "source": [
    "This is identical to the gene list in the original examle, and can be used in the same way"
   ]
  },
  {
   "cell_type": "code",
   "execution_count": null,
   "id": "4e3b46c0-6a32-4fdf-8255-a22a7ea08111",
   "metadata": {},
   "outputs": [],
   "source": []
  }
 ],
 "metadata": {
  "kernelspec": {
   "display_name": "Python 3 (ipykernel)",
   "language": "python",
   "name": "python3"
  },
  "language_info": {
   "codemirror_mode": {
    "name": "ipython",
    "version": 3
   },
   "file_extension": ".py",
   "mimetype": "text/x-python",
   "name": "python",
   "nbconvert_exporter": "python",
   "pygments_lexer": "ipython3",
   "version": "3.9.5"
  }
 },
 "nbformat": 4,
 "nbformat_minor": 5
}
