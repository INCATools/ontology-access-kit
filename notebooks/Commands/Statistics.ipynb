{
 "cells": [
  {
   "cell_type": "markdown",
   "id": "1cd4a3da-5c5c-46ce-9423-3b7a48b7f6ca",
   "metadata": {},
   "source": [
    "# OAK statistics command\n",
    "\n",
    "This notebook is intended as a supplement to the [main OAK CLI docs](https://incatools.github.io/ontology-access-kit/cli.html).\n",
    "\n",
    "This notebook provides examples for the `statistics` command, which can be used to calculate basic descriptive statistics\n",
    "for an ontology\n",
    "\n",
    "## Help Option\n",
    "\n",
    "You can get help on any OAK command using `--help`"
   ]
  },
  {
   "cell_type": "code",
   "execution_count": 1,
   "id": "8940e44b-f1fc-4440-88ba-8064c33a48e6",
   "metadata": {
    "ExecuteTime": {
     "end_time": "2024-03-26T23:26:04.707363Z",
     "start_time": "2024-03-26T23:26:01.937733Z"
    }
   },
   "outputs": [
    {
     "name": "stdout",
     "output_type": "stream",
     "text": [
      "Usage: runoak statistics [OPTIONS] [BRANCHES]...\r\n",
      "\r\n",
      "  Shows all descriptive/summary statistics\r\n",
      "\r\n",
      "  Example: -------     runoak -i sqlite:obo:pr statistics\r\n",
      "\r\n",
      "  By default, this will show combined summary statistics for all terms\r\n",
      "\r\n",
      "  You can also break down the statistics in two ways:\r\n",
      "\r\n",
      "  - by a collection of branch roots\r\n",
      "\r\n",
      "  - by a metadata property (e.g. oio:hasOBONamespace, rdfs:isDefinedBy)\r\n",
      "\r\n",
      "  - by prefix (e.g. GO, PR, CL, OBI)\r\n",
      "\r\n",
      "  Example: -------     runoak -i sqlite:obo:pr statistics -p\r\n",
      "  oio:hasOBONamespace\r\n",
      "\r\n",
      "  Note: the oio:hasOBONamespace is *not* the same as the ID prefix, it is a\r\n",
      "  field that is used by a subset of ontologies to partition classes into broad\r\n",
      "  groupings, similar to subsets. Its use is non-standard, yet a lot of\r\n",
      "  ontologies use this as the main partitioning mechanism.\r\n",
      "\r\n",
      "  A note on bundled ontologies:\r\n",
      "\r\n",
      "  The standard release many OBO ontologies \"bundles\" parts of other ontologies\r\n",
      "  (formally, the release product includes a merged imports closure of import\r\n",
      "  modules). This can complicate generation of statistics. A naive count of all\r\n",
      "  classes in the main OBI release will include not only \"native\" OBI classes,\r\n",
      "  but also classes from other ontologies that are bundled in the release.\r\n",
      "\r\n",
      "  For bundled ontologies, we recommend some kind of partitioning, such as via\r\n",
      "  defined roots, or via the CURIE prefix, using the ``--group-by-prefix``\r\n",
      "  option.\r\n",
      "\r\n",
      "  Output formats:\r\n",
      "\r\n",
      "  The recommended output types for this command are yaml, json, or csv. The\r\n",
      "  default output type is yaml, following the SummaryStatistics data model.\r\n",
      "  This is naturally nested, as the statistics includes faceted groupings (e.g.\r\n",
      "  edge counts are broken down by predicate). When specifying a flat format\r\n",
      "  like csv, this is flattened into a single table, with dynamic column names.\r\n",
      "\r\n",
      "  Change statistics:\r\n",
      "\r\n",
      "  You can optionally combine the ontology statistics with a change summary\r\n",
      "  relative to another ontology, using the ``--compare-with`` option.\r\n",
      "\r\n",
      "  Example: -------     runoak -i v2.obo statistics --group-by-obo-namespace\r\n",
      "  --compare-with v1.obo\r\n",
      "\r\n",
      "  This will also include change stats broken down by KGCL change types. If a\r\n",
      "  group-by option is specified, these will be grouped accordingly.\r\n",
      "\r\n",
      "  Python API:\r\n",
      "\r\n",
      "     https://incatools.github.io/ontology-access-kit/interfaces/summary-\r\n",
      "     statistics\r\n",
      "\r\n",
      "  Data model:\r\n",
      "\r\n",
      "     https://w3id.org/oak/summary-statistics\r\n",
      "\r\n",
      "Options:\r\n",
      "  -O, --output-type [obo|obojson|ofn|rdf|json|yaml|fhirjson|csv|tsv|nl]\r\n",
      "                                  Desired output type\r\n",
      "  --group-by-property TEXT        group summaries by a metadata property, e.g.\r\n",
      "                                  rdfs:isDefinedBy\r\n",
      "  --group-by-obo-namespace / --no-group-by-obo-namespace\r\n",
      "                                  shortcut for --group-by-property\r\n",
      "                                  oio:hasOBONamespace (note this is distinct\r\n",
      "                                  from the ID namespace)  [default: no-group-\r\n",
      "                                  by-obo-namespace]\r\n",
      "  --group-by-prefix / --no-group-by-prefix\r\n",
      "                                  shortcut for --group-by-property sh:prefix.\r\n",
      "                                  Groups by the prefix of the CURIE  [default:\r\n",
      "                                  no-group-by-prefix]\r\n",
      "  --group-by-defined-by / --no-group-by-defined-by\r\n",
      "                                  shortcut for --group-by-property\r\n",
      "                                  rdfs:isDefinedBy. This may be inferred from\r\n",
      "                                  prefix if not set explicitly  [default: no-\r\n",
      "                                  group-by-defined-by]\r\n",
      "  --include-residuals / --no-include-residuals\r\n",
      "                                  If true include an OTHER category for terms\r\n",
      "                                  that do not have the property\r\n",
      "  -X, --compare-with TEXT         Compare with another ontology\r\n",
      "  -P, --has-prefix TEXT           filter based on a prefix, e.g. OBI\r\n",
      "  -o, --output FILENAME           Output file, e.g. obo file\r\n",
      "  --help                          Show this message and exit.\r\n"
     ]
    }
   ],
   "source": [
    "!runoak statistics --help"
   ]
  },
  {
   "cell_type": "markdown",
   "id": "ed1c706e-82e0-4168-bdaf-8bd96a3cd72a",
   "metadata": {},
   "source": [
    "## Set up an alias\n",
    "\n",
    "For convenience we will set up some aliases for use in this notebook"
   ]
  },
  {
   "cell_type": "code",
   "execution_count": 18,
   "id": "c7350ec6-6070-45f5-a058-0da9e29ae086",
   "metadata": {
    "ExecuteTime": {
     "end_time": "2024-03-27T00:29:08.956988Z",
     "start_time": "2024-03-27T00:29:08.951340Z"
    }
   },
   "outputs": [],
   "source": [
    "alias chebi runoak -i sqlite:obo:chebi"
   ]
  },
  {
   "cell_type": "markdown",
   "source": [
    "## Calculating summary statistics (default YAML output)\n",
    "\n",
    "We can calculate the summary stats using the `statistics` command. The output is quite lengthy,\n",
    "so we will use `--output` (`-o`) to direct to a yamml file:"
   ],
   "metadata": {
    "collapsed": false
   },
   "id": "4020400699697b8e"
  },
  {
   "cell_type": "code",
   "execution_count": 19,
   "id": "81046b24-3811-4f7c-9eb1-e4e36bff370d",
   "metadata": {
    "ExecuteTime": {
     "end_time": "2024-03-27T00:30:20.090591Z",
     "start_time": "2024-03-27T00:29:10.137939Z"
    }
   },
   "outputs": [
    {
     "name": "stdout",
     "output_type": "stream",
     "text": [
      "WARNING:root:bad mapping: KEGG_COMPOUND                                         \r\n",
      "WARNING:root:bad mapping: IUPAC\r\n",
      "WARNING:root:bad mapping: ChemIDplus\r\n",
      "WARNING:root:bad mapping: UniProt\r\n",
      "WARNING:root:bad mapping: DrugCentral\r\n",
      "WARNING:root:bad mapping: LINCS\r\n",
      "WARNING:root:bad mapping: KEGG_DRUG\r\n",
      "WARNING:root:bad mapping: ChEBI\r\n",
      "WARNING:root:bad mapping: ChEMBL\r\n",
      "WARNING:root:bad mapping: DrugBank\r\n",
      "WARNING:root:bad mapping: WHO_MedNet\r\n",
      "WARNING:root:bad mapping: PDBeChem\r\n",
      "WARNING:root:bad mapping: NIST_Chemistry_WebBook\r\n",
      "WARNING:root:bad mapping: PPDB\r\n",
      "WARNING:root:bad mapping: LIPID_MAPS\r\n",
      "WARNING:root:bad mapping: IUPHAR\r\n",
      "WARNING:root:bad mapping: HMDB\r\n",
      "WARNING:root:bad mapping: SUBMITTER\r\n",
      "WARNING:root:bad mapping: MetaCyc\r\n",
      "WARNING:root:bad mapping: JCBN\r\n",
      "WARNING:root:bad mapping: GlyTouCan\r\n",
      "WARNING:root:bad mapping: KNApSAcK\r\n",
      "WARNING:root:bad mapping: IUBMB\r\n",
      "WARNING:root:bad mapping: CBN\r\n",
      "WARNING:root:bad mapping: Alan_Wood's_Pesticides\r\n",
      "WARNING:root:bad mapping: GlyGen\r\n",
      "WARNING:root:bad mapping: KEGG_GLYCAN\r\n",
      "WARNING:root:bad mapping: RESID\r\n",
      "WARNING:root:bad mapping: PubChem\r\n",
      "WARNING:root:bad mapping: FooDB\r\n",
      "WARNING:root:bad mapping: VSDB\r\n",
      "WARNING:root:bad mapping: UM-BBD\r\n",
      "WARNING:root:bad mapping: MolBase\r\n",
      "WARNING:root:bad mapping: COMe\r\n",
      "WARNING:root:bad mapping: Beilstein\r\n",
      "WARNING:root:bad mapping: Patent\r\n",
      "WARNING:root:bad mapping: PDB\r\n",
      "WARNING:root:bad mapping: SMID\r\n"
     ]
    }
   ],
   "source": [
    "chebi statistics -o output/chebi.stats.yaml"
   ]
  },
  {
   "cell_type": "markdown",
   "source": [
    "__Note__ CHEBI has a lot of bad xrefs, hence the output"
   ],
   "metadata": {
    "collapsed": false
   },
   "id": "c23707ed5c1a794f"
  },
  {
   "cell_type": "markdown",
   "source": [
    "## Exploring the output\n",
    "\n",
    "Let's look at the top of the YAML file:"
   ],
   "metadata": {
    "collapsed": false
   },
   "id": "a42ba18a15b14b48"
  },
  {
   "cell_type": "code",
   "execution_count": 20,
   "id": "065686c3-24b6-4752-b290-2eb110f8913b",
   "metadata": {
    "ExecuteTime": {
     "end_time": "2024-03-27T00:30:20.236768Z",
     "start_time": "2024-03-27T00:30:20.092802Z"
    }
   },
   "outputs": [
    {
     "name": "stdout",
     "output_type": "stream",
     "text": [
      "id: AllOntologies\r\n",
      "ontologies:\r\n",
      "- id: obo:chebi.owl\r\n",
      "  version: obo:chebi/231/chebi.owl\r\n",
      "was_generated_by:\r\n",
      "  started_at_time: '2024-03-26T17:29:56.627143'\r\n",
      "  was_associated_with: OAK\r\n",
      "  acted_on_behalf_of: cjm\r\n",
      "class_count: 217549\r\n",
      "deprecated_class_count: 18650\r\n",
      "non_deprecated_class_count: 198899\r\n",
      "class_count_with_text_definitions: 53575\r\n",
      "class_count_without_text_definitions: 163974\r\n",
      "object_property_count: 10\r\n",
      "annotation_property_count: 37\r\n",
      "named_individual_count: 0\r\n",
      "subset_count: 3\r\n",
      "rdf_triple_count: 6860047\r\n",
      "subclass_of_axiom_count: 368285\r\n",
      "equivalent_classes_axiom_count: 0\r\n",
      "edge_count_by_predicate:\r\n",
      "  BFO:0000051:\r\n",
      "    facet: BFO:0000051\r\n",
      "    filtered_count: 4029\r\n",
      "  RO:0000087:\r\n",
      "    facet: RO:0000087\r\n",
      "    filtered_count: 43636\r\n",
      "  obo:chebi#has_functional_parent:\r\n",
      "    facet: obo:chebi#has_functional_parent\r\n",
      "    filtered_count: 19632\r\n",
      "  obo:chebi#has_parent_hydride:\r\n",
      "    facet: obo:chebi#has_parent_hydride\r\n",
      "    filtered_count: 1799\r\n",
      "  obo:chebi#is_conjugate_acid_of:\r\n",
      "    facet: obo:chebi#is_conjugate_acid_of\r\n",
      "    filtered_count: 8484\r\n",
      "  obo:chebi#is_conjugate_base_of:\r\n",
      "    facet: obo:chebi#is_conjugate_base_of\r\n",
      "    filtered_count: 8484\r\n",
      "  obo:chebi#is_enantiomer_of:\r\n",
      "    facet: obo:chebi#is_enantiomer_of\r\n",
      "    filtered_count: 2754\r\n",
      "  obo:chebi#is_substituent_group_from:\r\n",
      "    facet: obo:chebi#is_substituent_group_from\r\n",
      "    filtered_count: 1287\r\n",
      "  obo:chebi#is_tautomer_of:\r\n",
      "    facet: obo:chebi#is_tautomer_of\r\n",
      "    filtered_count: 1886\r\n",
      "  rdfs:subClassOf:\r\n",
      "    facet: rdfs:subClassOf\r\n"
     ]
    }
   ],
   "source": [
    "!head -50 output/chebi.stats.yaml"
   ]
  },
  {
   "cell_type": "markdown",
   "source": [
    "Like all objects produced by OAK, there is a data dictionary / data model. The ontology stats\n",
    "one is [https://w3id.org/oak/summary-statistics](https://w3id.org/oak/summary-statistics),\n",
    "you can use this link to browse documentation etc.\n",
    "\n",
    "**A well defined data dictionary is necessary for communicating aggregate statistics accurately**.\n",
    "Often when ontologies are reported informally, it's ambiguous whether *number of terms* means:\n",
    "\n",
    "- number of *classes*, *classes plus relationship types*, or *classes plus some other elements*\n",
    "- including or excluding deprecated (obsolete) entities\n",
    "\n",
    "The OAK summary statistics data dictionary aims to provide a **standard for ontology reporting**.\n",
    "\n",
    "YAML allows for nesting which is a natural way to group things; for example:\n",
    "\n",
    "```yaml\n",
    "edge_count_by_predicate:\n",
    "  BFO:0000051:\n",
    "    facet: BFO:0000051\n",
    "    filtered_count: 4003\n",
    "  RO:0000087:\n",
    "    facet: RO:0000087\n",
    "    filtered_count: 43082\n",
    "```\n",
    "\n",
    "This says that there are 4003 part-of (BFO:0000050) and 43082 has-role (RO:00000087) [relationships](https://incatools.github.io/ontology-access-kit/glossary.html#term-Relationship).\n",
    "\n",
    "See the [OAK guide to relationships](https://incatools.github.io/ontology-access-kit/guide/relationships-and-graphs.html)\n",
    "to understand more.\n",
    "\n",
    "## Mapping Stats\n",
    "\n",
    "Further on in the YAML we can see mapping stats. See (https://w3id.org/ssssom)[https://w3id.org/ssssom] to\n",
    "understand the OAK mapping data model.\n",
    "\n",
    "These are broken down\n",
    "\n",
    "- by mapping predicate (for many ontologies this is only `oio:hasDbXref`)\n",
    "- my mapping object source (i.e. the database or ontology that is mapped to)"
   ],
   "metadata": {
    "collapsed": false
   },
   "id": "66b8945aa523b8d5"
  },
  {
   "cell_type": "code",
   "execution_count": 21,
   "outputs": [
    {
     "name": "stdout",
     "output_type": "stream",
     "text": [
      "mapping_statement_count_by_predicate:\r\n",
      "  oio:hasDbXref:\r\n",
      "    facet: oio:hasDbXref\r\n",
      "    filtered_count: 345271\r\n",
      "mapping_statement_count_by_object_source:\r\n",
      "  BFO:\r\n",
      "    facet: BFO\r\n",
      "    filtered_count: 1\r\n",
      "  RO:\r\n",
      "    facet: RO\r\n",
      "    filtered_count: 1\r\n",
      "  KNApSAcK:\r\n",
      "    facet: KNApSAcK\r\n",
      "    filtered_count: 5185\r\n",
      "  KEGG:\r\n",
      "    facet: KEGG\r\n",
      "    filtered_count: 22228\r\n",
      "  CAS:\r\n",
      "    facet: CAS\r\n",
      "    filtered_count: 28938\r\n",
      "  KEGG_COMPOUND:\r\n",
      "    facet: KEGG_COMPOUND\r\n",
      "    filtered_count: 19870\r\n",
      "  Beilstein:\r\n",
      "    facet: Beilstein\r\n",
      "    filtered_count: 9187\r\n",
      "  IUPAC:\r\n",
      "    facet: IUPAC\r\n",
      "    filtered_count: 61013\r\n",
      "  ChemIDplus:\r\n",
      "    facet: ChemIDplus\r\n",
      "    filtered_count: 33383\r\n",
      "  UniProt:\r\n",
      "    facet: UniProt\r\n",
      "    filtered_count: 16047\r\n",
      "  LINCS:\r\n",
      "    facet: LINCS\r\n",
      "    filtered_count: 41392\r\n",
      "  Drug_Central:\r\n",
      "    facet: Drug_Central\r\n",
      "    filtered_count: 3784\r\n",
      "  DrugCentral:\r\n",
      "    facet: DrugCentral\r\n",
      "    filtered_count: 6202\r\n",
      "  Wikipedia:\r\n",
      "--\r\n",
      "mapping_statement_count_subject_by_object_source:\r\n",
      "  BFO:\r\n",
      "    facet: BFO\r\n",
      "    filtered_count: 1\r\n",
      "  RO:\r\n",
      "    facet: RO\r\n",
      "    filtered_count: 1\r\n",
      "  KNApSAcK:\r\n",
      "    facet: KNApSAcK\r\n",
      "    filtered_count: 5091\r\n",
      "  KEGG:\r\n",
      "    facet: KEGG\r\n",
      "    filtered_count: 20233\r\n",
      "  CAS:\r\n",
      "    facet: CAS\r\n",
      "    filtered_count: 28615\r\n",
      "  KEGG_COMPOUND:\r\n",
      "    facet: KEGG_COMPOUND\r\n",
      "    filtered_count: 19870\r\n",
      "  Beilstein:\r\n",
      "    facet: Beilstein\r\n",
      "    filtered_count: 8704\r\n",
      "  IUPAC:\r\n",
      "    facet: IUPAC\r\n",
      "    filtered_count: 61013\r\n",
      "  ChemIDplus:\r\n",
      "    facet: ChemIDplus\r\n",
      "    filtered_count: 33383\r\n",
      "  UniProt:\r\n",
      "    facet: UniProt\r\n",
      "    filtered_count: 16047\r\n",
      "  LINCS:\r\n",
      "    facet: LINCS\r\n",
      "    filtered_count: 41389\r\n",
      "  Drug_Central:\r\n",
      "    facet: Drug_Central\r\n",
      "    filtered_count: 3783\r\n",
      "  DrugCentral:\r\n",
      "    facet: DrugCentral\r\n",
      "    filtered_count: 6202\r\n",
      "  Wikipedia:\r\n"
     ]
    }
   ],
   "source": [
    "!grep -A40 ^mapping_statement_count output/chebi.stats.yaml"
   ],
   "metadata": {
    "collapsed": false,
    "ExecuteTime": {
     "end_time": "2024-03-27T00:30:20.378726Z",
     "start_time": "2024-03-27T00:30:20.237175Z"
    }
   },
   "id": "688b55507ca72f41"
  },
  {
   "cell_type": "markdown",
   "source": [
    "As expected, CHEBI does not make use of SKOS mapping predicates, and mappings\n",
    "are dominated by databases like KEGG, CAS.\n"
   ],
   "metadata": {
    "collapsed": false
   },
   "id": "65c80c02acc5a77d"
  },
  {
   "cell_type": "markdown",
   "source": [
    "## TSV Output\n",
    "\n",
    "YAML is not a very natural format for doing further data science or statistical processing.\n",
    "\n",
    "FOr that we can use the `csv` option (which actually defaults to tsv...)"
   ],
   "metadata": {
    "collapsed": false
   },
   "id": "61767f28d19545d"
  },
  {
   "cell_type": "code",
   "execution_count": 9,
   "outputs": [
    {
     "name": "stdout",
     "output_type": "stream",
     "text": [
      "WARNING:root:bad mapping: KEGG_COMPOUND\r\n",
      "WARNING:root:bad mapping: IUPAC\r\n",
      "WARNING:root:bad mapping: ChemIDplus\r\n",
      "WARNING:root:bad mapping: UniProt\r\n",
      "WARNING:root:bad mapping: DrugCentral\r\n",
      "WARNING:root:bad mapping: LINCS\r\n",
      "WARNING:root:bad mapping: KEGG_DRUG\r\n",
      "WARNING:root:bad mapping: ChEBI\r\n",
      "WARNING:root:bad mapping: ChEMBL\r\n",
      "WARNING:root:bad mapping: DrugBank\r\n",
      "WARNING:root:bad mapping: WHO_MedNet\r\n",
      "WARNING:root:bad mapping: PDBeChem\r\n",
      "WARNING:root:bad mapping: NIST_Chemistry_WebBook\r\n",
      "WARNING:root:bad mapping: LIPID_MAPS\r\n",
      "WARNING:root:bad mapping: IUPHAR\r\n",
      "WARNING:root:bad mapping: HMDB\r\n",
      "WARNING:root:bad mapping: SUBMITTER\r\n",
      "WARNING:root:bad mapping: MetaCyc\r\n",
      "WARNING:root:bad mapping: JCBN\r\n",
      "WARNING:root:bad mapping: GlyTouCan\r\n",
      "WARNING:root:bad mapping: KNApSAcK\r\n",
      "WARNING:root:bad mapping: IUBMB\r\n",
      "WARNING:root:bad mapping: EMBL\r\n",
      "WARNING:root:bad mapping: CBN\r\n",
      "WARNING:root:bad mapping: Alan_Wood's_Pesticides\r\n",
      "WARNING:root:bad mapping: GlyGen\r\n",
      "WARNING:root:bad mapping: PPDB\r\n",
      "WARNING:root:bad mapping: KEGG_GLYCAN\r\n",
      "WARNING:root:bad mapping: RESID\r\n",
      "WARNING:root:bad mapping: PubChem\r\n",
      "WARNING:root:bad mapping: FooDB\r\n",
      "WARNING:root:bad mapping: VSDB\r\n",
      "WARNING:root:bad mapping: UM-BBD\r\n",
      "WARNING:root:bad mapping: MolBase\r\n",
      "WARNING:root:bad mapping: COMe\r\n",
      "WARNING:root:bad mapping: EBI_Industry_Programme\r\n",
      "WARNING:root:bad mapping: EuroFIR\r\n",
      "WARNING:root:bad mapping: Beilstein\r\n",
      "WARNING:root:bad mapping: Patent\r\n",
      "WARNING:root:bad mapping: PDB\r\n",
      "WARNING:root:bad mapping: SMID\r\n"
     ]
    }
   ],
   "source": [
    "chebi statistics -o output/chebi.stats.tsv -O csv"
   ],
   "metadata": {
    "collapsed": false,
    "ExecuteTime": {
     "end_time": "2024-03-27T00:07:55.650586Z",
     "start_time": "2024-03-27T00:07:30.421752Z"
    }
   },
   "id": "d35e47fb825f3f00"
  },
  {
   "cell_type": "markdown",
   "source": [
    "To illustrate this we will use pandas:"
   ],
   "metadata": {
    "collapsed": false
   },
   "id": "88340e60db1a177b"
  },
  {
   "cell_type": "code",
   "execution_count": 11,
   "outputs": [
    {
     "data": {
      "text/plain": "              id  compared_with  agents  class_count  deprecated_class_count  \\\n0  AllOntologies            NaN     NaN       185295                   18628   \n\n   non_deprecated_class_count  class_count_with_text_definitions  \\\n0                      166667                              53049   \n\n   class_count_without_text_definitions  object_property_count  \\\n0                                132246                     10   \n\n   annotation_property_count  ...  \\\n0                         37  ...   \n\n   mapping_statement_count_subject_by_object_source_CTX  \\\n0                                                  3      \n\n   mapping_statement_count_subject_by_object_source_SMID  \\\n0                                                307       \n\n   class_count_by_subset_1_STAR  class_count_by_subset_2_STAR  \\\n0                          2945                        102919   \n\n   class_count_by_subset_3_STAR was_generated_by_started_at_time  \\\n0                         60803       2024-03-26T17:07:33.778117   \n\n   was_generated_by_was_associated_with  was_generated_by_acted_on_behalf_of  \\\n0                                   OAK                                  cjm   \n\n   ontologies_id       ontologies_version  \n0  obo:chebi.owl  obo:chebi/226/chebi.owl  \n\n[1 rows x 177 columns]",
      "text/html": "<div>\n<style scoped>\n    .dataframe tbody tr th:only-of-type {\n        vertical-align: middle;\n    }\n\n    .dataframe tbody tr th {\n        vertical-align: top;\n    }\n\n    .dataframe thead th {\n        text-align: right;\n    }\n</style>\n<table border=\"1\" class=\"dataframe\">\n  <thead>\n    <tr style=\"text-align: right;\">\n      <th></th>\n      <th>id</th>\n      <th>compared_with</th>\n      <th>agents</th>\n      <th>class_count</th>\n      <th>deprecated_class_count</th>\n      <th>non_deprecated_class_count</th>\n      <th>class_count_with_text_definitions</th>\n      <th>class_count_without_text_definitions</th>\n      <th>object_property_count</th>\n      <th>annotation_property_count</th>\n      <th>...</th>\n      <th>mapping_statement_count_subject_by_object_source_CTX</th>\n      <th>mapping_statement_count_subject_by_object_source_SMID</th>\n      <th>class_count_by_subset_1_STAR</th>\n      <th>class_count_by_subset_2_STAR</th>\n      <th>class_count_by_subset_3_STAR</th>\n      <th>was_generated_by_started_at_time</th>\n      <th>was_generated_by_was_associated_with</th>\n      <th>was_generated_by_acted_on_behalf_of</th>\n      <th>ontologies_id</th>\n      <th>ontologies_version</th>\n    </tr>\n  </thead>\n  <tbody>\n    <tr>\n      <th>0</th>\n      <td>AllOntologies</td>\n      <td>NaN</td>\n      <td>NaN</td>\n      <td>185295</td>\n      <td>18628</td>\n      <td>166667</td>\n      <td>53049</td>\n      <td>132246</td>\n      <td>10</td>\n      <td>37</td>\n      <td>...</td>\n      <td>3</td>\n      <td>307</td>\n      <td>2945</td>\n      <td>102919</td>\n      <td>60803</td>\n      <td>2024-03-26T17:07:33.778117</td>\n      <td>OAK</td>\n      <td>cjm</td>\n      <td>obo:chebi.owl</td>\n      <td>obo:chebi/226/chebi.owl</td>\n    </tr>\n  </tbody>\n</table>\n<p>1 rows × 177 columns</p>\n</div>"
     },
     "execution_count": 11,
     "metadata": {},
     "output_type": "execute_result"
    }
   ],
   "source": [
    "import pandas as pd\n",
    "df = pd.read_csv(\"output/chebi.stats.tsv\", sep=\"\\t\")\n",
    "df\n"
   ],
   "metadata": {
    "collapsed": false,
    "ExecuteTime": {
     "end_time": "2024-03-27T00:08:27.895520Z",
     "start_time": "2024-03-27T00:08:27.863507Z"
    }
   },
   "id": "c3381ed2ce4edaf2"
  },
  {
   "cell_type": "markdown",
   "source": [
    "This format is useful if you have multiple ontologies (see later).\n",
    "But for a single ontology it's more convenient to melt this:"
   ],
   "metadata": {
    "collapsed": false
   },
   "id": "dd1382a9dd752048"
  },
  {
   "cell_type": "code",
   "execution_count": 13,
   "outputs": [
    {
     "data": {
      "text/plain": "                                             Property          Value\n0                                                  id  AllOntologies\n1                                       compared_with            NaN\n2                                              agents            NaN\n3                                         class_count         185295\n4                              deprecated_class_count          18628\n5                          non_deprecated_class_count         166667\n6                   class_count_with_text_definitions          53049\n7                class_count_without_text_definitions         132246\n8                               object_property_count             10\n9                           annotation_property_count             37\n10                             named_individual_count              0\n11                                       subset_count              3\n12                                   rdf_triple_count        6158555\n13                            subclass_of_axiom_count         330989\n14                     equivalent_classes_axiom_count              0\n15                   entailed_edge_count_by_predicate             {}\n16                             distinct_synonym_count         332744\n17                            synonym_statement_count         346486\n18                            class_count_by_category             {}\n19                                contributor_summary             {}\n20                                     change_summary             {}\n21                                 merged_class_query          18559\n22                          deprecated_property_count              0\n23                edge_count_by_predicate_BFO:0000051           4003\n24                 edge_count_by_predicate_RO:0000087          43082\n25      edge_count_by_predicate_has_functional_parent          18664\n26         edge_count_by_predicate_has_parent_hydride           1764\n27       edge_count_by_predicate_is_conjugate_acid_of           8434\n28       edge_count_by_predicate_is_conjugate_base_of           8434\n29           edge_count_by_predicate_is_enantiomer_of           2728\n30  edge_count_by_predicate_is_substituent_group_from           1284\n31             edge_count_by_predicate_is_tautomer_of           1884\n32            edge_count_by_predicate_rdfs:subClassOf         240712\n33         edge_count_by_predicate_rdfs:subPropertyOf              6\n34  synonym_statement_count_by_predicate_hasExactS...         100585\n35  synonym_statement_count_by_predicate_hasRelate...         234002\n36     mapping_statement_count_by_predicate_hasDbXref         317151\n37       mapping_statement_count_by_object_source_BFO              1\n38        mapping_statement_count_by_object_source_RO              1\n39  mapping_statement_count_by_object_source_KNApSAcK           5152",
      "text/html": "<div>\n<style scoped>\n    .dataframe tbody tr th:only-of-type {\n        vertical-align: middle;\n    }\n\n    .dataframe tbody tr th {\n        vertical-align: top;\n    }\n\n    .dataframe thead th {\n        text-align: right;\n    }\n</style>\n<table border=\"1\" class=\"dataframe\">\n  <thead>\n    <tr style=\"text-align: right;\">\n      <th></th>\n      <th>Property</th>\n      <th>Value</th>\n    </tr>\n  </thead>\n  <tbody>\n    <tr>\n      <th>0</th>\n      <td>id</td>\n      <td>AllOntologies</td>\n    </tr>\n    <tr>\n      <th>1</th>\n      <td>compared_with</td>\n      <td>NaN</td>\n    </tr>\n    <tr>\n      <th>2</th>\n      <td>agents</td>\n      <td>NaN</td>\n    </tr>\n    <tr>\n      <th>3</th>\n      <td>class_count</td>\n      <td>185295</td>\n    </tr>\n    <tr>\n      <th>4</th>\n      <td>deprecated_class_count</td>\n      <td>18628</td>\n    </tr>\n    <tr>\n      <th>5</th>\n      <td>non_deprecated_class_count</td>\n      <td>166667</td>\n    </tr>\n    <tr>\n      <th>6</th>\n      <td>class_count_with_text_definitions</td>\n      <td>53049</td>\n    </tr>\n    <tr>\n      <th>7</th>\n      <td>class_count_without_text_definitions</td>\n      <td>132246</td>\n    </tr>\n    <tr>\n      <th>8</th>\n      <td>object_property_count</td>\n      <td>10</td>\n    </tr>\n    <tr>\n      <th>9</th>\n      <td>annotation_property_count</td>\n      <td>37</td>\n    </tr>\n    <tr>\n      <th>10</th>\n      <td>named_individual_count</td>\n      <td>0</td>\n    </tr>\n    <tr>\n      <th>11</th>\n      <td>subset_count</td>\n      <td>3</td>\n    </tr>\n    <tr>\n      <th>12</th>\n      <td>rdf_triple_count</td>\n      <td>6158555</td>\n    </tr>\n    <tr>\n      <th>13</th>\n      <td>subclass_of_axiom_count</td>\n      <td>330989</td>\n    </tr>\n    <tr>\n      <th>14</th>\n      <td>equivalent_classes_axiom_count</td>\n      <td>0</td>\n    </tr>\n    <tr>\n      <th>15</th>\n      <td>entailed_edge_count_by_predicate</td>\n      <td>{}</td>\n    </tr>\n    <tr>\n      <th>16</th>\n      <td>distinct_synonym_count</td>\n      <td>332744</td>\n    </tr>\n    <tr>\n      <th>17</th>\n      <td>synonym_statement_count</td>\n      <td>346486</td>\n    </tr>\n    <tr>\n      <th>18</th>\n      <td>class_count_by_category</td>\n      <td>{}</td>\n    </tr>\n    <tr>\n      <th>19</th>\n      <td>contributor_summary</td>\n      <td>{}</td>\n    </tr>\n    <tr>\n      <th>20</th>\n      <td>change_summary</td>\n      <td>{}</td>\n    </tr>\n    <tr>\n      <th>21</th>\n      <td>merged_class_query</td>\n      <td>18559</td>\n    </tr>\n    <tr>\n      <th>22</th>\n      <td>deprecated_property_count</td>\n      <td>0</td>\n    </tr>\n    <tr>\n      <th>23</th>\n      <td>edge_count_by_predicate_BFO:0000051</td>\n      <td>4003</td>\n    </tr>\n    <tr>\n      <th>24</th>\n      <td>edge_count_by_predicate_RO:0000087</td>\n      <td>43082</td>\n    </tr>\n    <tr>\n      <th>25</th>\n      <td>edge_count_by_predicate_has_functional_parent</td>\n      <td>18664</td>\n    </tr>\n    <tr>\n      <th>26</th>\n      <td>edge_count_by_predicate_has_parent_hydride</td>\n      <td>1764</td>\n    </tr>\n    <tr>\n      <th>27</th>\n      <td>edge_count_by_predicate_is_conjugate_acid_of</td>\n      <td>8434</td>\n    </tr>\n    <tr>\n      <th>28</th>\n      <td>edge_count_by_predicate_is_conjugate_base_of</td>\n      <td>8434</td>\n    </tr>\n    <tr>\n      <th>29</th>\n      <td>edge_count_by_predicate_is_enantiomer_of</td>\n      <td>2728</td>\n    </tr>\n    <tr>\n      <th>30</th>\n      <td>edge_count_by_predicate_is_substituent_group_from</td>\n      <td>1284</td>\n    </tr>\n    <tr>\n      <th>31</th>\n      <td>edge_count_by_predicate_is_tautomer_of</td>\n      <td>1884</td>\n    </tr>\n    <tr>\n      <th>32</th>\n      <td>edge_count_by_predicate_rdfs:subClassOf</td>\n      <td>240712</td>\n    </tr>\n    <tr>\n      <th>33</th>\n      <td>edge_count_by_predicate_rdfs:subPropertyOf</td>\n      <td>6</td>\n    </tr>\n    <tr>\n      <th>34</th>\n      <td>synonym_statement_count_by_predicate_hasExactS...</td>\n      <td>100585</td>\n    </tr>\n    <tr>\n      <th>35</th>\n      <td>synonym_statement_count_by_predicate_hasRelate...</td>\n      <td>234002</td>\n    </tr>\n    <tr>\n      <th>36</th>\n      <td>mapping_statement_count_by_predicate_hasDbXref</td>\n      <td>317151</td>\n    </tr>\n    <tr>\n      <th>37</th>\n      <td>mapping_statement_count_by_object_source_BFO</td>\n      <td>1</td>\n    </tr>\n    <tr>\n      <th>38</th>\n      <td>mapping_statement_count_by_object_source_RO</td>\n      <td>1</td>\n    </tr>\n    <tr>\n      <th>39</th>\n      <td>mapping_statement_count_by_object_source_KNApSAcK</td>\n      <td>5152</td>\n    </tr>\n  </tbody>\n</table>\n</div>"
     },
     "execution_count": 13,
     "metadata": {},
     "output_type": "execute_result"
    }
   ],
   "source": [
    "mdf = df.melt(var_name='Property', value_name='Value')\n",
    "mdf[0:40]"
   ],
   "metadata": {
    "collapsed": false,
    "ExecuteTime": {
     "end_time": "2024-03-27T00:10:22.008072Z",
     "start_time": "2024-03-27T00:10:21.985735Z"
    }
   },
   "id": "1e71a74c64f01ea3"
  },
  {
   "cell_type": "markdown",
   "source": [
    "Note this uses a very generic way of flattening the yaml so some columns make less sense out of context - \n",
    "e.g. the \"agent\" field belongs to a parent object that describes what \"agent\" generated the stats\n",
    "(TODO: this should say \"oaklib\")"
   ],
   "metadata": {
    "collapsed": false
   },
   "id": "4415b1c56ef20078"
  },
  {
   "cell_type": "markdown",
   "source": [
    "## Multi-ontology merges\n",
    "\n",
    "Many OBO ontologies bundle portions of other ontologies with their main release. This can\n",
    "be confusing! For more details see [OWL Format Variants](https://oboacademy.github.io/obook/explanation/owl-format-variants/)\n",
    "in the obook.\n",
    "\n",
    "As an example, consider naively calculating stats for the standard release of the\n",
    "Cell Ontology (CL):"
   ],
   "metadata": {
    "collapsed": false
   },
   "id": "1c59d85909ca59b1"
  },
  {
   "cell_type": "code",
   "execution_count": 14,
   "outputs": [
    {
     "name": "stdout",
     "output_type": "stream",
     "text": [
      "WARNING:root:bad mapping: GSE137537\r\n",
      "WARNING:root:bad mapping: 10.1007/s004180050142\r\n",
      "WARNING:root:bad mapping: NIFSTD\r\n",
      "WARNING:root:bad mapping: Noradrenergic_cell_group_A6&oldid=981960774\r\n",
      "WARNING:root:bad mapping: _Chapter_3\r\n",
      "WARNING:root:bad mapping: A12.2.15.042\r\n",
      "WARNING:root:bad mapping: PHENOSCAPE\r\n",
      "id: AllOntologies\r\n",
      "ontologies:\r\n",
      "- id: obo:cl.owl\r\n",
      "  version: obo:cl/releases/2023-09-21/cl.owl\r\n",
      "  version_info: '2023-09-21'\r\n",
      "was_generated_by:\r\n",
      "  started_at_time: '2024-03-26T17:16:02.669245'\r\n",
      "  was_associated_with: OAK\r\n",
      "  acted_on_behalf_of: cjm\r\n",
      "class_count: 28330\r\n",
      "deprecated_class_count: 261\r\n",
      "non_deprecated_class_count: 28069\r\n",
      "class_count_with_text_definitions: 15110\r\n",
      "class_count_without_text_definitions: 13220\r\n",
      "object_property_count: 297\r\n",
      "annotation_property_count: 241\r\n",
      "named_individual_count: 18\r\n",
      "subset_count: 63\r\n",
      "rdf_triple_count: 681623\r\n",
      "subclass_of_axiom_count: 44142\r\n"
     ]
    }
   ],
   "source": [
    "!runoak -i sqlite:obo:cl statistics | head -20"
   ],
   "metadata": {
    "collapsed": false,
    "ExecuteTime": {
     "end_time": "2024-03-27T00:16:05.708936Z",
     "start_time": "2024-03-27T00:16:00.362529Z"
    }
   },
   "id": "86416e4ad56be0c7"
  },
  {
   "cell_type": "markdown",
   "source": [
    "Looking at this you might think CL has 28k classes. In fact, this is the total number of\n",
    "classes in the ontology as defined by OWL, where here \"ontology\" means the merged\n",
    "product that includes bits of GO, Uberon, etc. Confusing, huh?\n",
    "\n",
    "Ideally the OBO Foundry would move towards making *base files* the default, but in the absence of this,\n",
    "we have a few options:\n",
    "\n",
    "* Filtering by prefix (using `-P`)\n",
    "* Grouping using some property such as the prefix.\n",
    "\n",
    "We'll try the latter\n"
   ],
   "metadata": {
    "collapsed": false
   },
   "id": "40386173a317f262"
  },
  {
   "cell_type": "code",
   "execution_count": 22,
   "outputs": [],
   "source": [
    "!runoak -i sqlite:obo:cl statistics --group-by-prefix -o output/cl.stats.grouped.tsv -O csv"
   ],
   "metadata": {
    "collapsed": false,
    "ExecuteTime": {
     "end_time": "2024-03-27T00:36:40.859841Z",
     "start_time": "2024-03-27T00:34:13.090696Z"
    }
   },
   "id": "1099d9e9542df418"
  },
  {
   "cell_type": "code",
   "execution_count": 23,
   "outputs": [
    {
     "data": {
      "text/plain": "           id  compared_with  agents  class_count  deprecated_class_count  \\\n0       <http            NaN     NaN            0                       0   \n1      <https            NaN     NaN            0                       0   \n2         BFO            NaN     NaN           15                       0   \n3        BSPO            NaN     NaN            0                       0   \n4        CARO            NaN     NaN           20                       0   \n5       CHEBI            NaN     NaN          123                       0   \n6          CL            NaN     NaN         2969                     249   \n7          GO            NaN     NaN         7265                       2   \n8         IAO            NaN     NaN            6                       0   \n9   NCBITaxon            NaN     NaN          138                       0   \n10        OMO            NaN     NaN            0                       0   \n11       PATO            NaN     NaN          185                       0   \n12         PR            NaN     NaN          748                       0   \n13         RO            NaN     NaN            1                       0   \n14     UBERON            NaN     NaN         4670                       0   \n15       cito            NaN     NaN            0                       0   \n16        dce            NaN     NaN            0                       0   \n17    dcterms            NaN     NaN            0                       0   \n18       foaf            NaN     NaN            0                       0   \n19        obo            NaN     NaN           10                      10   \n20        oio            NaN     NaN            0                       0   \n21        owl            NaN     NaN            0                       0   \n22       rdfs            NaN     NaN            0                       0   \n23       skos            NaN     NaN            0                       0   \n24        xsd            NaN     NaN            0                       0   \n\n    non_deprecated_class_count  class_count_with_text_definitions  \\\n0                            0                                  0   \n1                            0                                  0   \n2                           15                                  9   \n3                            0                                  0   \n4                           20                                 20   \n5                          123                                 18   \n6                         2720                               2555   \n7                         7263                               7264   \n8                            6                                  4   \n9                          138                                  0   \n10                           0                                  0   \n11                         185                                184   \n12                         748                                747   \n13                           1                                  1   \n14                        4670                               4308   \n15                           0                                  0   \n16                           0                                  0   \n17                           0                                  0   \n18                           0                                  0   \n19                           0                                  0   \n20                           0                                  0   \n21                           0                                  0   \n22                           0                                  0   \n23                           0                                  0   \n24                           0                                  0   \n\n    class_count_without_text_definitions  object_property_count  \\\n0                                      0                      0   \n1                                      0                      0   \n2                                      6                      6   \n3                                      0                     24   \n4                                      0                      0   \n5                                    105                      0   \n6                                    414                      3   \n7                                      1                      0   \n8                                      2                      0   \n9                                    138                      0   \n10                                     0                      0   \n11                                     1                      0   \n12                                     1                      0   \n13                                     0                    240   \n14                                   362                      0   \n15                                     0                      0   \n16                                     0                      0   \n17                                     0                      0   \n18                                     0                      0   \n19                                    10                     24   \n20                                     0                      0   \n21                                     0                      0   \n22                                     0                      0   \n23                                     0                      0   \n24                                     0                      0   \n\n    annotation_property_count  ...  class_count_by_subset_non_informative  \\\n0                           1  ...                                    NaN   \n1                           1  ...                                    NaN   \n2                           0  ...                                    NaN   \n3                           0  ...                                    NaN   \n4                           0  ...                                    NaN   \n5                           0  ...                                    NaN   \n6                           0  ...                                    NaN   \n7                           0  ...                                    NaN   \n8                          23  ...                                    NaN   \n9                           0  ...                                    NaN   \n10                          2  ...                                    NaN   \n11                          0  ...                                    NaN   \n12                          0  ...                                    NaN   \n13                         16  ...                                    NaN   \n14                          0  ...                                   47.0   \n15                          1  ...                                    NaN   \n16                          6  ...                                    NaN   \n17                          7  ...                                    NaN   \n18                          2  ...                                    NaN   \n19                        116  ...                                    NaN   \n20                         61  ...                                    NaN   \n21                          1  ...                                    NaN   \n22                          3  ...                                    NaN   \n23                          1  ...                                    NaN   \n24                          0  ...                                    NaN   \n\n    class_count_by_subset_organ_slim  class_count_by_subset_pheno_slim  \\\n0                                NaN                               NaN   \n1                                NaN                               NaN   \n2                                NaN                               NaN   \n3                                NaN                               NaN   \n4                                NaN                               NaN   \n5                                NaN                               NaN   \n6                                NaN                               NaN   \n7                                NaN                               NaN   \n8                                NaN                               NaN   \n9                                NaN                               NaN   \n10                               NaN                               NaN   \n11                               NaN                               NaN   \n12                               NaN                               NaN   \n13                               NaN                               NaN   \n14                             136.0                            1373.0   \n15                               NaN                               NaN   \n16                               NaN                               NaN   \n17                               NaN                               NaN   \n18                               NaN                               NaN   \n19                               NaN                               NaN   \n20                               NaN                               NaN   \n21                               NaN                               NaN   \n22                               NaN                               NaN   \n23                               NaN                               NaN   \n24                               NaN                               NaN   \n\n    class_count_by_subset_phenotype_rcn  class_count_by_subset_uberon_slim  \\\n0                                   NaN                                NaN   \n1                                   NaN                                NaN   \n2                                   NaN                                NaN   \n3                                   NaN                                NaN   \n4                                   NaN                                NaN   \n5                                   NaN                                NaN   \n6                                   NaN                                NaN   \n7                                   NaN                                NaN   \n8                                   NaN                                NaN   \n9                                   NaN                                NaN   \n10                                  NaN                                NaN   \n11                                  NaN                                NaN   \n12                                  NaN                                NaN   \n13                                  NaN                                NaN   \n14                                  3.0                              809.0   \n15                                  NaN                                NaN   \n16                                  NaN                                NaN   \n17                                  NaN                                NaN   \n18                                  NaN                                NaN   \n19                                  NaN                                NaN   \n20                                  NaN                                NaN   \n21                                  NaN                                NaN   \n22                                  NaN                                NaN   \n23                                  NaN                                NaN   \n24                                  NaN                                NaN   \n\n   class_count_by_subset_unverified_taxonomic_grouping  \\\n0                                                 NaN    \n1                                                 NaN    \n2                                                 NaN    \n3                                                 NaN    \n4                                                 NaN    \n5                                                 NaN    \n6                                                 NaN    \n7                                                 NaN    \n8                                                 NaN    \n9                                                 NaN    \n10                                                NaN    \n11                                                NaN    \n12                                                NaN    \n13                                                NaN    \n14                                                1.0    \n15                                                NaN    \n16                                                NaN    \n17                                                NaN    \n18                                                NaN    \n19                                                NaN    \n20                                                NaN    \n21                                                NaN    \n22                                                NaN    \n23                                                NaN    \n24                                                NaN    \n\n    class_count_by_subset_upper_level  class_count_by_subset_vertebrate_core  \\\n0                                 NaN                                    NaN   \n1                                 NaN                                    NaN   \n2                                 NaN                                    NaN   \n3                                 NaN                                    NaN   \n4                                 NaN                                    NaN   \n5                                 NaN                                    NaN   \n6                                 NaN                                    NaN   \n7                                 NaN                                    NaN   \n8                                 NaN                                    NaN   \n9                                 NaN                                    NaN   \n10                                NaN                                    NaN   \n11                                NaN                                    NaN   \n12                                NaN                                    NaN   \n13                                NaN                                    NaN   \n14                               49.0                                  448.0   \n15                                NaN                                    NaN   \n16                                NaN                                    NaN   \n17                                NaN                                    NaN   \n18                                NaN                                    NaN   \n19                                NaN                                    NaN   \n20                                NaN                                    NaN   \n21                                NaN                                    NaN   \n22                                NaN                                    NaN   \n23                                NaN                                    NaN   \n24                                NaN                                    NaN   \n\n   mapping_statement_count_by_object_source_GOREL  \\\n0                                             NaN   \n1                                             NaN   \n2                                             NaN   \n3                                             NaN   \n4                                             NaN   \n5                                             NaN   \n6                                             NaN   \n7                                             NaN   \n8                                             NaN   \n9                                             NaN   \n10                                            NaN   \n11                                            NaN   \n12                                            NaN   \n13                                            NaN   \n14                                            NaN   \n15                                            NaN   \n16                                            NaN   \n17                                            NaN   \n18                                            NaN   \n19                                            2.0   \n20                                            NaN   \n21                                            NaN   \n22                                            NaN   \n23                                            NaN   \n24                                            NaN   \n\n   mapping_statement_count_subject_by_object_source_GOREL  \n0                                                 NaN      \n1                                                 NaN      \n2                                                 NaN      \n3                                                 NaN      \n4                                                 NaN      \n5                                                 NaN      \n6                                                 NaN      \n7                                                 NaN      \n8                                                 NaN      \n9                                                 NaN      \n10                                                NaN      \n11                                                NaN      \n12                                                NaN      \n13                                                NaN      \n14                                                NaN      \n15                                                NaN      \n16                                                NaN      \n17                                                NaN      \n18                                                NaN      \n19                                                2.0      \n20                                                NaN      \n21                                                NaN      \n22                                                NaN      \n23                                                NaN      \n24                                                NaN      \n\n[25 rows x 512 columns]",
      "text/html": "<div>\n<style scoped>\n    .dataframe tbody tr th:only-of-type {\n        vertical-align: middle;\n    }\n\n    .dataframe tbody tr th {\n        vertical-align: top;\n    }\n\n    .dataframe thead th {\n        text-align: right;\n    }\n</style>\n<table border=\"1\" class=\"dataframe\">\n  <thead>\n    <tr style=\"text-align: right;\">\n      <th></th>\n      <th>id</th>\n      <th>compared_with</th>\n      <th>agents</th>\n      <th>class_count</th>\n      <th>deprecated_class_count</th>\n      <th>non_deprecated_class_count</th>\n      <th>class_count_with_text_definitions</th>\n      <th>class_count_without_text_definitions</th>\n      <th>object_property_count</th>\n      <th>annotation_property_count</th>\n      <th>...</th>\n      <th>class_count_by_subset_non_informative</th>\n      <th>class_count_by_subset_organ_slim</th>\n      <th>class_count_by_subset_pheno_slim</th>\n      <th>class_count_by_subset_phenotype_rcn</th>\n      <th>class_count_by_subset_uberon_slim</th>\n      <th>class_count_by_subset_unverified_taxonomic_grouping</th>\n      <th>class_count_by_subset_upper_level</th>\n      <th>class_count_by_subset_vertebrate_core</th>\n      <th>mapping_statement_count_by_object_source_GOREL</th>\n      <th>mapping_statement_count_subject_by_object_source_GOREL</th>\n    </tr>\n  </thead>\n  <tbody>\n    <tr>\n      <th>0</th>\n      <td>&lt;http</td>\n      <td>NaN</td>\n      <td>NaN</td>\n      <td>0</td>\n      <td>0</td>\n      <td>0</td>\n      <td>0</td>\n      <td>0</td>\n      <td>0</td>\n      <td>1</td>\n      <td>...</td>\n      <td>NaN</td>\n      <td>NaN</td>\n      <td>NaN</td>\n      <td>NaN</td>\n      <td>NaN</td>\n      <td>NaN</td>\n      <td>NaN</td>\n      <td>NaN</td>\n      <td>NaN</td>\n      <td>NaN</td>\n    </tr>\n    <tr>\n      <th>1</th>\n      <td>&lt;https</td>\n      <td>NaN</td>\n      <td>NaN</td>\n      <td>0</td>\n      <td>0</td>\n      <td>0</td>\n      <td>0</td>\n      <td>0</td>\n      <td>0</td>\n      <td>1</td>\n      <td>...</td>\n      <td>NaN</td>\n      <td>NaN</td>\n      <td>NaN</td>\n      <td>NaN</td>\n      <td>NaN</td>\n      <td>NaN</td>\n      <td>NaN</td>\n      <td>NaN</td>\n      <td>NaN</td>\n      <td>NaN</td>\n    </tr>\n    <tr>\n      <th>2</th>\n      <td>BFO</td>\n      <td>NaN</td>\n      <td>NaN</td>\n      <td>15</td>\n      <td>0</td>\n      <td>15</td>\n      <td>9</td>\n      <td>6</td>\n      <td>6</td>\n      <td>0</td>\n      <td>...</td>\n      <td>NaN</td>\n      <td>NaN</td>\n      <td>NaN</td>\n      <td>NaN</td>\n      <td>NaN</td>\n      <td>NaN</td>\n      <td>NaN</td>\n      <td>NaN</td>\n      <td>NaN</td>\n      <td>NaN</td>\n    </tr>\n    <tr>\n      <th>3</th>\n      <td>BSPO</td>\n      <td>NaN</td>\n      <td>NaN</td>\n      <td>0</td>\n      <td>0</td>\n      <td>0</td>\n      <td>0</td>\n      <td>0</td>\n      <td>24</td>\n      <td>0</td>\n      <td>...</td>\n      <td>NaN</td>\n      <td>NaN</td>\n      <td>NaN</td>\n      <td>NaN</td>\n      <td>NaN</td>\n      <td>NaN</td>\n      <td>NaN</td>\n      <td>NaN</td>\n      <td>NaN</td>\n      <td>NaN</td>\n    </tr>\n    <tr>\n      <th>4</th>\n      <td>CARO</td>\n      <td>NaN</td>\n      <td>NaN</td>\n      <td>20</td>\n      <td>0</td>\n      <td>20</td>\n      <td>20</td>\n      <td>0</td>\n      <td>0</td>\n      <td>0</td>\n      <td>...</td>\n      <td>NaN</td>\n      <td>NaN</td>\n      <td>NaN</td>\n      <td>NaN</td>\n      <td>NaN</td>\n      <td>NaN</td>\n      <td>NaN</td>\n      <td>NaN</td>\n      <td>NaN</td>\n      <td>NaN</td>\n    </tr>\n    <tr>\n      <th>5</th>\n      <td>CHEBI</td>\n      <td>NaN</td>\n      <td>NaN</td>\n      <td>123</td>\n      <td>0</td>\n      <td>123</td>\n      <td>18</td>\n      <td>105</td>\n      <td>0</td>\n      <td>0</td>\n      <td>...</td>\n      <td>NaN</td>\n      <td>NaN</td>\n      <td>NaN</td>\n      <td>NaN</td>\n      <td>NaN</td>\n      <td>NaN</td>\n      <td>NaN</td>\n      <td>NaN</td>\n      <td>NaN</td>\n      <td>NaN</td>\n    </tr>\n    <tr>\n      <th>6</th>\n      <td>CL</td>\n      <td>NaN</td>\n      <td>NaN</td>\n      <td>2969</td>\n      <td>249</td>\n      <td>2720</td>\n      <td>2555</td>\n      <td>414</td>\n      <td>3</td>\n      <td>0</td>\n      <td>...</td>\n      <td>NaN</td>\n      <td>NaN</td>\n      <td>NaN</td>\n      <td>NaN</td>\n      <td>NaN</td>\n      <td>NaN</td>\n      <td>NaN</td>\n      <td>NaN</td>\n      <td>NaN</td>\n      <td>NaN</td>\n    </tr>\n    <tr>\n      <th>7</th>\n      <td>GO</td>\n      <td>NaN</td>\n      <td>NaN</td>\n      <td>7265</td>\n      <td>2</td>\n      <td>7263</td>\n      <td>7264</td>\n      <td>1</td>\n      <td>0</td>\n      <td>0</td>\n      <td>...</td>\n      <td>NaN</td>\n      <td>NaN</td>\n      <td>NaN</td>\n      <td>NaN</td>\n      <td>NaN</td>\n      <td>NaN</td>\n      <td>NaN</td>\n      <td>NaN</td>\n      <td>NaN</td>\n      <td>NaN</td>\n    </tr>\n    <tr>\n      <th>8</th>\n      <td>IAO</td>\n      <td>NaN</td>\n      <td>NaN</td>\n      <td>6</td>\n      <td>0</td>\n      <td>6</td>\n      <td>4</td>\n      <td>2</td>\n      <td>0</td>\n      <td>23</td>\n      <td>...</td>\n      <td>NaN</td>\n      <td>NaN</td>\n      <td>NaN</td>\n      <td>NaN</td>\n      <td>NaN</td>\n      <td>NaN</td>\n      <td>NaN</td>\n      <td>NaN</td>\n      <td>NaN</td>\n      <td>NaN</td>\n    </tr>\n    <tr>\n      <th>9</th>\n      <td>NCBITaxon</td>\n      <td>NaN</td>\n      <td>NaN</td>\n      <td>138</td>\n      <td>0</td>\n      <td>138</td>\n      <td>0</td>\n      <td>138</td>\n      <td>0</td>\n      <td>0</td>\n      <td>...</td>\n      <td>NaN</td>\n      <td>NaN</td>\n      <td>NaN</td>\n      <td>NaN</td>\n      <td>NaN</td>\n      <td>NaN</td>\n      <td>NaN</td>\n      <td>NaN</td>\n      <td>NaN</td>\n      <td>NaN</td>\n    </tr>\n    <tr>\n      <th>10</th>\n      <td>OMO</td>\n      <td>NaN</td>\n      <td>NaN</td>\n      <td>0</td>\n      <td>0</td>\n      <td>0</td>\n      <td>0</td>\n      <td>0</td>\n      <td>0</td>\n      <td>2</td>\n      <td>...</td>\n      <td>NaN</td>\n      <td>NaN</td>\n      <td>NaN</td>\n      <td>NaN</td>\n      <td>NaN</td>\n      <td>NaN</td>\n      <td>NaN</td>\n      <td>NaN</td>\n      <td>NaN</td>\n      <td>NaN</td>\n    </tr>\n    <tr>\n      <th>11</th>\n      <td>PATO</td>\n      <td>NaN</td>\n      <td>NaN</td>\n      <td>185</td>\n      <td>0</td>\n      <td>185</td>\n      <td>184</td>\n      <td>1</td>\n      <td>0</td>\n      <td>0</td>\n      <td>...</td>\n      <td>NaN</td>\n      <td>NaN</td>\n      <td>NaN</td>\n      <td>NaN</td>\n      <td>NaN</td>\n      <td>NaN</td>\n      <td>NaN</td>\n      <td>NaN</td>\n      <td>NaN</td>\n      <td>NaN</td>\n    </tr>\n    <tr>\n      <th>12</th>\n      <td>PR</td>\n      <td>NaN</td>\n      <td>NaN</td>\n      <td>748</td>\n      <td>0</td>\n      <td>748</td>\n      <td>747</td>\n      <td>1</td>\n      <td>0</td>\n      <td>0</td>\n      <td>...</td>\n      <td>NaN</td>\n      <td>NaN</td>\n      <td>NaN</td>\n      <td>NaN</td>\n      <td>NaN</td>\n      <td>NaN</td>\n      <td>NaN</td>\n      <td>NaN</td>\n      <td>NaN</td>\n      <td>NaN</td>\n    </tr>\n    <tr>\n      <th>13</th>\n      <td>RO</td>\n      <td>NaN</td>\n      <td>NaN</td>\n      <td>1</td>\n      <td>0</td>\n      <td>1</td>\n      <td>1</td>\n      <td>0</td>\n      <td>240</td>\n      <td>16</td>\n      <td>...</td>\n      <td>NaN</td>\n      <td>NaN</td>\n      <td>NaN</td>\n      <td>NaN</td>\n      <td>NaN</td>\n      <td>NaN</td>\n      <td>NaN</td>\n      <td>NaN</td>\n      <td>NaN</td>\n      <td>NaN</td>\n    </tr>\n    <tr>\n      <th>14</th>\n      <td>UBERON</td>\n      <td>NaN</td>\n      <td>NaN</td>\n      <td>4670</td>\n      <td>0</td>\n      <td>4670</td>\n      <td>4308</td>\n      <td>362</td>\n      <td>0</td>\n      <td>0</td>\n      <td>...</td>\n      <td>47.0</td>\n      <td>136.0</td>\n      <td>1373.0</td>\n      <td>3.0</td>\n      <td>809.0</td>\n      <td>1.0</td>\n      <td>49.0</td>\n      <td>448.0</td>\n      <td>NaN</td>\n      <td>NaN</td>\n    </tr>\n    <tr>\n      <th>15</th>\n      <td>cito</td>\n      <td>NaN</td>\n      <td>NaN</td>\n      <td>0</td>\n      <td>0</td>\n      <td>0</td>\n      <td>0</td>\n      <td>0</td>\n      <td>0</td>\n      <td>1</td>\n      <td>...</td>\n      <td>NaN</td>\n      <td>NaN</td>\n      <td>NaN</td>\n      <td>NaN</td>\n      <td>NaN</td>\n      <td>NaN</td>\n      <td>NaN</td>\n      <td>NaN</td>\n      <td>NaN</td>\n      <td>NaN</td>\n    </tr>\n    <tr>\n      <th>16</th>\n      <td>dce</td>\n      <td>NaN</td>\n      <td>NaN</td>\n      <td>0</td>\n      <td>0</td>\n      <td>0</td>\n      <td>0</td>\n      <td>0</td>\n      <td>0</td>\n      <td>6</td>\n      <td>...</td>\n      <td>NaN</td>\n      <td>NaN</td>\n      <td>NaN</td>\n      <td>NaN</td>\n      <td>NaN</td>\n      <td>NaN</td>\n      <td>NaN</td>\n      <td>NaN</td>\n      <td>NaN</td>\n      <td>NaN</td>\n    </tr>\n    <tr>\n      <th>17</th>\n      <td>dcterms</td>\n      <td>NaN</td>\n      <td>NaN</td>\n      <td>0</td>\n      <td>0</td>\n      <td>0</td>\n      <td>0</td>\n      <td>0</td>\n      <td>0</td>\n      <td>7</td>\n      <td>...</td>\n      <td>NaN</td>\n      <td>NaN</td>\n      <td>NaN</td>\n      <td>NaN</td>\n      <td>NaN</td>\n      <td>NaN</td>\n      <td>NaN</td>\n      <td>NaN</td>\n      <td>NaN</td>\n      <td>NaN</td>\n    </tr>\n    <tr>\n      <th>18</th>\n      <td>foaf</td>\n      <td>NaN</td>\n      <td>NaN</td>\n      <td>0</td>\n      <td>0</td>\n      <td>0</td>\n      <td>0</td>\n      <td>0</td>\n      <td>0</td>\n      <td>2</td>\n      <td>...</td>\n      <td>NaN</td>\n      <td>NaN</td>\n      <td>NaN</td>\n      <td>NaN</td>\n      <td>NaN</td>\n      <td>NaN</td>\n      <td>NaN</td>\n      <td>NaN</td>\n      <td>NaN</td>\n      <td>NaN</td>\n    </tr>\n    <tr>\n      <th>19</th>\n      <td>obo</td>\n      <td>NaN</td>\n      <td>NaN</td>\n      <td>10</td>\n      <td>10</td>\n      <td>0</td>\n      <td>0</td>\n      <td>10</td>\n      <td>24</td>\n      <td>116</td>\n      <td>...</td>\n      <td>NaN</td>\n      <td>NaN</td>\n      <td>NaN</td>\n      <td>NaN</td>\n      <td>NaN</td>\n      <td>NaN</td>\n      <td>NaN</td>\n      <td>NaN</td>\n      <td>2.0</td>\n      <td>2.0</td>\n    </tr>\n    <tr>\n      <th>20</th>\n      <td>oio</td>\n      <td>NaN</td>\n      <td>NaN</td>\n      <td>0</td>\n      <td>0</td>\n      <td>0</td>\n      <td>0</td>\n      <td>0</td>\n      <td>0</td>\n      <td>61</td>\n      <td>...</td>\n      <td>NaN</td>\n      <td>NaN</td>\n      <td>NaN</td>\n      <td>NaN</td>\n      <td>NaN</td>\n      <td>NaN</td>\n      <td>NaN</td>\n      <td>NaN</td>\n      <td>NaN</td>\n      <td>NaN</td>\n    </tr>\n    <tr>\n      <th>21</th>\n      <td>owl</td>\n      <td>NaN</td>\n      <td>NaN</td>\n      <td>0</td>\n      <td>0</td>\n      <td>0</td>\n      <td>0</td>\n      <td>0</td>\n      <td>0</td>\n      <td>1</td>\n      <td>...</td>\n      <td>NaN</td>\n      <td>NaN</td>\n      <td>NaN</td>\n      <td>NaN</td>\n      <td>NaN</td>\n      <td>NaN</td>\n      <td>NaN</td>\n      <td>NaN</td>\n      <td>NaN</td>\n      <td>NaN</td>\n    </tr>\n    <tr>\n      <th>22</th>\n      <td>rdfs</td>\n      <td>NaN</td>\n      <td>NaN</td>\n      <td>0</td>\n      <td>0</td>\n      <td>0</td>\n      <td>0</td>\n      <td>0</td>\n      <td>0</td>\n      <td>3</td>\n      <td>...</td>\n      <td>NaN</td>\n      <td>NaN</td>\n      <td>NaN</td>\n      <td>NaN</td>\n      <td>NaN</td>\n      <td>NaN</td>\n      <td>NaN</td>\n      <td>NaN</td>\n      <td>NaN</td>\n      <td>NaN</td>\n    </tr>\n    <tr>\n      <th>23</th>\n      <td>skos</td>\n      <td>NaN</td>\n      <td>NaN</td>\n      <td>0</td>\n      <td>0</td>\n      <td>0</td>\n      <td>0</td>\n      <td>0</td>\n      <td>0</td>\n      <td>1</td>\n      <td>...</td>\n      <td>NaN</td>\n      <td>NaN</td>\n      <td>NaN</td>\n      <td>NaN</td>\n      <td>NaN</td>\n      <td>NaN</td>\n      <td>NaN</td>\n      <td>NaN</td>\n      <td>NaN</td>\n      <td>NaN</td>\n    </tr>\n    <tr>\n      <th>24</th>\n      <td>xsd</td>\n      <td>NaN</td>\n      <td>NaN</td>\n      <td>0</td>\n      <td>0</td>\n      <td>0</td>\n      <td>0</td>\n      <td>0</td>\n      <td>0</td>\n      <td>0</td>\n      <td>...</td>\n      <td>NaN</td>\n      <td>NaN</td>\n      <td>NaN</td>\n      <td>NaN</td>\n      <td>NaN</td>\n      <td>NaN</td>\n      <td>NaN</td>\n      <td>NaN</td>\n      <td>NaN</td>\n      <td>NaN</td>\n    </tr>\n  </tbody>\n</table>\n<p>25 rows × 512 columns</p>\n</div>"
     },
     "execution_count": 23,
     "metadata": {},
     "output_type": "execute_result"
    }
   ],
   "source": [
    "df = pd.read_csv(\"output/cl.stats.grouped.tsv\", sep=\"\\t\")\n",
    "df"
   ],
   "metadata": {
    "collapsed": false,
    "ExecuteTime": {
     "end_time": "2024-03-27T00:36:40.903385Z",
     "start_time": "2024-03-27T00:36:40.861941Z"
    }
   },
   "id": "206115e9a39e8ddf"
  },
  {
   "cell_type": "markdown",
   "source": [
    "Here we can see the numbers broken down by ontology. The number of classes in the CL row is now accurate.\n",
    "Note of course that the other numbers don't reflect totals for the external ontology as a whole -- it's\n",
    "just the number that has been merged into CL\n"
   ],
   "metadata": {
    "collapsed": false
   },
   "id": "12c9fcd0a9363258"
  },
  {
   "cell_type": "markdown",
   "source": [
    "## Diff stats\n",
    "\n",
    "You can also use `--compare-with` to compare stats with a different release of an ontology. Note this\n",
    "is effictively the same as running `diff` with `--statistics`. See diff docs for details."
   ],
   "metadata": {
    "collapsed": false
   },
   "id": "bc153c4a21629345"
  },
  {
   "cell_type": "code",
   "execution_count": null,
   "outputs": [],
   "source": [],
   "metadata": {
    "collapsed": false
   },
   "id": "76d6c523e691af29"
  }
 ],
 "metadata": {
  "kernelspec": {
   "display_name": "Python 3 (ipykernel)",
   "language": "python",
   "name": "python3"
  },
  "language_info": {
   "codemirror_mode": {
    "name": "ipython",
    "version": 3
   },
   "file_extension": ".py",
   "mimetype": "text/x-python",
   "name": "python",
   "nbconvert_exporter": "python",
   "pygments_lexer": "ipython3",
   "version": "3.9.5"
  }
 },
 "nbformat": 4,
 "nbformat_minor": 5
}
