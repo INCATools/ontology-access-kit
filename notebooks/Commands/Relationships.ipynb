{
 "cells": [
  {
   "cell_type": "markdown",
   "id": "32a2e447",
   "metadata": {},
   "source": [
    "# OAK relationships command\n",
    "\n",
    "This notebook is intended as a supplement to the [main OAK CLI docs](https://incatools.github.io/ontology-access-kit/cli.html).\n",
    "\n",
    "This notebook provides examples for the `relationships` command, which can be used to lookup direct and inferred relationships\n",
    "between entities in ontologies\n",
    "\n",
    "## Help Option\n",
    "\n",
    "You can get help on any OAK command using `--help`"
   ]
  },
  {
   "cell_type": "code",
   "execution_count": 3,
   "id": "97ed8cee",
   "metadata": {},
   "outputs": [
    {
     "name": "stdout",
     "output_type": "stream",
     "text": [
      "Usage: runoak relationships [OPTIONS] [TERMS]...\r\n",
      "\r\n",
      "  Show all relationships for a term or terms\r\n",
      "\r\n",
      "  By default, this shows all relationships where the input term(s) are the\r\n",
      "  *subjects*\r\n",
      "\r\n",
      "  Example:\r\n",
      "\r\n",
      "      runoak -i cl.db relationships CL:4023094\r\n",
      "\r\n",
      "  Like all OAK commands, a label can be passed instead of a CURIE\r\n",
      "\r\n",
      "  Example:\r\n",
      "\r\n",
      "      runoak -i cl.db relationships neuron\r\n",
      "\r\n",
      "  To reverse the direction, and query where the search term(s) are *objects*,\r\n",
      "  use the --direction flag:\r\n",
      "\r\n",
      "  Example:\r\n",
      "\r\n",
      "      runoak -i cl.db relationships --direction down neuron\r\n",
      "\r\n",
      "  Multiple terms can be passed\r\n",
      "\r\n",
      "  Example:\r\n",
      "\r\n",
      "      runoak -i uberon.db relationships heart liver lung\r\n",
      "\r\n",
      "  And like all OAK commands, a query can be passed rather than an explicit\r\n",
      "  term list\r\n",
      "\r\n",
      "  The following query lists all arteries in the limb together which what\r\n",
      "  structures they supply\r\n",
      "\r\n",
      "  Query:\r\n",
      "\r\n",
      "      runoak -i uberon.db relationships -p RO:0002178 .desc//p=i \"artery\" .and\r\n",
      "      .desc//p=i,p \"limb\"\r\n",
      "\r\n",
      "Options:\r\n",
      "  -p, --predicates TEXT           A comma-separated list of predicates\r\n",
      "  --direction [up|down|both]      direction of traversal over edges, which up\r\n",
      "                                  is subject to object, down is object to\r\n",
      "                                  subject.\r\n",
      "  --autolabel / --no-autolabel    If set, results will automatically have\r\n",
      "                                  labels assigned  [default: autolabel]\r\n",
      "  -O, --output-type TEXT          Desired output type\r\n",
      "  -o, --output FILENAME           Output file, e.g. obo file\r\n",
      "  --if-absent [absent-only|present-only]\r\n",
      "                                  determines behavior when the value is not\r\n",
      "                                  present or is empty.\r\n",
      "  -S, --set-value TEXT            the value to set for all terms for the given\r\n",
      "                                  property.\r\n",
      "  --include-entailed / --no-include-entailed\r\n",
      "                                  Include entailed indirect relationships\r\n",
      "                                  [default: no-include-entailed]\r\n",
      "  --include-tbox / --no-include-tbox\r\n",
      "                                  Include class-class relationships (subclass\r\n",
      "                                  and existentials)  [default: include-tbox]\r\n",
      "  --include-abox / --no-include-abox\r\n",
      "                                  Include instance relationships (class and\r\n",
      "                                  object property assertions)  [default:\r\n",
      "                                  include-abox]\r\n",
      "  --help                          Show this message and exit.\r\n"
     ]
    }
   ],
   "source": [
    "!runoak relationships --help"
   ]
  },
  {
   "cell_type": "markdown",
   "id": "1f933146",
   "metadata": {},
   "source": [
    "## Set up an alias\n",
    "\n",
    "For convenience we will set up an alias for use in this notebook"
   ]
  },
  {
   "cell_type": "code",
   "execution_count": 4,
   "id": "29d2249a",
   "metadata": {},
   "outputs": [],
   "source": [
    "alias uberon runoak -i sqlite:obo:uberon"
   ]
  },
  {
   "cell_type": "markdown",
   "id": "1a7c69d7",
   "metadata": {},
   "source": [
    "## Direct relationships for a subject term"
   ]
  },
  {
   "cell_type": "code",
   "execution_count": 5,
   "id": "2c406bc1",
   "metadata": {},
   "outputs": [
    {
     "name": "stdout",
     "output_type": "stream",
     "text": [
      "subject\tsubject_label\tpredicate\tpredicate_label\tobject\tobject_label\n",
      "UBERON:0002389\tmanual digit\tBFO:0000050\tpart of\tUBERON:0002102\tforelimb\n",
      "UBERON:0002389\tmanual digit\tBFO:0000050\tpart of\tUBERON:0002398\tmanus\n",
      "UBERON:0002389\tmanual digit\tBFO:0000050\tpart of\tUBERON:0012141\tmanual digitopodium region\n",
      "UBERON:0002389\tmanual digit\tBFO:0000050\tpart of\tUBERON:5002389\tmanual digit plus metapodial segment\n",
      "UBERON:0002389\tmanual digit\trdfs:subClassOf\tNone\tUBERON:0002544\tdigit\n"
     ]
    }
   ],
   "source": [
    "uberon relationships finger"
   ]
  },
  {
   "cell_type": "code",
   "execution_count": 6,
   "id": "70acf6ae",
   "metadata": {},
   "outputs": [
    {
     "name": "stdout",
     "output_type": "stream",
     "text": [
      "subject\tsubject_label\tpredicate\tpredicate_label\tobject\tobject_label\r",
      "\r\n",
      "UBERON:0001466\tpedal digit\tBFO:0000050\tpart of\tUBERON:0002387\tpes\r",
      "\r\n",
      "UBERON:0001466\tpedal digit\tBFO:0000050\tpart of\tUBERON:0012142\tpedal digitopodium region\r",
      "\r\n",
      "UBERON:0001466\tpedal digit\tBFO:0000050\tpart of\tUBERON:5001466\tpedal digit plus metapodial segment\r",
      "\r\n",
      "UBERON:0001466\tpedal digit\trdfs:subClassOf\tNone\tUBERON:0002544\tdigit\r",
      "\r\n",
      "UBERON:0002389\tmanual digit\tBFO:0000050\tpart of\tUBERON:0002102\tforelimb\r",
      "\r\n",
      "UBERON:0002389\tmanual digit\tBFO:0000050\tpart of\tUBERON:0002398\tmanus\r",
      "\r\n",
      "UBERON:0002389\tmanual digit\tBFO:0000050\tpart of\tUBERON:0012141\tmanual digitopodium region\r",
      "\r\n",
      "UBERON:0002389\tmanual digit\tBFO:0000050\tpart of\tUBERON:5002389\tmanual digit plus metapodial segment\r",
      "\r\n",
      "UBERON:0002389\tmanual digit\trdfs:subClassOf\tNone\tUBERON:0002544\tdigit\r",
      "\r\n"
     ]
    }
   ],
   "source": [
    "uberon relationships finger toe"
   ]
  },
  {
   "cell_type": "code",
   "execution_count": 7,
   "id": "84dc3c97",
   "metadata": {},
   "outputs": [
    {
     "name": "stdout",
     "output_type": "stream",
     "text": [
      "subject\tsubject_label\tpredicate\tpredicate_label\tobject\tobject_label\n",
      "UBERON:0001463\tmanual digit 1\tBFO:0000050\tpart of\tUBERON:0002398\tmanus\n",
      "UBERON:0001463\tmanual digit 1\tBFO:0000050\tpart of\tUBERON:0012141\tmanual digitopodium region\n",
      "UBERON:0001463\tmanual digit 1\tBFO:0000050\tpart of\tUBERON:5001463\tmanual digit 1 plus metapodial segment\n",
      "UBERON:0001463\tmanual digit 1\tBSPO:0001113\tpreaxialmost part of\tUBERON:0002398\tmanus\n",
      "UBERON:0001463\tmanual digit 1\trdfs:subClassOf\tNone\tUBERON:0006048\tdigit 1\n",
      "UBERON:0001463\tmanual digit 1\trdfs:subClassOf\tNone\tUBERON:0019231\tmanual digit 1 or 5\n",
      "UBERON:0002389\tmanual digit\tBFO:0000050\tpart of\tUBERON:0002102\tforelimb\n",
      "UBERON:0002389\tmanual digit\tBFO:0000050\tpart of\tUBERON:0002398\tmanus\n",
      "UBERON:0002389\tmanual digit\tBFO:0000050\tpart of\tUBERON:0012141\tmanual digitopodium region\n",
      "UBERON:0002389\tmanual digit\tBFO:0000050\tpart of\tUBERON:5002389\tmanual digit plus metapodial segment\n",
      "UBERON:0002389\tmanual digit\trdfs:subClassOf\tNone\tUBERON:0002544\tdigit\n",
      "UBERON:0003622\tmanual digit 2\tBFO:0000050\tpart of\tUBERON:0002398\tmanus\n",
      "UBERON:0003622\tmanual digit 2\tBFO:0000050\tpart of\tUBERON:0012141\tmanual digitopodium region\n",
      "UBERON:0003622\tmanual digit 2\tBFO:0000050\tpart of\tUBERON:5003622\tmanual digit 2 plus metapodial segment\n",
      "UBERON:0003622\tmanual digit 2\trdfs:subClassOf\tNone\tUBERON:0006049\tdigit 2\n",
      "UBERON:0003622\tmanual digit 2\trdfs:subClassOf\tNone\tUBERON:0019232\tmanual digit 2, 3 or 4\n",
      "UBERON:0003623\tmanual digit 3\tBFO:0000050\tpart of\tUBERON:0002398\tmanus\n",
      "UBERON:0003623\tmanual digit 3\tBFO:0000050\tpart of\tUBERON:0012141\tmanual digitopodium region\n",
      "UBERON:0003623\tmanual digit 3\tBFO:0000050\tpart of\tUBERON:5003623\tmanual digit 3 plus metapodial segment\n",
      "UBERON:0003623\tmanual digit 3\trdfs:subClassOf\tNone\tUBERON:0006050\tdigit 3\n",
      "UBERON:0003623\tmanual digit 3\trdfs:subClassOf\tNone\tUBERON:0019232\tmanual digit 2, 3 or 4\n",
      "UBERON:0003624\tmanual digit 4\tBFO:0000050\tpart of\tUBERON:0002398\tmanus\n",
      "UBERON:0003624\tmanual digit 4\tBFO:0000050\tpart of\tUBERON:0012141\tmanual digitopodium region\n",
      "UBERON:0003624\tmanual digit 4\tBFO:0000050\tpart of\tUBERON:5003624\tmanual digit 4 plus metapodial segment\n",
      "UBERON:0003624\tmanual digit 4\trdfs:subClassOf\tNone\tUBERON:0006051\tdigit 4\n",
      "UBERON:0003624\tmanual digit 4\trdfs:subClassOf\tNone\tUBERON:0019232\tmanual digit 2, 3 or 4\n",
      "UBERON:0003625\tmanual digit 5\tBFO:0000050\tpart of\tUBERON:0002398\tmanus\n",
      "UBERON:0003625\tmanual digit 5\tBFO:0000050\tpart of\tUBERON:0012141\tmanual digitopodium region\n",
      "UBERON:0003625\tmanual digit 5\tBFO:0000050\tpart of\tUBERON:5003625\tmanual digit 5 plus metapodial segment\n",
      "UBERON:0003625\tmanual digit 5\trdfs:subClassOf\tNone\tUBERON:0006052\tdigit 5\n",
      "UBERON:0003625\tmanual digit 5\trdfs:subClassOf\tNone\tUBERON:0019231\tmanual digit 1 or 5\n",
      "UBERON:0008444\twebbed manual digit\tBFO:0000050\tpart of\tUBERON:0008441\twebbed manus\n",
      "UBERON:0008444\twebbed manual digit\trdfs:subClassOf\tNone\tUBERON:0002389\tmanual digit\n",
      "UBERON:0008444\twebbed manual digit\trdfs:subClassOf\tNone\tUBERON:0008443\twebbed digit\n",
      "UBERON:0011981\tmanual digit 6\tBFO:0000050\tpart of\tUBERON:5011981\tmanual digit 6 plus metapodial segment\n",
      "UBERON:0011981\tmanual digit 6\trdfs:subClassOf\tNone\tUBERON:0002389\tmanual digit\n",
      "UBERON:0011981\tmanual digit 6\trdfs:subClassOf\tNone\tUBERON:0016856\tdigit 6\n",
      "UBERON:0011982\tmanual digit 7\tBFO:0000050\tpart of\tUBERON:5011982\tmanual digit 7 plus metapodial segment\n",
      "UBERON:0011982\tmanual digit 7\trdfs:subClassOf\tNone\tUBERON:0002389\tmanual digit\n",
      "UBERON:0011982\tmanual digit 7\trdfs:subClassOf\tNone\tUBERON:0016857\tdigit 7\n",
      "UBERON:0011983\tmanual digit 8\tBFO:0000050\tpart of\tUBERON:5011983\tmanual digit 8 plus metapodial segment\n",
      "UBERON:0011983\tmanual digit 8\trdfs:subClassOf\tNone\tUBERON:0002389\tmanual digit\n",
      "UBERON:0011983\tmanual digit 8\trdfs:subClassOf\tNone\tUBERON:0016858\tdigit 8\n",
      "UBERON:0012260\talular digit\tBFO:0000050\tpart of\tUBERON:5012260\talular digit plus metapodial segment\n",
      "UBERON:0012260\talular digit\tBSPO:0001113\tpreaxialmost part of\tUBERON:0002398\tmanus\n",
      "UBERON:0012260\talular digit\tRO:0002160\tonly in taxon\tNCBITaxon:8782\tAves\n",
      "UBERON:0012260\talular digit\tRO:0002254\thas developmental contribution from\tUBERON:0005692\tmanual digit 2 mesenchyme\n",
      "UBERON:0012260\talular digit\tRO:0002254\thas developmental contribution from\tUBERON:0010564\tmanual digit 1 mesenchyme\n",
      "UBERON:0012260\talular digit\trdfs:subClassOf\tNone\tUBERON:0002389\tmanual digit\n",
      "UBERON:0012261\tmanual major digit (Aves)\tBFO:0000050\tpart of\tUBERON:5012261\tmanual major digit (Aves) plus metapodial segment\n",
      "UBERON:0012261\tmanual major digit (Aves)\tRO:0002160\tonly in taxon\tNCBITaxon:8782\tAves\n",
      "UBERON:0012261\tmanual major digit (Aves)\tRO:0002254\thas developmental contribution from\tUBERON:0005693\tmanual digit 3 mesenchyme\n",
      "UBERON:0012261\tmanual major digit (Aves)\trdfs:subClassOf\tNone\tUBERON:0002389\tmanual digit\n",
      "UBERON:0012262\tmanual minor digit (Aves)\tBFO:0000050\tpart of\tUBERON:5012262\tmanual minor digit (Aves) plus metapodial segment\n",
      "UBERON:0012262\tmanual minor digit (Aves)\tBSPO:0001115\tpostaxialmost part of\tUBERON:0002398\tmanus\n",
      "UBERON:0012262\tmanual minor digit (Aves)\tRO:0002160\tonly in taxon\tNCBITaxon:8782\tAves\n",
      "UBERON:0012262\tmanual minor digit (Aves)\tRO:0002254\thas developmental contribution from\tUBERON:0005694\tmanual digit 4 mesenchyme\n",
      "UBERON:0012262\tmanual minor digit (Aves)\trdfs:subClassOf\tNone\tUBERON:0002389\tmanual digit\n",
      "UBERON:0019231\tmanual digit 1 or 5\tBFO:0000050\tpart of\tUBERON:0002398\tmanus\n",
      "UBERON:0019231\tmanual digit 1 or 5\trdfs:subClassOf\tNone\tUBERON:0002389\tmanual digit\n",
      "UBERON:0019231\tmanual digit 1 or 5\trdfs:subClassOf\tNone\tUBERON:0019221\tdigit 1 or 5\n",
      "UBERON:0019232\tmanual digit 2, 3 or 4\tBFO:0000050\tpart of\tUBERON:0002398\tmanus\n",
      "UBERON:0019232\tmanual digit 2, 3 or 4\trdfs:subClassOf\tNone\tUBERON:0002389\tmanual digit\n",
      "UBERON:0019232\tmanual digit 2, 3 or 4\trdfs:subClassOf\tNone\tUBERON:0019222\tdigit 2, 3 or 4\n"
     ]
    }
   ],
   "source": [
    "uberon relationships .desc//p=i finger"
   ]
  },
  {
   "cell_type": "code",
   "execution_count": 8,
   "id": "7d7574ba",
   "metadata": {},
   "outputs": [],
   "source": [
    "uberon relationships .desc//p=i finger -o output/finger-relationships.tsv"
   ]
  },
  {
   "cell_type": "code",
   "execution_count": 9,
   "id": "cf691c34",
   "metadata": {},
   "outputs": [],
   "source": [
    "import pandas as pd"
   ]
  },
  {
   "cell_type": "code",
   "execution_count": 10,
   "id": "c68535b0",
   "metadata": {},
   "outputs": [
    {
     "data": {
      "text/html": [
       "<div>\n",
       "<style scoped>\n",
       "    .dataframe tbody tr th:only-of-type {\n",
       "        vertical-align: middle;\n",
       "    }\n",
       "\n",
       "    .dataframe tbody tr th {\n",
       "        vertical-align: top;\n",
       "    }\n",
       "\n",
       "    .dataframe thead th {\n",
       "        text-align: right;\n",
       "    }\n",
       "</style>\n",
       "<table border=\"1\" class=\"dataframe\">\n",
       "  <thead>\n",
       "    <tr style=\"text-align: right;\">\n",
       "      <th></th>\n",
       "      <th>subject</th>\n",
       "      <th>subject_label</th>\n",
       "      <th>predicate</th>\n",
       "      <th>predicate_label</th>\n",
       "      <th>object</th>\n",
       "      <th>object_label</th>\n",
       "    </tr>\n",
       "  </thead>\n",
       "  <tbody>\n",
       "    <tr>\n",
       "      <th>0</th>\n",
       "      <td>UBERON:0001463</td>\n",
       "      <td>manual digit 1</td>\n",
       "      <td>BFO:0000050</td>\n",
       "      <td>part of</td>\n",
       "      <td>UBERON:0002398</td>\n",
       "      <td>manus</td>\n",
       "    </tr>\n",
       "    <tr>\n",
       "      <th>1</th>\n",
       "      <td>UBERON:0001463</td>\n",
       "      <td>manual digit 1</td>\n",
       "      <td>BFO:0000050</td>\n",
       "      <td>part of</td>\n",
       "      <td>UBERON:0012141</td>\n",
       "      <td>manual digitopodium region</td>\n",
       "    </tr>\n",
       "    <tr>\n",
       "      <th>2</th>\n",
       "      <td>UBERON:0001463</td>\n",
       "      <td>manual digit 1</td>\n",
       "      <td>BFO:0000050</td>\n",
       "      <td>part of</td>\n",
       "      <td>UBERON:5001463</td>\n",
       "      <td>manual digit 1 plus metapodial segment</td>\n",
       "    </tr>\n",
       "    <tr>\n",
       "      <th>3</th>\n",
       "      <td>UBERON:0001463</td>\n",
       "      <td>manual digit 1</td>\n",
       "      <td>BSPO:0001113</td>\n",
       "      <td>preaxialmost part of</td>\n",
       "      <td>UBERON:0002398</td>\n",
       "      <td>manus</td>\n",
       "    </tr>\n",
       "    <tr>\n",
       "      <th>4</th>\n",
       "      <td>UBERON:0001463</td>\n",
       "      <td>manual digit 1</td>\n",
       "      <td>rdfs:subClassOf</td>\n",
       "      <td>None</td>\n",
       "      <td>UBERON:0006048</td>\n",
       "      <td>digit 1</td>\n",
       "    </tr>\n",
       "    <tr>\n",
       "      <th>...</th>\n",
       "      <td>...</td>\n",
       "      <td>...</td>\n",
       "      <td>...</td>\n",
       "      <td>...</td>\n",
       "      <td>...</td>\n",
       "      <td>...</td>\n",
       "    </tr>\n",
       "    <tr>\n",
       "      <th>59</th>\n",
       "      <td>UBERON:0019231</td>\n",
       "      <td>manual digit 1 or 5</td>\n",
       "      <td>rdfs:subClassOf</td>\n",
       "      <td>None</td>\n",
       "      <td>UBERON:0002389</td>\n",
       "      <td>manual digit</td>\n",
       "    </tr>\n",
       "    <tr>\n",
       "      <th>60</th>\n",
       "      <td>UBERON:0019231</td>\n",
       "      <td>manual digit 1 or 5</td>\n",
       "      <td>rdfs:subClassOf</td>\n",
       "      <td>None</td>\n",
       "      <td>UBERON:0019221</td>\n",
       "      <td>digit 1 or 5</td>\n",
       "    </tr>\n",
       "    <tr>\n",
       "      <th>61</th>\n",
       "      <td>UBERON:0019232</td>\n",
       "      <td>manual digit 2, 3 or 4</td>\n",
       "      <td>BFO:0000050</td>\n",
       "      <td>part of</td>\n",
       "      <td>UBERON:0002398</td>\n",
       "      <td>manus</td>\n",
       "    </tr>\n",
       "    <tr>\n",
       "      <th>62</th>\n",
       "      <td>UBERON:0019232</td>\n",
       "      <td>manual digit 2, 3 or 4</td>\n",
       "      <td>rdfs:subClassOf</td>\n",
       "      <td>None</td>\n",
       "      <td>UBERON:0002389</td>\n",
       "      <td>manual digit</td>\n",
       "    </tr>\n",
       "    <tr>\n",
       "      <th>63</th>\n",
       "      <td>UBERON:0019232</td>\n",
       "      <td>manual digit 2, 3 or 4</td>\n",
       "      <td>rdfs:subClassOf</td>\n",
       "      <td>None</td>\n",
       "      <td>UBERON:0019222</td>\n",
       "      <td>digit 2, 3 or 4</td>\n",
       "    </tr>\n",
       "  </tbody>\n",
       "</table>\n",
       "<p>64 rows × 6 columns</p>\n",
       "</div>"
      ],
      "text/plain": [
       "           subject           subject_label        predicate  \\\n",
       "0   UBERON:0001463          manual digit 1      BFO:0000050   \n",
       "1   UBERON:0001463          manual digit 1      BFO:0000050   \n",
       "2   UBERON:0001463          manual digit 1      BFO:0000050   \n",
       "3   UBERON:0001463          manual digit 1     BSPO:0001113   \n",
       "4   UBERON:0001463          manual digit 1  rdfs:subClassOf   \n",
       "..             ...                     ...              ...   \n",
       "59  UBERON:0019231     manual digit 1 or 5  rdfs:subClassOf   \n",
       "60  UBERON:0019231     manual digit 1 or 5  rdfs:subClassOf   \n",
       "61  UBERON:0019232  manual digit 2, 3 or 4      BFO:0000050   \n",
       "62  UBERON:0019232  manual digit 2, 3 or 4  rdfs:subClassOf   \n",
       "63  UBERON:0019232  manual digit 2, 3 or 4  rdfs:subClassOf   \n",
       "\n",
       "         predicate_label          object  \\\n",
       "0                part of  UBERON:0002398   \n",
       "1                part of  UBERON:0012141   \n",
       "2                part of  UBERON:5001463   \n",
       "3   preaxialmost part of  UBERON:0002398   \n",
       "4                   None  UBERON:0006048   \n",
       "..                   ...             ...   \n",
       "59                  None  UBERON:0002389   \n",
       "60                  None  UBERON:0019221   \n",
       "61               part of  UBERON:0002398   \n",
       "62                  None  UBERON:0002389   \n",
       "63                  None  UBERON:0019222   \n",
       "\n",
       "                              object_label  \n",
       "0                                    manus  \n",
       "1               manual digitopodium region  \n",
       "2   manual digit 1 plus metapodial segment  \n",
       "3                                    manus  \n",
       "4                                  digit 1  \n",
       "..                                     ...  \n",
       "59                            manual digit  \n",
       "60                            digit 1 or 5  \n",
       "61                                   manus  \n",
       "62                            manual digit  \n",
       "63                         digit 2, 3 or 4  \n",
       "\n",
       "[64 rows x 6 columns]"
      ]
     },
     "execution_count": 10,
     "metadata": {},
     "output_type": "execute_result"
    }
   ],
   "source": [
    "df = pd.read_csv(\"output/finger-relationships.tsv\", sep=\"\\t\")\n",
    "df"
   ]
  },
  {
   "cell_type": "markdown",
   "id": "9611f196",
   "metadata": {},
   "source": [
    "## Entailments"
   ]
  },
  {
   "cell_type": "code",
   "execution_count": 11,
   "id": "38a93c7d",
   "metadata": {},
   "outputs": [
    {
     "name": "stdout",
     "output_type": "stream",
     "text": [
      "subject\tsubject_label\tpredicate\tpredicate_label\tobject\tobject_label\n",
      "UBERON:0002389\tmanual digit\trdfs:subClassOf\tNone\tBFO:0000001\tentity\n",
      "UBERON:0002389\tmanual digit\trdfs:subClassOf\tNone\tBFO:0000002\tcontinuant\n",
      "UBERON:0002389\tmanual digit\trdfs:subClassOf\tNone\tBFO:0000004\tindependent continuant\n",
      "UBERON:0002389\tmanual digit\trdfs:subClassOf\tNone\tBFO:0000040\tmaterial entity\n",
      "UBERON:0002389\tmanual digit\trdfs:subClassOf\tNone\tCARO:0000000\tanatomical entity\n",
      "UBERON:0002389\tmanual digit\trdfs:subClassOf\tNone\tCARO:0030000\tbiological entity\n",
      "UBERON:0002389\tmanual digit\trdfs:subClassOf\tNone\tUBERON:0000061\tanatomical structure\n",
      "UBERON:0002389\tmanual digit\trdfs:subClassOf\tNone\tUBERON:0000465\tmaterial anatomical entity\n",
      "UBERON:0002389\tmanual digit\trdfs:subClassOf\tNone\tUBERON:0000475\torganism subdivision\n",
      "UBERON:0002389\tmanual digit\trdfs:subClassOf\tNone\tUBERON:0001062\tanatomical entity\n",
      "UBERON:0002389\tmanual digit\trdfs:subClassOf\tNone\tUBERON:0002389\tmanual digit\n",
      "UBERON:0002389\tmanual digit\trdfs:subClassOf\tNone\tUBERON:0002544\tdigit\n",
      "UBERON:0002389\tmanual digit\trdfs:subClassOf\tNone\tUBERON:0005881\tautopodial extension\n",
      "UBERON:0002389\tmanual digit\trdfs:subClassOf\tNone\tUBERON:0010000\tmulticellular anatomical structure\n"
     ]
    }
   ],
   "source": [
    "uberon relationships finger --include-entailed -p i"
   ]
  },
  {
   "cell_type": "code",
   "execution_count": 12,
   "id": "767d220d",
   "metadata": {},
   "outputs": [
    {
     "name": "stdout",
     "output_type": "stream",
     "text": [
      "RO:0002131 ! overlaps\r\n"
     ]
    }
   ],
   "source": [
    "uberon info overlaps"
   ]
  },
  {
   "cell_type": "code",
   "execution_count": null,
   "id": "1f51f46a",
   "metadata": {},
   "outputs": [],
   "source": []
  }
 ],
 "metadata": {
  "kernelspec": {
   "display_name": "Python 3 (ipykernel)",
   "language": "python",
   "name": "python3"
  },
  "language_info": {
   "codemirror_mode": {
    "name": "ipython",
    "version": 3
   },
   "file_extension": ".py",
   "mimetype": "text/x-python",
   "name": "python",
   "nbconvert_exporter": "python",
   "pygments_lexer": "ipython3",
   "version": "3.9.5"
  }
 },
 "nbformat": 4,
 "nbformat_minor": 5
}
