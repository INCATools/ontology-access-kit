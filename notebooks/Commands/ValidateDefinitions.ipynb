{
 "cells": [
  {
   "cell_type": "markdown",
   "id": "0a28b88d-4deb-4d0a-a110-f27adf077e23",
   "metadata": {},
   "source": [
    "# OAK validate-definitions command\n",
    "\n",
    "This notebook is intended as a supplement to the [main OAK CLI docs](https://incatools.github.io/ontology-access-kit/cli.html).\n",
    "\n",
    "This notebook provides examples for the `validate-definitions` command.\n",
    "This forms part of a suite of *validate* commands.\n",
    "    \n",
    "## Help Option\n",
    "\n",
    "You can get help on any OAK command using `--help`"
   ]
  },
  {
   "cell_type": "code",
   "execution_count": 1,
   "id": "c223f678-f82f-4b06-8e19-1a5b7323e571",
   "metadata": {
    "ExecuteTime": {
     "end_time": "2024-04-15T00:50:27.966036Z",
     "start_time": "2024-04-15T00:50:25.530846Z"
    }
   },
   "outputs": [
    {
     "name": "stdout",
     "output_type": "stream",
     "text": [
      "Usage: runoak validate-definitions [OPTIONS] [TERMS]...\r\n",
      "\r\n",
      "  Checks presence and structure of text definitions.\r\n",
      "\r\n",
      "  To run:\r\n",
      "\r\n",
      "      runoak validate-definitions -i db/uberon.db -o results.tsv\r\n",
      "\r\n",
      "  By default this will apply basic text mining of text definitions to check\r\n",
      "  against machine actionable OBO text definition guideline rules. This can\r\n",
      "  result in an initial lag - to skip this, and ONLY perform checks for\r\n",
      "  *presence* of definitions, use --skip-text-annotation:\r\n",
      "\r\n",
      "  Example: -------\r\n",
      "\r\n",
      "      runoak validate-definitions -i db/uberon.db --skip-text-annotation\r\n",
      "\r\n",
      "  Like most OAK commands, this accepts lists of terms or term queries as\r\n",
      "  arguments. You can pass in a CURIE list to selectively validate individual\r\n",
      "  classes\r\n",
      "\r\n",
      "  Example: -------\r\n",
      "\r\n",
      "       runoak validate-definitions -i db/cl.db CL:0002053\r\n",
      "\r\n",
      "  Only on CL identifiers:\r\n",
      "\r\n",
      "      runoak validate-definitions -i db/cl.db i^CL:\r\n",
      "\r\n",
      "  Only on neuron hierarchy:\r\n",
      "\r\n",
      "      runoak validate-definitions -i db/cl.db .desc//p=i neuron\r\n",
      "\r\n",
      "  Output format:\r\n",
      "\r\n",
      "  This command emits objects conforming to the OAK validation datamodel. See\r\n",
      "  https://incatools.github.io/ontology-access-kit/datamodels for more on OAK\r\n",
      "  datamodels.\r\n",
      "\r\n",
      "  The default serialization of the datamodel is CSV.\r\n",
      "\r\n",
      "  Notes: -----\r\n",
      "\r\n",
      "  This command is largely redundant with the validate command, but is useful\r\n",
      "  for targeted validation focused solely on definitions\r\n",
      "\r\n",
      "Options:\r\n",
      "  --skip-text-annotation / --no-skip-text-annotation\r\n",
      "                                  If true, do not parse text annotations\r\n",
      "                                  [default: no-skip-text-annotation]\r\n",
      "  -C, --configuration-file TEXT   Path to a configuration file. This is\r\n",
      "                                  typically a YAML file, but may be a JSON\r\n",
      "                                  file\r\n",
      "  --adapter-mapping TEXT          Multiple prefix=selector pairs, e.g.\r\n",
      "                                  --adapter-mapping uberon=db/uberon.db\r\n",
      "  -O, --output-type TEXT          Desired output type\r\n",
      "  -o, --output FILENAME           Output file, e.g. obo file\r\n",
      "  --help                          Show this message and exit.\r\n"
     ]
    }
   ],
   "source": [
    "!runoak validate-definitions --help"
   ]
  },
  {
   "cell_type": "markdown",
   "id": "01f38163-db22-4c51-ae46-10e8b8e6d53c",
   "metadata": {},
   "source": [
    "## Example: Validation over Test Ontology\n",
    "\n",
    "To illustrate this command we will use a deliberately altered version of a subset of GO.\n",
    "\n",
    "We will query the subset that are descendants of cellular process using the query `.desc//p=i \"cellular_component\"`"
   ]
  },
  {
   "cell_type": "code",
   "execution_count": 2,
   "id": "c9b86e52-87a7-449c-baac-81981e7ce632",
   "metadata": {
    "ExecuteTime": {
     "end_time": "2024-04-15T00:50:30.655424Z",
     "start_time": "2024-04-15T00:50:27.968820Z"
    }
   },
   "outputs": [],
   "source": [
    "!runoak --stacktrace -i simpleobo:input/validate-defs-test.obo validate-definitions -C input/validate-definition-conf.yaml .desc//p=i \"cellular_component\" -o output/validate-definitions.output.tsv"
   ]
  },
  {
   "cell_type": "markdown",
   "source": [
    "The output is a TSV file with a summary of the issues found.\n",
    "\n",
    "We can load this into a pandas dataframe for further analysis. This also has the advantage of\n",
    "displaying tables nicely in Jupyter notebooks such as this one.\n",
    "\n",
    "If you were actually using this on the command line you may prefer to use your own TSV processing tools,\n",
    "or to simply load into google sheets."
   ],
   "metadata": {
    "collapsed": false
   },
   "id": "27c1668fc8d1a8de"
  },
  {
   "cell_type": "code",
   "execution_count": 3,
   "id": "5fc9b15d-cc81-400a-8660-f92491baa120",
   "metadata": {
    "ExecuteTime": {
     "end_time": "2024-04-15T00:50:30.953116Z",
     "start_time": "2024-04-15T00:50:30.658190Z"
    }
   },
   "outputs": [
    {
     "data": {
      "text/plain": "                   type     subject                             subject_label  \\\n0     oaklib.om:DCC#Any  GO:0005634                                   nucleus   \n1      oaklib.om:DCC#S3  GO:0043227                membrane-bounded organelle   \n2     oaklib.om:DCC#S11  GO:0043227                membrane-bounded organelle   \n3     oaklib.om:DCC#Any  GO:0110165                cellular anatomical entity   \n4      oaklib.om:DCC#S3  GO:0099568                        cytoplasmic region   \n5      oaklib.om:DCC#S1  GO:0005737                                 cytoplasm   \n6      oaklib.om:DCC#S3  GO:0043229                   intracellular organelle   \n7     oaklib.om:DCC#S11  GO:0043229                   intracellular organelle   \n8     oaklib.om:DCC#S11  GO:0043229                   intracellular organelle   \n9     oaklib.om:DCC#Any  GO:0005886                           plasma membrane   \n10    oaklib.om:DCC#Any  GO:0098590                    plasma membrane region   \n11     oaklib.om:DCC#S3  GO:9999998           fake term for testing pmid type   \n12     oaklib.om:DCC#S1  GO:0005773                                   vacuole   \n13     oaklib.om:DCC#S3  GO:9999999          fake term for testing retraction   \n14     oaklib.om:DCC#S3  GO:0031975                                  envelope   \n15     oaklib.om:DCC#S3  GO:0005575                        cellular_component   \n16    oaklib.om:DCC#S11  GO:0031090                        organelle membrane   \n17    oaklib.om:DCC#Any  GO:0034357                   photosynthetic membrane   \n18    oaklib.om:DCC#S11  GO:0031965                          nuclear membrane   \n19    oaklib.om:DCC#S11  GO:0005938                               cell cortex   \n20    oaklib.om:DCC#S11  GO:0005938                               cell cortex   \n21     oaklib.om:DCC#S0  GO:0012505                       endomembrane system   \n22     oaklib.om:DCC#S7  GO:0009579                                 thylakoid   \n23     oaklib.om:DCC#S3  GO:0031967                        organelle envelope   \n24     oaklib.om:DCC#S3  GO:0043226                                 organelle   \n25     oaklib.om:DCC#S3  GO:0071944                            cell periphery   \n26     oaklib.om:DCC#S3  GO:0043231  intracellular membrane-bounded organelle   \n27    oaklib.om:DCC#S11  GO:0043231  intracellular membrane-bounded organelle   \n28    oaklib.om:DCC#S11  GO:0043231  intracellular membrane-bounded organelle   \n29     oaklib.om:DCC#S3  GO:0016020                                  membrane   \n30     oaklib.om:DCC#S3  GO:0099738                        cell cortex region   \n31    oaklib.om:DCC#S11  GO:0099738                        cell cortex region   \n32    oaklib.om:DCC#Any  GO:0005635                          nuclear envelope   \n33     oaklib.om:DCC#S3  GO:0005622        intracellular anatomical structure   \n34  oaklib.om:DCC#S20.1  GO:9999998           fake term for testing pmid type   \n35  oaklib.om:DCC#S20.2  GO:9999999          fake term for testing retraction   \n\n   severity  instantiates    predicate              object  \\\n0      INFO           NaN  IAO:0000115                 NaN   \n1   WARNING           NaN  IAO:0000115                 NaN   \n2       NaN           NaN  IAO:0000115                 NaN   \n3      INFO           NaN  IAO:0000115                 NaN   \n4   WARNING           NaN  IAO:0000115                 NaN   \n5       NaN           NaN  IAO:0000115                 NaN   \n6   WARNING           NaN  IAO:0000115                 NaN   \n7       NaN           NaN  IAO:0000115                 NaN   \n8       NaN           NaN  IAO:0000115                 NaN   \n9      INFO           NaN  IAO:0000115                 NaN   \n10     INFO           NaN  IAO:0000115                 NaN   \n11  WARNING           NaN  IAO:0000115                 NaN   \n12      NaN           NaN  IAO:0000115                 NaN   \n13  WARNING           NaN  IAO:0000115                 NaN   \n14  WARNING           NaN  IAO:0000115                 NaN   \n15  WARNING           NaN  IAO:0000115                 NaN   \n16      NaN           NaN  IAO:0000115                 NaN   \n17     INFO           NaN  IAO:0000115                 NaN   \n18      NaN           NaN  IAO:0000115                 NaN   \n19      NaN           NaN  IAO:0000115                 NaN   \n20      NaN           NaN  IAO:0000115                 NaN   \n21    ERROR           NaN  IAO:0000115                 NaN   \n22      NaN           NaN  IAO:0000115                 NaN   \n23  WARNING           NaN  IAO:0000115                 NaN   \n24  WARNING           NaN  IAO:0000115                 NaN   \n25  WARNING           NaN  IAO:0000115                 NaN   \n26  WARNING           NaN  IAO:0000115                 NaN   \n27      NaN           NaN  IAO:0000115                 NaN   \n28      NaN           NaN  IAO:0000115                 NaN   \n29  WARNING           NaN  IAO:0000115                 NaN   \n30      NaN           NaN  IAO:0000115                 NaN   \n31      NaN           NaN  IAO:0000115                 NaN   \n32     INFO           NaN  IAO:0000115                 NaN   \n33  WARNING           NaN  IAO:0000115                 NaN   \n34    ERROR           NaN  IAO:0000115  PMID:9999999999999   \n35    ERROR           NaN  IAO:0000115       PMID:19717156   \n\n                                           object_str  source  \\\n0   A membrane-bounded organelle of eukaryotic cel...     NaN   \n1   Organized structure of distinctive morphology ...     NaN   \n2                                                 NaN     NaN   \n3   A part of a cellular organism that is either a...     NaN   \n4   Any (proper) part of the cytoplasm of a single...     NaN   \n5                                                 NaN     NaN   \n6   Organized structure of distinctive morphology ...     NaN   \n7                                                 NaN     NaN   \n8                                                 NaN     NaN   \n9   The membrane surrounding a cell that separates...     NaN   \n10  A membrane that is a (regional) part of the pl...     NaN   \n11  fake definition to test retracted typo in refe...     NaN   \n12                                                NaN     NaN   \n13        fake definition to test retracted reference     NaN   \n14  A multilayered structure surrounding all or pa...     NaN   \n15  A location, relative to cellular compartments ...     NaN   \n16  is one of the two lipid bilayers of an organel...     NaN   \n17  A membrane enriched in complexes formed of rea...     NaN   \n18                                           envelope     NaN   \n19                                   region of a cell     NaN   \n20  lies just beneath the plasma membrane and ofte...     NaN   \n21                                                NaN     NaN   \n22  The structure in a plant cell that is known as...     NaN   \n23  A double membrane structure enclosing an organ...     NaN   \n24  Organized structure of distinctive morphology ...     NaN   \n25  The part of a cell encompassing the cell corte...     NaN   \n26  Organized structure of distinctive morphology ...     NaN   \n27                                                NaN     NaN   \n28                                                NaN     NaN   \n29  A lipid bilayer along with all the proteins an...     NaN   \n30                     complete extent of cell cortex     NaN   \n31  underlies some some region of the plasma membrane     NaN   \n32  A double lipid bilayer that is part of the nuc...     NaN   \n33  A component of a cell contained within (but no...     NaN   \n34                                                NaN     NaN   \n35                                                NaN     NaN   \n\n                                                 info  \n0                         No problems with definition  \n1                  Cannot parse genus and differentia  \n2   Logical definition element not found in text: ...  \n3                         No problems with definition  \n4                  Cannot parse genus and differentia  \n5          Definiendum should not appear at the start  \n6                  Cannot parse genus and differentia  \n7   Logical definition element not found in text: ...  \n8   Logical definition element not found in text: ...  \n9                         No problems with definition  \n10                        No problems with definition  \n11                 Cannot parse genus and differentia  \n12         Definiendum should not appear at the start  \n13                 Cannot parse genus and differentia  \n14                 Cannot parse genus and differentia  \n15                 Cannot parse genus and differentia  \n16  Logical definition element not found in text: ...  \n17                        No problems with definition  \n18  Logical definition element not found in text: ...  \n19  Logical definition element not found in text: ...  \n20  Logical definition element not found in text: ...  \n21                            Missing text definition  \n22      Circular, thylakoid (GO:0009579 in definition  \n23                 Cannot parse genus and differentia  \n24                 Cannot parse genus and differentia  \n25                 Cannot parse genus and differentia  \n26                 Cannot parse genus and differentia  \n27  Logical definition element not found in text: ...  \n28  Logical definition element not found in text: ...  \n29                 Cannot parse genus and differentia  \n30  Did not match whole text: cell cortex < comple...  \n31  Wrong position, 'cell cortex' not in 'underlie...  \n32                        No problems with definition  \n33                 Cannot parse genus and differentia  \n34          publication not found: PMID:9999999999999  \n35  publication is retracted: A role for plasma tr...  ",
      "text/html": "<div>\n<style scoped>\n    .dataframe tbody tr th:only-of-type {\n        vertical-align: middle;\n    }\n\n    .dataframe tbody tr th {\n        vertical-align: top;\n    }\n\n    .dataframe thead th {\n        text-align: right;\n    }\n</style>\n<table border=\"1\" class=\"dataframe\">\n  <thead>\n    <tr style=\"text-align: right;\">\n      <th></th>\n      <th>type</th>\n      <th>subject</th>\n      <th>subject_label</th>\n      <th>severity</th>\n      <th>instantiates</th>\n      <th>predicate</th>\n      <th>object</th>\n      <th>object_str</th>\n      <th>source</th>\n      <th>info</th>\n    </tr>\n  </thead>\n  <tbody>\n    <tr>\n      <th>0</th>\n      <td>oaklib.om:DCC#Any</td>\n      <td>GO:0005634</td>\n      <td>nucleus</td>\n      <td>INFO</td>\n      <td>NaN</td>\n      <td>IAO:0000115</td>\n      <td>NaN</td>\n      <td>A membrane-bounded organelle of eukaryotic cel...</td>\n      <td>NaN</td>\n      <td>No problems with definition</td>\n    </tr>\n    <tr>\n      <th>1</th>\n      <td>oaklib.om:DCC#S3</td>\n      <td>GO:0043227</td>\n      <td>membrane-bounded organelle</td>\n      <td>WARNING</td>\n      <td>NaN</td>\n      <td>IAO:0000115</td>\n      <td>NaN</td>\n      <td>Organized structure of distinctive morphology ...</td>\n      <td>NaN</td>\n      <td>Cannot parse genus and differentia</td>\n    </tr>\n    <tr>\n      <th>2</th>\n      <td>oaklib.om:DCC#S11</td>\n      <td>GO:0043227</td>\n      <td>membrane-bounded organelle</td>\n      <td>NaN</td>\n      <td>NaN</td>\n      <td>IAO:0000115</td>\n      <td>NaN</td>\n      <td>NaN</td>\n      <td>NaN</td>\n      <td>Logical definition element not found in text: ...</td>\n    </tr>\n    <tr>\n      <th>3</th>\n      <td>oaklib.om:DCC#Any</td>\n      <td>GO:0110165</td>\n      <td>cellular anatomical entity</td>\n      <td>INFO</td>\n      <td>NaN</td>\n      <td>IAO:0000115</td>\n      <td>NaN</td>\n      <td>A part of a cellular organism that is either a...</td>\n      <td>NaN</td>\n      <td>No problems with definition</td>\n    </tr>\n    <tr>\n      <th>4</th>\n      <td>oaklib.om:DCC#S3</td>\n      <td>GO:0099568</td>\n      <td>cytoplasmic region</td>\n      <td>WARNING</td>\n      <td>NaN</td>\n      <td>IAO:0000115</td>\n      <td>NaN</td>\n      <td>Any (proper) part of the cytoplasm of a single...</td>\n      <td>NaN</td>\n      <td>Cannot parse genus and differentia</td>\n    </tr>\n    <tr>\n      <th>5</th>\n      <td>oaklib.om:DCC#S1</td>\n      <td>GO:0005737</td>\n      <td>cytoplasm</td>\n      <td>NaN</td>\n      <td>NaN</td>\n      <td>IAO:0000115</td>\n      <td>NaN</td>\n      <td>NaN</td>\n      <td>NaN</td>\n      <td>Definiendum should not appear at the start</td>\n    </tr>\n    <tr>\n      <th>6</th>\n      <td>oaklib.om:DCC#S3</td>\n      <td>GO:0043229</td>\n      <td>intracellular organelle</td>\n      <td>WARNING</td>\n      <td>NaN</td>\n      <td>IAO:0000115</td>\n      <td>NaN</td>\n      <td>Organized structure of distinctive morphology ...</td>\n      <td>NaN</td>\n      <td>Cannot parse genus and differentia</td>\n    </tr>\n    <tr>\n      <th>7</th>\n      <td>oaklib.om:DCC#S11</td>\n      <td>GO:0043229</td>\n      <td>intracellular organelle</td>\n      <td>NaN</td>\n      <td>NaN</td>\n      <td>IAO:0000115</td>\n      <td>NaN</td>\n      <td>NaN</td>\n      <td>NaN</td>\n      <td>Logical definition element not found in text: ...</td>\n    </tr>\n    <tr>\n      <th>8</th>\n      <td>oaklib.om:DCC#S11</td>\n      <td>GO:0043229</td>\n      <td>intracellular organelle</td>\n      <td>NaN</td>\n      <td>NaN</td>\n      <td>IAO:0000115</td>\n      <td>NaN</td>\n      <td>NaN</td>\n      <td>NaN</td>\n      <td>Logical definition element not found in text: ...</td>\n    </tr>\n    <tr>\n      <th>9</th>\n      <td>oaklib.om:DCC#Any</td>\n      <td>GO:0005886</td>\n      <td>plasma membrane</td>\n      <td>INFO</td>\n      <td>NaN</td>\n      <td>IAO:0000115</td>\n      <td>NaN</td>\n      <td>The membrane surrounding a cell that separates...</td>\n      <td>NaN</td>\n      <td>No problems with definition</td>\n    </tr>\n    <tr>\n      <th>10</th>\n      <td>oaklib.om:DCC#Any</td>\n      <td>GO:0098590</td>\n      <td>plasma membrane region</td>\n      <td>INFO</td>\n      <td>NaN</td>\n      <td>IAO:0000115</td>\n      <td>NaN</td>\n      <td>A membrane that is a (regional) part of the pl...</td>\n      <td>NaN</td>\n      <td>No problems with definition</td>\n    </tr>\n    <tr>\n      <th>11</th>\n      <td>oaklib.om:DCC#S3</td>\n      <td>GO:9999998</td>\n      <td>fake term for testing pmid type</td>\n      <td>WARNING</td>\n      <td>NaN</td>\n      <td>IAO:0000115</td>\n      <td>NaN</td>\n      <td>fake definition to test retracted typo in refe...</td>\n      <td>NaN</td>\n      <td>Cannot parse genus and differentia</td>\n    </tr>\n    <tr>\n      <th>12</th>\n      <td>oaklib.om:DCC#S1</td>\n      <td>GO:0005773</td>\n      <td>vacuole</td>\n      <td>NaN</td>\n      <td>NaN</td>\n      <td>IAO:0000115</td>\n      <td>NaN</td>\n      <td>NaN</td>\n      <td>NaN</td>\n      <td>Definiendum should not appear at the start</td>\n    </tr>\n    <tr>\n      <th>13</th>\n      <td>oaklib.om:DCC#S3</td>\n      <td>GO:9999999</td>\n      <td>fake term for testing retraction</td>\n      <td>WARNING</td>\n      <td>NaN</td>\n      <td>IAO:0000115</td>\n      <td>NaN</td>\n      <td>fake definition to test retracted reference</td>\n      <td>NaN</td>\n      <td>Cannot parse genus and differentia</td>\n    </tr>\n    <tr>\n      <th>14</th>\n      <td>oaklib.om:DCC#S3</td>\n      <td>GO:0031975</td>\n      <td>envelope</td>\n      <td>WARNING</td>\n      <td>NaN</td>\n      <td>IAO:0000115</td>\n      <td>NaN</td>\n      <td>A multilayered structure surrounding all or pa...</td>\n      <td>NaN</td>\n      <td>Cannot parse genus and differentia</td>\n    </tr>\n    <tr>\n      <th>15</th>\n      <td>oaklib.om:DCC#S3</td>\n      <td>GO:0005575</td>\n      <td>cellular_component</td>\n      <td>WARNING</td>\n      <td>NaN</td>\n      <td>IAO:0000115</td>\n      <td>NaN</td>\n      <td>A location, relative to cellular compartments ...</td>\n      <td>NaN</td>\n      <td>Cannot parse genus and differentia</td>\n    </tr>\n    <tr>\n      <th>16</th>\n      <td>oaklib.om:DCC#S11</td>\n      <td>GO:0031090</td>\n      <td>organelle membrane</td>\n      <td>NaN</td>\n      <td>NaN</td>\n      <td>IAO:0000115</td>\n      <td>NaN</td>\n      <td>is one of the two lipid bilayers of an organel...</td>\n      <td>NaN</td>\n      <td>Logical definition element not found in text: ...</td>\n    </tr>\n    <tr>\n      <th>17</th>\n      <td>oaklib.om:DCC#Any</td>\n      <td>GO:0034357</td>\n      <td>photosynthetic membrane</td>\n      <td>INFO</td>\n      <td>NaN</td>\n      <td>IAO:0000115</td>\n      <td>NaN</td>\n      <td>A membrane enriched in complexes formed of rea...</td>\n      <td>NaN</td>\n      <td>No problems with definition</td>\n    </tr>\n    <tr>\n      <th>18</th>\n      <td>oaklib.om:DCC#S11</td>\n      <td>GO:0031965</td>\n      <td>nuclear membrane</td>\n      <td>NaN</td>\n      <td>NaN</td>\n      <td>IAO:0000115</td>\n      <td>NaN</td>\n      <td>envelope</td>\n      <td>NaN</td>\n      <td>Logical definition element not found in text: ...</td>\n    </tr>\n    <tr>\n      <th>19</th>\n      <td>oaklib.om:DCC#S11</td>\n      <td>GO:0005938</td>\n      <td>cell cortex</td>\n      <td>NaN</td>\n      <td>NaN</td>\n      <td>IAO:0000115</td>\n      <td>NaN</td>\n      <td>region of a cell</td>\n      <td>NaN</td>\n      <td>Logical definition element not found in text: ...</td>\n    </tr>\n    <tr>\n      <th>20</th>\n      <td>oaklib.om:DCC#S11</td>\n      <td>GO:0005938</td>\n      <td>cell cortex</td>\n      <td>NaN</td>\n      <td>NaN</td>\n      <td>IAO:0000115</td>\n      <td>NaN</td>\n      <td>lies just beneath the plasma membrane and ofte...</td>\n      <td>NaN</td>\n      <td>Logical definition element not found in text: ...</td>\n    </tr>\n    <tr>\n      <th>21</th>\n      <td>oaklib.om:DCC#S0</td>\n      <td>GO:0012505</td>\n      <td>endomembrane system</td>\n      <td>ERROR</td>\n      <td>NaN</td>\n      <td>IAO:0000115</td>\n      <td>NaN</td>\n      <td>NaN</td>\n      <td>NaN</td>\n      <td>Missing text definition</td>\n    </tr>\n    <tr>\n      <th>22</th>\n      <td>oaklib.om:DCC#S7</td>\n      <td>GO:0009579</td>\n      <td>thylakoid</td>\n      <td>NaN</td>\n      <td>NaN</td>\n      <td>IAO:0000115</td>\n      <td>NaN</td>\n      <td>The structure in a plant cell that is known as...</td>\n      <td>NaN</td>\n      <td>Circular, thylakoid (GO:0009579 in definition</td>\n    </tr>\n    <tr>\n      <th>23</th>\n      <td>oaklib.om:DCC#S3</td>\n      <td>GO:0031967</td>\n      <td>organelle envelope</td>\n      <td>WARNING</td>\n      <td>NaN</td>\n      <td>IAO:0000115</td>\n      <td>NaN</td>\n      <td>A double membrane structure enclosing an organ...</td>\n      <td>NaN</td>\n      <td>Cannot parse genus and differentia</td>\n    </tr>\n    <tr>\n      <th>24</th>\n      <td>oaklib.om:DCC#S3</td>\n      <td>GO:0043226</td>\n      <td>organelle</td>\n      <td>WARNING</td>\n      <td>NaN</td>\n      <td>IAO:0000115</td>\n      <td>NaN</td>\n      <td>Organized structure of distinctive morphology ...</td>\n      <td>NaN</td>\n      <td>Cannot parse genus and differentia</td>\n    </tr>\n    <tr>\n      <th>25</th>\n      <td>oaklib.om:DCC#S3</td>\n      <td>GO:0071944</td>\n      <td>cell periphery</td>\n      <td>WARNING</td>\n      <td>NaN</td>\n      <td>IAO:0000115</td>\n      <td>NaN</td>\n      <td>The part of a cell encompassing the cell corte...</td>\n      <td>NaN</td>\n      <td>Cannot parse genus and differentia</td>\n    </tr>\n    <tr>\n      <th>26</th>\n      <td>oaklib.om:DCC#S3</td>\n      <td>GO:0043231</td>\n      <td>intracellular membrane-bounded organelle</td>\n      <td>WARNING</td>\n      <td>NaN</td>\n      <td>IAO:0000115</td>\n      <td>NaN</td>\n      <td>Organized structure of distinctive morphology ...</td>\n      <td>NaN</td>\n      <td>Cannot parse genus and differentia</td>\n    </tr>\n    <tr>\n      <th>27</th>\n      <td>oaklib.om:DCC#S11</td>\n      <td>GO:0043231</td>\n      <td>intracellular membrane-bounded organelle</td>\n      <td>NaN</td>\n      <td>NaN</td>\n      <td>IAO:0000115</td>\n      <td>NaN</td>\n      <td>NaN</td>\n      <td>NaN</td>\n      <td>Logical definition element not found in text: ...</td>\n    </tr>\n    <tr>\n      <th>28</th>\n      <td>oaklib.om:DCC#S11</td>\n      <td>GO:0043231</td>\n      <td>intracellular membrane-bounded organelle</td>\n      <td>NaN</td>\n      <td>NaN</td>\n      <td>IAO:0000115</td>\n      <td>NaN</td>\n      <td>NaN</td>\n      <td>NaN</td>\n      <td>Logical definition element not found in text: ...</td>\n    </tr>\n    <tr>\n      <th>29</th>\n      <td>oaklib.om:DCC#S3</td>\n      <td>GO:0016020</td>\n      <td>membrane</td>\n      <td>WARNING</td>\n      <td>NaN</td>\n      <td>IAO:0000115</td>\n      <td>NaN</td>\n      <td>A lipid bilayer along with all the proteins an...</td>\n      <td>NaN</td>\n      <td>Cannot parse genus and differentia</td>\n    </tr>\n    <tr>\n      <th>30</th>\n      <td>oaklib.om:DCC#S3</td>\n      <td>GO:0099738</td>\n      <td>cell cortex region</td>\n      <td>NaN</td>\n      <td>NaN</td>\n      <td>IAO:0000115</td>\n      <td>NaN</td>\n      <td>complete extent of cell cortex</td>\n      <td>NaN</td>\n      <td>Did not match whole text: cell cortex &lt; comple...</td>\n    </tr>\n    <tr>\n      <th>31</th>\n      <td>oaklib.om:DCC#S11</td>\n      <td>GO:0099738</td>\n      <td>cell cortex region</td>\n      <td>NaN</td>\n      <td>NaN</td>\n      <td>IAO:0000115</td>\n      <td>NaN</td>\n      <td>underlies some some region of the plasma membrane</td>\n      <td>NaN</td>\n      <td>Wrong position, 'cell cortex' not in 'underlie...</td>\n    </tr>\n    <tr>\n      <th>32</th>\n      <td>oaklib.om:DCC#Any</td>\n      <td>GO:0005635</td>\n      <td>nuclear envelope</td>\n      <td>INFO</td>\n      <td>NaN</td>\n      <td>IAO:0000115</td>\n      <td>NaN</td>\n      <td>A double lipid bilayer that is part of the nuc...</td>\n      <td>NaN</td>\n      <td>No problems with definition</td>\n    </tr>\n    <tr>\n      <th>33</th>\n      <td>oaklib.om:DCC#S3</td>\n      <td>GO:0005622</td>\n      <td>intracellular anatomical structure</td>\n      <td>WARNING</td>\n      <td>NaN</td>\n      <td>IAO:0000115</td>\n      <td>NaN</td>\n      <td>A component of a cell contained within (but no...</td>\n      <td>NaN</td>\n      <td>Cannot parse genus and differentia</td>\n    </tr>\n    <tr>\n      <th>34</th>\n      <td>oaklib.om:DCC#S20.1</td>\n      <td>GO:9999998</td>\n      <td>fake term for testing pmid type</td>\n      <td>ERROR</td>\n      <td>NaN</td>\n      <td>IAO:0000115</td>\n      <td>PMID:9999999999999</td>\n      <td>NaN</td>\n      <td>NaN</td>\n      <td>publication not found: PMID:9999999999999</td>\n    </tr>\n    <tr>\n      <th>35</th>\n      <td>oaklib.om:DCC#S20.2</td>\n      <td>GO:9999999</td>\n      <td>fake term for testing retraction</td>\n      <td>ERROR</td>\n      <td>NaN</td>\n      <td>IAO:0000115</td>\n      <td>PMID:19717156</td>\n      <td>NaN</td>\n      <td>NaN</td>\n      <td>publication is retracted: A role for plasma tr...</td>\n    </tr>\n  </tbody>\n</table>\n</div>"
     },
     "execution_count": 3,
     "metadata": {},
     "output_type": "execute_result"
    }
   ],
   "source": [
    "import pandas as pd\n",
    "df = pd.read_csv(\"output/validate-definitions.output.tsv\", sep=\"\\t\")\n",
    "df"
   ]
  },
  {
   "cell_type": "markdown",
   "id": "f4209133-fd5c-4ecd-a0c4-a5dc4cb8a57a",
   "metadata": {},
   "source": [
    "The rows conform to ValidationResults in the [OAK ontology-metadata](https://w3id.org/oak/ontology-metadata/) data model.\n",
    "\n",
    "The values of the type field are from the [DefinitionConstraintComponent](https://w3id.org/oak/ontology-metadata/DefinitionConstraintComponent) enumeration.\n",
    "\n",
    "These themselves are modeled off of the taxonomy from Seppälä, Ruttenberg, and Smith, [Guidelines for writing definitions in ontologies](https://philpapers.org/archive/SEPGFW.pdf)."
   ]
  },
  {
   "cell_type": "code",
   "execution_count": 4,
   "id": "421c556c-df3e-4281-914b-613e3d467036",
   "metadata": {
    "ExecuteTime": {
     "end_time": "2024-04-15T00:50:30.958784Z",
     "start_time": "2024-04-15T00:50:30.954200Z"
    }
   },
   "outputs": [
    {
     "data": {
      "text/plain": "array(['oaklib.om:DCC#Any', 'oaklib.om:DCC#S3', 'oaklib.om:DCC#S11',\n       'oaklib.om:DCC#S1', 'oaklib.om:DCC#S0', 'oaklib.om:DCC#S7',\n       'oaklib.om:DCC#S20.1', 'oaklib.om:DCC#S20.2'], dtype=object)"
     },
     "execution_count": 4,
     "metadata": {},
     "output_type": "execute_result"
    }
   ],
   "source": [
    "df[\"type\"].unique()"
   ]
  },
  {
   "cell_type": "code",
   "execution_count": 5,
   "id": "aea2cfe0-70bf-4b76-89e2-2bfdbdd3a084",
   "metadata": {
    "ExecuteTime": {
     "end_time": "2024-04-15T00:50:30.966660Z",
     "start_time": "2024-04-15T00:50:30.962252Z"
    }
   },
   "outputs": [
    {
     "data": {
      "text/plain": "                  type  counts\n0    oaklib.om:DCC#Any       6\n1     oaklib.om:DCC#S0       1\n2     oaklib.om:DCC#S1       2\n3    oaklib.om:DCC#S11      10\n4  oaklib.om:DCC#S20.1       1\n5  oaklib.om:DCC#S20.2       1\n6     oaklib.om:DCC#S3      14\n7     oaklib.om:DCC#S7       1",
      "text/html": "<div>\n<style scoped>\n    .dataframe tbody tr th:only-of-type {\n        vertical-align: middle;\n    }\n\n    .dataframe tbody tr th {\n        vertical-align: top;\n    }\n\n    .dataframe thead th {\n        text-align: right;\n    }\n</style>\n<table border=\"1\" class=\"dataframe\">\n  <thead>\n    <tr style=\"text-align: right;\">\n      <th></th>\n      <th>type</th>\n      <th>counts</th>\n    </tr>\n  </thead>\n  <tbody>\n    <tr>\n      <th>0</th>\n      <td>oaklib.om:DCC#Any</td>\n      <td>6</td>\n    </tr>\n    <tr>\n      <th>1</th>\n      <td>oaklib.om:DCC#S0</td>\n      <td>1</td>\n    </tr>\n    <tr>\n      <th>2</th>\n      <td>oaklib.om:DCC#S1</td>\n      <td>2</td>\n    </tr>\n    <tr>\n      <th>3</th>\n      <td>oaklib.om:DCC#S11</td>\n      <td>10</td>\n    </tr>\n    <tr>\n      <th>4</th>\n      <td>oaklib.om:DCC#S20.1</td>\n      <td>1</td>\n    </tr>\n    <tr>\n      <th>5</th>\n      <td>oaklib.om:DCC#S20.2</td>\n      <td>1</td>\n    </tr>\n    <tr>\n      <th>6</th>\n      <td>oaklib.om:DCC#S3</td>\n      <td>14</td>\n    </tr>\n    <tr>\n      <th>7</th>\n      <td>oaklib.om:DCC#S7</td>\n      <td>1</td>\n    </tr>\n  </tbody>\n</table>\n</div>"
     },
     "execution_count": 5,
     "metadata": {},
     "output_type": "execute_result"
    }
   ],
   "source": [
    "df.groupby(\"type\").size().reset_index(name='counts')"
   ]
  },
  {
   "cell_type": "markdown",
   "source": [
    "Next we'll filter out less informative columns"
   ],
   "metadata": {
    "collapsed": false
   },
   "id": "f28d70f482239b30"
  },
  {
   "cell_type": "code",
   "execution_count": 6,
   "outputs": [
    {
     "data": {
      "text/plain": "                   type     subject                             subject_label  \\\n0     oaklib.om:DCC#Any  GO:0005634                                   nucleus   \n1      oaklib.om:DCC#S3  GO:0043227                membrane-bounded organelle   \n2     oaklib.om:DCC#S11  GO:0043227                membrane-bounded organelle   \n3     oaklib.om:DCC#Any  GO:0110165                cellular anatomical entity   \n4      oaklib.om:DCC#S3  GO:0099568                        cytoplasmic region   \n5      oaklib.om:DCC#S1  GO:0005737                                 cytoplasm   \n6      oaklib.om:DCC#S3  GO:0043229                   intracellular organelle   \n7     oaklib.om:DCC#S11  GO:0043229                   intracellular organelle   \n8     oaklib.om:DCC#S11  GO:0043229                   intracellular organelle   \n9     oaklib.om:DCC#Any  GO:0005886                           plasma membrane   \n10    oaklib.om:DCC#Any  GO:0098590                    plasma membrane region   \n11     oaklib.om:DCC#S3  GO:9999998           fake term for testing pmid type   \n12     oaklib.om:DCC#S1  GO:0005773                                   vacuole   \n13     oaklib.om:DCC#S3  GO:9999999          fake term for testing retraction   \n14     oaklib.om:DCC#S3  GO:0031975                                  envelope   \n15     oaklib.om:DCC#S3  GO:0005575                        cellular_component   \n16    oaklib.om:DCC#S11  GO:0031090                        organelle membrane   \n17    oaklib.om:DCC#Any  GO:0034357                   photosynthetic membrane   \n18    oaklib.om:DCC#S11  GO:0031965                          nuclear membrane   \n19    oaklib.om:DCC#S11  GO:0005938                               cell cortex   \n20    oaklib.om:DCC#S11  GO:0005938                               cell cortex   \n21     oaklib.om:DCC#S0  GO:0012505                       endomembrane system   \n22     oaklib.om:DCC#S7  GO:0009579                                 thylakoid   \n23     oaklib.om:DCC#S3  GO:0031967                        organelle envelope   \n24     oaklib.om:DCC#S3  GO:0043226                                 organelle   \n25     oaklib.om:DCC#S3  GO:0071944                            cell periphery   \n26     oaklib.om:DCC#S3  GO:0043231  intracellular membrane-bounded organelle   \n27    oaklib.om:DCC#S11  GO:0043231  intracellular membrane-bounded organelle   \n28    oaklib.om:DCC#S11  GO:0043231  intracellular membrane-bounded organelle   \n29     oaklib.om:DCC#S3  GO:0016020                                  membrane   \n30     oaklib.om:DCC#S3  GO:0099738                        cell cortex region   \n31    oaklib.om:DCC#S11  GO:0099738                        cell cortex region   \n32    oaklib.om:DCC#Any  GO:0005635                          nuclear envelope   \n33     oaklib.om:DCC#S3  GO:0005622        intracellular anatomical structure   \n34  oaklib.om:DCC#S20.1  GO:9999998           fake term for testing pmid type   \n35  oaklib.om:DCC#S20.2  GO:9999999          fake term for testing retraction   \n\n                                           object_str  \\\n0   A membrane-bounded organelle of eukaryotic cel...   \n1   Organized structure of distinctive morphology ...   \n2                                                 NaN   \n3   A part of a cellular organism that is either a...   \n4   Any (proper) part of the cytoplasm of a single...   \n5                                                 NaN   \n6   Organized structure of distinctive morphology ...   \n7                                                 NaN   \n8                                                 NaN   \n9   The membrane surrounding a cell that separates...   \n10  A membrane that is a (regional) part of the pl...   \n11  fake definition to test retracted typo in refe...   \n12                                                NaN   \n13        fake definition to test retracted reference   \n14  A multilayered structure surrounding all or pa...   \n15  A location, relative to cellular compartments ...   \n16  is one of the two lipid bilayers of an organel...   \n17  A membrane enriched in complexes formed of rea...   \n18                                           envelope   \n19                                   region of a cell   \n20  lies just beneath the plasma membrane and ofte...   \n21                                                NaN   \n22  The structure in a plant cell that is known as...   \n23  A double membrane structure enclosing an organ...   \n24  Organized structure of distinctive morphology ...   \n25  The part of a cell encompassing the cell corte...   \n26  Organized structure of distinctive morphology ...   \n27                                                NaN   \n28                                                NaN   \n29  A lipid bilayer along with all the proteins an...   \n30                     complete extent of cell cortex   \n31  underlies some some region of the plasma membrane   \n32  A double lipid bilayer that is part of the nuc...   \n33  A component of a cell contained within (but no...   \n34                                                NaN   \n35                                                NaN   \n\n                                                 info  \n0                         No problems with definition  \n1                  Cannot parse genus and differentia  \n2   Logical definition element not found in text: ...  \n3                         No problems with definition  \n4                  Cannot parse genus and differentia  \n5          Definiendum should not appear at the start  \n6                  Cannot parse genus and differentia  \n7   Logical definition element not found in text: ...  \n8   Logical definition element not found in text: ...  \n9                         No problems with definition  \n10                        No problems with definition  \n11                 Cannot parse genus and differentia  \n12         Definiendum should not appear at the start  \n13                 Cannot parse genus and differentia  \n14                 Cannot parse genus and differentia  \n15                 Cannot parse genus and differentia  \n16  Logical definition element not found in text: ...  \n17                        No problems with definition  \n18  Logical definition element not found in text: ...  \n19  Logical definition element not found in text: ...  \n20  Logical definition element not found in text: ...  \n21                            Missing text definition  \n22      Circular, thylakoid (GO:0009579 in definition  \n23                 Cannot parse genus and differentia  \n24                 Cannot parse genus and differentia  \n25                 Cannot parse genus and differentia  \n26                 Cannot parse genus and differentia  \n27  Logical definition element not found in text: ...  \n28  Logical definition element not found in text: ...  \n29                 Cannot parse genus and differentia  \n30  Did not match whole text: cell cortex < comple...  \n31  Wrong position, 'cell cortex' not in 'underlie...  \n32                        No problems with definition  \n33                 Cannot parse genus and differentia  \n34          publication not found: PMID:9999999999999  \n35  publication is retracted: A role for plasma tr...  ",
      "text/html": "<div>\n<style scoped>\n    .dataframe tbody tr th:only-of-type {\n        vertical-align: middle;\n    }\n\n    .dataframe tbody tr th {\n        vertical-align: top;\n    }\n\n    .dataframe thead th {\n        text-align: right;\n    }\n</style>\n<table border=\"1\" class=\"dataframe\">\n  <thead>\n    <tr style=\"text-align: right;\">\n      <th></th>\n      <th>type</th>\n      <th>subject</th>\n      <th>subject_label</th>\n      <th>object_str</th>\n      <th>info</th>\n    </tr>\n  </thead>\n  <tbody>\n    <tr>\n      <th>0</th>\n      <td>oaklib.om:DCC#Any</td>\n      <td>GO:0005634</td>\n      <td>nucleus</td>\n      <td>A membrane-bounded organelle of eukaryotic cel...</td>\n      <td>No problems with definition</td>\n    </tr>\n    <tr>\n      <th>1</th>\n      <td>oaklib.om:DCC#S3</td>\n      <td>GO:0043227</td>\n      <td>membrane-bounded organelle</td>\n      <td>Organized structure of distinctive morphology ...</td>\n      <td>Cannot parse genus and differentia</td>\n    </tr>\n    <tr>\n      <th>2</th>\n      <td>oaklib.om:DCC#S11</td>\n      <td>GO:0043227</td>\n      <td>membrane-bounded organelle</td>\n      <td>NaN</td>\n      <td>Logical definition element not found in text: ...</td>\n    </tr>\n    <tr>\n      <th>3</th>\n      <td>oaklib.om:DCC#Any</td>\n      <td>GO:0110165</td>\n      <td>cellular anatomical entity</td>\n      <td>A part of a cellular organism that is either a...</td>\n      <td>No problems with definition</td>\n    </tr>\n    <tr>\n      <th>4</th>\n      <td>oaklib.om:DCC#S3</td>\n      <td>GO:0099568</td>\n      <td>cytoplasmic region</td>\n      <td>Any (proper) part of the cytoplasm of a single...</td>\n      <td>Cannot parse genus and differentia</td>\n    </tr>\n    <tr>\n      <th>5</th>\n      <td>oaklib.om:DCC#S1</td>\n      <td>GO:0005737</td>\n      <td>cytoplasm</td>\n      <td>NaN</td>\n      <td>Definiendum should not appear at the start</td>\n    </tr>\n    <tr>\n      <th>6</th>\n      <td>oaklib.om:DCC#S3</td>\n      <td>GO:0043229</td>\n      <td>intracellular organelle</td>\n      <td>Organized structure of distinctive morphology ...</td>\n      <td>Cannot parse genus and differentia</td>\n    </tr>\n    <tr>\n      <th>7</th>\n      <td>oaklib.om:DCC#S11</td>\n      <td>GO:0043229</td>\n      <td>intracellular organelle</td>\n      <td>NaN</td>\n      <td>Logical definition element not found in text: ...</td>\n    </tr>\n    <tr>\n      <th>8</th>\n      <td>oaklib.om:DCC#S11</td>\n      <td>GO:0043229</td>\n      <td>intracellular organelle</td>\n      <td>NaN</td>\n      <td>Logical definition element not found in text: ...</td>\n    </tr>\n    <tr>\n      <th>9</th>\n      <td>oaklib.om:DCC#Any</td>\n      <td>GO:0005886</td>\n      <td>plasma membrane</td>\n      <td>The membrane surrounding a cell that separates...</td>\n      <td>No problems with definition</td>\n    </tr>\n    <tr>\n      <th>10</th>\n      <td>oaklib.om:DCC#Any</td>\n      <td>GO:0098590</td>\n      <td>plasma membrane region</td>\n      <td>A membrane that is a (regional) part of the pl...</td>\n      <td>No problems with definition</td>\n    </tr>\n    <tr>\n      <th>11</th>\n      <td>oaklib.om:DCC#S3</td>\n      <td>GO:9999998</td>\n      <td>fake term for testing pmid type</td>\n      <td>fake definition to test retracted typo in refe...</td>\n      <td>Cannot parse genus and differentia</td>\n    </tr>\n    <tr>\n      <th>12</th>\n      <td>oaklib.om:DCC#S1</td>\n      <td>GO:0005773</td>\n      <td>vacuole</td>\n      <td>NaN</td>\n      <td>Definiendum should not appear at the start</td>\n    </tr>\n    <tr>\n      <th>13</th>\n      <td>oaklib.om:DCC#S3</td>\n      <td>GO:9999999</td>\n      <td>fake term for testing retraction</td>\n      <td>fake definition to test retracted reference</td>\n      <td>Cannot parse genus and differentia</td>\n    </tr>\n    <tr>\n      <th>14</th>\n      <td>oaklib.om:DCC#S3</td>\n      <td>GO:0031975</td>\n      <td>envelope</td>\n      <td>A multilayered structure surrounding all or pa...</td>\n      <td>Cannot parse genus and differentia</td>\n    </tr>\n    <tr>\n      <th>15</th>\n      <td>oaklib.om:DCC#S3</td>\n      <td>GO:0005575</td>\n      <td>cellular_component</td>\n      <td>A location, relative to cellular compartments ...</td>\n      <td>Cannot parse genus and differentia</td>\n    </tr>\n    <tr>\n      <th>16</th>\n      <td>oaklib.om:DCC#S11</td>\n      <td>GO:0031090</td>\n      <td>organelle membrane</td>\n      <td>is one of the two lipid bilayers of an organel...</td>\n      <td>Logical definition element not found in text: ...</td>\n    </tr>\n    <tr>\n      <th>17</th>\n      <td>oaklib.om:DCC#Any</td>\n      <td>GO:0034357</td>\n      <td>photosynthetic membrane</td>\n      <td>A membrane enriched in complexes formed of rea...</td>\n      <td>No problems with definition</td>\n    </tr>\n    <tr>\n      <th>18</th>\n      <td>oaklib.om:DCC#S11</td>\n      <td>GO:0031965</td>\n      <td>nuclear membrane</td>\n      <td>envelope</td>\n      <td>Logical definition element not found in text: ...</td>\n    </tr>\n    <tr>\n      <th>19</th>\n      <td>oaklib.om:DCC#S11</td>\n      <td>GO:0005938</td>\n      <td>cell cortex</td>\n      <td>region of a cell</td>\n      <td>Logical definition element not found in text: ...</td>\n    </tr>\n    <tr>\n      <th>20</th>\n      <td>oaklib.om:DCC#S11</td>\n      <td>GO:0005938</td>\n      <td>cell cortex</td>\n      <td>lies just beneath the plasma membrane and ofte...</td>\n      <td>Logical definition element not found in text: ...</td>\n    </tr>\n    <tr>\n      <th>21</th>\n      <td>oaklib.om:DCC#S0</td>\n      <td>GO:0012505</td>\n      <td>endomembrane system</td>\n      <td>NaN</td>\n      <td>Missing text definition</td>\n    </tr>\n    <tr>\n      <th>22</th>\n      <td>oaklib.om:DCC#S7</td>\n      <td>GO:0009579</td>\n      <td>thylakoid</td>\n      <td>The structure in a plant cell that is known as...</td>\n      <td>Circular, thylakoid (GO:0009579 in definition</td>\n    </tr>\n    <tr>\n      <th>23</th>\n      <td>oaklib.om:DCC#S3</td>\n      <td>GO:0031967</td>\n      <td>organelle envelope</td>\n      <td>A double membrane structure enclosing an organ...</td>\n      <td>Cannot parse genus and differentia</td>\n    </tr>\n    <tr>\n      <th>24</th>\n      <td>oaklib.om:DCC#S3</td>\n      <td>GO:0043226</td>\n      <td>organelle</td>\n      <td>Organized structure of distinctive morphology ...</td>\n      <td>Cannot parse genus and differentia</td>\n    </tr>\n    <tr>\n      <th>25</th>\n      <td>oaklib.om:DCC#S3</td>\n      <td>GO:0071944</td>\n      <td>cell periphery</td>\n      <td>The part of a cell encompassing the cell corte...</td>\n      <td>Cannot parse genus and differentia</td>\n    </tr>\n    <tr>\n      <th>26</th>\n      <td>oaklib.om:DCC#S3</td>\n      <td>GO:0043231</td>\n      <td>intracellular membrane-bounded organelle</td>\n      <td>Organized structure of distinctive morphology ...</td>\n      <td>Cannot parse genus and differentia</td>\n    </tr>\n    <tr>\n      <th>27</th>\n      <td>oaklib.om:DCC#S11</td>\n      <td>GO:0043231</td>\n      <td>intracellular membrane-bounded organelle</td>\n      <td>NaN</td>\n      <td>Logical definition element not found in text: ...</td>\n    </tr>\n    <tr>\n      <th>28</th>\n      <td>oaklib.om:DCC#S11</td>\n      <td>GO:0043231</td>\n      <td>intracellular membrane-bounded organelle</td>\n      <td>NaN</td>\n      <td>Logical definition element not found in text: ...</td>\n    </tr>\n    <tr>\n      <th>29</th>\n      <td>oaklib.om:DCC#S3</td>\n      <td>GO:0016020</td>\n      <td>membrane</td>\n      <td>A lipid bilayer along with all the proteins an...</td>\n      <td>Cannot parse genus and differentia</td>\n    </tr>\n    <tr>\n      <th>30</th>\n      <td>oaklib.om:DCC#S3</td>\n      <td>GO:0099738</td>\n      <td>cell cortex region</td>\n      <td>complete extent of cell cortex</td>\n      <td>Did not match whole text: cell cortex &lt; comple...</td>\n    </tr>\n    <tr>\n      <th>31</th>\n      <td>oaklib.om:DCC#S11</td>\n      <td>GO:0099738</td>\n      <td>cell cortex region</td>\n      <td>underlies some some region of the plasma membrane</td>\n      <td>Wrong position, 'cell cortex' not in 'underlie...</td>\n    </tr>\n    <tr>\n      <th>32</th>\n      <td>oaklib.om:DCC#Any</td>\n      <td>GO:0005635</td>\n      <td>nuclear envelope</td>\n      <td>A double lipid bilayer that is part of the nuc...</td>\n      <td>No problems with definition</td>\n    </tr>\n    <tr>\n      <th>33</th>\n      <td>oaklib.om:DCC#S3</td>\n      <td>GO:0005622</td>\n      <td>intracellular anatomical structure</td>\n      <td>A component of a cell contained within (but no...</td>\n      <td>Cannot parse genus and differentia</td>\n    </tr>\n    <tr>\n      <th>34</th>\n      <td>oaklib.om:DCC#S20.1</td>\n      <td>GO:9999998</td>\n      <td>fake term for testing pmid type</td>\n      <td>NaN</td>\n      <td>publication not found: PMID:9999999999999</td>\n    </tr>\n    <tr>\n      <th>35</th>\n      <td>oaklib.om:DCC#S20.2</td>\n      <td>GO:9999999</td>\n      <td>fake term for testing retraction</td>\n      <td>NaN</td>\n      <td>publication is retracted: A role for plasma tr...</td>\n    </tr>\n  </tbody>\n</table>\n</div>"
     },
     "execution_count": 6,
     "metadata": {},
     "output_type": "execute_result"
    }
   ],
   "source": [
    "df = df[[\"type\", \"subject\", \"subject_label\", \"object_str\", \"info\"]]\n",
    "df"
   ],
   "metadata": {
    "collapsed": false,
    "ExecuteTime": {
     "end_time": "2024-04-15T00:50:30.994801Z",
     "start_time": "2024-04-15T00:50:30.971926Z"
    }
   },
   "id": "c1df05dd32082e69"
  },
  {
   "cell_type": "markdown",
   "source": [
    "## Missing Definitions\n",
    "\n",
    "This is the most trivial way to fail a definition check - not to include one. We can see all the missing definitions:\n"
   ],
   "metadata": {
    "collapsed": false
   },
   "id": "8ad6ef24d0daf11f"
  },
  {
   "cell_type": "code",
   "execution_count": 7,
   "outputs": [
    {
     "data": {
      "text/plain": "                type     subject        subject_label object_str  \\\n21  oaklib.om:DCC#S0  GO:0012505  endomembrane system        NaN   \n\n                       info  \n21  Missing text definition  ",
      "text/html": "<div>\n<style scoped>\n    .dataframe tbody tr th:only-of-type {\n        vertical-align: middle;\n    }\n\n    .dataframe tbody tr th {\n        vertical-align: top;\n    }\n\n    .dataframe thead th {\n        text-align: right;\n    }\n</style>\n<table border=\"1\" class=\"dataframe\">\n  <thead>\n    <tr style=\"text-align: right;\">\n      <th></th>\n      <th>type</th>\n      <th>subject</th>\n      <th>subject_label</th>\n      <th>object_str</th>\n      <th>info</th>\n    </tr>\n  </thead>\n  <tbody>\n    <tr>\n      <th>21</th>\n      <td>oaklib.om:DCC#S0</td>\n      <td>GO:0012505</td>\n      <td>endomembrane system</td>\n      <td>NaN</td>\n      <td>Missing text definition</td>\n    </tr>\n  </tbody>\n</table>\n</div>"
     },
     "execution_count": 7,
     "metadata": {},
     "output_type": "execute_result"
    }
   ],
   "source": [
    "df[df[\"type\"] == \"oaklib.om:DCC#S0\"]\n"
   ],
   "metadata": {
    "collapsed": false,
    "ExecuteTime": {
     "end_time": "2024-04-15T00:50:31.048081Z",
     "start_time": "2024-04-15T00:50:30.979466Z"
    }
   },
   "id": "381e7c7da587668e"
  },
  {
   "cell_type": "markdown",
   "source": [
    "Of course, in the real ontology this term has a definition"
   ],
   "metadata": {
    "collapsed": false
   },
   "id": "f8844c7876451383"
  },
  {
   "cell_type": "markdown",
   "source": [
    "## Non genus-differentia structure\n",
    "\n",
    "The OAK validate definitions command follows [SRS]( https://philpapers.org/archive/SEPGFW.pdf) and assumes good definitions follow genus-differentia structure.\n",
    "\n",
    "We can see the ones that fail this (S3):"
   ],
   "metadata": {
    "collapsed": false
   },
   "id": "c098cdf7a5665add"
  },
  {
   "cell_type": "code",
   "execution_count": 8,
   "outputs": [
    {
     "data": {
      "text/plain": "                type     subject                             subject_label  \\\n1   oaklib.om:DCC#S3  GO:0043227                membrane-bounded organelle   \n4   oaklib.om:DCC#S3  GO:0099568                        cytoplasmic region   \n6   oaklib.om:DCC#S3  GO:0043229                   intracellular organelle   \n11  oaklib.om:DCC#S3  GO:9999998           fake term for testing pmid type   \n13  oaklib.om:DCC#S3  GO:9999999          fake term for testing retraction   \n14  oaklib.om:DCC#S3  GO:0031975                                  envelope   \n15  oaklib.om:DCC#S3  GO:0005575                        cellular_component   \n23  oaklib.om:DCC#S3  GO:0031967                        organelle envelope   \n24  oaklib.om:DCC#S3  GO:0043226                                 organelle   \n25  oaklib.om:DCC#S3  GO:0071944                            cell periphery   \n26  oaklib.om:DCC#S3  GO:0043231  intracellular membrane-bounded organelle   \n29  oaklib.om:DCC#S3  GO:0016020                                  membrane   \n30  oaklib.om:DCC#S3  GO:0099738                        cell cortex region   \n33  oaklib.om:DCC#S3  GO:0005622        intracellular anatomical structure   \n\n                                           object_str  \\\n1   Organized structure of distinctive morphology ...   \n4   Any (proper) part of the cytoplasm of a single...   \n6   Organized structure of distinctive morphology ...   \n11  fake definition to test retracted typo in refe...   \n13        fake definition to test retracted reference   \n14  A multilayered structure surrounding all or pa...   \n15  A location, relative to cellular compartments ...   \n23  A double membrane structure enclosing an organ...   \n24  Organized structure of distinctive morphology ...   \n25  The part of a cell encompassing the cell corte...   \n26  Organized structure of distinctive morphology ...   \n29  A lipid bilayer along with all the proteins an...   \n30                     complete extent of cell cortex   \n33  A component of a cell contained within (but no...   \n\n                                                 info  \n1                  Cannot parse genus and differentia  \n4                  Cannot parse genus and differentia  \n6                  Cannot parse genus and differentia  \n11                 Cannot parse genus and differentia  \n13                 Cannot parse genus and differentia  \n14                 Cannot parse genus and differentia  \n15                 Cannot parse genus and differentia  \n23                 Cannot parse genus and differentia  \n24                 Cannot parse genus and differentia  \n25                 Cannot parse genus and differentia  \n26                 Cannot parse genus and differentia  \n29                 Cannot parse genus and differentia  \n30  Did not match whole text: cell cortex < comple...  \n33                 Cannot parse genus and differentia  ",
      "text/html": "<div>\n<style scoped>\n    .dataframe tbody tr th:only-of-type {\n        vertical-align: middle;\n    }\n\n    .dataframe tbody tr th {\n        vertical-align: top;\n    }\n\n    .dataframe thead th {\n        text-align: right;\n    }\n</style>\n<table border=\"1\" class=\"dataframe\">\n  <thead>\n    <tr style=\"text-align: right;\">\n      <th></th>\n      <th>type</th>\n      <th>subject</th>\n      <th>subject_label</th>\n      <th>object_str</th>\n      <th>info</th>\n    </tr>\n  </thead>\n  <tbody>\n    <tr>\n      <th>1</th>\n      <td>oaklib.om:DCC#S3</td>\n      <td>GO:0043227</td>\n      <td>membrane-bounded organelle</td>\n      <td>Organized structure of distinctive morphology ...</td>\n      <td>Cannot parse genus and differentia</td>\n    </tr>\n    <tr>\n      <th>4</th>\n      <td>oaklib.om:DCC#S3</td>\n      <td>GO:0099568</td>\n      <td>cytoplasmic region</td>\n      <td>Any (proper) part of the cytoplasm of a single...</td>\n      <td>Cannot parse genus and differentia</td>\n    </tr>\n    <tr>\n      <th>6</th>\n      <td>oaklib.om:DCC#S3</td>\n      <td>GO:0043229</td>\n      <td>intracellular organelle</td>\n      <td>Organized structure of distinctive morphology ...</td>\n      <td>Cannot parse genus and differentia</td>\n    </tr>\n    <tr>\n      <th>11</th>\n      <td>oaklib.om:DCC#S3</td>\n      <td>GO:9999998</td>\n      <td>fake term for testing pmid type</td>\n      <td>fake definition to test retracted typo in refe...</td>\n      <td>Cannot parse genus and differentia</td>\n    </tr>\n    <tr>\n      <th>13</th>\n      <td>oaklib.om:DCC#S3</td>\n      <td>GO:9999999</td>\n      <td>fake term for testing retraction</td>\n      <td>fake definition to test retracted reference</td>\n      <td>Cannot parse genus and differentia</td>\n    </tr>\n    <tr>\n      <th>14</th>\n      <td>oaklib.om:DCC#S3</td>\n      <td>GO:0031975</td>\n      <td>envelope</td>\n      <td>A multilayered structure surrounding all or pa...</td>\n      <td>Cannot parse genus and differentia</td>\n    </tr>\n    <tr>\n      <th>15</th>\n      <td>oaklib.om:DCC#S3</td>\n      <td>GO:0005575</td>\n      <td>cellular_component</td>\n      <td>A location, relative to cellular compartments ...</td>\n      <td>Cannot parse genus and differentia</td>\n    </tr>\n    <tr>\n      <th>23</th>\n      <td>oaklib.om:DCC#S3</td>\n      <td>GO:0031967</td>\n      <td>organelle envelope</td>\n      <td>A double membrane structure enclosing an organ...</td>\n      <td>Cannot parse genus and differentia</td>\n    </tr>\n    <tr>\n      <th>24</th>\n      <td>oaklib.om:DCC#S3</td>\n      <td>GO:0043226</td>\n      <td>organelle</td>\n      <td>Organized structure of distinctive morphology ...</td>\n      <td>Cannot parse genus and differentia</td>\n    </tr>\n    <tr>\n      <th>25</th>\n      <td>oaklib.om:DCC#S3</td>\n      <td>GO:0071944</td>\n      <td>cell periphery</td>\n      <td>The part of a cell encompassing the cell corte...</td>\n      <td>Cannot parse genus and differentia</td>\n    </tr>\n    <tr>\n      <th>26</th>\n      <td>oaklib.om:DCC#S3</td>\n      <td>GO:0043231</td>\n      <td>intracellular membrane-bounded organelle</td>\n      <td>Organized structure of distinctive morphology ...</td>\n      <td>Cannot parse genus and differentia</td>\n    </tr>\n    <tr>\n      <th>29</th>\n      <td>oaklib.om:DCC#S3</td>\n      <td>GO:0016020</td>\n      <td>membrane</td>\n      <td>A lipid bilayer along with all the proteins an...</td>\n      <td>Cannot parse genus and differentia</td>\n    </tr>\n    <tr>\n      <th>30</th>\n      <td>oaklib.om:DCC#S3</td>\n      <td>GO:0099738</td>\n      <td>cell cortex region</td>\n      <td>complete extent of cell cortex</td>\n      <td>Did not match whole text: cell cortex &lt; comple...</td>\n    </tr>\n    <tr>\n      <th>33</th>\n      <td>oaklib.om:DCC#S3</td>\n      <td>GO:0005622</td>\n      <td>intracellular anatomical structure</td>\n      <td>A component of a cell contained within (but no...</td>\n      <td>Cannot parse genus and differentia</td>\n    </tr>\n  </tbody>\n</table>\n</div>"
     },
     "execution_count": 8,
     "metadata": {},
     "output_type": "execute_result"
    }
   ],
   "source": [
    "df[df[\"type\"] == \"oaklib.om:DCC#S3\"]"
   ],
   "metadata": {
    "collapsed": false,
    "ExecuteTime": {
     "end_time": "2024-04-15T00:50:31.052182Z",
     "start_time": "2024-04-15T00:50:30.987744Z"
    }
   },
   "id": "9cf1490c83491596"
  },
  {
   "cell_type": "markdown",
   "source": [
    "Many of these are actual definitions rather than ones manipulated for test purposes.\n",
    "\n",
    "There is room for valid disagreement about whether rewriting some of these following genus-differentia form would improve things for either users or annotators. Arguably at least the subtypes of organelle could simply state how they are differentiated from organelles in general rather than repeating the somewhat wordy _\"Organized structure of distinctive morphology...\"_"
   ],
   "metadata": {
    "collapsed": false
   },
   "id": "27f9e7b747b071de"
  },
  {
   "cell_type": "markdown",
   "source": [
    "## Circular definitions"
   ],
   "metadata": {
    "collapsed": false
   },
   "id": "c56d3a9c531e5a09"
  },
  {
   "cell_type": "code",
   "execution_count": 9,
   "outputs": [
    {
     "data": {
      "text/plain": "                type     subject subject_label  \\\n22  oaklib.om:DCC#S7  GO:0009579     thylakoid   \n\n                                           object_str  \\\n22  The structure in a plant cell that is known as...   \n\n                                             info  \n22  Circular, thylakoid (GO:0009579 in definition  ",
      "text/html": "<div>\n<style scoped>\n    .dataframe tbody tr th:only-of-type {\n        vertical-align: middle;\n    }\n\n    .dataframe tbody tr th {\n        vertical-align: top;\n    }\n\n    .dataframe thead th {\n        text-align: right;\n    }\n</style>\n<table border=\"1\" class=\"dataframe\">\n  <thead>\n    <tr style=\"text-align: right;\">\n      <th></th>\n      <th>type</th>\n      <th>subject</th>\n      <th>subject_label</th>\n      <th>object_str</th>\n      <th>info</th>\n    </tr>\n  </thead>\n  <tbody>\n    <tr>\n      <th>22</th>\n      <td>oaklib.om:DCC#S7</td>\n      <td>GO:0009579</td>\n      <td>thylakoid</td>\n      <td>The structure in a plant cell that is known as...</td>\n      <td>Circular, thylakoid (GO:0009579 in definition</td>\n    </tr>\n  </tbody>\n</table>\n</div>"
     },
     "execution_count": 9,
     "metadata": {},
     "output_type": "execute_result"
    }
   ],
   "source": [
    "df[df[\"type\"] == \"oaklib.om:DCC#S7\"]"
   ],
   "metadata": {
    "collapsed": false,
    "ExecuteTime": {
     "end_time": "2024-04-15T00:50:31.052559Z",
     "start_time": "2024-04-15T00:50:30.994899Z"
    }
   },
   "id": "adcbad5fae63e7fb"
  },
  {
   "cell_type": "markdown",
   "source": [
    "## Not following convention"
   ],
   "metadata": {
    "collapsed": false
   },
   "id": "34eb55cf06afa332"
  },
  {
   "cell_type": "code",
   "execution_count": 10,
   "outputs": [
    {
     "data": {
      "text/plain": "                type     subject subject_label object_str  \\\n5   oaklib.om:DCC#S1  GO:0005737     cytoplasm        NaN   \n12  oaklib.om:DCC#S1  GO:0005773       vacuole        NaN   \n\n                                          info  \n5   Definiendum should not appear at the start  \n12  Definiendum should not appear at the start  ",
      "text/html": "<div>\n<style scoped>\n    .dataframe tbody tr th:only-of-type {\n        vertical-align: middle;\n    }\n\n    .dataframe tbody tr th {\n        vertical-align: top;\n    }\n\n    .dataframe thead th {\n        text-align: right;\n    }\n</style>\n<table border=\"1\" class=\"dataframe\">\n  <thead>\n    <tr style=\"text-align: right;\">\n      <th></th>\n      <th>type</th>\n      <th>subject</th>\n      <th>subject_label</th>\n      <th>object_str</th>\n      <th>info</th>\n    </tr>\n  </thead>\n  <tbody>\n    <tr>\n      <th>5</th>\n      <td>oaklib.om:DCC#S1</td>\n      <td>GO:0005737</td>\n      <td>cytoplasm</td>\n      <td>NaN</td>\n      <td>Definiendum should not appear at the start</td>\n    </tr>\n    <tr>\n      <th>12</th>\n      <td>oaklib.om:DCC#S1</td>\n      <td>GO:0005773</td>\n      <td>vacuole</td>\n      <td>NaN</td>\n      <td>Definiendum should not appear at the start</td>\n    </tr>\n  </tbody>\n</table>\n</div>"
     },
     "execution_count": 10,
     "metadata": {},
     "output_type": "execute_result"
    }
   ],
   "source": [
    "df[df[\"type\"] == \"oaklib.om:DCC#S1\"]"
   ],
   "metadata": {
    "collapsed": false,
    "ExecuteTime": {
     "end_time": "2024-04-15T00:50:31.062863Z",
     "start_time": "2024-04-15T00:50:31.004181Z"
    }
   },
   "id": "cf4d18796842b46"
  },
  {
   "cell_type": "markdown",
   "source": [
    "## Definition Reference Issues\n",
    "\n",
    "### Typos in PMIDs\n"
   ],
   "metadata": {
    "collapsed": false
   },
   "id": "4c5189bd46804bd8"
  },
  {
   "cell_type": "code",
   "execution_count": 11,
   "outputs": [
    {
     "data": {
      "text/plain": "                   type     subject                    subject_label  \\\n34  oaklib.om:DCC#S20.1  GO:9999998  fake term for testing pmid type   \n\n   object_str                                       info  \n34        NaN  publication not found: PMID:9999999999999  ",
      "text/html": "<div>\n<style scoped>\n    .dataframe tbody tr th:only-of-type {\n        vertical-align: middle;\n    }\n\n    .dataframe tbody tr th {\n        vertical-align: top;\n    }\n\n    .dataframe thead th {\n        text-align: right;\n    }\n</style>\n<table border=\"1\" class=\"dataframe\">\n  <thead>\n    <tr style=\"text-align: right;\">\n      <th></th>\n      <th>type</th>\n      <th>subject</th>\n      <th>subject_label</th>\n      <th>object_str</th>\n      <th>info</th>\n    </tr>\n  </thead>\n  <tbody>\n    <tr>\n      <th>34</th>\n      <td>oaklib.om:DCC#S20.1</td>\n      <td>GO:9999998</td>\n      <td>fake term for testing pmid type</td>\n      <td>NaN</td>\n      <td>publication not found: PMID:9999999999999</td>\n    </tr>\n  </tbody>\n</table>\n</div>"
     },
     "execution_count": 11,
     "metadata": {},
     "output_type": "execute_result"
    }
   ],
   "source": [
    "df[df[\"type\"] == \"oaklib.om:DCC#S20.1\"]\n"
   ],
   "metadata": {
    "collapsed": false,
    "ExecuteTime": {
     "end_time": "2024-04-15T00:51:38.780848Z",
     "start_time": "2024-04-15T00:51:38.770256Z"
    }
   },
   "id": "35e1f10deba2c6c9"
  },
  {
   "cell_type": "markdown",
   "source": [
    "### Retracted publications"
   ],
   "metadata": {
    "collapsed": false
   },
   "id": "7a288d8fc507acc4"
  },
  {
   "cell_type": "code",
   "execution_count": 12,
   "outputs": [
    {
     "data": {
      "text/plain": "                   type     subject                     subject_label  \\\n35  oaklib.om:DCC#S20.2  GO:9999999  fake term for testing retraction   \n\n   object_str                                               info  \n35        NaN  publication is retracted: A role for plasma tr...  ",
      "text/html": "<div>\n<style scoped>\n    .dataframe tbody tr th:only-of-type {\n        vertical-align: middle;\n    }\n\n    .dataframe tbody tr th {\n        vertical-align: top;\n    }\n\n    .dataframe thead th {\n        text-align: right;\n    }\n</style>\n<table border=\"1\" class=\"dataframe\">\n  <thead>\n    <tr style=\"text-align: right;\">\n      <th></th>\n      <th>type</th>\n      <th>subject</th>\n      <th>subject_label</th>\n      <th>object_str</th>\n      <th>info</th>\n    </tr>\n  </thead>\n  <tbody>\n    <tr>\n      <th>35</th>\n      <td>oaklib.om:DCC#S20.2</td>\n      <td>GO:9999999</td>\n      <td>fake term for testing retraction</td>\n      <td>NaN</td>\n      <td>publication is retracted: A role for plasma tr...</td>\n    </tr>\n  </tbody>\n</table>\n</div>"
     },
     "execution_count": 12,
     "metadata": {},
     "output_type": "execute_result"
    }
   ],
   "source": [
    "df[df[\"type\"] == \"oaklib.om:DCC#S20.2\"]\n"
   ],
   "metadata": {
    "collapsed": false,
    "ExecuteTime": {
     "end_time": "2024-04-15T00:52:02.693591Z",
     "start_time": "2024-04-15T00:52:02.687692Z"
    }
   },
   "id": "f5245d99ab0864d5"
  },
  {
   "cell_type": "markdown",
   "source": [
    "# Using LLMs to validate definitions\n",
    "\n",
    "For this example we will use an LLM to validate this GO catalytic activity:\n",
    "\n",
    "```yaml\n",
    "[Term]\n",
    "id: GO:0000010\n",
    "name: trans-hexaprenyltranstransferase activity\n",
    "namespace: molecular_function\n",
    "alt_id: GO:0036422\n",
    "def: \"Catalysis of the reaction: (2E,6E)-farnesyl diphosphate + 4 isopentenyl diphosphate = 4 diphosphate + all-trans-heptaprenyl diphosphate.\" [PMID:9708911, RHEA:27794]\n",
    "synonym: \"all-trans-heptaprenyl-diphosphate synthase activity\" RELATED [EC:2.5.1.30]\n",
    "synonym: \"HepPP synthase activity\" RELATED [EC:2.5.1.30]\n",
    "synonym: \"heptaprenyl diphosphate synthase activity\" RELATED []\n",
    "synonym: \"heptaprenyl pyrophosphate synthase activity\" RELATED [EC:2.5.1.30]\n",
    "synonym: \"heptaprenyl pyrophosphate synthetase activity\" RELATED [EC:2.5.1.30]\n",
    "xref: EC:2.5.1.30\n",
    "xref: MetaCyc:TRANS-HEXAPRENYLTRANSTRANSFERASE-RXN\n",
    "xref: RHEA:27794\n",
    "```\n",
    "\n",
    "There are two references for this:\n",
    "\n",
    "  - the publication [PMID:9708911](https://pubmed.ncbi.nlm.nih.gov/9708911/)\n",
    "  - the RHEA reaction [RHEA:27794](https://www.rhea-db.org/reaction?id=27794)"
   ],
   "metadata": {
    "collapsed": false
   },
   "id": "7e8d97bc6e6c20b0"
  },
  {
   "cell_type": "code",
   "execution_count": 5,
   "outputs": [],
   "source": [
    "!runoak --stacktrace -i llm:{claude-3-opus}:simpleobo:input/validate-defs-test.obo validate-definitions -C input/validate-definition-conf.yaml GO:0000010 -O yaml -o output/validate-definitions.llm.yaml"
   ],
   "metadata": {
    "collapsed": false,
    "ExecuteTime": {
     "end_time": "2024-04-15T01:00:28.475900Z",
     "start_time": "2024-04-15T01:00:13.437742Z"
    }
   },
   "id": "4e29eb9d8ff5df4c"
  },
  {
   "cell_type": "code",
   "execution_count": 7,
   "outputs": [],
   "source": [
    "import yaml\n",
    "report = yaml.safe_load(open(\"output/validate-definitions.llm.yaml\"))"
   ],
   "metadata": {
    "collapsed": false,
    "ExecuteTime": {
     "end_time": "2024-04-15T01:01:41.771699Z",
     "start_time": "2024-04-15T01:01:41.744373Z"
    }
   },
   "id": "69f6da5532285cf9"
  },
  {
   "cell_type": "code",
   "execution_count": 21,
   "outputs": [
    {
     "name": "stdout",
     "output_type": "stream",
     "text": [
      "type: https://w3id.org/oak/ontology-metadata/DCC.S20\n",
      "subject: GO:0000010\n",
      "severity: ERROR\n",
      "predicate: IAO:0000115\n",
      "object_str: \n",
      "  id: PMID:9708911\n",
      "  title: Biological significance of the side chain length of ubiquinone in Saccharomyces\n",
      "    cerevisiae.\n",
      "  abstract: Ubiquinone (UQ), an important component of the electron transfer system,\n",
      "    is constituted of a quinone structure and a side chain isoprenoid. The side chain\n",
      "    length of UQ differs between microorganisms, and this difference has been used for\n",
      "    taxonomic study. In this study, we have addressed the importance of the length of\n",
      "    the side chain of UQ for cells, and examined the effect of chain length by producing\n",
      "    UQs with isoprenoid chain lengths between 5 and 10 in Saccharomyces cerevisiae.\n",
      "    To make the different UQ species, different types of prenyl diphosphate synthases\n",
      "    were expressed in a S. cerevisiae COQ1 mutant defective for hexaprenyl diphosphate\n",
      "    synthesis. As a result, we found that the original species of UQ (in this case UQ-6)\n",
      "    had maximum functionality. However, we found that other species of UQ could replace\n",
      "    UQ-6. Thus a broad spectrum of different UQ species are biologically functional\n",
      "    in yeast cells, although cells seem to display a preference for their own particular\n",
      "    type of UQ.\n",
      "  publication_type: Research Support, Non-U.S. Gov't\n",
      "  \n",
      "\n",
      "info: \n",
      "  The definition for the term \"trans-hexaprenyltranstransferase activity\" has a LOW level of alignment with the cited reference PMID:9708911.\n",
      "  \n",
      "  The abstract does not specifically mention the term \"trans-hexaprenyltranstransferase activity\". It discusses the biological significance of the side chain length of ubiquinone in Saccharomyces cerevisiae, and how different prenyl diphosphate synthases were expressed in a COQ1 mutant defective for hexaprenyl diphosphate synthesis to produce UQs with different isoprenoid chain lengths.\n",
      "  \n",
      "  While the study involves manipulating the synthesis of hexaprenyl diphosphate, which is likely catalyzed by trans-hexaprenyltranstransferase, the enzyme itself is not explicitly mentioned or studied in the abstract.\n",
      "  \n",
      "  The definition seems too specific for the cited reference, as the abstract does not directly investigate or discuss the activity of trans-hexaprenyltranstransferase.\n",
      "\n",
      "definition: \n",
      "  Catalysis of the reaction: (2E,6E)-farnesyl diphosphate + 4 isopentenyl diphosphate = 4 diphosphate + all-trans-heptaprenyl diphosphate.\n",
      "\n",
      "definition_source: PMID:9708911\n"
     ]
    }
   ],
   "source": [
    "for k, v in report.items():\n",
    "    if len(str(v)) > 50:\n",
    "        lines = v.split(\"\\n\")\n",
    "        lines = [f\"  {line}\" for line in lines]\n",
    "        lines = [\"\"] + lines + [\"\"]\n",
    "        v = \"\\n\".join(lines)\n",
    "    print(f\"{k}: {v}\")\n",
    "\n",
    "        "
   ],
   "metadata": {
    "collapsed": false,
    "ExecuteTime": {
     "end_time": "2024-04-15T01:09:34.475682Z",
     "start_time": "2024-04-15T01:09:34.465369Z"
    }
   },
   "id": "b35f8ffab12b1b6b"
  },
  {
   "cell_type": "markdown",
   "source": [
    "While in this case, the LLM is failing to see that the paper is indeed about trans-hexaprenyltranstransferase activity, the output is useful as it shows us that the abstract is not directly about this activity."
   ],
   "metadata": {
    "collapsed": false
   },
   "id": "233f8a645b3517f2"
  }
 ],
 "metadata": {
  "kernelspec": {
   "display_name": "Python 3 (ipykernel)",
   "language": "python",
   "name": "python3"
  },
  "language_info": {
   "codemirror_mode": {
    "name": "ipython",
    "version": 3
   },
   "file_extension": ".py",
   "mimetype": "text/x-python",
   "name": "python",
   "nbconvert_exporter": "python",
   "pygments_lexer": "ipython3",
   "version": "3.9.5"
  }
 },
 "nbformat": 4,
 "nbformat_minor": 5
}
