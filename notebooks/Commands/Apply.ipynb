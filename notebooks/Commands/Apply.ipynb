{
 "cells": [
  {
   "cell_type": "markdown",
   "id": "0f6c4513",
   "metadata": {},
   "source": [
    "# OAK apply command: Examples\n",
    "\n",
    "Show inline help:"
   ]
  },
  {
   "cell_type": "code",
   "execution_count": 1,
   "id": "65db4b53",
   "metadata": {},
   "outputs": [
    {
     "name": "stdout",
     "output_type": "stream",
     "text": [
      "Usage: runoak apply [OPTIONS] [COMMANDS]...\r\n",
      "\r\n",
      "  Applies a patch to an ontology. The patch should be specified using KGCL\r\n",
      "  syntax, see https://github.com/INCATools/kgcl\r\n",
      "\r\n",
      "  Example:\r\n",
      "\r\n",
      "      runoak -i cl.owl.ttl apply \"rename CL:0000561 to 'amacrine neuron'\"  -o\r\n",
      "      cl.owl.ttl -O ttl\r\n",
      "\r\n",
      "  On an obo format file:\r\n",
      "\r\n",
      "      runoak -i simpleobo:go-edit.obo apply \"rename GO:0005634 from 'nucleus'\r\n",
      "      to 'foo'\" -o go-edit-new.obo\r\n",
      "\r\n",
      "  With URIs:\r\n",
      "\r\n",
      "      runoak -i cl.owl.ttl apply           \"rename\r\n",
      "      <http://purl.obolibrary.org/obo/CL_0000561> from 'amacrine cell' to\r\n",
      "      'amacrine neuron'\"            -o cl.owl.ttl -O ttl\r\n",
      "\r\n",
      "  WARNING:\r\n",
      "\r\n",
      "  This command is still experimental. Some things to bear in mind:\r\n",
      "\r\n",
      "  - for some ontologies, CURIEs may not work, instead specify a full URI\r\n",
      "  surrounded by <>s - only a subset of KGCL commands are supported by each\r\n",
      "  backend\r\n",
      "\r\n",
      "Options:\r\n",
      "  -o, --output TEXT\r\n",
      "  --changes-output TEXT         output file for KGCL changes\r\n",
      "  --changes-input FILENAME      Path to an input changes file\r\n",
      "  --changes-format TEXT         Format of the changes file (json or kgcl)\r\n",
      "  --dry-run / --no-dry-run      if true, only perform the parse of KCGL and do\r\n",
      "                                not apply  [default: no-dry-run]\r\n",
      "  --expand / --no-expand        if true, expand complex changes to atomic\r\n",
      "                                changes  [default: expand]\r\n",
      "  -O, --output-type TEXT        Desired output type\r\n",
      "  --overwrite / --no-overwrite  If set, any changes applied will be saved back\r\n",
      "                                to the input file/source\r\n",
      "  --help                        Show this message and exit.\r\n"
     ]
    }
   ],
   "source": [
    "!runoak apply --help"
   ]
  },
  {
   "cell_type": "markdown",
   "id": "c8878ac5",
   "metadata": {},
   "source": [
    "## Download example file\n",
    "\n",
    "A typical use case for the `apply` command is for applying changes to the source, aka *edit* version of an ontology.\n",
    "For our purposes here we will make a copy of the go editorial file."
   ]
  },
  {
   "cell_type": "code",
   "execution_count": 7,
   "id": "12a41f0d",
   "metadata": {},
   "outputs": [],
   "source": [
    "!curl -L -s https://github.com/geneontology/go-ontology/raw/master/src/ontology/go-edit.obo > input/go-edit.obo"
   ]
  },
  {
   "cell_type": "markdown",
   "id": "c9047f55",
   "metadata": {},
   "source": [
    "## Create a new exact synonym\n",
    "\n",
    "Next we will create a new change of type [NewSynonym](https://w3id.org/kgcl/NewSynonym), using KGCL syntax\n",
    "on the command line.\n",
    "\n",
    "We will first run in `--dry-run` mode:"
   ]
  },
  {
   "cell_type": "code",
   "execution_count": 3,
   "id": "d9395e32",
   "metadata": {},
   "outputs": [
    {
     "name": "stdout",
     "output_type": "stream",
     "text": [
      "WARNING:root:--autosave not passed, changes are NOT saved\r\n",
      "create exact synonym 'compartment' for GO:0043226"
     ]
    }
   ],
   "source": [
    "!runoak -i simpleobo:input/go-edit.obo apply \"create exact synonym 'compartment' for GO:0043226\" --dry-run"
   ]
  },
  {
   "cell_type": "markdown",
   "id": "b1d291f2",
   "metadata": {},
   "source": [
    "next we will try the real deal, and save the output file:"
   ]
  },
  {
   "cell_type": "code",
   "execution_count": 4,
   "id": "5f59a5fc",
   "metadata": {},
   "outputs": [],
   "source": [
    "!runoak --stacktrace -i simpleobo:input/go-edit.obo apply \"create exact synonym 'compartment' for GO:0043226\" -o output/go-edit-modified.obo"
   ]
  },
  {
   "cell_type": "markdown",
   "id": "cb67adfb",
   "metadata": {},
   "source": [
    "Let's try a plain unix diff (one advantage of OBO format is its easy diffability):"
   ]
  },
  {
   "cell_type": "code",
   "execution_count": 5,
   "id": "2ab326a2",
   "metadata": {},
   "outputs": [
    {
     "name": "stdout",
     "output_type": "stream",
     "text": [
      "--- input/go-edit.obo\t2023-01-20 12:36:57.000000000 -0800\r\n",
      "+++ output/go-edit-modified.obo\t2023-01-20 12:37:07.000000000 -0800\r\n",
      "@@ -241846,6 +241846,7 @@\r\n",
      " xref: NIF_Subcellular:sao1539965131\r\n",
      " xref: Wikipedia:Organelle\r\n",
      " is_a: GO:0110165 ! cellular anatomical entity\r\n",
      "+synonym: \"compartment\" EXACT []\r\n",
      " \r\n",
      " [Term]\r\n",
      " id: GO:0043227\r\n"
     ]
    }
   ],
   "source": [
    "!diff -u input/go-edit.obo output/go-edit-modified.obo"
   ]
  },
  {
   "cell_type": "markdown",
   "id": "a046d1d2",
   "metadata": {},
   "source": [
    "We can also check the command did the right thing by applying the `diff` command.\n",
    "\n",
    "This is the reciprocal of the `apply` command, and it will generate a set of change objects in KGCL (which can then be applied....)"
   ]
  },
  {
   "cell_type": "code",
   "execution_count": 24,
   "id": "0c590329",
   "metadata": {},
   "outputs": [
    {
     "name": "stdout",
     "output_type": "stream",
     "text": [
      "[\n",
      "{\n",
      "  \"id\": \"uuid:52ddc6a5-abac-40fa-9d33-cdd5eadf477d\",\n",
      "  \"new_value\": \"compartment\",\n",
      "  \"about_node\": \"GO:0043226\",\n",
      "  \"@type\": \"NewSynonym\"\n",
      "}\n",
      "]\n"
     ]
    }
   ],
   "source": [
    "!runoak -i simpleobo:input/go-edit.obo diff -X simpleobo:output/go-edit-modified.obo -O json"
   ]
  },
  {
   "cell_type": "markdown",
   "id": "ced77e71",
   "metadata": {},
   "source": [
    "## Expanding complex changes into atomic changes\n",
    "\n",
    "Some changes represent composites of multiple smaller changes; other changes might *entail* other changes.\n",
    "Some of these may be variable depending on particular ontology *workflows*.\n",
    "\n",
    "For example, in many OBO workflows, the act of performing a [NodeObsoletion](https://w3id.org/kgcl/NodeObsoletion) might also involve:\n",
    "\n",
    "- *renaming* the node, preceding the label with \"`obsolete `\"\n",
    "- *rewiring* the surrounding nodes, such that the obsolete node is bypassed\n",
    "- *deleting edges* such that there are no logical axioms that reference the obsoleted node"
   ]
  },
  {
   "cell_type": "markdown",
   "id": "2b44e8a2",
   "metadata": {},
   "source": [
    "first let's try a dry run simulating what it would be like to obsolete *organelle* (GO:0043226).\n",
    "\n",
    "First let's explore the neighborhood - we will use the `viz` command to view a random child of organelle, *non-membrane-bounded organelle* (GO:0043228)"
   ]
  },
  {
   "cell_type": "code",
   "execution_count": 23,
   "id": "5a350f97",
   "metadata": {},
   "outputs": [],
   "source": [
    "!runoak -i simpleobo:input/go-edit.obo viz -p i,p GO:0043228 GO:0043226 -o output/nmbo.png"
   ]
  },
  {
   "cell_type": "markdown",
   "id": "1396282d",
   "metadata": {},
   "source": [
    "![img](output/nmbo.png)"
   ]
  },
  {
   "cell_type": "markdown",
   "id": "a666d1f0",
   "metadata": {},
   "source": [
    "now let's try obsoleting it, but in `--dry-run` mode, with `--expand`. (Note `--expand` is the default,\n",
    "but it helps to make this explicit)\n",
    "\n",
    "This will trigger the outputting of all expanded changes as KGCL syntax:"
   ]
  },
  {
   "cell_type": "code",
   "execution_count": 17,
   "id": "33798efa",
   "metadata": {},
   "outputs": [
    {
     "name": "stdout",
     "output_type": "stream",
     "text": [
      "obsolete GO:0043226\r\n",
      "rename GO:0043226 from 'organelle' to 'obsolete organelle'\r\n",
      "create edge GO:0005929 rdfs:subClassOf GO:0110165\r\n",
      "create edge GO:0043228 rdfs:subClassOf GO:0110165\r\n",
      "create edge GO:0043227 rdfs:subClassOf GO:0110165\r\n",
      "create edge GO:0043230 rdfs:subClassOf GO:0110165\r\n",
      "create edge GO:0099572 rdfs:subClassOf GO:0110165\r\n",
      "delete edge GO:0005929 rdfs:subClassOf GO:0043226\r\n",
      "delete edge GO:0043228 rdfs:subClassOf GO:0043226\r\n",
      "delete edge GO:0020004 BFO:0000050 GO:0043226\r\n",
      "delete edge GO:0031676 BFO:0000050 GO:0043226\r\n",
      "delete edge GO:0043227 rdfs:subClassOf GO:0043226\r\n",
      "delete edge GO:0032420 BFO:0000050 GO:0043226\r\n",
      "delete edge GO:0043230 rdfs:subClassOf GO:0043226\r\n",
      "delete edge GO:0044232 BFO:0000050 GO:0043226\r\n",
      "delete edge GO:0060091 BFO:0000050 GO:0043226\r\n",
      "delete edge GO:0060171 BFO:0000050 GO:0043226\r\n",
      "delete edge GO:0097591 BFO:0000050 GO:0043226\r\n",
      "delete edge GO:0097592 BFO:0000050 GO:0043226\r\n",
      "delete edge GO:0097593 BFO:0000050 GO:0043226\r\n",
      "delete edge GO:0097594 BFO:0000050 GO:0043226\r\n",
      "delete edge GO:0097595 BFO:0000050 GO:0043226\r\n",
      "delete edge GO:0097596 BFO:0000050 GO:0043226\r\n",
      "delete edge GO:0099572 rdfs:subClassOf GO:0043226\r\n",
      "delete edge GO:0043226 rdfs:subClassOf GO:0110165WARNING:root:--autosave not passed, changes are NOT saved\r\n"
     ]
    }
   ],
   "source": [
    "!runoak -i simpleobo:input/go-edit.obo apply --expand \"obsolete GO:0043226\" --dry-run"
   ]
  },
  {
   "cell_type": "markdown",
   "id": "1e034bee",
   "metadata": {},
   "source": [
    "in future it will be possible to visualize KGCL directly. For now, let's just visualize the output file after running in non-dry-run mode:"
   ]
  },
  {
   "cell_type": "code",
   "execution_count": 19,
   "id": "2d26947f",
   "metadata": {},
   "outputs": [],
   "source": [
    "!runoak -i simpleobo:input/go-edit.obo apply --expand \"obsolete GO:0043226\" -o output/obsoleted-organelle.obo"
   ]
  },
  {
   "cell_type": "code",
   "execution_count": 22,
   "id": "e8a1c9f2",
   "metadata": {},
   "outputs": [],
   "source": [
    "!runoak --stacktrace -i simpleobo:output/obsoleted-organelle.obo viz -p i,p GO:0043228 GO:0043226 -o output/nmbo2.png"
   ]
  },
  {
   "cell_type": "markdown",
   "id": "fdf29d11",
   "metadata": {},
   "source": [
    "![img](output/nmbo2.png)"
   ]
  },
  {
   "cell_type": "code",
   "execution_count": null,
   "id": "c93e3a84",
   "metadata": {},
   "outputs": [],
   "source": []
  }
 ],
 "metadata": {
  "kernelspec": {
   "display_name": "Python 3 (ipykernel)",
   "language": "python",
   "name": "python3"
  },
  "language_info": {
   "codemirror_mode": {
    "name": "ipython",
    "version": 3
   },
   "file_extension": ".py",
   "mimetype": "text/x-python",
   "name": "python",
   "nbconvert_exporter": "python",
   "pygments_lexer": "ipython3",
   "version": "3.9.5"
  }
 },
 "nbformat": 4,
 "nbformat_minor": 5
}
