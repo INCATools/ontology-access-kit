{
 "cells": [
  {
   "cell_type": "code",
   "execution_count": 1,
   "id": "a94c8c49",
   "metadata": {},
   "outputs": [],
   "source": [
    "%reset -f"
   ]
  },
  {
   "cell_type": "code",
   "execution_count": 2,
   "id": "5a5b48dc",
   "metadata": {},
   "outputs": [],
   "source": [
    "from sssom.io import parse_sssom_table\n",
    "import pandas as pd\n",
    "\n",
    "fn = \"demo.tsv\""
   ]
  },
  {
   "cell_type": "markdown",
   "id": "d18b6c40",
   "metadata": {},
   "source": [
    "### Annotate"
   ]
  },
  {
   "cell_type": "code",
   "execution_count": 3,
   "id": "54b54271",
   "metadata": {},
   "outputs": [
    {
     "name": "stdout",
     "output_type": "stream",
     "text": [
      "object_id: MONDO:0007947\n",
      "object_label: Marfan syndrome\n",
      "matches_whole_text: true\n",
      "subject_start: 1\n",
      "subject_end: 15\n",
      "subject_label: Marfan syndrome\n",
      "\n",
      "---\n",
      "object_id: MONDO:0007947\n",
      "object_label: Marfan syndrome\n",
      "matches_whole_text: true\n",
      "subject_start: 1\n",
      "subject_end: 15\n",
      "subject_label: Marfan syndrome\n"
     ]
    }
   ],
   "source": [
    "!runoak -i sqlite:obo:mondo annotate \"Marfan syndrome\" --matches-whole-text"
   ]
  },
  {
   "cell_type": "markdown",
   "id": "12c9f256",
   "metadata": {},
   "source": [
    "### Lexmatch"
   ]
  },
  {
   "cell_type": "code",
   "execution_count": null,
   "id": "a20745c7",
   "metadata": {},
   "outputs": [],
   "source": [
    "%%time\n",
    "!runoak -i sqlite:obo:mondo lexmatch i^MONDO: i^DOID: -o {fn}\n",
    "# !head demo.tsv\n",
    "msdf = parse_sssom_table(fn)\n",
    "msdf.df.head()"
   ]
  },
  {
   "cell_type": "markdown",
   "id": "5094bb2e",
   "metadata": {},
   "source": [
    "### Relationships"
   ]
  },
  {
   "cell_type": "code",
   "execution_count": null,
   "id": "41843620",
   "metadata": {},
   "outputs": [],
   "source": [
    "!runoak -i sqlite:obo:mondo relationships  \"Marfan syndrome\" -o {fn}\n",
    "# !head demo.tsv\n",
    "df = pd.read_csv(fn, sep=\"\\t\")\n",
    "df.head()"
   ]
  },
  {
   "cell_type": "code",
   "execution_count": null,
   "id": "efb64c3f",
   "metadata": {},
   "outputs": [],
   "source": [
    "# RO:0004003 => \"has material basis in germline mutation in\"\n",
    "!runoak -i sqlite:obo:mondo relationships  --predicates RO:0004003 -o {fn}\n",
    "# !head demo.tsv\n",
    "df = pd.read_csv(fn, sep=\"\\t\")\n",
    "df.head()"
   ]
  },
  {
   "cell_type": "code",
   "execution_count": null,
   "id": "50487212",
   "metadata": {},
   "outputs": [],
   "source": []
  }
 ],
 "metadata": {
  "kernelspec": {
   "display_name": "Python 3 (ipykernel)",
   "language": "python",
   "name": "python3"
  },
  "language_info": {
   "codemirror_mode": {
    "name": "ipython",
    "version": 3
   },
   "file_extension": ".py",
   "mimetype": "text/x-python",
   "name": "python",
   "nbconvert_exporter": "python",
   "pygments_lexer": "ipython3",
   "version": "3.10.4"
  }
 },
 "nbformat": 4,
 "nbformat_minor": 5
}
