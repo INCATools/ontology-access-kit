{
 "cells": [
  {
   "cell_type": "code",
   "execution_count": 1,
   "id": "a94c8c49",
   "metadata": {},
   "outputs": [],
   "source": [
    "%reset -f"
   ]
  },
  {
   "cell_type": "code",
   "execution_count": 2,
   "id": "5a5b48dc",
   "metadata": {},
   "outputs": [],
   "source": [
    "from sssom.io import parse_sssom_table\n",
    "import pandas as pd"
   ]
  },
  {
   "cell_type": "markdown",
   "id": "d18b6c40",
   "metadata": {},
   "source": [
    "### Annotate"
   ]
  },
  {
   "cell_type": "code",
   "execution_count": 3,
   "id": "54b54271",
   "metadata": {},
   "outputs": [
    {
     "name": "stdout",
     "output_type": "stream",
     "text": [
      "object_id: MONDO:0007947\n",
      "object_label: Marfan syndrome\n",
      "matches_whole_text: true\n",
      "subject_start: 1\n",
      "subject_end: 15\n",
      "subject_label: Marfan syndrome\n",
      "\n",
      "---\n",
      "object_id: MONDO:0007947\n",
      "object_label: Marfan syndrome\n",
      "matches_whole_text: true\n",
      "subject_start: 1\n",
      "subject_end: 15\n",
      "subject_label: Marfan syndrome\n"
     ]
    }
   ],
   "source": [
    "!runoak -i sqlite:obo:mondo annotate \"Marfan syndrome\" --matches-whole-text"
   ]
  },
  {
   "cell_type": "markdown",
   "id": "12c9f256",
   "metadata": {},
   "source": [
    "### Lexmatch"
   ]
  },
  {
   "cell_type": "code",
   "execution_count": 4,
   "id": "a20745c7",
   "metadata": {},
   "outputs": [
    {
     "name": "stdout",
     "output_type": "stream",
     "text": [
      "# curie_map:\n",
      "#   MONDO: http://purl.obolibrary.org/obo/MONDO_\n",
      "#   oio: http://www.geneontology.org/formats/oboInOwl#\n",
      "#   owl: http://www.w3.org/2002/07/owl#\n",
      "#   rdf: http://www.w3.org/1999/02/22-rdf-syntax-ns#\n",
      "#   rdfs: http://www.w3.org/2000/01/rdf-schema#\n",
      "#   semapv: https://w3id.org/semapv/\n",
      "#   skos: http://www.w3.org/2004/02/skos/core#\n",
      "#   sssom: https://w3id.org/sssom/\n",
      "# license: https://w3id.org/sssom/license/unspecified\n",
      "# mapping_set_id: https://w3id.org/sssom/mappings/1b96dcf2-1b34-48b2-ae8e-85112ae8b556\n",
      "subject_id\tsubject_label\tpredicate_id\tobject_id\tobject_label\tmapping_justification\tmapping_tool\tconfidence\tsubject_match_field\tobject_match_field\tmatch_string\n",
      "MONDO:0000001\tdisease or disorder\tskos:closeMatch\tMONDO:0043543\tiatrogenic disease\tsemapv:LexicalMatching\toaklib\t0.5\toio:hasDbXref\toio:hasDbXref\ticd9:799.9\n",
      "MONDO:0000004\tadrenocortical insufficiency\tskos:closeMatch\tMONDO:0007071\tadrenocortical hypofunction, chronic primary congenital\tsemapv:LexicalMatching\toaklib\t0.5\toio:hasDbXref\toio:hasDbXref\ticd9:255.41\n",
      "MONDO:0000004\tadrenocortical insufficiency\tskos:closeMatch\tMONDO:0008720\tcongenital isolated adrenocorticotropic hormone deficiency\tsemapv:LexicalMatching\toaklib\t0.5\toio:hasDbXref\toio:hasDbXref\ticd9:255.41\n",
      "MONDO:0000004\tadrenocortical insufficiency\tskos:closeMatch\tMONDO:0009279\ttriple-A syndrome\tsemapv:LexicalMatching\toaklib\t0.5\toio:hasDbXref\toio:hasDbXref\ticd9:255.41\n",
      "MONDO:0000004\tadrenocortical insufficiency\tskos:closeMatch\tMONDO:0009919\tperoxisomal acyl-CoA oxidase deficiency\tsemapv:LexicalMatching\toaklib\t0.5\toio:hasDbXref\toio:hasDbXref\ticd9:255.41\n",
      "MONDO:0000004\tadrenocortical insufficiency\tskos:closeMatch\tMONDO:0013065\tpremature ovarian failure 7\tsemapv:LexicalMatching\toaklib\t0.5\toio:hasExactSynonym\toio:hasBroadSynonym\tadrenocortical insufficiency\n",
      "MONDO:0000004\tadrenocortical insufficiency\tskos:closeMatch\tMONDO:0013065\tpremature ovarian failure 7\tsemapv:LexicalMatching\toaklib\t0.5\trdfs:label\toio:hasBroadSynonym\tadrenocortical insufficiency\n",
      "MONDO:0000004\tadrenocortical insufficiency\tskos:closeMatch\tMONDO:0015129\tchronic primary adrenal insufficiency\tsemapv:LexicalMatching\toaklib\t0.5\toio:hasDbXref\toio:hasDbXref\ticd9:255.41\n",
      "CPU times: user 1.32 s, sys: 399 ms, total: 1.71 s\n",
      "Wall time: 2min 5s\n"
     ]
    }
   ],
   "source": [
    "%%time\n",
    "!runoak -i sqlite:obo:mondo lexmatch i^MONDO: i^DOID: -o demo.tsv\n",
    "!head -n 20 demo.tsv"
   ]
  },
  {
   "cell_type": "markdown",
   "id": "5094bb2e",
   "metadata": {},
   "source": [
    "### Relationships"
   ]
  },
  {
   "cell_type": "code",
   "execution_count": 5,
   "id": "41843620",
   "metadata": {},
   "outputs": [
    {
     "name": "stdout",
     "output_type": "stream",
     "text": [
      "subject\tsubject_label\tpredicate\tpredicate_label\tobject\tobject_label\r",
      "\r\n",
      "MONDO:0007947\tMarfan syndrome\tRO:0004003\thas material basis in germline mutation in\t<http://identifiers.org/hgnc/3603>\tFBN1\r",
      "\r\n",
      "MONDO:0007947\tMarfan syndrome\trdfs:subClassOf\tNone\tMONDO:0000426\tautosomal dominant disease\r",
      "\r\n",
      "MONDO:0007947\tMarfan syndrome\trdfs:subClassOf\tNone\tMONDO:0002254\tsyndromic disease\r",
      "\r\n",
      "MONDO:0007947\tMarfan syndrome\trdfs:subClassOf\tNone\tMONDO:0017310\tMarfan and Marfan-related disorder\r",
      "\r\n",
      "MONDO:0007947\tMarfan syndrome\trdfs:subClassOf\tNone\tMONDO:0800091\tovergrowth or tall stature syndrome with skeletal involvement\r",
      "\r\n"
     ]
    }
   ],
   "source": [
    "!runoak -i sqlite:obo:mondo relationships  \"Marfan syndrome\" -o demo.tsv\n",
    "!head -n 20 demo.tsv\n"
   ]
  },
  {
   "cell_type": "code",
   "execution_count": 6,
   "id": "efb64c3f",
   "metadata": {},
   "outputs": [
    {
     "name": "stdout",
     "output_type": "stream",
     "text": [
      "subject\tsubject_label\tpredicate\tpredicate_label\tobject\tobject_label\r",
      "\r\n",
      "MONDO:0000208\tmicrocephaly, short stature, and impaired glucose metabolism 1\tRO:0004003\thas material basis in germline mutation in\t<http://identifiers.org/hgnc/28403>\tTRMT10A\r",
      "\r\n",
      "MONDO:0000510\tsynucleinopathy\tRO:0004003\thas material basis in germline mutation in\t<http://identifiers.org/hgnc/11138>\tSNCA\r",
      "\r\n",
      "MONDO:0000764\tepithelial-stromal TGFBI dystrophy\tRO:0004003\thas material basis in germline mutation in\t<http://identifiers.org/hgnc/11771>\tTGFBI\r",
      "\r\n",
      "MONDO:0000902\tagenesis of the corpus callosum with peripheral neuropathy\tRO:0004003\thas material basis in germline mutation in\t<http://identifiers.org/hgnc/10914>\tSLC12A6\r",
      "\r\n",
      "MONDO:0000908\tarrhythmogenic right ventricular dysplasia 13\tRO:0004003\thas material basis in germline mutation in\t<http://identifiers.org/hgnc/2511>\tCTNNA3\r",
      "\r\n",
      "MONDO:0000913\thereditary spherocytosis type 2\tRO:0004003\thas material basis in germline mutation in\t<http://identifiers.org/hgnc/11274>\tSPTB\r",
      "\r\n",
      "MONDO:0000914\tcerebral arteriopathy, autosomal dominant, with subcortical infarcts and leukoencephalopathy, type 1\tRO:0004003\thas material basis in germline mutation in\t<http://identifiers.org/hgnc/7883>\tNOTCH3\r",
      "\r\n",
      "MONDO:0004573\tariboflavinosis\tRO:0004003\thas material basis in germline mutation in\t<http://identifiers.org/hgnc/30225>\tSLC52A1\r",
      "\r\n",
      "MONDO:0007032\tprune belly syndrome\tRO:0004003\thas material basis in germline mutation in\t<http://identifiers.org/hgnc/1952>\tCHRM3\r",
      "\r\n",
      "MONDO:0007037\tachondroplasia\tRO:0004003\thas material basis in germline mutation in\t<http://identifiers.org/hgnc/3690>\tFGFR3\r",
      "\r\n",
      "MONDO:0007039\tneurofibromatosis type 2\tRO:0004003\thas material basis in germline mutation in\t<http://identifiers.org/hgnc/7773>\tNF2\r",
      "\r\n",
      "MONDO:0007041\tapert syndrome\tRO:0004003\thas material basis in germline mutation in\t<http://identifiers.org/hgnc/3689>\tFGFR2\r",
      "\r\n",
      "MONDO:0007044\tacrodysostosis 1 with or without hormone resistance\tRO:0004003\thas material basis in germline mutation in\t<http://identifiers.org/hgnc/9388>\tPRKAR1A\r",
      "\r\n",
      "MONDO:0007048\tacrokeratosis verruciformis\tRO:0004003\thas material basis in germline mutation in\t<http://identifiers.org/hgnc/812>\tATP2A2\r",
      "\r\n",
      "MONDO:0007049\tacroleukopathy, symmetric\tRO:0004003\thas material basis in germline mutation in\t<http://identifiers.org/hgnc/358>\tAIP\r",
      "\r\n",
      "MONDO:0007055\tacromicric dysplasia\tRO:0004003\thas material basis in germline mutation in\t<http://identifiers.org/hgnc/3603>\tFBN1\r",
      "\r\n",
      "MONDO:0007057\tacroosteolysis dominant type\tRO:0004003\thas material basis in germline mutation in\t<http://identifiers.org/hgnc/7882>\tNOTCH2\r",
      "\r\n",
      "MONDO:0007060\tspermatogenic failure 6\tRO:0004003\thas material basis in germline mutation in\t<http://identifiers.org/hgnc/29935>\tSPATA16\r",
      "\r\n",
      "MONDO:0007064\tsevere combined immunodeficiency, autosomal recessive, T cell-negative, B cell-negative, NK cell-negative, due to adenosine deaminase deficiency\tRO:0004003\thas material basis in germline mutation in\t<http://identifiers.org/hgnc/186>\tADA\r",
      "\r\n"
     ]
    }
   ],
   "source": [
    "# RO:0004003 => \"has material basis in germline mutation in\"\n",
    "!runoak -i sqlite:obo:mondo relationships  --predicates RO:0004003 -o demo.tsv\n",
    "!head -n 20 demo.tsv\n"
   ]
  },
  {
   "cell_type": "code",
   "execution_count": null,
   "id": "50487212",
   "metadata": {},
   "outputs": [],
   "source": []
  }
 ],
 "metadata": {
  "kernelspec": {
   "display_name": "Python 3 (ipykernel)",
   "language": "python",
   "name": "python3"
  },
  "language_info": {
   "codemirror_mode": {
    "name": "ipython",
    "version": 3
   },
   "file_extension": ".py",
   "mimetype": "text/x-python",
   "name": "python",
   "nbconvert_exporter": "python",
   "pygments_lexer": "ipython3",
   "version": "3.10.4"
  }
 },
 "nbformat": 4,
 "nbformat_minor": 5
}
