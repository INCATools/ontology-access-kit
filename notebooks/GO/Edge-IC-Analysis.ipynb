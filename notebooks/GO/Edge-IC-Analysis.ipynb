{
 "cells": [
  {
   "cell_type": "code",
   "execution_count": 1,
   "id": "initial_id",
   "metadata": {
    "collapsed": true,
    "ExecuteTime": {
     "end_time": "2024-06-21T05:04:50.875093Z",
     "start_time": "2024-06-21T05:04:49.008341Z"
    }
   },
   "outputs": [],
   "source": [
    "from oaklib import get_adapter\n",
    "from oaklib.utilities.associations.edge_information_util import associations_to_matrix\n",
    "\n",
    "\n",
    "ont_adapter = get_adapter(\"sqlite:obo:go\")\n"
   ]
  },
  {
   "cell_type": "code",
   "execution_count": 30,
   "outputs": [],
   "source": [
    "taxa = [\"9606\", \"6239\", \"7955\", \"3702\", \"559292\", \"4896\", \"7227\", \"10090\", \"ALL\"]"
   ],
   "metadata": {
    "collapsed": false,
    "ExecuteTime": {
     "end_time": "2024-06-21T05:35:21.601619Z",
     "start_time": "2024-06-21T05:35:21.593149Z"
    }
   },
   "id": "5ff92fe5a9bcbbda"
  },
  {
   "cell_type": "markdown",
   "source": [],
   "metadata": {
    "collapsed": false
   },
   "id": "21a08e783e48019e"
  },
  {
   "cell_type": "code",
   "execution_count": 31,
   "outputs": [],
   "source": [
    "ic_map_by_taxon = {}\n",
    "for tax in taxa:\n",
    "    n = f\"amigo:NCBITaxon:{tax}\" if tax != \"ALL\" else \"amigo:\"\n",
    "    assoc_adapter = get_adapter(n)\n",
    "    ic_map = {term: ic for term, ic in assoc_adapter.information_content_scores(use_associations=True)}\n",
    "    ic_map_by_taxon[tax] = ic_map"
   ],
   "metadata": {
    "collapsed": false,
    "ExecuteTime": {
     "end_time": "2024-06-21T05:35:25.595141Z",
     "start_time": "2024-06-21T05:35:23.166429Z"
    }
   },
   "id": "f0196639fef3e874"
  },
  {
   "cell_type": "code",
   "execution_count": 32,
   "outputs": [
    {
     "data": {
      "text/plain": "9"
     },
     "execution_count": 32,
     "metadata": {},
     "output_type": "execute_result"
    }
   ],
   "source": [
    "len(ic_map_by_taxon)"
   ],
   "metadata": {
    "collapsed": false,
    "ExecuteTime": {
     "end_time": "2024-06-21T05:35:25.603072Z",
     "start_time": "2024-06-21T05:35:25.596564Z"
    }
   },
   "id": "f3d95aa29e00f78"
  },
  {
   "cell_type": "code",
   "execution_count": 33,
   "outputs": [],
   "source": [
    "from typing import Dict\n",
    "\n",
    "\n",
    "def calculate_edge_information(child: str, parent: str, ic_map: Dict[str, float]):\n",
    "    if child not in ic_map or parent not in ic_map:\n",
    "        return None\n",
    "    child_ic = ic_map[child]\n",
    "    parent_ic = ic_map[parent]\n",
    "    return child_ic - parent_ic"
   ],
   "metadata": {
    "collapsed": false,
    "ExecuteTime": {
     "end_time": "2024-06-21T05:35:28.127450Z",
     "start_time": "2024-06-21T05:35:28.118170Z"
    }
   },
   "id": "363d0d6676c2c39b"
  },
  {
   "cell_type": "code",
   "execution_count": 33,
   "outputs": [],
   "source": [],
   "metadata": {
    "collapsed": false,
    "ExecuteTime": {
     "end_time": "2024-06-21T05:35:28.762205Z",
     "start_time": "2024-06-21T05:35:28.754832Z"
    }
   },
   "id": "b303c5da2f0dca38"
  },
  {
   "cell_type": "code",
   "execution_count": 34,
   "outputs": [],
   "source": [
    "c=\"GO:0008527\"\n",
    "p=\"GO:0050912\"\n"
   ],
   "metadata": {
    "collapsed": false,
    "ExecuteTime": {
     "end_time": "2024-06-21T05:35:29.512008Z",
     "start_time": "2024-06-21T05:35:29.482125Z"
    }
   },
   "id": "9a287e3fe19ea32c"
  },
  {
   "cell_type": "code",
   "execution_count": 35,
   "outputs": [
    {
     "name": "stdout",
     "output_type": "stream",
     "text": [
      "9606 0.6844981742720702\n",
      "6239 None\n",
      "7955 0.16992500144231393\n",
      "3702 None\n",
      "559292 None\n",
      "4896 None\n",
      "7227 0.15919859484925425\n",
      "10090 0.405992359675837\n",
      "ALL 0.360008134132741\n"
     ]
    }
   ],
   "source": [
    "for tx, matrix in ic_map_by_taxon.items():\n",
    "    print(tx, calculate_edge_information(c, p, matrix))"
   ],
   "metadata": {
    "collapsed": false,
    "ExecuteTime": {
     "end_time": "2024-06-21T05:35:30.078176Z",
     "start_time": "2024-06-21T05:35:30.070758Z"
    }
   },
   "id": "5bfcb4729b183682"
  },
  {
   "cell_type": "code",
   "execution_count": 36,
   "outputs": [
    {
     "name": "stdout",
     "output_type": "stream",
     "text": [
      "{'child': 'GO:0007563', 'parent': 'GO:2000026', 'predicate': 'rdfs:subClassOf', '9606': None, '6239': None, '7955': None, '3702': None, '559292': None, '4896': None, '7227': 5.357552004618083, '10090': None, 'ALL': 10.822457022324627}\n",
      "{'child': 'GO:0019356', 'parent': 'GO:0019357', 'predicate': 'rdfs:subClassOf', '9606': None, '6239': None, '7955': None, '3702': None, '559292': None, '4896': None, '7227': None, '10090': None, 'ALL': None}\n",
      "{'child': 'GO:0034346', 'parent': 'GO:0034343', 'predicate': 'RO:0002213', '9606': 0.0, '6239': None, '7955': None, '3702': None, '559292': None, '4896': None, '7227': None, '10090': 0.0, 'ALL': 0.0}\n",
      "{'child': 'GO:0045831', 'parent': 'GO:0010461', 'predicate': 'RO:0002212', '9606': None, '6239': None, '7955': None, '3702': None, '559292': None, '4896': None, '7227': None, '10090': None, 'ALL': None}\n",
      "{'child': 'GO:0060295', 'parent': 'GO:0003352', 'predicate': 'rdfs:subClassOf', '9606': 0.4381211123918849, '6239': 0.0, '7955': 0.5405683813627036, '3702': None, '559292': None, '4896': None, '7227': 1.8073549220576037, '10090': 0.40439025507933657, 'ALL': 0.5629361943911579}\n",
      "{'child': 'GO:0090033', 'parent': 'GO:0045927', 'predicate': 'rdfs:subClassOf', '9606': None, '6239': None, '7955': None, '3702': None, '559292': 0.11103131238874298, '4896': None, '7227': None, '10090': None, 'ALL': 1.6593675666537084}\n",
      "{'child': 'GO:1900362', 'parent': 'GO:0051050', 'predicate': 'rdfs:subClassOf', '9606': None, '6239': None, '7955': None, '3702': None, '559292': None, '4896': None, '7227': None, '10090': None, 'ALL': None}\n",
      "{'child': 'GO:1904333', 'parent': 'GO:2000573', 'predicate': 'rdfs:subClassOf', '9606': 6.10852445677817, '6239': 0.32192809488736174, '7955': None, '3702': None, '559292': None, '4896': None, '7227': None, '10090': None, 'ALL': 6.62935662007961}\n"
     ]
    }
   ],
   "source": [
    "rows = []\n",
    "for s, p, o in ont_adapter.relationships():\n",
    "    if not s.startswith(\"GO:\"):\n",
    "        continue\n",
    "    if not o.startswith(\"GO:\"):\n",
    "        continue\n",
    "    row = {\"child\": s, \"parent\": o, \"predicate\": p}\n",
    "    for t, matrix in ic_map_by_taxon.items():\n",
    "        v = calculate_edge_information(s, o, matrix)\n",
    "        row[t] = v\n",
    "    rows.append(row)\n",
    "    if len(rows) % 10000 == 0:\n",
    "        print(row)\n",
    "        "
   ],
   "metadata": {
    "collapsed": false,
    "ExecuteTime": {
     "end_time": "2024-06-21T05:35:37.782104Z",
     "start_time": "2024-06-21T05:35:31.207240Z"
    }
   },
   "id": "3234ab59d5764c9e"
  },
  {
   "cell_type": "code",
   "execution_count": 37,
   "outputs": [],
   "source": [
    "import pandas as pd\n"
   ],
   "metadata": {
    "collapsed": false,
    "ExecuteTime": {
     "end_time": "2024-06-21T05:35:37.787700Z",
     "start_time": "2024-06-21T05:35:37.782831Z"
    }
   },
   "id": "b196c3c52b341b7f"
  },
  {
   "cell_type": "code",
   "execution_count": 38,
   "outputs": [],
   "source": [
    "def has_val(row: dict):\n",
    "    for k, v in row.items():\n",
    "        if k not in [\"child\", \"parent\", \"predicate\"]:\n",
    "            if v is not None:\n",
    "                return True\n",
    "    return False"
   ],
   "metadata": {
    "collapsed": false,
    "ExecuteTime": {
     "end_time": "2024-06-21T05:35:37.793363Z",
     "start_time": "2024-06-21T05:35:37.787311Z"
    }
   },
   "id": "20222d40e7efd529"
  },
  {
   "cell_type": "code",
   "execution_count": 39,
   "outputs": [],
   "source": [
    "filtered_rows = [r for r in rows if has_val(r)]"
   ],
   "metadata": {
    "collapsed": false,
    "ExecuteTime": {
     "end_time": "2024-06-21T05:35:37.883685Z",
     "start_time": "2024-06-21T05:35:37.804664Z"
    }
   },
   "id": "3587837f8196bfe4"
  },
  {
   "cell_type": "code",
   "execution_count": 40,
   "outputs": [],
   "source": [
    "for row in filtered_rows:\n",
    "    row[\"child_label\"] = ont_adapter.label(row[\"child\"])\n",
    "    row[\"parent_label\"] = ont_adapter.label(row[\"parent\"])"
   ],
   "metadata": {
    "collapsed": false,
    "ExecuteTime": {
     "end_time": "2024-06-21T05:36:00.243164Z",
     "start_time": "2024-06-21T05:35:37.880294Z"
    }
   },
   "id": "d8210aebbcf8347a"
  },
  {
   "cell_type": "code",
   "execution_count": 54,
   "outputs": [
    {
     "data": {
      "text/plain": "            child      parent          predicate      9606     6239      7955  \\\n0      GO:0000001  GO:0005739  obo:GOREL_0002003       NaN      NaN       NaN   \n1      GO:0000001  GO:0048308    rdfs:subClassOf       NaN      NaN       NaN   \n2      GO:0000001  GO:0048311    rdfs:subClassOf       NaN      NaN       NaN   \n3      GO:0000002  GO:0007005    rdfs:subClassOf  4.056831  4.38247  4.551796   \n4      GO:0000006  GO:0005385    rdfs:subClassOf       NaN      NaN       NaN   \n...           ...         ...                ...       ...      ...       ...   \n65831  GO:2001316  GO:0120254    rdfs:subClassOf       NaN      NaN       NaN   \n65832  GO:2001317  GO:0034309    rdfs:subClassOf       NaN      NaN       NaN   \n65833  GO:2001317  GO:0042181    rdfs:subClassOf       NaN      NaN       NaN   \n65834  GO:2001317  GO:0120255    rdfs:subClassOf       NaN      NaN       NaN   \n65835  GO:2001317  GO:2001316    rdfs:subClassOf       NaN      NaN       NaN   \n\n           3702    559292      4896      7227     10090       ALL  \\\n0           NaN  5.872605  8.577429  7.812177       NaN  9.414945   \n1           NaN  1.373458  0.584963  0.000000       NaN  1.982152   \n2           NaN  0.241008  1.807355  1.459432       NaN  1.942707   \n3      3.658211  2.390915  2.929611  4.650254  3.865499  3.703148   \n4           NaN  3.169925  2.584963       NaN       NaN  7.229558   \n...         ...       ...       ...       ...       ...       ...   \n65831       NaN       NaN       NaN       NaN       NaN  9.466926   \n65832       NaN       NaN       NaN       NaN       NaN  7.176589   \n65833       NaN       NaN       NaN       NaN       NaN  9.716534   \n65834       NaN       NaN       NaN       NaN       NaN  6.481127   \n65835       NaN       NaN       NaN       NaN       NaN  0.000000   \n\n                                             child_label  \\\n0                              mitochondrion inheritance   \n1                              mitochondrion inheritance   \n2                              mitochondrion inheritance   \n3                       mitochondrial genome maintenance   \n4      high-affinity zinc transmembrane transporter a...   \n...                                                  ...   \n65831                       kojic acid metabolic process   \n65832                    kojic acid biosynthetic process   \n65833                    kojic acid biosynthetic process   \n65834                    kojic acid biosynthetic process   \n65835                    kojic acid biosynthetic process   \n\n                                      parent_label  \n0                                    mitochondrion  \n1                            organelle inheritance  \n2                       mitochondrion distribution  \n3                       mitochondrion organization  \n4      zinc ion transmembrane transporter activity  \n...                                            ...  \n65831          olefinic compound metabolic process  \n65832         primary alcohol biosynthetic process  \n65833                  ketone biosynthetic process  \n65834       olefinic compound biosynthetic process  \n65835                 kojic acid metabolic process  \n\n[65836 rows x 14 columns]",
      "text/html": "<div>\n<style scoped>\n    .dataframe tbody tr th:only-of-type {\n        vertical-align: middle;\n    }\n\n    .dataframe tbody tr th {\n        vertical-align: top;\n    }\n\n    .dataframe thead th {\n        text-align: right;\n    }\n</style>\n<table border=\"1\" class=\"dataframe\">\n  <thead>\n    <tr style=\"text-align: right;\">\n      <th></th>\n      <th>child</th>\n      <th>parent</th>\n      <th>predicate</th>\n      <th>9606</th>\n      <th>6239</th>\n      <th>7955</th>\n      <th>3702</th>\n      <th>559292</th>\n      <th>4896</th>\n      <th>7227</th>\n      <th>10090</th>\n      <th>ALL</th>\n      <th>child_label</th>\n      <th>parent_label</th>\n    </tr>\n  </thead>\n  <tbody>\n    <tr>\n      <th>0</th>\n      <td>GO:0000001</td>\n      <td>GO:0005739</td>\n      <td>obo:GOREL_0002003</td>\n      <td>NaN</td>\n      <td>NaN</td>\n      <td>NaN</td>\n      <td>NaN</td>\n      <td>5.872605</td>\n      <td>8.577429</td>\n      <td>7.812177</td>\n      <td>NaN</td>\n      <td>9.414945</td>\n      <td>mitochondrion inheritance</td>\n      <td>mitochondrion</td>\n    </tr>\n    <tr>\n      <th>1</th>\n      <td>GO:0000001</td>\n      <td>GO:0048308</td>\n      <td>rdfs:subClassOf</td>\n      <td>NaN</td>\n      <td>NaN</td>\n      <td>NaN</td>\n      <td>NaN</td>\n      <td>1.373458</td>\n      <td>0.584963</td>\n      <td>0.000000</td>\n      <td>NaN</td>\n      <td>1.982152</td>\n      <td>mitochondrion inheritance</td>\n      <td>organelle inheritance</td>\n    </tr>\n    <tr>\n      <th>2</th>\n      <td>GO:0000001</td>\n      <td>GO:0048311</td>\n      <td>rdfs:subClassOf</td>\n      <td>NaN</td>\n      <td>NaN</td>\n      <td>NaN</td>\n      <td>NaN</td>\n      <td>0.241008</td>\n      <td>1.807355</td>\n      <td>1.459432</td>\n      <td>NaN</td>\n      <td>1.942707</td>\n      <td>mitochondrion inheritance</td>\n      <td>mitochondrion distribution</td>\n    </tr>\n    <tr>\n      <th>3</th>\n      <td>GO:0000002</td>\n      <td>GO:0007005</td>\n      <td>rdfs:subClassOf</td>\n      <td>4.056831</td>\n      <td>4.38247</td>\n      <td>4.551796</td>\n      <td>3.658211</td>\n      <td>2.390915</td>\n      <td>2.929611</td>\n      <td>4.650254</td>\n      <td>3.865499</td>\n      <td>3.703148</td>\n      <td>mitochondrial genome maintenance</td>\n      <td>mitochondrion organization</td>\n    </tr>\n    <tr>\n      <th>4</th>\n      <td>GO:0000006</td>\n      <td>GO:0005385</td>\n      <td>rdfs:subClassOf</td>\n      <td>NaN</td>\n      <td>NaN</td>\n      <td>NaN</td>\n      <td>NaN</td>\n      <td>3.169925</td>\n      <td>2.584963</td>\n      <td>NaN</td>\n      <td>NaN</td>\n      <td>7.229558</td>\n      <td>high-affinity zinc transmembrane transporter a...</td>\n      <td>zinc ion transmembrane transporter activity</td>\n    </tr>\n    <tr>\n      <th>...</th>\n      <td>...</td>\n      <td>...</td>\n      <td>...</td>\n      <td>...</td>\n      <td>...</td>\n      <td>...</td>\n      <td>...</td>\n      <td>...</td>\n      <td>...</td>\n      <td>...</td>\n      <td>...</td>\n      <td>...</td>\n      <td>...</td>\n      <td>...</td>\n    </tr>\n    <tr>\n      <th>65831</th>\n      <td>GO:2001316</td>\n      <td>GO:0120254</td>\n      <td>rdfs:subClassOf</td>\n      <td>NaN</td>\n      <td>NaN</td>\n      <td>NaN</td>\n      <td>NaN</td>\n      <td>NaN</td>\n      <td>NaN</td>\n      <td>NaN</td>\n      <td>NaN</td>\n      <td>9.466926</td>\n      <td>kojic acid metabolic process</td>\n      <td>olefinic compound metabolic process</td>\n    </tr>\n    <tr>\n      <th>65832</th>\n      <td>GO:2001317</td>\n      <td>GO:0034309</td>\n      <td>rdfs:subClassOf</td>\n      <td>NaN</td>\n      <td>NaN</td>\n      <td>NaN</td>\n      <td>NaN</td>\n      <td>NaN</td>\n      <td>NaN</td>\n      <td>NaN</td>\n      <td>NaN</td>\n      <td>7.176589</td>\n      <td>kojic acid biosynthetic process</td>\n      <td>primary alcohol biosynthetic process</td>\n    </tr>\n    <tr>\n      <th>65833</th>\n      <td>GO:2001317</td>\n      <td>GO:0042181</td>\n      <td>rdfs:subClassOf</td>\n      <td>NaN</td>\n      <td>NaN</td>\n      <td>NaN</td>\n      <td>NaN</td>\n      <td>NaN</td>\n      <td>NaN</td>\n      <td>NaN</td>\n      <td>NaN</td>\n      <td>9.716534</td>\n      <td>kojic acid biosynthetic process</td>\n      <td>ketone biosynthetic process</td>\n    </tr>\n    <tr>\n      <th>65834</th>\n      <td>GO:2001317</td>\n      <td>GO:0120255</td>\n      <td>rdfs:subClassOf</td>\n      <td>NaN</td>\n      <td>NaN</td>\n      <td>NaN</td>\n      <td>NaN</td>\n      <td>NaN</td>\n      <td>NaN</td>\n      <td>NaN</td>\n      <td>NaN</td>\n      <td>6.481127</td>\n      <td>kojic acid biosynthetic process</td>\n      <td>olefinic compound biosynthetic process</td>\n    </tr>\n    <tr>\n      <th>65835</th>\n      <td>GO:2001317</td>\n      <td>GO:2001316</td>\n      <td>rdfs:subClassOf</td>\n      <td>NaN</td>\n      <td>NaN</td>\n      <td>NaN</td>\n      <td>NaN</td>\n      <td>NaN</td>\n      <td>NaN</td>\n      <td>NaN</td>\n      <td>NaN</td>\n      <td>0.000000</td>\n      <td>kojic acid biosynthetic process</td>\n      <td>kojic acid metabolic process</td>\n    </tr>\n  </tbody>\n</table>\n<p>65836 rows × 14 columns</p>\n</div>"
     },
     "execution_count": 54,
     "metadata": {},
     "output_type": "execute_result"
    }
   ],
   "source": [
    "df = pd.DataFrame(filtered_rows)\n",
    "df"
   ],
   "metadata": {
    "collapsed": false,
    "ExecuteTime": {
     "end_time": "2024-06-21T05:37:40.790335Z",
     "start_time": "2024-06-21T05:37:40.712016Z"
    }
   },
   "id": "ae6bae32526f09ad"
  },
  {
   "cell_type": "code",
   "execution_count": 55,
   "outputs": [],
   "source": [
    "!mkdir -p results"
   ],
   "metadata": {
    "collapsed": false,
    "ExecuteTime": {
     "end_time": "2024-06-21T05:37:41.881905Z",
     "start_time": "2024-06-21T05:37:41.722310Z"
    }
   },
   "id": "fb27ed2f8067b8e0"
  },
  {
   "cell_type": "code",
   "execution_count": 56,
   "outputs": [],
   "source": [
    "df.to_csv(\"results/edge_information.csv\", index=False)"
   ],
   "metadata": {
    "collapsed": false,
    "ExecuteTime": {
     "end_time": "2024-06-21T05:37:43.073543Z",
     "start_time": "2024-06-21T05:37:42.439067Z"
    }
   },
   "id": "b3443f3e443af550"
  },
  {
   "cell_type": "code",
   "execution_count": 57,
   "outputs": [],
   "source": [
    "taxa_columns = df.columns[3:-2]\n",
    "species_columns = df.columns[3:-3]"
   ],
   "metadata": {
    "collapsed": false,
    "ExecuteTime": {
     "end_time": "2024-06-21T05:37:43.285612Z",
     "start_time": "2024-06-21T05:37:43.277592Z"
    }
   },
   "id": "33fc513d1090313a"
  },
  {
   "cell_type": "code",
   "execution_count": 58,
   "outputs": [
    {
     "name": "stderr",
     "output_type": "stream",
     "text": [
      "/var/folders/nc/m4tx21912kv1b8nk3zzx9plr0000gn/T/ipykernel_39537/3033132071.py:4: FutureWarning: DataFrame.applymap has been deprecated. Use DataFrame.map instead.\n",
      "  df[taxa_columns] = df[taxa_columns].applymap(lambda x: np.nan if x < 0 else x)\n"
     ]
    }
   ],
   "source": [
    "import numpy as np\n",
    "\n",
    "# Replace negative ICdiff values with NaN (treated as None)\n",
    "df[taxa_columns] = df[taxa_columns].applymap(lambda x: np.nan if x < 0 else x)\n",
    "\n"
   ],
   "metadata": {
    "collapsed": false,
    "ExecuteTime": {
     "end_time": "2024-06-21T05:37:44.117886Z",
     "start_time": "2024-06-21T05:37:44.004567Z"
    }
   },
   "id": "676e7d015135b3d0"
  },
  {
   "cell_type": "code",
   "execution_count": 59,
   "outputs": [],
   "source": [
    "# Recalculate the average ICdiff for each edge\n",
    "df['average_ICdiff'] = df[taxa_columns].mean(axis=1, skipna=True)\n",
    "df['average_ICdiff_sp'] = df[species_columns].mean(axis=1, skipna=True)\n"
   ],
   "metadata": {
    "collapsed": false,
    "ExecuteTime": {
     "end_time": "2024-06-21T05:38:08.098887Z",
     "start_time": "2024-06-21T05:38:08.069456Z"
    }
   },
   "id": "4261e3a9d8dc5b5"
  },
  {
   "cell_type": "code",
   "execution_count": 60,
   "outputs": [],
   "source": [
    "# Recalculate the maximum ICdiff for each edge\n",
    "df['max_ICdiff'] = df[taxa_columns].max(axis=1, skipna=True)\n",
    "df['max_ICdiff_sp'] = df[species_columns].max(axis=1, skipna=True)\n",
    "\n",
    "# Identify edges with the lowest average ICdiff\n",
    "lowest_average_ICdiff_edges = df.loc[df['average_ICdiff'] == df['average_ICdiff'].min()]\n",
    "\n",
    "# Identify edges with the lowest maximum ICdiff\n",
    "lowest_max_ICdiff_edges = df.loc[df['max_ICdiff'] == df['max_ICdiff'].min()]\n",
    "\n",
    "# Results\n",
    "low_icdiff_stats = {\n",
    "    'lowest_average_ICdiff_edges': lowest_average_ICdiff_edges,\n",
    "    'lowest_max_ICdiff_edges': lowest_max_ICdiff_edges,\n",
    "    'average_ICdiff_per_edge': df[['child', 'parent', 'predicate', 'average_ICdiff']],\n",
    "    'max_ICdiff_per_edge': df[['child', 'parent', 'predicate', 'max_ICdiff']]\n",
    "}"
   ],
   "metadata": {
    "collapsed": false,
    "ExecuteTime": {
     "end_time": "2024-06-21T05:38:31.414470Z",
     "start_time": "2024-06-21T05:38:31.382296Z"
    }
   },
   "id": "370871dfa091dc83"
  },
  {
   "cell_type": "code",
   "execution_count": 61,
   "outputs": [
    {
     "data": {
      "text/plain": "{'lowest_average_ICdiff_edges':             child      parent        predicate  9606  6239  7955  3702  \\\n 49     GO:0000036  GO:0044620  rdfs:subClassOf   0.0   0.0   0.0   0.0   \n 50     GO:0000036  GO:0140414  rdfs:subClassOf   0.0   0.0   0.0   0.0   \n 88     GO:0000073  GO:1905047      BFO:0000050   NaN   NaN   NaN   NaN   \n 89     GO:0000073  GO:0110100  rdfs:subClassOf   NaN   NaN   NaN   NaN   \n 100    GO:0000080  GO:0051318  rdfs:subClassOf   0.0   NaN   NaN   0.0   \n ...           ...         ...              ...   ...   ...   ...   ...   \n 65782  GO:2001299  GO:2001298  rdfs:subClassOf   0.0   NaN   NaN   NaN   \n 65806  GO:2001307  GO:2001305  rdfs:subClassOf   NaN   NaN   NaN   NaN   \n 65820  GO:2001310  GO:2001308  rdfs:subClassOf   NaN   NaN   NaN   NaN   \n 65828  GO:2001315  GO:2001313  rdfs:subClassOf   NaN   NaN   NaN   NaN   \n 65835  GO:2001317  GO:2001316  rdfs:subClassOf   NaN   NaN   NaN   NaN   \n \n        559292  4896  7227  10090  ALL  \\\n 49        0.0   0.0   0.0    0.0  0.0   \n 50        0.0   0.0   0.0    0.0  0.0   \n 88        0.0   0.0   NaN    NaN  0.0   \n 89        0.0   0.0   NaN    NaN  0.0   \n 100       0.0   NaN   NaN    0.0  0.0   \n ...       ...   ...   ...    ...  ...   \n 65782     NaN   NaN   NaN    0.0  0.0   \n 65806     NaN   NaN   NaN    NaN  0.0   \n 65820     NaN   NaN   NaN    NaN  0.0   \n 65828     NaN   NaN   NaN    NaN  0.0   \n 65835     NaN   NaN   NaN    NaN  0.0   \n \n                                              child_label  \\\n 49                                 acyl carrier activity   \n 50                                 acyl carrier activity   \n 88          initial mitotic spindle pole body separation   \n 89          initial mitotic spindle pole body separation   \n 100                                     mitotic G1 phase   \n ...                                                  ...   \n 65782  N(omega),N(omega)-dimethyl-L-arginine cataboli...   \n 65806  xanthone-containing compound biosynthetic process   \n 65820                     gliotoxin biosynthetic process   \n 65828  UDP-4-deoxy-4-formamido-beta-L-arabinopyranose...   \n 65835                    kojic acid biosynthetic process   \n \n                                             parent_label  average_ICdiff  \\\n 49        ACP phosphopantetheine attachment site binding             0.0   \n 50         phosphopantetheine-dependent carrier activity             0.0   \n 88                mitotic spindle pole body organization             0.0   \n 89                          spindle pole body separation             0.0   \n 100                                             G1 phase             0.0   \n ...                                                  ...             ...   \n 65782  N(omega),N(omega)-dimethyl-L-arginine metaboli...             0.0   \n 65806     xanthone-containing compound metabolic process             0.0   \n 65820                        gliotoxin metabolic process             0.0   \n 65828  UDP-4-deoxy-4-formamido-beta-L-arabinopyranose...             0.0   \n 65835                       kojic acid metabolic process             0.0   \n \n        average_ICdiff_sp  max_ICdiff  max_ICdiff_sp  \n 49                   0.0         0.0            0.0  \n 50                   0.0         0.0            0.0  \n 88                   0.0         0.0            0.0  \n 89                   0.0         0.0            0.0  \n 100                  0.0         0.0            0.0  \n ...                  ...         ...            ...  \n 65782                0.0         0.0            0.0  \n 65806                NaN         0.0            NaN  \n 65820                NaN         0.0            NaN  \n 65828                NaN         0.0            NaN  \n 65835                NaN         0.0            NaN  \n \n [2259 rows x 18 columns],\n 'lowest_max_ICdiff_edges':             child      parent        predicate  9606  6239  7955  3702  \\\n 49     GO:0000036  GO:0044620  rdfs:subClassOf   0.0   0.0   0.0   0.0   \n 50     GO:0000036  GO:0140414  rdfs:subClassOf   0.0   0.0   0.0   0.0   \n 88     GO:0000073  GO:1905047      BFO:0000050   NaN   NaN   NaN   NaN   \n 89     GO:0000073  GO:0110100  rdfs:subClassOf   NaN   NaN   NaN   NaN   \n 100    GO:0000080  GO:0051318  rdfs:subClassOf   0.0   NaN   NaN   0.0   \n ...           ...         ...              ...   ...   ...   ...   ...   \n 65782  GO:2001299  GO:2001298  rdfs:subClassOf   0.0   NaN   NaN   NaN   \n 65806  GO:2001307  GO:2001305  rdfs:subClassOf   NaN   NaN   NaN   NaN   \n 65820  GO:2001310  GO:2001308  rdfs:subClassOf   NaN   NaN   NaN   NaN   \n 65828  GO:2001315  GO:2001313  rdfs:subClassOf   NaN   NaN   NaN   NaN   \n 65835  GO:2001317  GO:2001316  rdfs:subClassOf   NaN   NaN   NaN   NaN   \n \n        559292  4896  7227  10090  ALL  \\\n 49        0.0   0.0   0.0    0.0  0.0   \n 50        0.0   0.0   0.0    0.0  0.0   \n 88        0.0   0.0   NaN    NaN  0.0   \n 89        0.0   0.0   NaN    NaN  0.0   \n 100       0.0   NaN   NaN    0.0  0.0   \n ...       ...   ...   ...    ...  ...   \n 65782     NaN   NaN   NaN    0.0  0.0   \n 65806     NaN   NaN   NaN    NaN  0.0   \n 65820     NaN   NaN   NaN    NaN  0.0   \n 65828     NaN   NaN   NaN    NaN  0.0   \n 65835     NaN   NaN   NaN    NaN  0.0   \n \n                                              child_label  \\\n 49                                 acyl carrier activity   \n 50                                 acyl carrier activity   \n 88          initial mitotic spindle pole body separation   \n 89          initial mitotic spindle pole body separation   \n 100                                     mitotic G1 phase   \n ...                                                  ...   \n 65782  N(omega),N(omega)-dimethyl-L-arginine cataboli...   \n 65806  xanthone-containing compound biosynthetic process   \n 65820                     gliotoxin biosynthetic process   \n 65828  UDP-4-deoxy-4-formamido-beta-L-arabinopyranose...   \n 65835                    kojic acid biosynthetic process   \n \n                                             parent_label  average_ICdiff  \\\n 49        ACP phosphopantetheine attachment site binding             0.0   \n 50         phosphopantetheine-dependent carrier activity             0.0   \n 88                mitotic spindle pole body organization             0.0   \n 89                          spindle pole body separation             0.0   \n 100                                             G1 phase             0.0   \n ...                                                  ...             ...   \n 65782  N(omega),N(omega)-dimethyl-L-arginine metaboli...             0.0   \n 65806     xanthone-containing compound metabolic process             0.0   \n 65820                        gliotoxin metabolic process             0.0   \n 65828  UDP-4-deoxy-4-formamido-beta-L-arabinopyranose...             0.0   \n 65835                       kojic acid metabolic process             0.0   \n \n        average_ICdiff_sp  max_ICdiff  max_ICdiff_sp  \n 49                   0.0         0.0            0.0  \n 50                   0.0         0.0            0.0  \n 88                   0.0         0.0            0.0  \n 89                   0.0         0.0            0.0  \n 100                  0.0         0.0            0.0  \n ...                  ...         ...            ...  \n 65782                0.0         0.0            0.0  \n 65806                NaN         0.0            NaN  \n 65820                NaN         0.0            NaN  \n 65828                NaN         0.0            NaN  \n 65835                NaN         0.0            NaN  \n \n [2259 rows x 18 columns],\n 'average_ICdiff_per_edge':             child      parent          predicate  average_ICdiff\n 0      GO:0000001  GO:0005739  obo:GOREL_0002003        7.919289\n 1      GO:0000001  GO:0048308    rdfs:subClassOf        0.985143\n 2      GO:0000001  GO:0048311    rdfs:subClassOf        1.362625\n 3      GO:0000002  GO:0007005    rdfs:subClassOf        3.798748\n 4      GO:0000006  GO:0005385    rdfs:subClassOf        4.328149\n ...           ...         ...                ...             ...\n 65831  GO:2001316  GO:0120254    rdfs:subClassOf        9.466926\n 65832  GO:2001317  GO:0034309    rdfs:subClassOf        7.176589\n 65833  GO:2001317  GO:0042181    rdfs:subClassOf        9.716534\n 65834  GO:2001317  GO:0120255    rdfs:subClassOf        6.481127\n 65835  GO:2001317  GO:2001316    rdfs:subClassOf        0.000000\n \n [65836 rows x 4 columns],\n 'max_ICdiff_per_edge':             child      parent          predicate  max_ICdiff\n 0      GO:0000001  GO:0005739  obo:GOREL_0002003    9.414945\n 1      GO:0000001  GO:0048308    rdfs:subClassOf    1.982152\n 2      GO:0000001  GO:0048311    rdfs:subClassOf    1.942707\n 3      GO:0000002  GO:0007005    rdfs:subClassOf    4.650254\n 4      GO:0000006  GO:0005385    rdfs:subClassOf    7.229558\n ...           ...         ...                ...         ...\n 65831  GO:2001316  GO:0120254    rdfs:subClassOf    9.466926\n 65832  GO:2001317  GO:0034309    rdfs:subClassOf    7.176589\n 65833  GO:2001317  GO:0042181    rdfs:subClassOf    9.716534\n 65834  GO:2001317  GO:0120255    rdfs:subClassOf    6.481127\n 65835  GO:2001317  GO:2001316    rdfs:subClassOf    0.000000\n \n [65836 rows x 4 columns]}"
     },
     "execution_count": 61,
     "metadata": {},
     "output_type": "execute_result"
    }
   ],
   "source": [
    "low_icdiff_stats"
   ],
   "metadata": {
    "collapsed": false,
    "ExecuteTime": {
     "end_time": "2024-06-21T05:38:32.379761Z",
     "start_time": "2024-06-21T05:38:32.353337Z"
    }
   },
   "id": "f43fd479b14bb694"
  },
  {
   "cell_type": "code",
   "execution_count": 62,
   "outputs": [
    {
     "data": {
      "text/plain": "            child      parent          predicate      9606     6239      7955  \\\n0      GO:0000001  GO:0005739  obo:GOREL_0002003       NaN      NaN       NaN   \n1      GO:0000001  GO:0048308    rdfs:subClassOf       NaN      NaN       NaN   \n2      GO:0000001  GO:0048311    rdfs:subClassOf       NaN      NaN       NaN   \n3      GO:0000002  GO:0007005    rdfs:subClassOf  4.056831  4.38247  4.551796   \n4      GO:0000006  GO:0005385    rdfs:subClassOf       NaN      NaN       NaN   \n...           ...         ...                ...       ...      ...       ...   \n65831  GO:2001316  GO:0120254    rdfs:subClassOf       NaN      NaN       NaN   \n65832  GO:2001317  GO:0034309    rdfs:subClassOf       NaN      NaN       NaN   \n65833  GO:2001317  GO:0042181    rdfs:subClassOf       NaN      NaN       NaN   \n65834  GO:2001317  GO:0120255    rdfs:subClassOf       NaN      NaN       NaN   \n65835  GO:2001317  GO:2001316    rdfs:subClassOf       NaN      NaN       NaN   \n\n           3702    559292      4896      7227     10090       ALL  \\\n0           NaN  5.872605  8.577429  7.812177       NaN  9.414945   \n1           NaN  1.373458  0.584963  0.000000       NaN  1.982152   \n2           NaN  0.241008  1.807355  1.459432       NaN  1.942707   \n3      3.658211  2.390915  2.929611  4.650254  3.865499  3.703148   \n4           NaN  3.169925  2.584963       NaN       NaN  7.229558   \n...         ...       ...       ...       ...       ...       ...   \n65831       NaN       NaN       NaN       NaN       NaN  9.466926   \n65832       NaN       NaN       NaN       NaN       NaN  7.176589   \n65833       NaN       NaN       NaN       NaN       NaN  9.716534   \n65834       NaN       NaN       NaN       NaN       NaN  6.481127   \n65835       NaN       NaN       NaN       NaN       NaN  0.000000   \n\n                                             child_label  \\\n0                              mitochondrion inheritance   \n1                              mitochondrion inheritance   \n2                              mitochondrion inheritance   \n3                       mitochondrial genome maintenance   \n4      high-affinity zinc transmembrane transporter a...   \n...                                                  ...   \n65831                       kojic acid metabolic process   \n65832                    kojic acid biosynthetic process   \n65833                    kojic acid biosynthetic process   \n65834                    kojic acid biosynthetic process   \n65835                    kojic acid biosynthetic process   \n\n                                      parent_label  average_ICdiff  \\\n0                                    mitochondrion        7.919289   \n1                            organelle inheritance        0.985143   \n2                       mitochondrion distribution        1.362625   \n3                       mitochondrion organization        3.798748   \n4      zinc ion transmembrane transporter activity        4.328149   \n...                                            ...             ...   \n65831          olefinic compound metabolic process        9.466926   \n65832         primary alcohol biosynthetic process        7.176589   \n65833                  ketone biosynthetic process        9.716534   \n65834       olefinic compound biosynthetic process        6.481127   \n65835                 kojic acid metabolic process        0.000000   \n\n       average_ICdiff_sp  max_ICdiff  max_ICdiff_sp  \n0               7.420737    9.414945       8.577429  \n1               0.652807    1.982152       1.373458  \n2               1.169265    1.942707       1.807355  \n3               3.810698    4.650254       4.650254  \n4               2.877444    7.229558       3.169925  \n...                  ...         ...            ...  \n65831                NaN    9.466926            NaN  \n65832                NaN    7.176589            NaN  \n65833                NaN    9.716534            NaN  \n65834                NaN    6.481127            NaN  \n65835                NaN    0.000000            NaN  \n\n[65836 rows x 18 columns]",
      "text/html": "<div>\n<style scoped>\n    .dataframe tbody tr th:only-of-type {\n        vertical-align: middle;\n    }\n\n    .dataframe tbody tr th {\n        vertical-align: top;\n    }\n\n    .dataframe thead th {\n        text-align: right;\n    }\n</style>\n<table border=\"1\" class=\"dataframe\">\n  <thead>\n    <tr style=\"text-align: right;\">\n      <th></th>\n      <th>child</th>\n      <th>parent</th>\n      <th>predicate</th>\n      <th>9606</th>\n      <th>6239</th>\n      <th>7955</th>\n      <th>3702</th>\n      <th>559292</th>\n      <th>4896</th>\n      <th>7227</th>\n      <th>10090</th>\n      <th>ALL</th>\n      <th>child_label</th>\n      <th>parent_label</th>\n      <th>average_ICdiff</th>\n      <th>average_ICdiff_sp</th>\n      <th>max_ICdiff</th>\n      <th>max_ICdiff_sp</th>\n    </tr>\n  </thead>\n  <tbody>\n    <tr>\n      <th>0</th>\n      <td>GO:0000001</td>\n      <td>GO:0005739</td>\n      <td>obo:GOREL_0002003</td>\n      <td>NaN</td>\n      <td>NaN</td>\n      <td>NaN</td>\n      <td>NaN</td>\n      <td>5.872605</td>\n      <td>8.577429</td>\n      <td>7.812177</td>\n      <td>NaN</td>\n      <td>9.414945</td>\n      <td>mitochondrion inheritance</td>\n      <td>mitochondrion</td>\n      <td>7.919289</td>\n      <td>7.420737</td>\n      <td>9.414945</td>\n      <td>8.577429</td>\n    </tr>\n    <tr>\n      <th>1</th>\n      <td>GO:0000001</td>\n      <td>GO:0048308</td>\n      <td>rdfs:subClassOf</td>\n      <td>NaN</td>\n      <td>NaN</td>\n      <td>NaN</td>\n      <td>NaN</td>\n      <td>1.373458</td>\n      <td>0.584963</td>\n      <td>0.000000</td>\n      <td>NaN</td>\n      <td>1.982152</td>\n      <td>mitochondrion inheritance</td>\n      <td>organelle inheritance</td>\n      <td>0.985143</td>\n      <td>0.652807</td>\n      <td>1.982152</td>\n      <td>1.373458</td>\n    </tr>\n    <tr>\n      <th>2</th>\n      <td>GO:0000001</td>\n      <td>GO:0048311</td>\n      <td>rdfs:subClassOf</td>\n      <td>NaN</td>\n      <td>NaN</td>\n      <td>NaN</td>\n      <td>NaN</td>\n      <td>0.241008</td>\n      <td>1.807355</td>\n      <td>1.459432</td>\n      <td>NaN</td>\n      <td>1.942707</td>\n      <td>mitochondrion inheritance</td>\n      <td>mitochondrion distribution</td>\n      <td>1.362625</td>\n      <td>1.169265</td>\n      <td>1.942707</td>\n      <td>1.807355</td>\n    </tr>\n    <tr>\n      <th>3</th>\n      <td>GO:0000002</td>\n      <td>GO:0007005</td>\n      <td>rdfs:subClassOf</td>\n      <td>4.056831</td>\n      <td>4.38247</td>\n      <td>4.551796</td>\n      <td>3.658211</td>\n      <td>2.390915</td>\n      <td>2.929611</td>\n      <td>4.650254</td>\n      <td>3.865499</td>\n      <td>3.703148</td>\n      <td>mitochondrial genome maintenance</td>\n      <td>mitochondrion organization</td>\n      <td>3.798748</td>\n      <td>3.810698</td>\n      <td>4.650254</td>\n      <td>4.650254</td>\n    </tr>\n    <tr>\n      <th>4</th>\n      <td>GO:0000006</td>\n      <td>GO:0005385</td>\n      <td>rdfs:subClassOf</td>\n      <td>NaN</td>\n      <td>NaN</td>\n      <td>NaN</td>\n      <td>NaN</td>\n      <td>3.169925</td>\n      <td>2.584963</td>\n      <td>NaN</td>\n      <td>NaN</td>\n      <td>7.229558</td>\n      <td>high-affinity zinc transmembrane transporter a...</td>\n      <td>zinc ion transmembrane transporter activity</td>\n      <td>4.328149</td>\n      <td>2.877444</td>\n      <td>7.229558</td>\n      <td>3.169925</td>\n    </tr>\n    <tr>\n      <th>...</th>\n      <td>...</td>\n      <td>...</td>\n      <td>...</td>\n      <td>...</td>\n      <td>...</td>\n      <td>...</td>\n      <td>...</td>\n      <td>...</td>\n      <td>...</td>\n      <td>...</td>\n      <td>...</td>\n      <td>...</td>\n      <td>...</td>\n      <td>...</td>\n      <td>...</td>\n      <td>...</td>\n      <td>...</td>\n      <td>...</td>\n    </tr>\n    <tr>\n      <th>65831</th>\n      <td>GO:2001316</td>\n      <td>GO:0120254</td>\n      <td>rdfs:subClassOf</td>\n      <td>NaN</td>\n      <td>NaN</td>\n      <td>NaN</td>\n      <td>NaN</td>\n      <td>NaN</td>\n      <td>NaN</td>\n      <td>NaN</td>\n      <td>NaN</td>\n      <td>9.466926</td>\n      <td>kojic acid metabolic process</td>\n      <td>olefinic compound metabolic process</td>\n      <td>9.466926</td>\n      <td>NaN</td>\n      <td>9.466926</td>\n      <td>NaN</td>\n    </tr>\n    <tr>\n      <th>65832</th>\n      <td>GO:2001317</td>\n      <td>GO:0034309</td>\n      <td>rdfs:subClassOf</td>\n      <td>NaN</td>\n      <td>NaN</td>\n      <td>NaN</td>\n      <td>NaN</td>\n      <td>NaN</td>\n      <td>NaN</td>\n      <td>NaN</td>\n      <td>NaN</td>\n      <td>7.176589</td>\n      <td>kojic acid biosynthetic process</td>\n      <td>primary alcohol biosynthetic process</td>\n      <td>7.176589</td>\n      <td>NaN</td>\n      <td>7.176589</td>\n      <td>NaN</td>\n    </tr>\n    <tr>\n      <th>65833</th>\n      <td>GO:2001317</td>\n      <td>GO:0042181</td>\n      <td>rdfs:subClassOf</td>\n      <td>NaN</td>\n      <td>NaN</td>\n      <td>NaN</td>\n      <td>NaN</td>\n      <td>NaN</td>\n      <td>NaN</td>\n      <td>NaN</td>\n      <td>NaN</td>\n      <td>9.716534</td>\n      <td>kojic acid biosynthetic process</td>\n      <td>ketone biosynthetic process</td>\n      <td>9.716534</td>\n      <td>NaN</td>\n      <td>9.716534</td>\n      <td>NaN</td>\n    </tr>\n    <tr>\n      <th>65834</th>\n      <td>GO:2001317</td>\n      <td>GO:0120255</td>\n      <td>rdfs:subClassOf</td>\n      <td>NaN</td>\n      <td>NaN</td>\n      <td>NaN</td>\n      <td>NaN</td>\n      <td>NaN</td>\n      <td>NaN</td>\n      <td>NaN</td>\n      <td>NaN</td>\n      <td>6.481127</td>\n      <td>kojic acid biosynthetic process</td>\n      <td>olefinic compound biosynthetic process</td>\n      <td>6.481127</td>\n      <td>NaN</td>\n      <td>6.481127</td>\n      <td>NaN</td>\n    </tr>\n    <tr>\n      <th>65835</th>\n      <td>GO:2001317</td>\n      <td>GO:2001316</td>\n      <td>rdfs:subClassOf</td>\n      <td>NaN</td>\n      <td>NaN</td>\n      <td>NaN</td>\n      <td>NaN</td>\n      <td>NaN</td>\n      <td>NaN</td>\n      <td>NaN</td>\n      <td>NaN</td>\n      <td>0.000000</td>\n      <td>kojic acid biosynthetic process</td>\n      <td>kojic acid metabolic process</td>\n      <td>0.000000</td>\n      <td>NaN</td>\n      <td>0.000000</td>\n      <td>NaN</td>\n    </tr>\n  </tbody>\n</table>\n<p>65836 rows × 18 columns</p>\n</div>"
     },
     "execution_count": 62,
     "metadata": {},
     "output_type": "execute_result"
    }
   ],
   "source": [
    "df"
   ],
   "metadata": {
    "collapsed": false,
    "ExecuteTime": {
     "end_time": "2024-06-21T05:38:33.774083Z",
     "start_time": "2024-06-21T05:38:33.766922Z"
    }
   },
   "id": "c3d312d2641042f6"
  },
  {
   "cell_type": "code",
   "execution_count": 63,
   "outputs": [
    {
     "data": {
      "text/plain": "            child      parent        predicate  9606  6239  7955  3702  \\\n49     GO:0000036  GO:0044620  rdfs:subClassOf   0.0   0.0   0.0   0.0   \n50     GO:0000036  GO:0140414  rdfs:subClassOf   0.0   0.0   0.0   0.0   \n88     GO:0000073  GO:1905047      BFO:0000050   NaN   NaN   NaN   NaN   \n89     GO:0000073  GO:0110100  rdfs:subClassOf   NaN   NaN   NaN   NaN   \n100    GO:0000080  GO:0051318  rdfs:subClassOf   0.0   NaN   NaN   0.0   \n...           ...         ...              ...   ...   ...   ...   ...   \n65782  GO:2001299  GO:2001298  rdfs:subClassOf   0.0   NaN   NaN   NaN   \n65806  GO:2001307  GO:2001305  rdfs:subClassOf   NaN   NaN   NaN   NaN   \n65820  GO:2001310  GO:2001308  rdfs:subClassOf   NaN   NaN   NaN   NaN   \n65828  GO:2001315  GO:2001313  rdfs:subClassOf   NaN   NaN   NaN   NaN   \n65835  GO:2001317  GO:2001316  rdfs:subClassOf   NaN   NaN   NaN   NaN   \n\n       559292  4896  7227  10090  ALL  \\\n49        0.0   0.0   0.0    0.0  0.0   \n50        0.0   0.0   0.0    0.0  0.0   \n88        0.0   0.0   NaN    NaN  0.0   \n89        0.0   0.0   NaN    NaN  0.0   \n100       0.0   NaN   NaN    0.0  0.0   \n...       ...   ...   ...    ...  ...   \n65782     NaN   NaN   NaN    0.0  0.0   \n65806     NaN   NaN   NaN    NaN  0.0   \n65820     NaN   NaN   NaN    NaN  0.0   \n65828     NaN   NaN   NaN    NaN  0.0   \n65835     NaN   NaN   NaN    NaN  0.0   \n\n                                             child_label  \\\n49                                 acyl carrier activity   \n50                                 acyl carrier activity   \n88          initial mitotic spindle pole body separation   \n89          initial mitotic spindle pole body separation   \n100                                     mitotic G1 phase   \n...                                                  ...   \n65782  N(omega),N(omega)-dimethyl-L-arginine cataboli...   \n65806  xanthone-containing compound biosynthetic process   \n65820                     gliotoxin biosynthetic process   \n65828  UDP-4-deoxy-4-formamido-beta-L-arabinopyranose...   \n65835                    kojic acid biosynthetic process   \n\n                                            parent_label  average_ICdiff  \\\n49        ACP phosphopantetheine attachment site binding             0.0   \n50         phosphopantetheine-dependent carrier activity             0.0   \n88                mitotic spindle pole body organization             0.0   \n89                          spindle pole body separation             0.0   \n100                                             G1 phase             0.0   \n...                                                  ...             ...   \n65782  N(omega),N(omega)-dimethyl-L-arginine metaboli...             0.0   \n65806     xanthone-containing compound metabolic process             0.0   \n65820                        gliotoxin metabolic process             0.0   \n65828  UDP-4-deoxy-4-formamido-beta-L-arabinopyranose...             0.0   \n65835                       kojic acid metabolic process             0.0   \n\n       average_ICdiff_sp  max_ICdiff  max_ICdiff_sp  \n49                   0.0         0.0            0.0  \n50                   0.0         0.0            0.0  \n88                   0.0         0.0            0.0  \n89                   0.0         0.0            0.0  \n100                  0.0         0.0            0.0  \n...                  ...         ...            ...  \n65782                0.0         0.0            0.0  \n65806                NaN         0.0            NaN  \n65820                NaN         0.0            NaN  \n65828                NaN         0.0            NaN  \n65835                NaN         0.0            NaN  \n\n[2259 rows x 18 columns]",
      "text/html": "<div>\n<style scoped>\n    .dataframe tbody tr th:only-of-type {\n        vertical-align: middle;\n    }\n\n    .dataframe tbody tr th {\n        vertical-align: top;\n    }\n\n    .dataframe thead th {\n        text-align: right;\n    }\n</style>\n<table border=\"1\" class=\"dataframe\">\n  <thead>\n    <tr style=\"text-align: right;\">\n      <th></th>\n      <th>child</th>\n      <th>parent</th>\n      <th>predicate</th>\n      <th>9606</th>\n      <th>6239</th>\n      <th>7955</th>\n      <th>3702</th>\n      <th>559292</th>\n      <th>4896</th>\n      <th>7227</th>\n      <th>10090</th>\n      <th>ALL</th>\n      <th>child_label</th>\n      <th>parent_label</th>\n      <th>average_ICdiff</th>\n      <th>average_ICdiff_sp</th>\n      <th>max_ICdiff</th>\n      <th>max_ICdiff_sp</th>\n    </tr>\n  </thead>\n  <tbody>\n    <tr>\n      <th>49</th>\n      <td>GO:0000036</td>\n      <td>GO:0044620</td>\n      <td>rdfs:subClassOf</td>\n      <td>0.0</td>\n      <td>0.0</td>\n      <td>0.0</td>\n      <td>0.0</td>\n      <td>0.0</td>\n      <td>0.0</td>\n      <td>0.0</td>\n      <td>0.0</td>\n      <td>0.0</td>\n      <td>acyl carrier activity</td>\n      <td>ACP phosphopantetheine attachment site binding</td>\n      <td>0.0</td>\n      <td>0.0</td>\n      <td>0.0</td>\n      <td>0.0</td>\n    </tr>\n    <tr>\n      <th>50</th>\n      <td>GO:0000036</td>\n      <td>GO:0140414</td>\n      <td>rdfs:subClassOf</td>\n      <td>0.0</td>\n      <td>0.0</td>\n      <td>0.0</td>\n      <td>0.0</td>\n      <td>0.0</td>\n      <td>0.0</td>\n      <td>0.0</td>\n      <td>0.0</td>\n      <td>0.0</td>\n      <td>acyl carrier activity</td>\n      <td>phosphopantetheine-dependent carrier activity</td>\n      <td>0.0</td>\n      <td>0.0</td>\n      <td>0.0</td>\n      <td>0.0</td>\n    </tr>\n    <tr>\n      <th>88</th>\n      <td>GO:0000073</td>\n      <td>GO:1905047</td>\n      <td>BFO:0000050</td>\n      <td>NaN</td>\n      <td>NaN</td>\n      <td>NaN</td>\n      <td>NaN</td>\n      <td>0.0</td>\n      <td>0.0</td>\n      <td>NaN</td>\n      <td>NaN</td>\n      <td>0.0</td>\n      <td>initial mitotic spindle pole body separation</td>\n      <td>mitotic spindle pole body organization</td>\n      <td>0.0</td>\n      <td>0.0</td>\n      <td>0.0</td>\n      <td>0.0</td>\n    </tr>\n    <tr>\n      <th>89</th>\n      <td>GO:0000073</td>\n      <td>GO:0110100</td>\n      <td>rdfs:subClassOf</td>\n      <td>NaN</td>\n      <td>NaN</td>\n      <td>NaN</td>\n      <td>NaN</td>\n      <td>0.0</td>\n      <td>0.0</td>\n      <td>NaN</td>\n      <td>NaN</td>\n      <td>0.0</td>\n      <td>initial mitotic spindle pole body separation</td>\n      <td>spindle pole body separation</td>\n      <td>0.0</td>\n      <td>0.0</td>\n      <td>0.0</td>\n      <td>0.0</td>\n    </tr>\n    <tr>\n      <th>100</th>\n      <td>GO:0000080</td>\n      <td>GO:0051318</td>\n      <td>rdfs:subClassOf</td>\n      <td>0.0</td>\n      <td>NaN</td>\n      <td>NaN</td>\n      <td>0.0</td>\n      <td>0.0</td>\n      <td>NaN</td>\n      <td>NaN</td>\n      <td>0.0</td>\n      <td>0.0</td>\n      <td>mitotic G1 phase</td>\n      <td>G1 phase</td>\n      <td>0.0</td>\n      <td>0.0</td>\n      <td>0.0</td>\n      <td>0.0</td>\n    </tr>\n    <tr>\n      <th>...</th>\n      <td>...</td>\n      <td>...</td>\n      <td>...</td>\n      <td>...</td>\n      <td>...</td>\n      <td>...</td>\n      <td>...</td>\n      <td>...</td>\n      <td>...</td>\n      <td>...</td>\n      <td>...</td>\n      <td>...</td>\n      <td>...</td>\n      <td>...</td>\n      <td>...</td>\n      <td>...</td>\n      <td>...</td>\n      <td>...</td>\n    </tr>\n    <tr>\n      <th>65782</th>\n      <td>GO:2001299</td>\n      <td>GO:2001298</td>\n      <td>rdfs:subClassOf</td>\n      <td>0.0</td>\n      <td>NaN</td>\n      <td>NaN</td>\n      <td>NaN</td>\n      <td>NaN</td>\n      <td>NaN</td>\n      <td>NaN</td>\n      <td>0.0</td>\n      <td>0.0</td>\n      <td>N(omega),N(omega)-dimethyl-L-arginine cataboli...</td>\n      <td>N(omega),N(omega)-dimethyl-L-arginine metaboli...</td>\n      <td>0.0</td>\n      <td>0.0</td>\n      <td>0.0</td>\n      <td>0.0</td>\n    </tr>\n    <tr>\n      <th>65806</th>\n      <td>GO:2001307</td>\n      <td>GO:2001305</td>\n      <td>rdfs:subClassOf</td>\n      <td>NaN</td>\n      <td>NaN</td>\n      <td>NaN</td>\n      <td>NaN</td>\n      <td>NaN</td>\n      <td>NaN</td>\n      <td>NaN</td>\n      <td>NaN</td>\n      <td>0.0</td>\n      <td>xanthone-containing compound biosynthetic process</td>\n      <td>xanthone-containing compound metabolic process</td>\n      <td>0.0</td>\n      <td>NaN</td>\n      <td>0.0</td>\n      <td>NaN</td>\n    </tr>\n    <tr>\n      <th>65820</th>\n      <td>GO:2001310</td>\n      <td>GO:2001308</td>\n      <td>rdfs:subClassOf</td>\n      <td>NaN</td>\n      <td>NaN</td>\n      <td>NaN</td>\n      <td>NaN</td>\n      <td>NaN</td>\n      <td>NaN</td>\n      <td>NaN</td>\n      <td>NaN</td>\n      <td>0.0</td>\n      <td>gliotoxin biosynthetic process</td>\n      <td>gliotoxin metabolic process</td>\n      <td>0.0</td>\n      <td>NaN</td>\n      <td>0.0</td>\n      <td>NaN</td>\n    </tr>\n    <tr>\n      <th>65828</th>\n      <td>GO:2001315</td>\n      <td>GO:2001313</td>\n      <td>rdfs:subClassOf</td>\n      <td>NaN</td>\n      <td>NaN</td>\n      <td>NaN</td>\n      <td>NaN</td>\n      <td>NaN</td>\n      <td>NaN</td>\n      <td>NaN</td>\n      <td>NaN</td>\n      <td>0.0</td>\n      <td>UDP-4-deoxy-4-formamido-beta-L-arabinopyranose...</td>\n      <td>UDP-4-deoxy-4-formamido-beta-L-arabinopyranose...</td>\n      <td>0.0</td>\n      <td>NaN</td>\n      <td>0.0</td>\n      <td>NaN</td>\n    </tr>\n    <tr>\n      <th>65835</th>\n      <td>GO:2001317</td>\n      <td>GO:2001316</td>\n      <td>rdfs:subClassOf</td>\n      <td>NaN</td>\n      <td>NaN</td>\n      <td>NaN</td>\n      <td>NaN</td>\n      <td>NaN</td>\n      <td>NaN</td>\n      <td>NaN</td>\n      <td>NaN</td>\n      <td>0.0</td>\n      <td>kojic acid biosynthetic process</td>\n      <td>kojic acid metabolic process</td>\n      <td>0.0</td>\n      <td>NaN</td>\n      <td>0.0</td>\n      <td>NaN</td>\n    </tr>\n  </tbody>\n</table>\n<p>2259 rows × 18 columns</p>\n</div>"
     },
     "execution_count": 63,
     "metadata": {},
     "output_type": "execute_result"
    }
   ],
   "source": [
    "df[df[\"max_ICdiff\"] == 0]"
   ],
   "metadata": {
    "collapsed": false,
    "ExecuteTime": {
     "end_time": "2024-06-21T05:38:42.707730Z",
     "start_time": "2024-06-21T05:38:42.685154Z"
    }
   },
   "id": "d535033c8e457b85"
  },
  {
   "cell_type": "code",
   "execution_count": 51,
   "outputs": [],
   "source": [
    "df[df[\"max_ICdiff\"] == 0].to_csv(\"results/edge_information_zero_ICdiff.csv\", index=False)"
   ],
   "metadata": {
    "collapsed": false,
    "ExecuteTime": {
     "end_time": "2024-06-21T05:36:01.424102Z",
     "start_time": "2024-06-21T05:36:01.360689Z"
    }
   },
   "id": "2f6e3b54bc2085bf"
  },
  {
   "cell_type": "code",
   "execution_count": 69,
   "outputs": [],
   "source": [
    "sp_only = df[(df[\"max_ICdiff_sp\"] == 0) & (df[\"ALL\"] > 0)]"
   ],
   "metadata": {
    "collapsed": false,
    "ExecuteTime": {
     "end_time": "2024-06-21T05:47:32.162879Z",
     "start_time": "2024-06-21T05:47:32.155883Z"
    }
   },
   "id": "e0798a0d7a84d811"
  },
  {
   "cell_type": "code",
   "execution_count": 70,
   "outputs": [
    {
     "data": {
      "text/plain": "            child      parent        predicate  9606  6239  7955  3702  \\\n14     GO:0000015  GO:0004634       RO:0002215   0.0   0.0   0.0   0.0   \n42     GO:0000032  GO:0006057  rdfs:subClassOf   NaN   NaN   NaN   NaN   \n43     GO:0000032  GO:0031506  rdfs:subClassOf   NaN   NaN   NaN   NaN   \n111    GO:0000088  GO:0000087      BFO:0000050   NaN   NaN   NaN   0.0   \n113    GO:0000089  GO:0000087      BFO:0000050   NaN   NaN   NaN   NaN   \n...           ...         ...              ...   ...   ...   ...   ...   \n65629  GO:2001229  GO:2001228  rdfs:subClassOf   NaN   NaN   NaN   NaN   \n65632  GO:2001230  GO:2001228  rdfs:subClassOf   NaN   0.0   NaN   NaN   \n65690  GO:2001250  GO:0045848  rdfs:subClassOf   0.0   NaN   NaN   NaN   \n65691  GO:2001250  GO:2000213  rdfs:subClassOf   0.0   NaN   NaN   NaN   \n65804  GO:2001306  GO:2001304  rdfs:subClassOf   0.0   NaN   NaN   NaN   \n\n       559292  4896  7227  10090       ALL  \\\n14        0.0   0.0   0.0    0.0  0.048799   \n42        0.0   0.0   NaN    NaN  0.078305   \n43        0.0   0.0   NaN    NaN  0.011450   \n111       NaN   NaN   NaN    NaN  3.954196   \n113       NaN   NaN   NaN    0.0  1.632268   \n...       ...   ...   ...    ...       ...   \n65629     NaN   NaN   0.0    0.0  0.415037   \n65632     NaN   NaN   NaN    NaN  2.000000   \n65690     NaN   NaN   NaN    0.0  0.459432   \n65691     NaN   NaN   NaN    0.0  1.584963   \n65804     NaN   NaN   NaN    0.0  0.222392   \n\n                                             child_label  \\\n14                     phosphopyruvate hydratase complex   \n42           cell wall mannoprotein biosynthetic process   \n43           cell wall mannoprotein biosynthetic process   \n111                                     mitotic prophase   \n113                                    mitotic metaphase   \n...                                                  ...   \n65629  negative regulation of response to gamma radia...   \n65632  positive regulation of response to gamma radia...   \n65690  positive regulation of ammonia assimilation cycle   \n65691  positive regulation of ammonia assimilation cycle   \n65804                    lipoxin B4 biosynthetic process   \n\n                                            parent_label  average_ICdiff  \\\n14                    phosphopyruvate hydratase activity        0.005422   \n42                     mannoprotein biosynthetic process        0.026102   \n43           cell wall glycoprotein biosynthetic process        0.003817   \n111                                      mitotic M phase        1.977098   \n113                                      mitotic M phase        0.816134   \n...                                                  ...             ...   \n65629          regulation of response to gamma radiation        0.138346   \n65632          regulation of response to gamma radiation        1.000000   \n65690        positive regulation of nitrogen utilization        0.153144   \n65691  positive regulation of glutamate metabolic pro...        0.528321   \n65804                       lipoxin B4 metabolic process        0.074131   \n\n       average_ICdiff_sp  max_ICdiff  max_ICdiff_sp  \n14                   0.0    0.048799            0.0  \n42                   0.0    0.078305            0.0  \n43                   0.0    0.011450            0.0  \n111                  0.0    3.954196            0.0  \n113                  0.0    1.632268            0.0  \n...                  ...         ...            ...  \n65629                0.0    0.415037            0.0  \n65632                0.0    2.000000            0.0  \n65690                0.0    0.459432            0.0  \n65691                0.0    1.584963            0.0  \n65804                0.0    0.222392            0.0  \n\n[1717 rows x 18 columns]",
      "text/html": "<div>\n<style scoped>\n    .dataframe tbody tr th:only-of-type {\n        vertical-align: middle;\n    }\n\n    .dataframe tbody tr th {\n        vertical-align: top;\n    }\n\n    .dataframe thead th {\n        text-align: right;\n    }\n</style>\n<table border=\"1\" class=\"dataframe\">\n  <thead>\n    <tr style=\"text-align: right;\">\n      <th></th>\n      <th>child</th>\n      <th>parent</th>\n      <th>predicate</th>\n      <th>9606</th>\n      <th>6239</th>\n      <th>7955</th>\n      <th>3702</th>\n      <th>559292</th>\n      <th>4896</th>\n      <th>7227</th>\n      <th>10090</th>\n      <th>ALL</th>\n      <th>child_label</th>\n      <th>parent_label</th>\n      <th>average_ICdiff</th>\n      <th>average_ICdiff_sp</th>\n      <th>max_ICdiff</th>\n      <th>max_ICdiff_sp</th>\n    </tr>\n  </thead>\n  <tbody>\n    <tr>\n      <th>14</th>\n      <td>GO:0000015</td>\n      <td>GO:0004634</td>\n      <td>RO:0002215</td>\n      <td>0.0</td>\n      <td>0.0</td>\n      <td>0.0</td>\n      <td>0.0</td>\n      <td>0.0</td>\n      <td>0.0</td>\n      <td>0.0</td>\n      <td>0.0</td>\n      <td>0.048799</td>\n      <td>phosphopyruvate hydratase complex</td>\n      <td>phosphopyruvate hydratase activity</td>\n      <td>0.005422</td>\n      <td>0.0</td>\n      <td>0.048799</td>\n      <td>0.0</td>\n    </tr>\n    <tr>\n      <th>42</th>\n      <td>GO:0000032</td>\n      <td>GO:0006057</td>\n      <td>rdfs:subClassOf</td>\n      <td>NaN</td>\n      <td>NaN</td>\n      <td>NaN</td>\n      <td>NaN</td>\n      <td>0.0</td>\n      <td>0.0</td>\n      <td>NaN</td>\n      <td>NaN</td>\n      <td>0.078305</td>\n      <td>cell wall mannoprotein biosynthetic process</td>\n      <td>mannoprotein biosynthetic process</td>\n      <td>0.026102</td>\n      <td>0.0</td>\n      <td>0.078305</td>\n      <td>0.0</td>\n    </tr>\n    <tr>\n      <th>43</th>\n      <td>GO:0000032</td>\n      <td>GO:0031506</td>\n      <td>rdfs:subClassOf</td>\n      <td>NaN</td>\n      <td>NaN</td>\n      <td>NaN</td>\n      <td>NaN</td>\n      <td>0.0</td>\n      <td>0.0</td>\n      <td>NaN</td>\n      <td>NaN</td>\n      <td>0.011450</td>\n      <td>cell wall mannoprotein biosynthetic process</td>\n      <td>cell wall glycoprotein biosynthetic process</td>\n      <td>0.003817</td>\n      <td>0.0</td>\n      <td>0.011450</td>\n      <td>0.0</td>\n    </tr>\n    <tr>\n      <th>111</th>\n      <td>GO:0000088</td>\n      <td>GO:0000087</td>\n      <td>BFO:0000050</td>\n      <td>NaN</td>\n      <td>NaN</td>\n      <td>NaN</td>\n      <td>0.0</td>\n      <td>NaN</td>\n      <td>NaN</td>\n      <td>NaN</td>\n      <td>NaN</td>\n      <td>3.954196</td>\n      <td>mitotic prophase</td>\n      <td>mitotic M phase</td>\n      <td>1.977098</td>\n      <td>0.0</td>\n      <td>3.954196</td>\n      <td>0.0</td>\n    </tr>\n    <tr>\n      <th>113</th>\n      <td>GO:0000089</td>\n      <td>GO:0000087</td>\n      <td>BFO:0000050</td>\n      <td>NaN</td>\n      <td>NaN</td>\n      <td>NaN</td>\n      <td>NaN</td>\n      <td>NaN</td>\n      <td>NaN</td>\n      <td>NaN</td>\n      <td>0.0</td>\n      <td>1.632268</td>\n      <td>mitotic metaphase</td>\n      <td>mitotic M phase</td>\n      <td>0.816134</td>\n      <td>0.0</td>\n      <td>1.632268</td>\n      <td>0.0</td>\n    </tr>\n    <tr>\n      <th>...</th>\n      <td>...</td>\n      <td>...</td>\n      <td>...</td>\n      <td>...</td>\n      <td>...</td>\n      <td>...</td>\n      <td>...</td>\n      <td>...</td>\n      <td>...</td>\n      <td>...</td>\n      <td>...</td>\n      <td>...</td>\n      <td>...</td>\n      <td>...</td>\n      <td>...</td>\n      <td>...</td>\n      <td>...</td>\n      <td>...</td>\n    </tr>\n    <tr>\n      <th>65629</th>\n      <td>GO:2001229</td>\n      <td>GO:2001228</td>\n      <td>rdfs:subClassOf</td>\n      <td>NaN</td>\n      <td>NaN</td>\n      <td>NaN</td>\n      <td>NaN</td>\n      <td>NaN</td>\n      <td>NaN</td>\n      <td>0.0</td>\n      <td>0.0</td>\n      <td>0.415037</td>\n      <td>negative regulation of response to gamma radia...</td>\n      <td>regulation of response to gamma radiation</td>\n      <td>0.138346</td>\n      <td>0.0</td>\n      <td>0.415037</td>\n      <td>0.0</td>\n    </tr>\n    <tr>\n      <th>65632</th>\n      <td>GO:2001230</td>\n      <td>GO:2001228</td>\n      <td>rdfs:subClassOf</td>\n      <td>NaN</td>\n      <td>0.0</td>\n      <td>NaN</td>\n      <td>NaN</td>\n      <td>NaN</td>\n      <td>NaN</td>\n      <td>NaN</td>\n      <td>NaN</td>\n      <td>2.000000</td>\n      <td>positive regulation of response to gamma radia...</td>\n      <td>regulation of response to gamma radiation</td>\n      <td>1.000000</td>\n      <td>0.0</td>\n      <td>2.000000</td>\n      <td>0.0</td>\n    </tr>\n    <tr>\n      <th>65690</th>\n      <td>GO:2001250</td>\n      <td>GO:0045848</td>\n      <td>rdfs:subClassOf</td>\n      <td>0.0</td>\n      <td>NaN</td>\n      <td>NaN</td>\n      <td>NaN</td>\n      <td>NaN</td>\n      <td>NaN</td>\n      <td>NaN</td>\n      <td>0.0</td>\n      <td>0.459432</td>\n      <td>positive regulation of ammonia assimilation cycle</td>\n      <td>positive regulation of nitrogen utilization</td>\n      <td>0.153144</td>\n      <td>0.0</td>\n      <td>0.459432</td>\n      <td>0.0</td>\n    </tr>\n    <tr>\n      <th>65691</th>\n      <td>GO:2001250</td>\n      <td>GO:2000213</td>\n      <td>rdfs:subClassOf</td>\n      <td>0.0</td>\n      <td>NaN</td>\n      <td>NaN</td>\n      <td>NaN</td>\n      <td>NaN</td>\n      <td>NaN</td>\n      <td>NaN</td>\n      <td>0.0</td>\n      <td>1.584963</td>\n      <td>positive regulation of ammonia assimilation cycle</td>\n      <td>positive regulation of glutamate metabolic pro...</td>\n      <td>0.528321</td>\n      <td>0.0</td>\n      <td>1.584963</td>\n      <td>0.0</td>\n    </tr>\n    <tr>\n      <th>65804</th>\n      <td>GO:2001306</td>\n      <td>GO:2001304</td>\n      <td>rdfs:subClassOf</td>\n      <td>0.0</td>\n      <td>NaN</td>\n      <td>NaN</td>\n      <td>NaN</td>\n      <td>NaN</td>\n      <td>NaN</td>\n      <td>NaN</td>\n      <td>0.0</td>\n      <td>0.222392</td>\n      <td>lipoxin B4 biosynthetic process</td>\n      <td>lipoxin B4 metabolic process</td>\n      <td>0.074131</td>\n      <td>0.0</td>\n      <td>0.222392</td>\n      <td>0.0</td>\n    </tr>\n  </tbody>\n</table>\n<p>1717 rows × 18 columns</p>\n</div>"
     },
     "execution_count": 70,
     "metadata": {},
     "output_type": "execute_result"
    }
   ],
   "source": [
    "sp_only"
   ],
   "metadata": {
    "collapsed": false,
    "ExecuteTime": {
     "end_time": "2024-06-21T05:47:33.294487Z",
     "start_time": "2024-06-21T05:47:33.289970Z"
    }
   },
   "id": "57ac8efd625c99ee"
  },
  {
   "cell_type": "code",
   "execution_count": 71,
   "outputs": [],
   "source": [
    "sp_only.to_csv(\"results/edge_information_zero_ICdiff_sp.csv\", index=False)"
   ],
   "metadata": {
    "collapsed": false,
    "ExecuteTime": {
     "end_time": "2024-06-21T05:47:36.356653Z",
     "start_time": "2024-06-21T05:47:36.331179Z"
    }
   },
   "id": "8b9965a6dac3626b"
  },
  {
   "cell_type": "markdown",
   "source": [
    "## Agreement between species"
   ],
   "metadata": {
    "collapsed": false
   },
   "id": "5ee6a7afd3525df1"
  },
  {
   "cell_type": "code",
   "execution_count": 73,
   "outputs": [
    {
     "name": "stdout",
     "output_type": "stream",
     "text": [
      "Pairwise Distance Matrix:\n",
      "            9606      6239      7955      3702    559292      4896      7227  \\\n",
      "9606    0.000000  0.521991  0.384054  0.643245  0.615788  0.637006  0.489546   \n",
      "6239    0.521991  0.000000  0.378123  0.495840  0.478491  0.499582  0.331505   \n",
      "7955    0.384054  0.378123  0.000000  0.555535  0.549247  0.566367  0.382261   \n",
      "3702    0.643245  0.495840  0.555535  0.000000  0.481308  0.488853  0.536048   \n",
      "559292  0.615788  0.478491  0.549247  0.481308  0.000000  0.313815  0.512179   \n",
      "4896    0.637006  0.499582  0.566367  0.488853  0.313815  0.000000  0.525220   \n",
      "7227    0.489546  0.331505  0.382261  0.536048  0.512179  0.525220  0.000000   \n",
      "10090   0.077110  0.530687  0.392722  0.651923  0.627839  0.651838  0.500718   \n",
      "ALL     0.341423  0.655647  0.562346  0.613442  0.668773  0.679804  0.594839   \n",
      "\n",
      "           10090       ALL  \n",
      "9606    0.077110  0.341423  \n",
      "6239    0.530687  0.655647  \n",
      "7955    0.392722  0.562346  \n",
      "3702    0.651923  0.613442  \n",
      "559292  0.627839  0.668773  \n",
      "4896    0.651838  0.679804  \n",
      "7227    0.500718  0.594839  \n",
      "10090   0.000000  0.333682  \n",
      "ALL     0.333682  0.000000  \n",
      "The taxa pair with the highest disagreement is: ('4896', 'ALL') with a distance of 0.679803533659782\n"
     ]
    }
   ],
   "source": [
    "import pandas as pd\n",
    "from scipy.spatial.distance import pdist, squareform\n",
    "\n",
    "\n",
    "# Extract the taxa columns (assuming they are the columns with numeric names)\n",
    "df = pd.DataFrame(filtered_rows)\n",
    "taxa_columns = df.columns[3:-2]\n",
    "\n",
    "# Fill NaN values with column means for distance calculation\n",
    "df_filled = df[taxa_columns].fillna(df[taxa_columns].mean())\n",
    "\n",
    "# Calculate pairwise distances between taxa using Pearson correlation distance\n",
    "pairwise_distances = pdist(df_filled.T, metric='correlation')\n",
    "\n",
    "# Convert to a square matrix\n",
    "pairwise_distances_matrix = squareform(pairwise_distances)\n",
    "\n",
    "# Create a DataFrame for better readability\n",
    "taxa_pairwise_distances_df = pd.DataFrame(pairwise_distances_matrix, index=taxa_columns, columns=taxa_columns)\n",
    "\n",
    "# Identify the taxa pairs with the highest disagreement (largest distance)\n",
    "max_disagreement = taxa_pairwise_distances_df.max().max()\n",
    "max_disagreement_pair = taxa_pairwise_distances_df.stack().idxmax()\n",
    "\n",
    "# Display the results\n",
    "print(\"Pairwise Distance Matrix:\")\n",
    "print(taxa_pairwise_distances_df)\n",
    "\n",
    "print(f\"The taxa pair with the highest disagreement is: {max_disagreement_pair} with a distance of {max_disagreement}\")\n"
   ],
   "metadata": {
    "collapsed": false,
    "ExecuteTime": {
     "end_time": "2024-06-21T06:58:50.897001Z",
     "start_time": "2024-06-21T06:58:50.681973Z"
    }
   },
   "id": "8f61dec3c7990e4b"
  },
  {
   "cell_type": "code",
   "execution_count": null,
   "outputs": [],
   "source": [],
   "metadata": {
    "collapsed": false
   },
   "id": "826b483e80fdd613"
  }
 ],
 "metadata": {
  "kernelspec": {
   "display_name": "Python 3",
   "language": "python",
   "name": "python3"
  },
  "language_info": {
   "codemirror_mode": {
    "name": "ipython",
    "version": 2
   },
   "file_extension": ".py",
   "mimetype": "text/x-python",
   "name": "python",
   "nbconvert_exporter": "python",
   "pygments_lexer": "ipython2",
   "version": "2.7.6"
  }
 },
 "nbformat": 4,
 "nbformat_minor": 5
}
