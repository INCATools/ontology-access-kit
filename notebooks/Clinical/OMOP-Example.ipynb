{
 "cells": [
  {
   "cell_type": "markdown",
   "source": [
    "# OMOP Examples\n",
    "\n",
    "See https://github.com/jhu-bids/TermHub/issues/516\n"
   ],
   "metadata": {
    "collapsed": false
   }
  },
  {
   "cell_type": "markdown",
   "source": [
    "## Basic term lookup"
   ],
   "metadata": {
    "collapsed": false
   }
  },
  {
   "cell_type": "code",
   "execution_count": 1,
   "outputs": [],
   "source": [
    "from oaklib import get_adapter\n",
    "adapter = get_adapter('input/n3c.db')"
   ],
   "metadata": {
    "collapsed": false,
    "ExecuteTime": {
     "end_time": "2023-08-19T02:03:00.757982Z",
     "start_time": "2023-08-19T02:02:58.831821Z"
    }
   }
  },
  {
   "cell_type": "code",
   "execution_count": 2,
   "outputs": [
    {
     "name": "stdout",
     "output_type": "stream",
     "text": [
      "Angioplasty of posterior tibial artery\n"
     ]
    }
   ],
   "source": [
    "TERM_ID = \"omop:4195673\"\n",
    "print(adapter.label(TERM_ID))"
   ],
   "metadata": {
    "collapsed": false,
    "ExecuteTime": {
     "end_time": "2023-08-19T02:03:00.777882Z",
     "start_time": "2023-08-19T02:03:00.760498Z"
    }
   }
  },
  {
   "cell_type": "markdown",
   "source": [
    "## Basic Search"
   ],
   "metadata": {
    "collapsed": false
   }
  },
  {
   "cell_type": "code",
   "execution_count": 3,
   "outputs": [
    {
     "data": {
      "text/plain": "['omop:1018433']"
     },
     "execution_count": 3,
     "metadata": {},
     "output_type": "execute_result"
    }
   ],
   "source": [
    "list(adapter.basic_search(\"Angioplasty\"))"
   ],
   "metadata": {
    "collapsed": false,
    "ExecuteTime": {
     "end_time": "2023-08-19T02:03:05.066505Z",
     "start_time": "2023-08-19T02:03:00.780740Z"
    }
   }
  },
  {
   "cell_type": "code",
   "execution_count": 4,
   "outputs": [
    {
     "name": "stdout",
     "output_type": "stream",
     "text": [
      "omop:45933598 Postsurgical Percutaneous Transluminal Coronary Angioplasty Status\n",
      "omop:1389714 Percutaneous transluminal angioplasty of native or recurrent coarctation of the aorta\n",
      "omop:2101787 Anesthesia for angioplasty (Deprecated)\n",
      "omop:2107779 Transluminal balloon angioplasty, open; renal or other visceral artery\n",
      "omop:2107780 Transluminal balloon angioplasty, open; aortic\n"
     ]
    }
   ],
   "source": [
    "from oaklib.datamodels.search import SearchConfiguration\n",
    "for t in list(adapter.basic_search(\"Angioplasty\", SearchConfiguration(is_partial=True)))[0:5]:\n",
    "    print(t, adapter.label(t))"
   ],
   "metadata": {
    "collapsed": false,
    "ExecuteTime": {
     "end_time": "2023-08-19T02:03:09.387547Z",
     "start_time": "2023-08-19T02:03:05.069847Z"
    }
   }
  },
  {
   "cell_type": "markdown",
   "source": [
    "## Graph Queries"
   ],
   "metadata": {
    "collapsed": false
   }
  },
  {
   "cell_type": "code",
   "execution_count": 5,
   "outputs": [
    {
     "name": "stdout",
     "output_type": "stream",
     "text": [
      "omop:4195673 Angioplasty of posterior tibial artery\n",
      "omop:4000756 Leg repair\n",
      "omop:4002031 Cardiovascular system repair\n",
      "omop:4012185 Cardiovascular surgical procedure\n",
      "omop:4030028 Surgical procedure on lower extremity\n",
      "omop:4050128 Angioplasty of artery\n",
      "omop:4050134 Angioplasty of crural artery\n",
      "omop:4054559 Repair of blood vessel\n",
      "omop:4062347 Surgical repair of artery of extremity\n",
      "omop:4091623 Surgical repair of lower extremity\n",
      "omop:4148948 Vascular surgery procedure\n",
      "omop:4159949 Surgical procedure on soft tissue\n",
      "omop:4160912 Vascular surgical procedure on lower limb\n",
      "omop:4177089 Surgical repair procedure by device\n",
      "omop:4181193 Limb operation\n",
      "omop:4181322 Surgical repair procedure by body site\n",
      "omop:4184453 Operative procedure on lower leg\n",
      "omop:4185115 Surgical repair\n",
      "omop:4190070 Angioplasty of artery of lower extremity\n",
      "omop:4195673 Angioplasty of posterior tibial artery\n",
      "omop:4301351 Surgical procedure\n",
      "omop:4302652 Angioplasty of blood vessel\n",
      "omop:4311041 Repair of artery\n",
      "omop:4324523 Dilation procedure\n",
      "omop:4331725 Operative procedure on artery of extremity\n",
      "omop:46271049 Angioplasty of peripheral blood vessel\n"
     ]
    }
   ],
   "source": [
    "from oaklib.datamodels.vocabulary import IS_A\n",
    "ancs = list(adapter.ancestors([TERM_ID], predicates=[IS_A]))\n",
    "for a in ancs:\n",
    "    print(a, adapter.label(a))"
   ],
   "metadata": {
    "collapsed": false,
    "ExecuteTime": {
     "end_time": "2023-08-19T02:03:09.411940Z",
     "start_time": "2023-08-19T02:03:09.391590Z"
    }
   }
  },
  {
   "cell_type": "code",
   "execution_count": 6,
   "outputs": [
    {
     "name": "stdout",
     "output_type": "stream",
     "text": [
      "omop:3183297 Transvaginal urethral sling repair\n",
      "omop:2730516 Bypass Right Femoral Artery to Posterior Tibial Artery, Percutaneous Endoscopic Approach\n",
      "omop:4210771 Reconstruction of eyelid, full-thickness\n",
      "omop:2733612 Extraction of Left Brachial Vein, Percutaneous Approach\n",
      "omop:2725058 Bypass Right Ventricle to Right Pulmonary Artery with Synthetic Substitute, Percutaneous Endoscopic Approach\n"
     ]
    }
   ],
   "source": [
    "descs = list(adapter.descendants([\"omop:4181322\"], predicates=[IS_A]))\n",
    "for d in descs[0:5]:\n",
    "    print(d, adapter.label(d))"
   ],
   "metadata": {
    "collapsed": false,
    "ExecuteTime": {
     "end_time": "2023-08-19T02:03:12.290810Z",
     "start_time": "2023-08-19T02:03:09.411017Z"
    }
   }
  },
  {
   "cell_type": "markdown",
   "source": [
    "## Semantic Similarity"
   ],
   "metadata": {
    "collapsed": false
   }
  },
  {
   "cell_type": "code",
   "execution_count": 7,
   "outputs": [
    {
     "name": "stdout",
     "output_type": "stream",
     "text": [
      "subject_id: omop:4195673\n",
      "object_id: omop:2733612\n",
      "ancestor_id: omop:4302652\n",
      "ancestor_information_content: 10.432664389401875\n",
      "jaccard_similarity: 0.3793103448275862\n",
      "phenodigm_score: 1.9892756287187816\n",
      "\n"
     ]
    }
   ],
   "source": [
    "from linkml_runtime.dumpers import yaml_dumper\n",
    "print(yaml_dumper.dumps(adapter.pairwise_similarity(TERM_ID, \"omop:2733612\")))"
   ],
   "metadata": {
    "collapsed": false,
    "ExecuteTime": {
     "end_time": "2023-08-19T02:03:17.051975Z",
     "start_time": "2023-08-19T02:03:12.293483Z"
    }
   }
  },
  {
   "cell_type": "markdown",
   "source": [
    "## Paths"
   ],
   "metadata": {
    "collapsed": false
   }
  },
  {
   "cell_type": "code",
   "execution_count": 12,
   "outputs": [
    {
     "name": "stdout",
     "output_type": "stream",
     "text": [
      "[('omop:4195673', 'Angioplasty of posterior tibial artery'), ('omop:4210771', 'Reconstruction of eyelid, full-thickness'), ('omop:4195673', 'Angioplasty of posterior tibial artery')]\n",
      "[('omop:4195673', 'Angioplasty of posterior tibial artery'), ('omop:4210771', 'Reconstruction of eyelid, full-thickness'), ('omop:4000756', 'Leg repair')]\n",
      "[('omop:4195673', 'Angioplasty of posterior tibial artery'), ('omop:4210771', 'Reconstruction of eyelid, full-thickness'), ('omop:4091623', 'Surgical repair of lower extremity')]\n",
      "[('omop:4195673', 'Angioplasty of posterior tibial artery'), ('omop:4210771', 'Reconstruction of eyelid, full-thickness'), ('omop:4181322', 'Surgical repair procedure by body site')]\n",
      "[('omop:4195673', 'Angioplasty of posterior tibial artery'), ('omop:4210771', 'Reconstruction of eyelid, full-thickness'), ('omop:4161058', 'Surgical repair of head and neck structure')]\n",
      "[('omop:4195673', 'Angioplasty of posterior tibial artery'), ('omop:4210771', 'Reconstruction of eyelid, full-thickness'), ('omop:4161828', 'Repair of eyelid')]\n",
      "[('omop:4195673', 'Angioplasty of posterior tibial artery'), ('omop:4210771', 'Reconstruction of eyelid, full-thickness'), ('omop:4330850', 'Reconstruction of eyelid')]\n",
      "[('omop:4195673', 'Angioplasty of posterior tibial artery'), ('omop:4210771', 'Reconstruction of eyelid, full-thickness'), ('omop:4210771', 'Reconstruction of eyelid, full-thickness')]\n",
      "[('omop:4195673', 'Angioplasty of posterior tibial artery'), ('omop:4210771', 'Reconstruction of eyelid, full-thickness'), ('omop:4195673', 'Angioplasty of posterior tibial artery')]\n",
      "[('omop:4195673', 'Angioplasty of posterior tibial artery'), ('omop:4210771', 'Reconstruction of eyelid, full-thickness'), ('omop:4000756', 'Leg repair')]\n",
      "[('omop:4195673', 'Angioplasty of posterior tibial artery'), ('omop:4210771', 'Reconstruction of eyelid, full-thickness'), ('omop:4091623', 'Surgical repair of lower extremity')]\n",
      "[('omop:4195673', 'Angioplasty of posterior tibial artery'), ('omop:4210771', 'Reconstruction of eyelid, full-thickness'), ('omop:4181322', 'Surgical repair procedure by body site')]\n",
      "[('omop:4195673', 'Angioplasty of posterior tibial artery'), ('omop:4210771', 'Reconstruction of eyelid, full-thickness'), ('omop:4185115', 'Surgical repair')]\n",
      "[('omop:4195673', 'Angioplasty of posterior tibial artery'), ('omop:4210771', 'Reconstruction of eyelid, full-thickness'), ('omop:4045162', 'Reconstruction procedure')]\n",
      "[('omop:4195673', 'Angioplasty of posterior tibial artery'), ('omop:4210771', 'Reconstruction of eyelid, full-thickness'), ('omop:4330850', 'Reconstruction of eyelid')]\n",
      "[('omop:4195673', 'Angioplasty of posterior tibial artery'), ('omop:4210771', 'Reconstruction of eyelid, full-thickness'), ('omop:4210771', 'Reconstruction of eyelid, full-thickness')]\n",
      "[('omop:4195673', 'Angioplasty of posterior tibial artery'), ('omop:4210771', 'Reconstruction of eyelid, full-thickness'), ('omop:4195673', 'Angioplasty of posterior tibial artery')]\n",
      "[('omop:4195673', 'Angioplasty of posterior tibial artery'), ('omop:4210771', 'Reconstruction of eyelid, full-thickness'), ('omop:4050134', 'Angioplasty of crural artery')]\n",
      "[('omop:4195673', 'Angioplasty of posterior tibial artery'), ('omop:4210771', 'Reconstruction of eyelid, full-thickness'), ('omop:4190070', 'Angioplasty of artery of lower extremity')]\n",
      "[('omop:4195673', 'Angioplasty of posterior tibial artery'), ('omop:4210771', 'Reconstruction of eyelid, full-thickness'), ('omop:4177089', 'Surgical repair procedure by device')]\n",
      "[('omop:4195673', 'Angioplasty of posterior tibial artery'), ('omop:4210771', 'Reconstruction of eyelid, full-thickness'), ('omop:4185115', 'Surgical repair')]\n",
      "[('omop:4195673', 'Angioplasty of posterior tibial artery'), ('omop:4210771', 'Reconstruction of eyelid, full-thickness'), ('omop:4045162', 'Reconstruction procedure')]\n",
      "[('omop:4195673', 'Angioplasty of posterior tibial artery'), ('omop:4210771', 'Reconstruction of eyelid, full-thickness'), ('omop:4330850', 'Reconstruction of eyelid')]\n",
      "[('omop:4195673', 'Angioplasty of posterior tibial artery'), ('omop:4210771', 'Reconstruction of eyelid, full-thickness'), ('omop:4210771', 'Reconstruction of eyelid, full-thickness')]\n"
     ]
    }
   ],
   "source": [
    "for path in adapter.paths([TERM_ID], [\"omop:4210771\"], predicates=[IS_A]):\n",
    "    print([(elt, adapter.label(elt)) for elt in path])"
   ],
   "metadata": {
    "collapsed": false,
    "ExecuteTime": {
     "end_time": "2023-08-19T02:04:57.473444Z",
     "start_time": "2023-08-19T02:04:57.379279Z"
    }
   }
  },
  {
   "cell_type": "markdown",
   "source": [
    "## Subgraphs"
   ],
   "metadata": {
    "collapsed": false
   }
  },
  {
   "cell_type": "code",
   "execution_count": 15,
   "outputs": [],
   "source": [
    "seeds = [TERM_ID, \"omop:4210771\", \"omop:2733612\"]\n",
    "g = adapter.ancestor_graph(seeds, predicates=[IS_A])"
   ],
   "metadata": {
    "collapsed": false,
    "ExecuteTime": {
     "end_time": "2023-08-19T02:09:05.190787Z",
     "start_time": "2023-08-19T02:09:05.113987Z"
    }
   }
  },
  {
   "cell_type": "code",
   "execution_count": 16,
   "outputs": [],
   "source": [
    "from oaklib.utilities.obograph_utils import graph_to_image\n",
    "graph_to_image(g, seeds=seeds, imgfile=\"output/angioplasty.png\", format=\"png\")"
   ],
   "metadata": {
    "collapsed": false,
    "ExecuteTime": {
     "end_time": "2023-08-19T02:09:08.917990Z",
     "start_time": "2023-08-19T02:09:07.817451Z"
    }
   }
  },
  {
   "cell_type": "markdown",
   "source": [
    "![img](output/angioplasty.png)"
   ],
   "metadata": {
    "collapsed": false
   }
  },
  {
   "cell_type": "markdown",
   "source": [
    "## Export to networkx"
   ],
   "metadata": {
    "collapsed": false
   }
  },
  {
   "cell_type": "code",
   "execution_count": 17,
   "outputs": [],
   "source": [
    "from oaklib.utilities.obograph_utils import as_multi_digraph\n",
    "nx_g = as_multi_digraph(g)"
   ],
   "metadata": {
    "collapsed": false,
    "ExecuteTime": {
     "end_time": "2023-08-19T02:10:44.733552Z",
     "start_time": "2023-08-19T02:10:44.729004Z"
    }
   }
  },
  {
   "cell_type": "code",
   "execution_count": 18,
   "outputs": [
    {
     "data": {
      "text/plain": "NodeView(('omop:4027561', 'omop:2733612', 'omop:40489873', 'omop:4177089', 'omop:4302652', 'omop:4054559', 'omop:4324523', 'omop:4301351', 'omop:4002031', 'omop:4148948', 'omop:4012185', 'omop:4159949', 'omop:4181322', 'omop:4185115', 'omop:4134598', 'omop:4330850', 'omop:4210771', 'omop:4045162', 'omop:4161828', 'omop:4161058', 'omop:4249123', 'omop:4139008', 'omop:4031321', 'omop:4154279', 'omop:4233946', 'omop:4040721', 'omop:4000756', 'omop:4195673', 'omop:4050134', 'omop:4190070', 'omop:4050128', 'omop:4062347', 'omop:4091623', 'omop:4160912', 'omop:46271049', 'omop:4030028', 'omop:4181193', 'omop:4311041', 'omop:4331725', 'omop:4184453'))"
     },
     "execution_count": 18,
     "metadata": {},
     "output_type": "execute_result"
    }
   ],
   "source": [
    "nx_g.nodes"
   ],
   "metadata": {
    "collapsed": false,
    "ExecuteTime": {
     "end_time": "2023-08-19T02:10:55.153851Z",
     "start_time": "2023-08-19T02:10:55.148269Z"
    }
   }
  },
  {
   "cell_type": "code",
   "execution_count": 21,
   "outputs": [
    {
     "data": {
      "text/plain": "{'omop:4027561': 0.05128205128205128,\n 'omop:2733612': 0.05128205128205128,\n 'omop:40489873': 0.07692307692307693,\n 'omop:4177089': 0.07692307692307693,\n 'omop:4302652': 0.10256410256410256,\n 'omop:4054559': 0.10256410256410256,\n 'omop:4324523': 0.07692307692307693,\n 'omop:4301351': 0.1794871794871795,\n 'omop:4002031': 0.10256410256410256,\n 'omop:4148948': 0.1282051282051282,\n 'omop:4012185': 0.07692307692307693,\n 'omop:4159949': 0.05128205128205128,\n 'omop:4181322': 0.10256410256410256,\n 'omop:4185115': 0.10256410256410256,\n 'omop:4134598': 0.05128205128205128,\n 'omop:4330850': 0.07692307692307693,\n 'omop:4210771': 0.02564102564102564,\n 'omop:4045162': 0.05128205128205128,\n 'omop:4161828': 0.07692307692307693,\n 'omop:4161058': 0.07692307692307693,\n 'omop:4249123': 0.05128205128205128,\n 'omop:4139008': 0.07692307692307693,\n 'omop:4031321': 0.05128205128205128,\n 'omop:4154279': 0.05128205128205128,\n 'omop:4233946': 0.07692307692307693,\n 'omop:4040721': 0.02564102564102564,\n 'omop:4000756': 0.07692307692307693,\n 'omop:4195673': 0.05128205128205128,\n 'omop:4050134': 0.05128205128205128,\n 'omop:4190070': 0.1794871794871795,\n 'omop:4050128': 0.07692307692307693,\n 'omop:4062347': 0.07692307692307693,\n 'omop:4091623': 0.10256410256410256,\n 'omop:4160912': 0.07692307692307693,\n 'omop:46271049': 0.07692307692307693,\n 'omop:4030028': 0.10256410256410256,\n 'omop:4181193': 0.07692307692307693,\n 'omop:4311041': 0.07692307692307693,\n 'omop:4331725': 0.07692307692307693,\n 'omop:4184453': 0.05128205128205128}"
     },
     "execution_count": 21,
     "metadata": {},
     "output_type": "execute_result"
    }
   ],
   "source": [
    "# find graph statistics using networkx\n",
    "import networkx as nx\n",
    "nx.degree_centrality(nx_g)"
   ],
   "metadata": {
    "collapsed": false,
    "ExecuteTime": {
     "end_time": "2023-08-19T02:12:39.526490Z",
     "start_time": "2023-08-19T02:12:39.518261Z"
    }
   }
  },
  {
   "cell_type": "markdown",
   "source": [
    "## Term metadata"
   ],
   "metadata": {
    "collapsed": false
   }
  },
  {
   "cell_type": "code",
   "execution_count": 24,
   "outputs": [
    {
     "data": {
      "text/plain": "{'id': ['omop:4195673'],\n 'omop:concept_class_id': ['Procedure'],\n 'omop:concept_code': ['312644004'],\n 'omop:domain_id': ['Procedure'],\n 'omop:standard_concept': ['S'],\n 'omop:valid_end_date': ['2099-12-31'],\n 'omop:valid_start_date': ['2002-01-31'],\n 'omop:vocabulary_id': ['SNOMED'],\n 'rdfs:label': ['Angioplasty of posterior tibial artery'],\n 'sh:prefix': ['omop'],\n 'schema:url': ['https://athena.ohdsi.org/search-terms/terms/4195673'],\n 'rdfs:isDefinedBy': ['https://athena.ohdsi.org/search-terms/terms/']}"
     },
     "execution_count": 24,
     "metadata": {},
     "output_type": "execute_result"
    }
   ],
   "source": [
    "adapter.entity_metadata_map(TERM_ID)"
   ],
   "metadata": {
    "collapsed": false,
    "ExecuteTime": {
     "end_time": "2023-08-19T02:14:39.686649Z",
     "start_time": "2023-08-19T02:14:35.034364Z"
    }
   }
  },
  {
   "cell_type": "code",
   "execution_count": 25,
   "outputs": [],
   "source": [
    "adapter.label(\"omop:312644004\")"
   ],
   "metadata": {
    "collapsed": false,
    "ExecuteTime": {
     "end_time": "2023-08-19T02:15:26.000340Z",
     "start_time": "2023-08-19T02:15:25.994821Z"
    }
   }
  },
  {
   "cell_type": "code",
   "execution_count": null,
   "outputs": [],
   "source": [],
   "metadata": {
    "collapsed": false
   }
  }
 ],
 "metadata": {
  "kernelspec": {
   "name": "python3",
   "language": "python",
   "display_name": "Python 3 (ipykernel)"
  }
 },
 "nbformat": 4,
 "nbformat_minor": 5
}
