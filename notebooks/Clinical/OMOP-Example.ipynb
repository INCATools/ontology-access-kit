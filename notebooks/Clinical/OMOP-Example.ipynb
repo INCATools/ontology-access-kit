{
 "cells": [
  {
   "cell_type": "markdown",
   "id": "1940578a",
   "metadata": {
    "collapsed": false,
    "jupyter": {
     "outputs_hidden": false
    }
   },
   "source": [
    "# OMOP Examples\n",
    "\n",
    "See https://github.com/jhu-bids/TermHub/issues/516\n"
   ]
  },
  {
   "cell_type": "markdown",
   "id": "3b8c6747",
   "metadata": {
    "collapsed": false,
    "jupyter": {
     "outputs_hidden": false
    }
   },
   "source": [
    "## Basic term lookup"
   ]
  },
  {
   "cell_type": "code",
   "execution_count": 1,
   "id": "4de67698",
   "metadata": {
    "ExecuteTime": {
     "end_time": "2023-08-19T02:03:00.757982Z",
     "start_time": "2023-08-19T02:02:58.831821Z"
    },
    "collapsed": false,
    "jupyter": {
     "outputs_hidden": false
    }
   },
   "outputs": [],
   "source": [
    "from oaklib import get_adapter\n",
    "adapter = get_adapter('input/n3c.db')"
   ]
  },
  {
   "cell_type": "code",
   "execution_count": 2,
   "id": "c58acbfa",
   "metadata": {
    "ExecuteTime": {
     "end_time": "2023-08-19T02:03:00.777882Z",
     "start_time": "2023-08-19T02:03:00.760498Z"
    },
    "collapsed": false,
    "jupyter": {
     "outputs_hidden": false
    }
   },
   "outputs": [
    {
     "name": "stdout",
     "output_type": "stream",
     "text": [
      "Angioplasty of posterior tibial artery\n"
     ]
    }
   ],
   "source": [
    "TERM_ID = \"omop:4195673\"\n",
    "print(adapter.label(TERM_ID))"
   ]
  },
  {
   "cell_type": "markdown",
   "id": "5752d298",
   "metadata": {
    "collapsed": false,
    "jupyter": {
     "outputs_hidden": false
    }
   },
   "source": [
    "## Basic Search"
   ]
  },
  {
   "cell_type": "code",
   "execution_count": 3,
   "id": "77c6eb24",
   "metadata": {
    "ExecuteTime": {
     "end_time": "2023-08-19T02:03:05.066505Z",
     "start_time": "2023-08-19T02:03:00.780740Z"
    },
    "collapsed": false,
    "jupyter": {
     "outputs_hidden": false
    }
   },
   "outputs": [
    {
     "data": {
      "text/plain": [
       "['omop:1018433']"
      ]
     },
     "execution_count": 3,
     "metadata": {},
     "output_type": "execute_result"
    }
   ],
   "source": [
    "list(adapter.basic_search(\"Angioplasty\"))"
   ]
  },
  {
   "cell_type": "code",
   "execution_count": 4,
   "id": "0e1054d0",
   "metadata": {
    "ExecuteTime": {
     "end_time": "2023-08-19T02:03:09.387547Z",
     "start_time": "2023-08-19T02:03:05.069847Z"
    },
    "collapsed": false,
    "jupyter": {
     "outputs_hidden": false
    }
   },
   "outputs": [
    {
     "name": "stdout",
     "output_type": "stream",
     "text": [
      "omop:45933598 Postsurgical Percutaneous Transluminal Coronary Angioplasty Status\n",
      "omop:1389714 Percutaneous transluminal angioplasty of native or recurrent coarctation of the aorta\n",
      "omop:2101787 Anesthesia for angioplasty (Deprecated)\n",
      "omop:2107779 Transluminal balloon angioplasty, open; renal or other visceral artery\n",
      "omop:2107780 Transluminal balloon angioplasty, open; aortic\n"
     ]
    }
   ],
   "source": [
    "from oaklib.datamodels.search import SearchConfiguration\n",
    "for t in list(adapter.basic_search(\"Angioplasty\", SearchConfiguration(is_partial=True)))[0:5]:\n",
    "    print(t, adapter.label(t))"
   ]
  },
  {
   "cell_type": "markdown",
   "id": "76f14f50",
   "metadata": {
    "collapsed": false,
    "jupyter": {
     "outputs_hidden": false
    }
   },
   "source": [
    "## Graph Queries"
   ]
  },
  {
   "cell_type": "code",
   "execution_count": 5,
   "id": "0de6da3d",
   "metadata": {
    "ExecuteTime": {
     "end_time": "2023-08-19T02:03:09.411940Z",
     "start_time": "2023-08-19T02:03:09.391590Z"
    },
    "collapsed": false,
    "jupyter": {
     "outputs_hidden": false
    }
   },
   "outputs": [
    {
     "name": "stdout",
     "output_type": "stream",
     "text": [
      "omop:4195673 Angioplasty of posterior tibial artery\n",
      "omop:4000756 Leg repair\n",
      "omop:4002031 Cardiovascular system repair\n",
      "omop:4012185 Cardiovascular surgical procedure\n",
      "omop:4030028 Surgical procedure on lower extremity\n",
      "omop:4050128 Angioplasty of artery\n",
      "omop:4050134 Angioplasty of crural artery\n",
      "omop:4054559 Repair of blood vessel\n",
      "omop:4062347 Surgical repair of artery of extremity\n",
      "omop:4091623 Surgical repair of lower extremity\n",
      "omop:4148948 Vascular surgery procedure\n",
      "omop:4159949 Surgical procedure on soft tissue\n",
      "omop:4160912 Vascular surgical procedure on lower limb\n",
      "omop:4177089 Surgical repair procedure by device\n",
      "omop:4181193 Limb operation\n",
      "omop:4181322 Surgical repair procedure by body site\n",
      "omop:4184453 Operative procedure on lower leg\n",
      "omop:4185115 Surgical repair\n",
      "omop:4190070 Angioplasty of artery of lower extremity\n",
      "omop:4195673 Angioplasty of posterior tibial artery\n",
      "omop:4301351 Surgical procedure\n",
      "omop:4302652 Angioplasty of blood vessel\n",
      "omop:4311041 Repair of artery\n",
      "omop:4324523 Dilation procedure\n",
      "omop:4331725 Operative procedure on artery of extremity\n",
      "omop:46271049 Angioplasty of peripheral blood vessel\n"
     ]
    }
   ],
   "source": [
    "from oaklib.datamodels.vocabulary import IS_A\n",
    "ancs = list(adapter.ancestors([TERM_ID], predicates=[IS_A]))\n",
    "for a in ancs:\n",
    "    print(a, adapter.label(a))"
   ]
  },
  {
   "cell_type": "code",
   "execution_count": 6,
   "id": "23dceb5e",
   "metadata": {
    "ExecuteTime": {
     "end_time": "2023-08-19T02:03:12.290810Z",
     "start_time": "2023-08-19T02:03:09.411017Z"
    },
    "collapsed": false,
    "jupyter": {
     "outputs_hidden": false
    }
   },
   "outputs": [
    {
     "name": "stdout",
     "output_type": "stream",
     "text": [
      "omop:3183297 Transvaginal urethral sling repair\n",
      "omop:2730516 Bypass Right Femoral Artery to Posterior Tibial Artery, Percutaneous Endoscopic Approach\n",
      "omop:4210771 Reconstruction of eyelid, full-thickness\n",
      "omop:2733612 Extraction of Left Brachial Vein, Percutaneous Approach\n",
      "omop:2725058 Bypass Right Ventricle to Right Pulmonary Artery with Synthetic Substitute, Percutaneous Endoscopic Approach\n"
     ]
    }
   ],
   "source": [
    "descs = list(adapter.descendants([\"omop:4181322\"], predicates=[IS_A]))\n",
    "for d in descs[0:5]:\n",
    "    print(d, adapter.label(d))"
   ]
  },
  {
   "cell_type": "markdown",
   "id": "1230ac38",
   "metadata": {
    "collapsed": false,
    "jupyter": {
     "outputs_hidden": false
    }
   },
   "source": [
    "## Semantic Similarity"
   ]
  },
  {
   "cell_type": "code",
   "execution_count": 7,
   "id": "cda772fc",
   "metadata": {
    "ExecuteTime": {
     "end_time": "2023-08-19T02:03:17.051975Z",
     "start_time": "2023-08-19T02:03:12.293483Z"
    },
    "collapsed": false,
    "jupyter": {
     "outputs_hidden": false
    }
   },
   "outputs": [
    {
     "name": "stdout",
     "output_type": "stream",
     "text": [
      "subject_id: omop:4195673\n",
      "object_id: omop:2733612\n",
      "ancestor_id: omop:4302652\n",
      "ancestor_information_content: 10.432664389401875\n",
      "jaccard_similarity: 0.3793103448275862\n",
      "phenodigm_score: 1.9892756287187816\n",
      "\n"
     ]
    }
   ],
   "source": [
    "from linkml_runtime.dumpers import yaml_dumper\n",
    "print(yaml_dumper.dumps(adapter.pairwise_similarity(TERM_ID, \"omop:2733612\")))"
   ]
  },
  {
   "cell_type": "markdown",
   "id": "713ccfd2",
   "metadata": {
    "collapsed": false,
    "jupyter": {
     "outputs_hidden": false
    }
   },
   "source": [
    "## Paths"
   ]
  },
  {
   "cell_type": "code",
   "execution_count": 8,
   "id": "a4922766",
   "metadata": {
    "ExecuteTime": {
     "end_time": "2023-08-19T02:04:57.473444Z",
     "start_time": "2023-08-19T02:04:57.379279Z"
    },
    "collapsed": false,
    "jupyter": {
     "outputs_hidden": false
    }
   },
   "outputs": [
    {
     "name": "stdout",
     "output_type": "stream",
     "text": [
      "[('omop:4195673', 'Angioplasty of posterior tibial artery'), ('omop:4210771', 'Reconstruction of eyelid, full-thickness'), ('omop:4195673', 'Angioplasty of posterior tibial artery')]\n",
      "[('omop:4195673', 'Angioplasty of posterior tibial artery'), ('omop:4210771', 'Reconstruction of eyelid, full-thickness'), ('omop:4000756', 'Leg repair')]\n",
      "[('omop:4195673', 'Angioplasty of posterior tibial artery'), ('omop:4210771', 'Reconstruction of eyelid, full-thickness'), ('omop:4091623', 'Surgical repair of lower extremity')]\n",
      "[('omop:4195673', 'Angioplasty of posterior tibial artery'), ('omop:4210771', 'Reconstruction of eyelid, full-thickness'), ('omop:4181322', 'Surgical repair procedure by body site')]\n",
      "[('omop:4195673', 'Angioplasty of posterior tibial artery'), ('omop:4210771', 'Reconstruction of eyelid, full-thickness'), ('omop:4185115', 'Surgical repair')]\n",
      "[('omop:4195673', 'Angioplasty of posterior tibial artery'), ('omop:4210771', 'Reconstruction of eyelid, full-thickness'), ('omop:4045162', 'Reconstruction procedure')]\n",
      "[('omop:4195673', 'Angioplasty of posterior tibial artery'), ('omop:4210771', 'Reconstruction of eyelid, full-thickness'), ('omop:4330850', 'Reconstruction of eyelid')]\n",
      "[('omop:4195673', 'Angioplasty of posterior tibial artery'), ('omop:4210771', 'Reconstruction of eyelid, full-thickness'), ('omop:4210771', 'Reconstruction of eyelid, full-thickness')]\n",
      "[('omop:4195673', 'Angioplasty of posterior tibial artery'), ('omop:4210771', 'Reconstruction of eyelid, full-thickness'), ('omop:4195673', 'Angioplasty of posterior tibial artery')]\n",
      "[('omop:4195673', 'Angioplasty of posterior tibial artery'), ('omop:4210771', 'Reconstruction of eyelid, full-thickness'), ('omop:4050134', 'Angioplasty of crural artery')]\n",
      "[('omop:4195673', 'Angioplasty of posterior tibial artery'), ('omop:4210771', 'Reconstruction of eyelid, full-thickness'), ('omop:4190070', 'Angioplasty of artery of lower extremity')]\n",
      "[('omop:4195673', 'Angioplasty of posterior tibial artery'), ('omop:4210771', 'Reconstruction of eyelid, full-thickness'), ('omop:4177089', 'Surgical repair procedure by device')]\n",
      "[('omop:4195673', 'Angioplasty of posterior tibial artery'), ('omop:4210771', 'Reconstruction of eyelid, full-thickness'), ('omop:4185115', 'Surgical repair')]\n",
      "[('omop:4195673', 'Angioplasty of posterior tibial artery'), ('omop:4210771', 'Reconstruction of eyelid, full-thickness'), ('omop:4045162', 'Reconstruction procedure')]\n",
      "[('omop:4195673', 'Angioplasty of posterior tibial artery'), ('omop:4210771', 'Reconstruction of eyelid, full-thickness'), ('omop:4330850', 'Reconstruction of eyelid')]\n",
      "[('omop:4195673', 'Angioplasty of posterior tibial artery'), ('omop:4210771', 'Reconstruction of eyelid, full-thickness'), ('omop:4210771', 'Reconstruction of eyelid, full-thickness')]\n",
      "[('omop:4195673', 'Angioplasty of posterior tibial artery'), ('omop:4210771', 'Reconstruction of eyelid, full-thickness'), ('omop:4195673', 'Angioplasty of posterior tibial artery')]\n",
      "[('omop:4195673', 'Angioplasty of posterior tibial artery'), ('omop:4210771', 'Reconstruction of eyelid, full-thickness'), ('omop:4000756', 'Leg repair')]\n",
      "[('omop:4195673', 'Angioplasty of posterior tibial artery'), ('omop:4210771', 'Reconstruction of eyelid, full-thickness'), ('omop:4091623', 'Surgical repair of lower extremity')]\n",
      "[('omop:4195673', 'Angioplasty of posterior tibial artery'), ('omop:4210771', 'Reconstruction of eyelid, full-thickness'), ('omop:4181322', 'Surgical repair procedure by body site')]\n",
      "[('omop:4195673', 'Angioplasty of posterior tibial artery'), ('omop:4210771', 'Reconstruction of eyelid, full-thickness'), ('omop:4161058', 'Surgical repair of head and neck structure')]\n",
      "[('omop:4195673', 'Angioplasty of posterior tibial artery'), ('omop:4210771', 'Reconstruction of eyelid, full-thickness'), ('omop:4161828', 'Repair of eyelid')]\n",
      "[('omop:4195673', 'Angioplasty of posterior tibial artery'), ('omop:4210771', 'Reconstruction of eyelid, full-thickness'), ('omop:4330850', 'Reconstruction of eyelid')]\n",
      "[('omop:4195673', 'Angioplasty of posterior tibial artery'), ('omop:4210771', 'Reconstruction of eyelid, full-thickness'), ('omop:4210771', 'Reconstruction of eyelid, full-thickness')]\n"
     ]
    }
   ],
   "source": [
    "for path in adapter.paths([TERM_ID], [\"omop:4210771\"], predicates=[IS_A]):\n",
    "    print([(elt, adapter.label(elt)) for elt in path])"
   ]
  },
  {
   "cell_type": "markdown",
   "id": "7a43673f",
   "metadata": {
    "collapsed": false,
    "jupyter": {
     "outputs_hidden": false
    }
   },
   "source": [
    "## Subgraphs"
   ]
  },
  {
   "cell_type": "code",
   "execution_count": 9,
   "id": "7c9d31c3",
   "metadata": {
    "ExecuteTime": {
     "end_time": "2023-08-19T02:09:05.190787Z",
     "start_time": "2023-08-19T02:09:05.113987Z"
    },
    "collapsed": false,
    "jupyter": {
     "outputs_hidden": false
    }
   },
   "outputs": [],
   "source": [
    "seeds = [TERM_ID, \"omop:4210771\", \"omop:2733612\"]\n",
    "g = adapter.ancestor_graph(seeds, predicates=[IS_A])"
   ]
  },
  {
   "cell_type": "code",
   "execution_count": 10,
   "id": "c75e6964",
   "metadata": {
    "ExecuteTime": {
     "end_time": "2023-08-19T02:09:08.917990Z",
     "start_time": "2023-08-19T02:09:07.817451Z"
    },
    "collapsed": false,
    "jupyter": {
     "outputs_hidden": false
    }
   },
   "outputs": [],
   "source": [
    "from oaklib.utilities.obograph_utils import graph_to_image\n",
    "graph_to_image(g, seeds=seeds, imgfile=\"output/angioplasty.png\", format=\"png\")"
   ]
  },
  {
   "cell_type": "markdown",
   "id": "1d249bf2",
   "metadata": {
    "collapsed": false,
    "jupyter": {
     "outputs_hidden": false
    }
   },
   "source": [
    "![img](output/angioplasty.png)"
   ]
  },
  {
   "cell_type": "markdown",
   "id": "1a899a25",
   "metadata": {
    "collapsed": false,
    "jupyter": {
     "outputs_hidden": false
    }
   },
   "source": [
    "## Export to networkx"
   ]
  },
  {
   "cell_type": "code",
   "execution_count": 11,
   "id": "75adc8f8",
   "metadata": {
    "ExecuteTime": {
     "end_time": "2023-08-19T02:10:44.733552Z",
     "start_time": "2023-08-19T02:10:44.729004Z"
    },
    "collapsed": false,
    "jupyter": {
     "outputs_hidden": false
    }
   },
   "outputs": [],
   "source": [
    "from oaklib.utilities.obograph_utils import as_multi_digraph\n",
    "nx_g = as_multi_digraph(g)"
   ]
  },
  {
   "cell_type": "code",
   "execution_count": 12,
   "id": "bf22958c",
   "metadata": {
    "ExecuteTime": {
     "end_time": "2023-08-19T02:10:55.153851Z",
     "start_time": "2023-08-19T02:10:55.148269Z"
    },
    "collapsed": false,
    "jupyter": {
     "outputs_hidden": false
    }
   },
   "outputs": [
    {
     "data": {
      "text/plain": [
       "NodeView(('omop:4027561', 'omop:2733612', 'omop:40489873', 'omop:4177089', 'omop:4302652', 'omop:4054559', 'omop:4324523', 'omop:4301351', 'omop:4002031', 'omop:4148948', 'omop:4012185', 'omop:4159949', 'omop:4181322', 'omop:4185115', 'omop:4134598', 'omop:4330850', 'omop:4210771', 'omop:4045162', 'omop:4161828', 'omop:4161058', 'omop:4249123', 'omop:4139008', 'omop:4031321', 'omop:4154279', 'omop:4233946', 'omop:4040721', 'omop:4000756', 'omop:4195673', 'omop:4050134', 'omop:4190070', 'omop:4050128', 'omop:4062347', 'omop:4091623', 'omop:4160912', 'omop:46271049', 'omop:4030028', 'omop:4181193', 'omop:4311041', 'omop:4331725', 'omop:4184453'))"
      ]
     },
     "execution_count": 12,
     "metadata": {},
     "output_type": "execute_result"
    }
   ],
   "source": [
    "nx_g.nodes"
   ]
  },
  {
   "cell_type": "code",
   "execution_count": 13,
   "id": "60cba513",
   "metadata": {
    "ExecuteTime": {
     "end_time": "2023-08-19T02:12:39.526490Z",
     "start_time": "2023-08-19T02:12:39.518261Z"
    },
    "collapsed": false,
    "jupyter": {
     "outputs_hidden": false
    }
   },
   "outputs": [
    {
     "data": {
      "text/plain": [
       "{'omop:4027561': 0.05128205128205128,\n",
       " 'omop:2733612': 0.05128205128205128,\n",
       " 'omop:40489873': 0.07692307692307693,\n",
       " 'omop:4177089': 0.07692307692307693,\n",
       " 'omop:4302652': 0.10256410256410256,\n",
       " 'omop:4054559': 0.10256410256410256,\n",
       " 'omop:4324523': 0.07692307692307693,\n",
       " 'omop:4301351': 0.1794871794871795,\n",
       " 'omop:4002031': 0.10256410256410256,\n",
       " 'omop:4148948': 0.1282051282051282,\n",
       " 'omop:4012185': 0.07692307692307693,\n",
       " 'omop:4159949': 0.05128205128205128,\n",
       " 'omop:4181322': 0.10256410256410256,\n",
       " 'omop:4185115': 0.10256410256410256,\n",
       " 'omop:4134598': 0.05128205128205128,\n",
       " 'omop:4330850': 0.07692307692307693,\n",
       " 'omop:4210771': 0.02564102564102564,\n",
       " 'omop:4045162': 0.05128205128205128,\n",
       " 'omop:4161828': 0.07692307692307693,\n",
       " 'omop:4161058': 0.07692307692307693,\n",
       " 'omop:4249123': 0.05128205128205128,\n",
       " 'omop:4139008': 0.07692307692307693,\n",
       " 'omop:4031321': 0.05128205128205128,\n",
       " 'omop:4154279': 0.05128205128205128,\n",
       " 'omop:4233946': 0.07692307692307693,\n",
       " 'omop:4040721': 0.02564102564102564,\n",
       " 'omop:4000756': 0.07692307692307693,\n",
       " 'omop:4195673': 0.05128205128205128,\n",
       " 'omop:4050134': 0.05128205128205128,\n",
       " 'omop:4190070': 0.1794871794871795,\n",
       " 'omop:4050128': 0.07692307692307693,\n",
       " 'omop:4062347': 0.07692307692307693,\n",
       " 'omop:4091623': 0.10256410256410256,\n",
       " 'omop:4160912': 0.07692307692307693,\n",
       " 'omop:46271049': 0.07692307692307693,\n",
       " 'omop:4030028': 0.10256410256410256,\n",
       " 'omop:4181193': 0.07692307692307693,\n",
       " 'omop:4311041': 0.07692307692307693,\n",
       " 'omop:4331725': 0.07692307692307693,\n",
       " 'omop:4184453': 0.05128205128205128}"
      ]
     },
     "execution_count": 13,
     "metadata": {},
     "output_type": "execute_result"
    }
   ],
   "source": [
    "# find graph statistics using networkx\n",
    "import networkx as nx\n",
    "nx.degree_centrality(nx_g)"
   ]
  },
  {
   "cell_type": "markdown",
   "id": "101e0269",
   "metadata": {
    "collapsed": false,
    "jupyter": {
     "outputs_hidden": false
    }
   },
   "source": [
    "## Term metadata"
   ]
  },
  {
   "cell_type": "code",
   "execution_count": 14,
   "id": "50f31a17",
   "metadata": {
    "ExecuteTime": {
     "end_time": "2023-08-19T02:14:39.686649Z",
     "start_time": "2023-08-19T02:14:35.034364Z"
    },
    "collapsed": false,
    "jupyter": {
     "outputs_hidden": false
    }
   },
   "outputs": [
    {
     "data": {
      "text/plain": [
       "{'id': ['omop:4195673'],\n",
       " 'omop:concept_class_id': ['Procedure'],\n",
       " 'omop:concept_code': ['312644004'],\n",
       " 'omop:domain_id': ['Procedure'],\n",
       " 'omop:standard_concept': ['S'],\n",
       " 'omop:valid_end_date': ['2099-12-31'],\n",
       " 'omop:valid_start_date': ['2002-01-31'],\n",
       " 'omop:vocabulary_id': ['SNOMED'],\n",
       " 'rdfs:label': ['Angioplasty of posterior tibial artery'],\n",
       " 'sh:prefix': ['omop'],\n",
       " 'schema:url': ['https://athena.ohdsi.org/search-terms/terms/4195673'],\n",
       " 'rdfs:isDefinedBy': ['https://athena.ohdsi.org/search-terms/terms/']}"
      ]
     },
     "execution_count": 14,
     "metadata": {},
     "output_type": "execute_result"
    }
   ],
   "source": [
    "adapter.entity_metadata_map(TERM_ID)"
   ]
  },
  {
   "cell_type": "code",
   "execution_count": 15,
   "id": "fb74f7a7",
   "metadata": {
    "ExecuteTime": {
     "end_time": "2023-08-19T02:15:26.000340Z",
     "start_time": "2023-08-19T02:15:25.994821Z"
    },
    "collapsed": false,
    "jupyter": {
     "outputs_hidden": false
    }
   },
   "outputs": [],
   "source": [
    "adapter.label(\"omop:312644004\")"
   ]
  },
  {
   "cell_type": "markdown",
   "id": "34a4367d-9271-4a78-949d-9905d59e5a7c",
   "metadata": {
    "collapsed": false,
    "jupyter": {
     "outputs_hidden": false
    }
   },
   "source": [
    "## Semantic Similarity using Rust"
   ]
  },
  {
   "cell_type": "code",
   "execution_count": 16,
   "id": "62ccb499-dce3-4c4c-a5b0-836af733ea7f",
   "metadata": {},
   "outputs": [],
   "source": [
    "adapter = get_adapter('semsimian:input/n3c.db')"
   ]
  },
  {
   "cell_type": "code",
   "execution_count": 17,
   "id": "e0c59472-b6a3-47ec-abdc-93db1cbfde39",
   "metadata": {},
   "outputs": [],
   "source": [
    "terms1 = [\"omop:4195673\", \"omop:4000756\", \"omop:4002031\", \"omop:4012185\"]\n",
    "terms2 = [\"omop:4030028\", \"omop:4050128\", \"omop:4050134\", \"omop:4054559\"]\n"
   ]
  },
  {
   "cell_type": "code",
   "execution_count": 19,
   "id": "92807c91-8ca0-4a8a-bece-460c9799670e",
   "metadata": {},
   "outputs": [],
   "source": [
    "tsps = adapter.termset_pairwise_similarity(terms1, terms2, predicates=[IS_A])"
   ]
  },
  {
   "cell_type": "code",
   "execution_count": 20,
   "id": "6402925b-bd2a-4fe2-b17d-28607f3f972a",
   "metadata": {},
   "outputs": [
    {
     "name": "stdout",
     "output_type": "stream",
     "text": [
      "subject_termset:\n",
      "  omop:4002031:\n",
      "    id: omop:4002031\n",
      "    label: Cardiovascular system repair\n",
      "  omop:4195673:\n",
      "    id: omop:4195673\n",
      "    label: Angioplasty of posterior tibial artery\n",
      "  omop:4000756:\n",
      "    id: omop:4000756\n",
      "    label: Leg repair\n",
      "  omop:4012185:\n",
      "    id: omop:4012185\n",
      "    label: Cardiovascular surgical procedure\n",
      "object_termset:\n",
      "  omop:4050128:\n",
      "    id: omop:4050128\n",
      "    label: Angioplasty of artery\n",
      "  omop:4030028:\n",
      "    id: omop:4030028\n",
      "    label: Surgical procedure on lower extremity\n",
      "  omop:4050134:\n",
      "    id: omop:4050134\n",
      "    label: Angioplasty of crural artery\n",
      "  omop:4054559:\n",
      "    id: omop:4054559\n",
      "    label: Repair of blood vessel\n",
      "subject_best_matches:\n",
      "  omop:4000756:\n",
      "    match_source: omop:4000756\n",
      "    score: 10.984781775651545\n",
      "    similarity:\n",
      "      subject_id: omop:4000756\n",
      "      object_id: omop:4050134\n",
      "      ancestor_id: omop:4091623\n",
      "      ancestor_label: ''\n",
      "      ancestor_information_content: 10.984781775651545\n",
      "      jaccard_similarity: 0.25\n",
      "      phenodigm_score: 1.657164881329823\n",
      "    match_source_label: Leg repair\n",
      "    match_target: omop:4050134\n",
      "    match_target_label: Angioplasty of crural artery\n",
      "  omop:4002031:\n",
      "    match_source: omop:4002031\n",
      "    score: 9.090426815106653\n",
      "    similarity:\n",
      "      subject_id: omop:4002031\n",
      "      object_id: omop:4050128\n",
      "      ancestor_id: omop:4002031\n",
      "      ancestor_label: Cardiovascular system repair\n",
      "      ancestor_information_content: 9.090426815106653\n",
      "      jaccard_similarity: 0.4166666666666667\n",
      "      phenodigm_score: 1.946195735178703\n",
      "    match_source_label: Cardiovascular system repair\n",
      "    match_target: omop:4050128\n",
      "    match_target_label: Angioplasty of artery\n",
      "  omop:4012185:\n",
      "    match_source: omop:4012185\n",
      "    score: 8.513920531310507\n",
      "    similarity:\n",
      "      subject_id: omop:4012185\n",
      "      object_id: omop:4054559\n",
      "      ancestor_id: omop:4012185\n",
      "      ancestor_label: Cardiovascular surgical procedure\n",
      "      ancestor_information_content: 8.513920531310507\n",
      "      jaccard_similarity: 0.25\n",
      "      phenodigm_score: 1.4589311610996685\n",
      "    match_source_label: Cardiovascular surgical procedure\n",
      "    match_target: omop:4054559\n",
      "    match_target_label: Repair of blood vessel\n",
      "  omop:4195673:\n",
      "    match_source: omop:4195673\n",
      "    score: 18.911289573272484\n",
      "    similarity:\n",
      "      subject_id: omop:4195673\n",
      "      object_id: omop:4050134\n",
      "      ancestor_id: omop:4050134\n",
      "      ancestor_label: Angioplasty of crural artery\n",
      "      ancestor_information_content: 18.911289573272484\n",
      "      jaccard_similarity: 0.88\n",
      "      phenodigm_score: 4.079452760417724\n",
      "    match_source_label: Angioplasty of posterior tibial artery\n",
      "    match_target: omop:4050134\n",
      "    match_target_label: Angioplasty of crural artery\n",
      "object_best_matches:\n",
      "  omop:4030028:\n",
      "    match_source: omop:4030028\n",
      "    score: 9.734760203165433\n",
      "    similarity:\n",
      "      subject_id: omop:4030028\n",
      "      object_id: omop:4000756\n",
      "      ancestor_id: omop:4030028\n",
      "      ancestor_label: Surgical procedure on lower extremity\n",
      "      ancestor_information_content: 9.734760203165433\n",
      "      jaccard_similarity: 0.375\n",
      "      phenodigm_score: 1.910637348160827\n",
      "    match_source_label: Surgical procedure on lower extremity\n",
      "    match_target: omop:4000756\n",
      "    match_target_label: Leg repair\n",
      "  omop:4050128:\n",
      "    match_source: omop:4050128\n",
      "    score: 11.720054065584758\n",
      "    similarity:\n",
      "      subject_id: omop:4050128\n",
      "      object_id: omop:4195673\n",
      "      ancestor_id: omop:4050128\n",
      "      ancestor_label: Angioplasty of artery\n",
      "      ancestor_information_content: 11.720054065584758\n",
      "      jaccard_similarity: 0.48\n",
      "      phenodigm_score: 2.371840203614207\n",
      "    match_source_label: Angioplasty of artery\n",
      "    match_target: omop:4195673\n",
      "    match_target_label: Angioplasty of posterior tibial artery\n",
      "  omop:4050134:\n",
      "    match_source: omop:4050134\n",
      "    score: 18.911289573272484\n",
      "    similarity:\n",
      "      subject_id: omop:4050134\n",
      "      object_id: omop:4195673\n",
      "      ancestor_id: omop:4050134\n",
      "      ancestor_label: Angioplasty of crural artery\n",
      "      ancestor_information_content: 18.911289573272484\n",
      "      jaccard_similarity: 0.88\n",
      "      phenodigm_score: 4.079452760417724\n",
      "    match_source_label: Angioplasty of crural artery\n",
      "    match_target: omop:4195673\n",
      "    match_target_label: Angioplasty of posterior tibial artery\n",
      "  omop:4054559:\n",
      "    match_source: omop:4054559\n",
      "    score: 9.176700908405415\n",
      "    similarity:\n",
      "      subject_id: omop:4054559\n",
      "      object_id: omop:4195673\n",
      "      ancestor_id: omop:4054559\n",
      "      ancestor_label: Repair of blood vessel\n",
      "      ancestor_information_content: 9.176700908405415\n",
      "      jaccard_similarity: 0.32\n",
      "      phenodigm_score: 1.713634818358256\n",
      "    match_source_label: Repair of blood vessel\n",
      "    match_target: omop:4195673\n",
      "    match_target_label: Angioplasty of posterior tibial artery\n",
      "average_score: 12.13040293072116\n",
      "best_score: 18.911289573272484\n",
      "metric: ancestor_information_content\n",
      "\n"
     ]
    }
   ],
   "source": [
    "print(yaml_dumper.dumps(tsps))"
   ]
  },
  {
   "cell_type": "code",
   "execution_count": null,
   "id": "83dd744e-bad4-4a1d-80e7-46c77019bf6b",
   "metadata": {},
   "outputs": [],
   "source": []
  }
 ],
 "metadata": {
  "kernelspec": {
   "display_name": "Python 3 (ipykernel)",
   "language": "python",
   "name": "python3"
  },
  "language_info": {
   "codemirror_mode": {
    "name": "ipython",
    "version": 3
   },
   "file_extension": ".py",
   "mimetype": "text/x-python",
   "name": "python",
   "nbconvert_exporter": "python",
   "pygments_lexer": "ipython3",
   "version": "3.9.5"
  }
 },
 "nbformat": 4,
 "nbformat_minor": 5
}
