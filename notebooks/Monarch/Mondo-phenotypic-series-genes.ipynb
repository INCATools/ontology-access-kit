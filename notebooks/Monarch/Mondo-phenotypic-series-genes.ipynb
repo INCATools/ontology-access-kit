{
 "cells": [
  {
   "cell_type": "markdown",
   "id": "5d57c5ed",
   "metadata": {},
   "source": [
    "## Phenotypic Series queries\n",
    "\n",
    "We will walk through\n",
    "\n",
    "1. Finding all MONDOs that correspond to an OMIM Phenotypic Series\n",
    "2. Extend these to the leaf MODNO nodes\n",
    "3. Query associations between these leaf nodes and genes\n"
   ]
  },
  {
   "cell_type": "code",
   "execution_count": 1,
   "id": "3cbd2d0e",
   "metadata": {},
   "outputs": [],
   "source": [
    "from oaklib.selector import get_implementation_from_shorthand"
   ]
  },
  {
   "cell_type": "code",
   "execution_count": 2,
   "id": "153053d9",
   "metadata": {},
   "outputs": [],
   "source": [
    "handle = get_implementation_from_shorthand(\"sqlite:obo:mondo\")"
   ]
  },
  {
   "cell_type": "code",
   "execution_count": 14,
   "id": "0e65a603",
   "metadata": {},
   "outputs": [],
   "source": [
    "# the first time you run this it may be slow while mondo sqlite downloads\n",
    "mappings = list(handle.sssom_mappings_by_source(\"OMIMPS\"))"
   ]
  },
  {
   "cell_type": "code",
   "execution_count": 4,
   "id": "7b262cc9",
   "metadata": {},
   "outputs": [
    {
     "data": {
      "text/plain": [
       "548"
      ]
     },
     "execution_count": 4,
     "metadata": {},
     "output_type": "execute_result"
    }
   ],
   "source": [
    "len(mappings)"
   ]
  },
  {
   "cell_type": "code",
   "execution_count": 5,
   "id": "72e096d0",
   "metadata": {},
   "outputs": [
    {
     "data": {
      "text/plain": [
       "Mapping(subject_id='MONDO:0000005', predicate_id='oio:hasDbXref', object_id='OMIMPS:203655', mapping_justification='semapv:UnspecifiedMatching', subject_label=None, subject_category=None, predicate_label=None, predicate_modifier=None, object_label=None, object_category=None, author_id=[], author_label=[], reviewer_id=[], reviewer_label=[], creator_id=[], creator_label=[], license=None, subject_type=None, subject_source='MONDO', subject_source_version=None, object_type=None, object_source='OMIMPS', object_source_version=None, mapping_provider=None, mapping_cardinality=None, mapping_tool=None, mapping_tool_version=None, mapping_date=None, confidence=None, subject_match_field=[], object_match_field=[], match_string=[], subject_preprocessing=[], object_preprocessing=[], semantic_similarity_score=None, semantic_similarity_measure=None, see_also=[], other=None, comment=None)"
      ]
     },
     "execution_count": 5,
     "metadata": {},
     "output_type": "execute_result"
    }
   ],
   "source": [
    "mappings[0]"
   ]
  },
  {
   "cell_type": "markdown",
   "id": "05d87ea3",
   "metadata": {},
   "source": [
    "## Get descendants and their genes\n",
    "\n",
    "Next we will write a routine that takes each MONDO-PS mapping:\n",
    "\n",
    "1. get descendants (IS_A) of the mondo to get the mondo *leaf*\n",
    "2. query that leaf for `RO:0004003` links to the gene\n",
    "\n",
    "This will be returned as a tuple"
   ]
  },
  {
   "cell_type": "code",
   "execution_count": 7,
   "id": "2374c0e3",
   "metadata": {},
   "outputs": [],
   "source": [
    "from oaklib.datamodels.vocabulary import IS_A\n",
    "has_material_basis_in_germline_mutation_in = \"RO:0004003\"\n",
    "\n",
    "def ps_mapping_to_gene(m):\n",
    "    mondo_grouping_id = m.subject_id\n",
    "    ps_id = m.object_id\n",
    "    leafs = list(handle.descendants(mondo_grouping_id, [IS_A]))\n",
    "    for mondo_leaf, _p, gene in handle.relationships(leafs, [has_material_basis_in_germline_mutation_in]):\n",
    "            yield ps_id, mondo_grouping_id, mondo_leaf, gene"
   ]
  },
  {
   "cell_type": "code",
   "execution_count": 8,
   "id": "57ca9617",
   "metadata": {},
   "outputs": [],
   "source": [
    "assocs = []\n",
    "for m in mappings:\n",
    "    assocs.extend(list(ps_mapping_to_gene(m)))"
   ]
  },
  {
   "cell_type": "code",
   "execution_count": 9,
   "id": "7536b798",
   "metadata": {},
   "outputs": [
    {
     "name": "stdout",
     "output_type": "stream",
     "text": [
      "3476\n"
     ]
    }
   ],
   "source": [
    "print(len(assocs))"
   ]
  },
  {
   "cell_type": "code",
   "execution_count": 10,
   "id": "3296f8ea",
   "metadata": {},
   "outputs": [],
   "source": [
    "import pandas as pd"
   ]
  },
  {
   "cell_type": "code",
   "execution_count": 11,
   "id": "1eab4136",
   "metadata": {},
   "outputs": [],
   "source": [
    "df = pd.DataFrame(assocs, columns =['PS', 'MONDO_GROUP', 'MONDO_LEAF', 'GENE'])"
   ]
  },
  {
   "cell_type": "code",
   "execution_count": 12,
   "id": "0d611ee9",
   "metadata": {},
   "outputs": [
    {
     "data": {
      "text/html": [
       "<div>\n",
       "<style scoped>\n",
       "    .dataframe tbody tr th:only-of-type {\n",
       "        vertical-align: middle;\n",
       "    }\n",
       "\n",
       "    .dataframe tbody tr th {\n",
       "        vertical-align: top;\n",
       "    }\n",
       "\n",
       "    .dataframe thead th {\n",
       "        text-align: right;\n",
       "    }\n",
       "</style>\n",
       "<table border=\"1\" class=\"dataframe\">\n",
       "  <thead>\n",
       "    <tr style=\"text-align: right;\">\n",
       "      <th></th>\n",
       "      <th>PS</th>\n",
       "      <th>MONDO_GROUP</th>\n",
       "      <th>MONDO_LEAF</th>\n",
       "      <th>GENE</th>\n",
       "    </tr>\n",
       "  </thead>\n",
       "  <tbody>\n",
       "    <tr>\n",
       "      <th>0</th>\n",
       "      <td>OMIMPS:203655</td>\n",
       "      <td>MONDO:0000005</td>\n",
       "      <td>MONDO:0008757</td>\n",
       "      <td>&lt;http://identifiers.org/hgnc/5172&gt;</td>\n",
       "    </tr>\n",
       "    <tr>\n",
       "      <th>1</th>\n",
       "      <td>OMIMPS:231200</td>\n",
       "      <td>MONDO:0000009</td>\n",
       "      <td>MONDO:0007686</td>\n",
       "      <td>&lt;http://identifiers.org/hgnc/31928&gt;</td>\n",
       "    </tr>\n",
       "    <tr>\n",
       "      <th>2</th>\n",
       "      <td>OMIMPS:231200</td>\n",
       "      <td>MONDO:0000009</td>\n",
       "      <td>MONDO:0007930</td>\n",
       "      <td>&lt;http://identifiers.org/hgnc/4439&gt;</td>\n",
       "    </tr>\n",
       "    <tr>\n",
       "      <th>3</th>\n",
       "      <td>OMIMPS:231200</td>\n",
       "      <td>MONDO:0000009</td>\n",
       "      <td>MONDO:0008332</td>\n",
       "      <td>&lt;http://identifiers.org/hgnc/4439&gt;</td>\n",
       "    </tr>\n",
       "    <tr>\n",
       "      <th>4</th>\n",
       "      <td>OMIMPS:231200</td>\n",
       "      <td>MONDO:0000009</td>\n",
       "      <td>MONDO:0008553</td>\n",
       "      <td>&lt;http://identifiers.org/hgnc/4238&gt;</td>\n",
       "    </tr>\n",
       "    <tr>\n",
       "      <th>...</th>\n",
       "      <td>...</td>\n",
       "      <td>...</td>\n",
       "      <td>...</td>\n",
       "      <td>...</td>\n",
       "    </tr>\n",
       "    <tr>\n",
       "      <th>3471</th>\n",
       "      <td>OMIMPS:608638</td>\n",
       "      <td>MONDO:0100440</td>\n",
       "      <td>MONDO:0010343</td>\n",
       "      <td>&lt;http://identifiers.org/hgnc/14287&gt;</td>\n",
       "    </tr>\n",
       "    <tr>\n",
       "      <th>3472</th>\n",
       "      <td>OMIMPS:209880</td>\n",
       "      <td>MONDO:0800031</td>\n",
       "      <td>MONDO:0800026</td>\n",
       "      <td>&lt;http://identifiers.org/hgnc/9143&gt;</td>\n",
       "    </tr>\n",
       "    <tr>\n",
       "      <th>3473</th>\n",
       "      <td>OMIMPS:610551</td>\n",
       "      <td>MONDO:0800174</td>\n",
       "      <td>MONDO:0013633</td>\n",
       "      <td>&lt;http://identifiers.org/hgnc/2330&gt;</td>\n",
       "    </tr>\n",
       "    <tr>\n",
       "      <th>3474</th>\n",
       "      <td>OMIMPS:145600</td>\n",
       "      <td>MONDO:0800188</td>\n",
       "      <td>MONDO:0007783</td>\n",
       "      <td>&lt;http://identifiers.org/hgnc/10483&gt;</td>\n",
       "    </tr>\n",
       "    <tr>\n",
       "      <th>3475</th>\n",
       "      <td>OMIMPS:145600</td>\n",
       "      <td>MONDO:0800188</td>\n",
       "      <td>MONDO:0011163</td>\n",
       "      <td>&lt;http://identifiers.org/hgnc/1397&gt;</td>\n",
       "    </tr>\n",
       "  </tbody>\n",
       "</table>\n",
       "<p>3476 rows × 4 columns</p>\n",
       "</div>"
      ],
      "text/plain": [
       "                 PS    MONDO_GROUP     MONDO_LEAF  \\\n",
       "0     OMIMPS:203655  MONDO:0000005  MONDO:0008757   \n",
       "1     OMIMPS:231200  MONDO:0000009  MONDO:0007686   \n",
       "2     OMIMPS:231200  MONDO:0000009  MONDO:0007930   \n",
       "3     OMIMPS:231200  MONDO:0000009  MONDO:0008332   \n",
       "4     OMIMPS:231200  MONDO:0000009  MONDO:0008553   \n",
       "...             ...            ...            ...   \n",
       "3471  OMIMPS:608638  MONDO:0100440  MONDO:0010343   \n",
       "3472  OMIMPS:209880  MONDO:0800031  MONDO:0800026   \n",
       "3473  OMIMPS:610551  MONDO:0800174  MONDO:0013633   \n",
       "3474  OMIMPS:145600  MONDO:0800188  MONDO:0007783   \n",
       "3475  OMIMPS:145600  MONDO:0800188  MONDO:0011163   \n",
       "\n",
       "                                     GENE  \n",
       "0      <http://identifiers.org/hgnc/5172>  \n",
       "1     <http://identifiers.org/hgnc/31928>  \n",
       "2      <http://identifiers.org/hgnc/4439>  \n",
       "3      <http://identifiers.org/hgnc/4439>  \n",
       "4      <http://identifiers.org/hgnc/4238>  \n",
       "...                                   ...  \n",
       "3471  <http://identifiers.org/hgnc/14287>  \n",
       "3472   <http://identifiers.org/hgnc/9143>  \n",
       "3473   <http://identifiers.org/hgnc/2330>  \n",
       "3474  <http://identifiers.org/hgnc/10483>  \n",
       "3475   <http://identifiers.org/hgnc/1397>  \n",
       "\n",
       "[3476 rows x 4 columns]"
      ]
     },
     "execution_count": 12,
     "metadata": {},
     "output_type": "execute_result"
    }
   ],
   "source": [
    "df"
   ]
  },
  {
   "cell_type": "code",
   "execution_count": 13,
   "id": "3ab2e8f5",
   "metadata": {},
   "outputs": [],
   "source": [
    "# TODO: contact gene URIs"
   ]
  },
  {
   "cell_type": "code",
   "execution_count": 15,
   "id": "2fa0b3e0",
   "metadata": {},
   "outputs": [],
   "source": [
    "df.to_csv(\"output/ps-to-gene.tsv\", sep=\"\\t\")"
   ]
  },
  {
   "cell_type": "code",
   "execution_count": null,
   "id": "3d055af8",
   "metadata": {},
   "outputs": [],
   "source": []
  }
 ],
 "metadata": {
  "kernelspec": {
   "display_name": "Python 3 (ipykernel)",
   "language": "python",
   "name": "python3"
  },
  "language_info": {
   "codemirror_mode": {
    "name": "ipython",
    "version": 3
   },
   "file_extension": ".py",
   "mimetype": "text/x-python",
   "name": "python",
   "nbconvert_exporter": "python",
   "pygments_lexer": "ipython3",
   "version": "3.9.5"
  }
 },
 "nbformat": 4,
 "nbformat_minor": 5
}
