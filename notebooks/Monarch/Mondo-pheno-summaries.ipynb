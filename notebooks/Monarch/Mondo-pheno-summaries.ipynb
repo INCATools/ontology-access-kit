{
 "cells": [
  {
   "cell_type": "markdown",
   "id": "0f6c4513",
   "metadata": {},
   "source": [
    "# OAK enrichment command\n",
    "\n",
    "This notebook is intended as a supplement to the [main OAK CLI docs](https://incatools.github.io/ontology-access-kit/cli.html).\n",
    "\n",
    "This notebook provides examples for the `enrichment` command which produces a summary of ontology classes that are enriched in the associations for an input set of entities\n",
    "\n",
    "## Help Option\n",
    "\n",
    "You can get help on any OAK command using `--help`"
   ]
  },
  {
   "cell_type": "code",
   "execution_count": 1,
   "id": "65db4b53",
   "metadata": {},
   "outputs": [
    {
     "name": "stdout",
     "output_type": "stream",
     "text": [
      "Usage: runoak enrichment [OPTIONS] [TERMS]...\r\n",
      "\r\n",
      "  Run class enrichment analysis.\r\n",
      "\r\n",
      "  Note: currently this is slow\r\n",
      "\r\n",
      "Options:\r\n",
      "  -o, --output FILENAME           Output file, e.g. obo file\r\n",
      "  -p, --predicates TEXT           A comma-separated list of predicates\r\n",
      "  --autolabel / --no-autolabel    If set, results will automatically have\r\n",
      "                                  labels assigned  [default: autolabel]\r\n",
      "  -O, --output-type TEXT          Desired output type\r\n",
      "  -o, --output FILENAME           Output file, e.g. obo file\r\n",
      "  --if-absent [absent-only|present-only]\r\n",
      "                                  determines behavior when the value is not\r\n",
      "                                  present or is empty.\r\n",
      "  -S, --set-value TEXT            the value to set for all terms for the given\r\n",
      "                                  property.\r\n",
      "  --cutoff FLOAT                  The cutoff for the p-value  [default: 0.05]\r\n",
      "  -S, --sample-file FILENAME      file containing input list of entity IDs\r\n",
      "                                  (e.g. gene IDs)\r\n",
      "  -B, --background-file FILENAME  file containing background list of entity\r\n",
      "                                  IDs (e.g. gene IDs)\r\n",
      "  --association-predicates TEXT   A comma-separated list of predicates for the\r\n",
      "                                  association relation\r\n",
      "  --help                          Show this message and exit.\r\n"
     ]
    }
   ],
   "source": [
    "!runoak enrichment --help"
   ]
  },
  {
   "cell_type": "markdown",
   "id": "c8878ac5",
   "metadata": {},
   "source": [
    "## Download example file and setup\n",
    "\n",
    "We will use the HPO Association file"
   ]
  },
  {
   "cell_type": "code",
   "execution_count": 2,
   "id": "12a41f0d",
   "metadata": {},
   "outputs": [],
   "source": [
    "!curl -L -s http://purl.obolibrary.org/obo/hp/hpoa/phenotype.hpoa > input/hpoa.tsv"
   ]
  },
  {
   "cell_type": "markdown",
   "id": "d57ac006",
   "metadata": {},
   "source": [
    "next we will set up an hpo alias"
   ]
  },
  {
   "cell_type": "code",
   "execution_count": 2,
   "id": "dc71c543",
   "metadata": {},
   "outputs": [],
   "source": [
    "alias hp runoak -i sqlite:obo:hp"
   ]
  },
  {
   "cell_type": "code",
   "execution_count": 3,
   "id": "6a878ff1",
   "metadata": {},
   "outputs": [],
   "source": [
    "alias mondo runoak -i sqlite:obo:mondo"
   ]
  },
  {
   "cell_type": "markdown",
   "id": "6033aa66",
   "metadata": {},
   "source": [
    "Test this out by querying for associations for a particular orpha disease.\n",
    "\n",
    "We need to pass in the association file we downloaded, as well as specify the file type (with `-G`):"
   ]
  },
  {
   "cell_type": "code",
   "execution_count": 4,
   "id": "2cfa1be8",
   "metadata": {},
   "outputs": [
    {
     "name": "stdout",
     "output_type": "stream",
     "text": [
      "subject\tsubject_label\tpredicate\tobject\tobject_label\tproperty_values\r",
      "\r\n",
      "ORPHA:1899\tNone\tNone\tHP:0000963\tThin skin\t[]\r",
      "\r\n",
      "ORPHA:1899\tNone\tNone\tHP:0000974\tHyperextensible skin\t[]\r",
      "\r\n",
      "ORPHA:1899\tNone\tNone\tHP:0001001\tAbnormality of subcutaneous fat tissue\t[]\r",
      "\r\n",
      "ORPHA:1899\tNone\tNone\tHP:0001252\tHypotonia\t[]\r",
      "\r\n",
      "ORPHA:1899\tNone\tNone\tHP:0001373\tJoint dislocation\t[]\r",
      "\r\n",
      "ORPHA:1899\tNone\tNone\tHP:0001385\tHip dysplasia\t[]\r",
      "\r\n",
      "ORPHA:1899\tNone\tNone\tHP:0001387\tJoint stiffness\t[]\r",
      "\r\n",
      "ORPHA:1899\tNone\tNone\tHP:0002300\tMutism\t[]\r",
      "\r\n",
      "ORPHA:1899\tNone\tNone\tHP:0002381\tAphasia\t[]\r",
      "\r\n"
     ]
    }
   ],
   "source": [
    "hp -G hpoa -g input/hpoa.tsv associations -Q subject ORPHA:1899 -O csv | head"
   ]
  },
  {
   "cell_type": "markdown",
   "id": "c9047f55",
   "metadata": {},
   "source": [
    "## Rollup\n",
    "\n",
    "Next we will roll up annotations. We choose two representations of the same EDS concept, from Orphanet and OMIM\n",
    "(note we can provide as many diseases as we like).\n",
    "\n",
    "We will use HPO terms roughly inspired by https://www.omim.org/clinicalSynopsis/130060"
   ]
  },
  {
   "cell_type": "code",
   "execution_count": 8,
   "id": "ab30433e",
   "metadata": {},
   "outputs": [],
   "source": [
    "mondo labels .parents//p=RO:0004003 [ .desc//p=i EDS ] -O csv > output/EDS-genes.tsv"
   ]
  },
  {
   "cell_type": "code",
   "execution_count": 6,
   "id": "c7c9ce32",
   "metadata": {},
   "outputs": [
    {
     "name": "stdout",
     "output_type": "stream",
     "text": [
      "NotImplementedError\r\n"
     ]
    }
   ],
   "source": [
    "!runoak -i translator: normalize -M NCBIGene [ .parents//p=RO:0004003 [ .desc//p=i EDS ] ]"
   ]
  },
  {
   "cell_type": "code",
   "execution_count": null,
   "id": "c10f833e",
   "metadata": {},
   "outputs": [],
   "source": []
  }
 ],
 "metadata": {
  "kernelspec": {
   "display_name": "Python 3 (ipykernel)",
   "language": "python",
   "name": "python3"
  },
  "language_info": {
   "codemirror_mode": {
    "name": "ipython",
    "version": 3
   },
   "file_extension": ".py",
   "mimetype": "text/x-python",
   "name": "python",
   "nbconvert_exporter": "python",
   "pygments_lexer": "ipython3",
   "version": "3.9.5"
  }
 },
 "nbformat": 4,
 "nbformat_minor": 5
}
